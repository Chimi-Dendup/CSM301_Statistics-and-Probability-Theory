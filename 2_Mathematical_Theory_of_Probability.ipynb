{
  "nbformat": 4,
  "nbformat_minor": 0,
  "metadata": {
    "colab": {
      "name": "2. Mathematical Theory of Probability",
      "provenance": [],
      "collapsed_sections": [
        "8ny1Rh0d76N6",
        "eFm8RG-2hOlj"
      ],
      "authorship_tag": "ABX9TyPd/cMrJCPJmLA3ArGxJin7",
      "include_colab_link": true
    },
    "kernelspec": {
      "name": "python3",
      "display_name": "Python 3"
    },
    "language_info": {
      "name": "python"
    }
  },
  "cells": [
    {
      "cell_type": "markdown",
      "metadata": {
        "id": "view-in-github",
        "colab_type": "text"
      },
      "source": [
        "<a href=\"https://colab.research.google.com/github/Chimi-Dendup/CSM301_Statistics-and-Probability-Theory/blob/main/2_Mathematical_Theory_of_Probability.ipynb\" target=\"_parent\"><img src=\"https://colab.research.google.com/assets/colab-badge.svg\" alt=\"Open In Colab\"/></a>"
      ]
    },
    {
      "cell_type": "markdown",
      "source": [
        "<!DOCTYPE html>\n",
        "<html >\n",
        "<body>\n",
        "<h1 align=\"center\"> <b>2. Mathematical Theory of Probability</b> </h1>\n",
        "<h4 align=\"center\"><i>Prepared by Chimi Dendup</i></h4>\n",
        "</body>\n",
        "</html>"
      ],
      "metadata": {
        "id": "lCNQ-bAf7x7y"
      }
    },
    {
      "cell_type": "markdown",
      "source": [
        "## **2.1 Overview**"
      ],
      "metadata": {
        "id": "8ny1Rh0d76N6"
      }
    },
    {
      "cell_type": "markdown",
      "source": [
        "**Probability** theory is the branch of mathematics that deals with the subject of probability. Despite the fact that there are various alternative interpretations of probability, probability theory expresses the concept mathematically through a set of axioms. Discrete and continuous random variables, as well as probability distributions, are important topics in probability theory.\n",
        "\n",
        "By the end of this section, you should be able to\n",
        "\n",
        "**Understand the basic concepts and axiomatic approaches;**\n",
        "\n",
        "* Define, describe and explain randomness and probability.\n",
        "\n",
        "* Explain the basic terminologies of probability.\n",
        "\n",
        "* Relate the basic terminologies of probability.\n",
        "\n",
        "* Apply the laws of probability in simple calculations. \n",
        "\n",
        "* Use Python to run basic simulations of probabilistic scenarios.\n",
        "\n",
        "* Define Permutation and Combination.\n",
        "\n",
        "* Apply the Permutation and Combination in real situations.\n",
        "\n",
        "* Solve the Permutation and Combination problems using Python.\n",
        "\n",
        "* Define and interpret conditional probability and Bayes theorem.\n",
        "\n",
        "* Compute conditional probabilities directly using Bayes’ theorem.\n",
        "\n",
        "* Define an independent event. \n",
        "\n",
        "* Probe for independence events.\n",
        "\n",
        "* Use Python to run basic simulations and analysis of conditional probabilities, Bayesian problems, and independent events.\n",
        "\n",
        "**Understand the concept of random variables and distribution functions;**\n",
        "\n",
        "* Define and explain random variables.\n",
        "\n",
        "* Construct and work with discrete random variables.\n",
        "\n",
        "* Explain the Bernoulli, Binomial, geometric, and Poisson distributions.\n",
        "\n",
        "* Construct and work with continuous random variables.\n",
        "\n",
        "* Interpret the properties of Uniform, Exponential, and Normal distributions using Python.\n",
        "\n",
        "* Apply the types of random variables to solve some real life problems.\n",
        "\n",
        "* Describe what expectation and variance mean and compute them for both discrete and continuous random variables.\n",
        "\n",
        "* Define moment generating function and characteristic function.\n",
        "\n",
        "* Compute both the moment generating functions and characteristic functions of known distributions.\n",
        "\n",
        "* Compute the moments using Python.\n",
        "\n",
        "* Define and relate between joint, marginal, and conditional probability distributions.\n",
        "\n",
        "* Compute the covariance and correlation between jointly distributed random variables.\n",
        "\n",
        "* Perform analysis using covariance and correlation in Python between jointly distributed variables.\n",
        "\n",
        "* Explain transformation of random variables and Random vectors.\n",
        "\n",
        "* Interpret transformation of random variables and vectors using Python.\n",
        "\n",
        "* Explain independent random variables.\n",
        "\n",
        "* Probe if random variables are independent using Python.\n",
        "\n",
        "\n",
        "\n"
      ],
      "metadata": {
        "id": "azMM4CxtwRdd"
      }
    },
    {
      "cell_type": "markdown",
      "source": [
        "## **2.2 Experiments, Outcomes and Probability**"
      ],
      "metadata": {
        "id": "eFm8RG-2hOlj"
      }
    },
    {
      "cell_type": "markdown",
      "source": [
        "Assume you do the same experiment again and over again. You shouldn't expect to get the same result every time.\n",
        "Some outcomes may appear more frequently than others. We use probability to account for this trend. To do so, we must be clear about the possible outcomes of an experiment. For example, you flip a coin. We might agree that the only outcomes are a head or a tail, ignoring the possibilities that (say) a bird swoops down and takes the coin; the coin lands on edge; the coin slides through the gaps in the floor and vanishes; and so on. We have idealized the experiment in this way."
      ],
      "metadata": {
        "id": "KazdVnyNijDo"
      }
    },
    {
      "cell_type": "markdown",
      "source": [
        "#### **2.2.1 Outcomes and Probability**"
      ],
      "metadata": {
        "id": "jKB8F6Wyjd-L"
      }
    },
    {
      "cell_type": "markdown",
      "source": [
        "Experiments will be formalized by defining the collection of **outcomes** we expect from the experiment. Every time the experiment is done, one of the possible results is produced. We never observe more than one result from a single experiment, and we never see no result. The benefit of doing so is that we can track how frequently each outcome appears."
      ],
      "metadata": {
        "id": "w100pL3Sjn6y"
      }
    },
    {
      "cell_type": "markdown",
      "source": [
        "**Definition 1: (Sample Space)** The sample space is the set of all outcomes, which we usually write $\\Omega$. "
      ],
      "metadata": {
        "id": "5fwDKZWZosM6"
      }
    },
    {
      "cell_type": "markdown",
      "source": [
        "**Example 1: (Find the lady)** There are three playing cards. One is a jack, one is a queen, and one is a king. One is chosen at random and turned up after they are all exhibited face down. What are the possible outcomes?\n",
        "\n",
        "**Solution:** Write $Q$ for queen, $K$ for king, $J$ for jack; the outcomes are $\\{Q, K,J\\}$."
      ],
      "metadata": {
        "id": "F7yvYttAqLJm"
      }
    },
    {
      "cell_type": "markdown",
      "source": [
        "**Example 2: (Find the lady, twice)** We play find the lady twice, replacing the card we have chosen. What is the sample space?\n",
        "\n",
        "**Solution:** We now have $\\{QQ, QK, QJ, KQ, KK, KJ, JQ, JK, JJ\\}$."
      ],
      "metadata": {
        "id": "0GGc8-1x3Y2h"
      }
    },
    {
      "cell_type": "markdown",
      "source": [
        "**Note:** Sample spaces are required, and need not be finite."
      ],
      "metadata": {
        "id": "yN1k9FDj44dL"
      }
    },
    {
      "cell_type": "markdown",
      "source": [
        "We use a **probability**, a non-negative number, to describe our hypothesis of how often a specific outcome will occur in a repeated experiment. Assume that an experiment is repeated $N$ times. We say that an outcome $A$ has probability $P$ if (a) outcome $A$ occurs in about $N\\times P$ of those experiments and (b) as $N$ gets larger, the fraction of experiments where outcome $A$ occurs will get closer to $P$. We write $n(A)$ for the number of times outcome $A$ occurs. We interpret $P$ as\n",
        "$$\\lim_{N\\to\\infty}\\frac{n(A)}{N}$$\n",
        "We can instantly derive two crucial conclusions.\n",
        "\n",
        "*   For any outcome $A$, $0\\leq P(A)\\leq 1$.\n",
        "*   $\\displaystyle\\sum_{A_i\\in\\Omega}P(A_i)=1$.\n",
        "\n",
        "Remember that there will be exactly one outcome for every run of experiment.\n",
        "\n"
      ],
      "metadata": {
        "id": "R_D-Ez-v5HGi"
      }
    },
    {
      "cell_type": "markdown",
      "source": [
        "**Example 3: (A Biased Coin)** Assume we have a coin where the probability of getting heads is $P(H)=\\frac{1}{3}$ and also the probability of getting tails is $P(T)=\\frac{2}{3}$. We flip this coin three million times. How many times do we see heads?\n",
        "\n",
        "**Solution:** $P(H)=\\frac{1}{3}$, so we expect this coin will come up heads in $\\frac{1}{3}$ of experiments. This means that we will very likely see very close to a million heads. Later on, we will be able to be more precise. \n"
      ],
      "metadata": {
        "id": "c5OPul0f7ttB"
      }
    },
    {
      "cell_type": "markdown",
      "source": [
        "## **2.3 Events**"
      ],
      "metadata": {
        "id": "I4qNE5vd9_rw"
      }
    },
    {
      "cell_type": "markdown",
      "source": [
        "**Definition 2: (Events)** An event is a set of outcomes. Let's denote an event by $E$."
      ],
      "metadata": {
        "id": "oPyZqPNl-wHa"
      }
    },
    {
      "cell_type": "markdown",
      "source": [
        "Assume we are given a discrete sample space $\\Omega$. A natural choice of an event space is the collection of all subsets of $\\Omega$. Say, if $\\Omega$ is an event, then the probability of event will be $P(\\Omega)=1$. How about the empty event, say $\\phi$, then the probability of an event $P(\\phi)=0$. Any given outcome must be an event, because an event is a set of outcomes. Now assume $A$ and $B$ are two distinct outcomes, and write $E=\\{A, B\\}$ for the event that contains both. We must have that $P(E)=P(A)+P(B)$, because the number of times repeated experiments produce an outcome in $E$ is given by the number of times we see $A$ plus the number of times we see $B$. If $E$ and $F$ are disjoint events, $P(E\\cup F)=P(E)+P(F)$. All this yields a straightforward set of properties, collected in a box below."
      ],
      "metadata": {
        "id": "wZ0c65DzizHB"
      }
    },
    {
      "cell_type": "markdown",
      "source": [
        "**Basic Properties of the Probability Events:**\n",
        "\n",
        "\n",
        "*   The probability of every event is between zero and one; in equations\n",
        "$$0\\leq P(A)\\leq 1$$\n",
        "for any event $A$.\n",
        "*   Every experiment has an outcome; in equations,\n",
        "$$P(\\Omega)=1$$\n",
        "*   The probability of disjoint events is additive; meaning $A_i\\cap A_j=\\phi$ when $i\\neq j$, i.e.,\n",
        "$$P(\\cup_iA_i)=\\sum_iP(A_i)$$\n",
        "\n"
      ],
      "metadata": {
        "id": "237H5DsyxlGR"
      }
    },
    {
      "cell_type": "markdown",
      "source": [
        "The probability of an event will be calculated as\n",
        "$$P(E)=\\frac{Number~of~outcomes~in~E}{Total~number~of~outcomes~in~\\Omega}$$\n",
        "\n",
        "With this, let us see some examples;"
      ],
      "metadata": {
        "id": "zytPLyCNyy_M"
      }
    },
    {
      "cell_type": "markdown",
      "source": [
        "**Example 4: (Numbers Divisible by Five with Fair Dice)** We throw a fair (each number has the same probability) six-sided die twice, then add the two numbers. What is the probability of getting a number divisible by five?\n",
        "\n",
        "**Solution:** There are 36 outcomes. Each has the same probability (1/36). For this event, the spots must add to either 5 or to 10. There are 4 ways to get 5. There are 3 ways to get 10, so the probability is 7/36."
      ],
      "metadata": {
        "id": "oZtyyFlBz3XG"
      }
    },
    {
      "cell_type": "markdown",
      "source": [
        "**Example 5:** A couple decides to have children. They decide simply to have three children. Assume that three births occur, each birth results in one child, and boys and girls are equally likely at each birth. Let $B_i$ be the event that there are $i$ boys, and $C$ be the event there are more girls than boys. Compute $P(B_1)$ and $P(C)$.\n",
        "\n",
        "**Solution:** There are eight outcomes. Each has the same probability. Three of them have a single boy, so $P(B_1)=3/8$.\n",
        "Four of these outcomes have more girls than boys, so $P(C)=1/2$."
      ],
      "metadata": {
        "id": "w9y7Fgb81654"
      }
    },
    {
      "cell_type": "markdown",
      "source": [
        "**Remark:** Before going through some more properties of the probability events. Let us refresh the **SET** operations using Python since we are to use the set concepts for events. We will discuss with some random examples."
      ],
      "metadata": {
        "id": "M9_NMlW19LQ5"
      }
    },
    {
      "cell_type": "markdown",
      "source": [
        "Defining the set in Python:"
      ],
      "metadata": {
        "id": "IRnDBwmc97ws"
      }
    },
    {
      "cell_type": "code",
      "source": [
        "A = {1,2,3,7,8}\n",
        "B = {3,7,9}"
      ],
      "metadata": {
        "id": "bAgd_ZWU-Yzc"
      },
      "execution_count": null,
      "outputs": []
    },
    {
      "cell_type": "code",
      "source": [
        "print(1 in A) # to check the elements in the set"
      ],
      "metadata": {
        "id": "e3WUx451-0_Z",
        "colab": {
          "base_uri": "https://localhost:8080/"
        },
        "outputId": "915c6984-962d-404f-b3b9-1297b19f9d58"
      },
      "execution_count": null,
      "outputs": [
        {
          "output_type": "stream",
          "name": "stdout",
          "text": [
            "True\n"
          ]
        }
      ]
    },
    {
      "cell_type": "markdown",
      "source": [
        "To check whether the set is subset  of other using the Python can be done by the function `issubset()`."
      ],
      "metadata": {
        "id": "KOWhofqM_QHa"
      }
    },
    {
      "cell_type": "code",
      "source": [
        "B.issubset(A)"
      ],
      "metadata": {
        "id": "A49jqAvo_Yne",
        "colab": {
          "base_uri": "https://localhost:8080/"
        },
        "outputId": "d5e16a5f-77c7-4a5c-f5e4-758ca642ab9a"
      },
      "execution_count": null,
      "outputs": [
        {
          "output_type": "execute_result",
          "data": {
            "text/plain": [
              "False"
            ]
          },
          "metadata": {},
          "execution_count": 3
        }
      ]
    },
    {
      "cell_type": "markdown",
      "source": [
        "It can be done for the sets having small cardinality, what will happen to the larger sets. There is a solution, we will try to find the union, intersection, difference the basic operations using the Python library `numpy`. Let's see how it can be done with some examples."
      ],
      "metadata": {
        "id": "YV_R5RBlABLS"
      }
    },
    {
      "cell_type": "code",
      "source": [
        "#Before everything, let's import the library numpy\n",
        "import numpy as np"
      ],
      "metadata": {
        "id": "vOrYmVSL_Hyc"
      },
      "execution_count": null,
      "outputs": []
    },
    {
      "cell_type": "code",
      "source": [
        "# Now define the universal set with the help of arange() function\n",
        "universal = set(np.arange(10))"
      ],
      "metadata": {
        "id": "8zWN0aZEBUQk"
      },
      "execution_count": null,
      "outputs": []
    },
    {
      "cell_type": "code",
      "source": [
        "# Type of universal variable above \n",
        "type(universal)"
      ],
      "metadata": {
        "id": "DtR8eYgICGn6"
      },
      "execution_count": null,
      "outputs": []
    },
    {
      "cell_type": "code",
      "source": [
        "# Print the universal set\n",
        "print(universal)"
      ],
      "metadata": {
        "id": "dZPFTFNkCUKr"
      },
      "execution_count": null,
      "outputs": []
    },
    {
      "cell_type": "markdown",
      "source": [
        "Now, we will try to define the sets A and B using the same function `arange()`"
      ],
      "metadata": {
        "id": "n8_1y6ZUCdrF"
      }
    },
    {
      "cell_type": "code",
      "source": [
        "A = set(np.arange(2,10,2))\n",
        "B = set(np.arange(1,9,3))"
      ],
      "metadata": {
        "id": "F9ZJh8ILCoE9"
      },
      "execution_count": null,
      "outputs": []
    },
    {
      "cell_type": "code",
      "source": [
        "# A union B can be calculated by the function union()\n",
        "A.union(B)"
      ],
      "metadata": {
        "id": "SxO7TFkpD3MJ"
      },
      "execution_count": null,
      "outputs": []
    },
    {
      "cell_type": "code",
      "source": [
        "# A intersection B can be calculated by the function intersection()\n",
        "A.intersection(B)"
      ],
      "metadata": {
        "id": "bm1NjCxpEHie"
      },
      "execution_count": null,
      "outputs": []
    },
    {
      "cell_type": "code",
      "source": [
        "# Difference\n",
        "A.difference(B)"
      ],
      "metadata": {
        "id": "VW_nV4ZsESti"
      },
      "execution_count": null,
      "outputs": []
    },
    {
      "cell_type": "code",
      "source": [
        "# A_Compliment can be calculated using the difference() function\n",
        "A_Compliment = universal.difference(A)\n",
        "A_Compliment"
      ],
      "metadata": {
        "id": "8pOvzhLfEkyh"
      },
      "execution_count": null,
      "outputs": []
    },
    {
      "cell_type": "markdown",
      "source": [
        "### **To Do:**"
      ],
      "metadata": {
        "id": "P3BSgjn9FC-7"
      }
    },
    {
      "cell_type": "markdown",
      "source": [
        "Prove the following: **De Morgan's Law**\n",
        "\n",
        "\n",
        "1.   $(A\\cap B)^c=A^c\\cup B^c$\n",
        "2.   $(A\\cup B)^c=A^c\\cap B^c$\n",
        "\n",
        "\n"
      ],
      "metadata": {
        "id": "hcvYH9U0FGOT"
      }
    },
    {
      "cell_type": "markdown",
      "source": [
        "\n",
        "\n",
        "\n",
        "---\n",
        "**Some more properties of the probability events:**\n",
        "\n",
        "\n",
        "*   $P(A^c)=1-P(A)$\n",
        "*   $P(\\phi)=0$\n",
        "*   $P(A-B)=P(A)-P(A\\cap B)$\n",
        "*   $P(A\\cup B)=P(A)+P(B)-P(A\\cap B)$\n",
        "*   $\\displaystyle P(\\cup_1^nA_i)=\\sum_iP(A_i)-\\sum_{i<j}P(A_i\\cap A_j)+\\sum_{i<j<k}P(A_i\\cap A_j\\cap A_k)+...+(-1)^{(n+1)}P(A_1\\cap A_2\\cap...\\cap A_n)$\n",
        "\n",
        "\n",
        "\n",
        "---\n",
        "\n"
      ],
      "metadata": {
        "id": "kcZnjmR231NZ"
      }
    },
    {
      "cell_type": "markdown",
      "source": [
        "**Example 6:** You bet there is someone else in a room of 30 people who has the same birthday that you do. Assuming you know nothing about the other 29 people, what is the probability of winning?\n",
        "\n",
        "**Solution:** The easy way to do this is \n",
        "$$P(\\{winning\\})=1-P(\\{losing\\})$$\n",
        "Here, you will lose if other 29 people has birthday different than you. We have 364 days of the year to choose from for each of 29 locations in the list. The total number of lists is the number\n",
        "of lists of 29 days of the year. Each list has the same probability. So\n",
        "$$P(\\{losing\\})=\\frac{364^{29}}{365^{29}}$$\n",
        "and \n",
        "$$P(\\{winning\\})\\approx 0.0765$$"
      ],
      "metadata": {
        "id": "Ne2HKy3Y7_a3"
      }
    },
    {
      "cell_type": "markdown",
      "source": [
        "**Example 7:** I roll two fair six-sided dice. What is the probability that the result is divisible by either 2 or 5, or both?"
      ],
      "metadata": {
        "id": "RZ3aDviF-opU"
      }
    },
    {
      "cell_type": "markdown",
      "source": [
        "**Example 8:** You flip two fair six-sided dice, and add the number of spots. What is the probability of getting a number divisible by 2, but not by 5?"
      ],
      "metadata": {
        "id": "oJ_JHOUK_QBy"
      }
    },
    {
      "cell_type": "markdown",
      "source": [
        "### **2.3.1 Simulating Probability Events in Python** "
      ],
      "metadata": {
        "id": "aIfC_PwRt0y7"
      }
    },
    {
      "cell_type": "markdown",
      "source": [
        "Here we create probabilistic simulations of events in Python. As a result, we face a problem that can be solved by our intuition, but it is very difficult. This is where we need problem modeling software. We will use Python to solve some probabilistic problems. Here are some examples;"
      ],
      "metadata": {
        "id": "UaiSV4pNuG5y"
      }
    },
    {
      "cell_type": "markdown",
      "source": [
        "**Example 9:** Two unbiased dice are thrown once and the total score is observed. Use a simulation to find the estimated probability that the total score is even or greater than 7?"
      ],
      "metadata": {
        "id": "kqE5wnYmvVx1"
      }
    },
    {
      "cell_type": "markdown",
      "source": [
        "**Solution:** Following are the steps to be followed;\n",
        "\n",
        "\n",
        "1.   Run the experiment 1000 times (roll 2 dice 1000 times, and sum the result)\n",
        "2.   Keep track of the number of times that the sum was either greater than 7 or even\n",
        "3.   Divide the number from step 2 by the number of iterations (1000)\n",
        "\n",
        "Awesome! Now let's code this and see what the probability is!\n",
        "\n"
      ],
      "metadata": {
        "id": "ydcSHP23vplh"
      }
    },
    {
      "cell_type": "code",
      "source": [
        "import numpy as np\n",
        "import random\n",
        "\n",
        "#Function for roll the Dice\n",
        "\n",
        "def roll_the_dice(n_simulations = 1000):\n",
        "  count = 0\n",
        "\n",
        "  #Each iteration of the for loop is trial\n",
        "  for i in range(n_simulations):\n",
        "\n",
        "    #Roll each Die\n",
        "    die1 = random.randint(1,6)\n",
        "    die2 = random.randint(1,6)\n",
        "\n",
        "    #Sum the values to get the score\n",
        "    score = die1 + die2\n",
        "\n",
        "    #decide if we should add it to the count\n",
        "    if score % 2 == 0 or score > 7:\n",
        "      count += 1\n",
        "  return count/n_simulations\n",
        "\n",
        "string = 'The probability of rolling an even number or greater than 7 is:'\n",
        "print(string, np.round(roll_the_dice()*100, 2), '%')"
      ],
      "metadata": {
        "id": "asn2-kzlXLSu"
      },
      "execution_count": null,
      "outputs": []
    },
    {
      "cell_type": "markdown",
      "source": [
        "**Example 10:** A box contains 10 white balls, 20 reds and 30 greens. Draw 5 balls with replacement. what is the probability that:\n",
        "\n",
        "A. 3 white or 2 red.\n",
        "\n",
        "B. All 5 are the same color."
      ],
      "metadata": {
        "id": "yyHZnXOOz2G7"
      }
    },
    {
      "cell_type": "markdown",
      "source": [
        "**Solution:** We will pick our balls during each round and count the number of times. Below is code to do that."
      ],
      "metadata": {
        "id": "Uh--JhSQ42TP"
      }
    },
    {
      "cell_type": "code",
      "source": [
        "import numpy as np\n",
        "import random\n",
        " # Let's set up the dictionary that we will use for this question\n",
        " # This dictionary will allow us to randomly choose a color\n",
        "d = {}\n",
        "for i in range(60):\n",
        "  if i < 10:\n",
        "    d[i] = 'white'\n",
        "  elif i > 9 and i < 30:\n",
        "    d[i] = 'red'\n",
        "  else:\n",
        "    d[i] = 'green'\n",
        "\n",
        "#Initialize important variables\n",
        "n_simulations = 10000\n",
        "part_A_total = 0\n",
        "part_B_total = 0\n",
        "\n",
        "for i in range(n_simulations):\n",
        "\n",
        "  #make a list of the colors that we choose\n",
        "  list = []\n",
        "  for i in range(5):\n",
        "    list.append(d[random.randint(0,59)])\n",
        "\n",
        "  #convert it to a numpy\n",
        "  list = np.array(list)\n",
        "\n",
        "  #find the number of each that we picked\n",
        "  white = sum(list == 'white')\n",
        "  red = sum(list == 'red')\n",
        "  green = sum(list == 'green')\n",
        "\n",
        "  #Keep track if the combination met the above critria\n",
        "  if white == 3 and red == 2:\n",
        "    part_A_total += 1\n",
        "  \n",
        "  if red == 5 or white == 5 or green == 5:\n",
        "    part_B_total +=1\n",
        "\n",
        "print('The probability of 3 white and 2 red is: ', part_A_total/n_simulations*100, '%')\n",
        "print('The probability of all the same color is: ', part_B_total/n_simulations*100, '%')"
      ],
      "metadata": {
        "id": "G5CB2FU_zO2r"
      },
      "execution_count": null,
      "outputs": []
    },
    {
      "cell_type": "markdown",
      "source": [
        "### **2.3.2 Equally Likely Outcomes**"
      ],
      "metadata": {
        "id": "aOhIl8sLrw3W"
      }
    },
    {
      "cell_type": "markdown",
      "source": [
        "**Definition 3:** A simple situation for computing probabilities is the case of *equally likely outcomes*. That is, when the sample space $\\Omega$ consists of $n$ possible outcomes, $\\omega_1,...,\\omega_n$, each having the same probability. Since\n",
        "$$\\sum_{k=1}^nP\\{\\omega_k\\}=P\\{\\Omega\\}=1,$$\n",
        "we have in this case $P \\{\\omega_k\\} = 1/n$ for all $k$.\n",
        "\n",
        "The outcomes forming event $E$ are often called “favorable.” Thus we have a formula\n",
        "\n",
        "$$P\\{E\\}=\\frac{number~ of~ favourable~ outcomes}{total~ number~ of~ outcomes}=\\frac{N_F}{N_T}$$\n",
        "\n",
        "where index **“F”** means *“favorable”* and **“T”** means *“total”.*"
      ],
      "metadata": {
        "id": "3jc8EVUqr4FN"
      }
    },
    {
      "cell_type": "markdown",
      "source": [
        "**Example 11:** Tossing a die results in $6$ equally likely possible outcomes, identified by the number of dots from $1$ to $6$. We obtain,\n",
        "$$P \\{1\\} = 1/6, P \\{ odd~ number~ of~ dots \\} = 3/6, P \\{ less~ than~ 5 \\} = 4/6.$$"
      ],
      "metadata": {
        "id": "tluQFlxPsFpa"
      }
    },
    {
      "cell_type": "markdown",
      "source": [
        "**Example 12:** A young family plans to have two children. What is the probability of two girls?"
      ],
      "metadata": {
        "id": "hGRfRdMMsKfB"
      }
    },
    {
      "cell_type": "markdown",
      "source": [
        "### **2.3.3 Mutually Exclusive Events**"
      ],
      "metadata": {
        "id": "ie37d7joPjMh"
      }
    },
    {
      "cell_type": "markdown",
      "source": [
        "**Definition 4:** \n",
        "\n",
        "In probability theory, two events are said to be **mutually exclusive** if they cannot occur at the same time or simultaneously. In other words, **mutually exclusive events** are called disjoint events. If two events are considered disjoint events, then the probability that both events will occur at the same time is zero."
      ],
      "metadata": {
        "id": "46Clf0EXP5D5"
      }
    },
    {
      "cell_type": "markdown",
      "source": [
        "If $A$ and $B$ are the two events, then the probability of disjoint of event $A$ and $B$ is written by:\n",
        "$$\\therefore P(A\\cap B)=0$$"
      ],
      "metadata": {
        "id": "QLjNha2PQoHv"
      }
    },
    {
      "cell_type": "markdown",
      "source": [
        "**Remark:(Union of disjoint events).** If $A$ and $B$ are two events and disjoint (mutually exclusive), then \n",
        "$$P(A\\cup B)=P(A)+P(B)$$"
      ],
      "metadata": {
        "id": "epoICDtwRUG0"
      }
    },
    {
      "cell_type": "markdown",
      "source": [
        "**Some of the real-life examples on mutually exclusive events are:**\n",
        "\n",
        "\n",
        "\n",
        "*   When tossing a coin, the event of getting head and tail are mutually exclusive. Because the probability of getting head and tail simultaneously is $0$.\n",
        "*   In a six-sided die, the events “2” and “5” are mutually exclusive. We cannot get both the events $2$ and $5$ at the same time when we threw one die.\n",
        "*   In a deck of $52$ cards, drawing a red card and drawing a club are mutually exclusive events because all the clubs are black.\n",
        "\n"
      ],
      "metadata": {
        "id": "UBFaYkQKRzoR"
      }
    },
    {
      "cell_type": "markdown",
      "source": [
        "**Example 13:** The likelihood of the $3$ teams $a, b, c$ winning a football match are $\\frac{1}{3}, \\frac{1}{5}$ and $\\frac{1}{9}$ respectively. Find the probability that\n",
        "\n",
        "1.  out of the three teams, either team $a$ or team $b$ will win\n",
        "\n",
        "2.  either team $a$ or team $b$ or team $c$ will win\n",
        "\n",
        "3.  none of the teams will win the match\n",
        "\n",
        "4.  neither team $a$ nor team $b$ will win the match"
      ],
      "metadata": {
        "id": "0LcgKTy6TMO7"
      }
    },
    {
      "cell_type": "markdown",
      "source": [
        "**Solution:** \n",
        "\n",
        "a). $P (A~ or~ B~ will~ win) = 1/3 + 1/5 = 8/15$\n",
        "\n",
        "b). $P (A~ or~ B~ or~ C~ will~ win) = 1/3 + 1/5 + 1/9 = 29/45$\n",
        "\n",
        "c). $P (none~ will~ win) = 1 – P (A~ or~ B~ or~ C~ will~ win) = 1 – 29/45 = 16/45$\n",
        "\n",
        "d).  $P (neither~ A~ nor~ B~ will~ win) = 1 – P(either~ A~ or~ B~ will ~win) = 1 – 8/15 = 7/15$"
      ],
      "metadata": {
        "id": "KnaBw_T2UYrx"
      }
    },
    {
      "cell_type": "markdown",
      "source": [
        "**Example 14:** A card is drawn at random from a well-shuffled deck of $52$ cards. Find the probability that the card drawn is a king or an ace."
      ],
      "metadata": {
        "id": "a8j5O5YZegcv"
      }
    },
    {
      "cell_type": "markdown",
      "source": [
        "### **2.3.4 Independent Events**"
      ],
      "metadata": {
        "id": "DJGTd9NgeA3q"
      }
    },
    {
      "cell_type": "markdown",
      "source": [
        "**Definition 5:**\n",
        "\n",
        "Events $E_1,E_2,...,E_n$ are independent if they occur independently of each other, i.e., occurrence of one event does not affect the probabilities of others.\n",
        "\n",
        "The following basic formula can serve as the criterion of independence.\n",
        "$$P\\{E_1\\cap E_2...\\cap E_n\\}=P\\{E_1\\}.P\\{E_2\\}....P\\{E_n\\}(Independent~ Events)$$\n",
        "\n",
        "Let us see the situation of independent events with some examples."
      ],
      "metadata": {
        "id": "7RIBog7ieE6U"
      }
    },
    {
      "cell_type": "markdown",
      "source": [
        "**Example 15:(Reliability of backups).** There is a $1\\%$ probability for a hard drive\n",
        "to crash. Therefore, it has two backups, each having a $2\\%$ probability to crash, and all three components are independent of each other. The stored information is lost only in an unfortunate situation when all three devices crash. What is the probability that the information is saved?"
      ],
      "metadata": {
        "id": "A7yfwUvAfv9w"
      }
    },
    {
      "cell_type": "markdown",
      "source": [
        "**Soltuion:** Organize the data. Denote the events , say,\n",
        "\n",
        "$H=\\{$hard drive crashes$\\}$\n",
        "\n",
        "$B_1=\\{$first backup crashes$\\}$\n",
        "\n",
        "$B_2=\\{$second backup crashes$\\}$\n",
        "\n",
        "It is given that $H, B_1$, and $B_2$ are independent,\n",
        "\n",
        "$P\\{H\\}=0.01~and ~P\\{B_1\\}=P\\{B_2\\}=0.02$\n",
        "\n",
        "Applying rules for the complement and for the intersection of independent events,\n",
        "\n",
        "$P\\{$saved$\\}=1-P\\{$lost$\\}=1-P\\{H\\cap B_1\\cap B_2\\}=1-P\\{H\\}.P\\{B_1\\}.P\\{B_2\\}=1-(0.01)(0.02)(0.02)=0.999$\n",
        "\n",
        "Without backups, the probability for information to be saved is only $0.99.$\n"
      ],
      "metadata": {
        "id": "oCDJVAOygMk-"
      }
    },
    {
      "cell_type": "markdown",
      "source": [
        "**Example 16:** Suppose that a shuttle’s launch depends on three key devices that operate independently of each other and malfunction with probabilities $0.01, 0.02$, and $0.02$, respectively. If any of the key devices malfunctions, the launch will be postponed. Compute the probability for the shuttle to be launched on time, according to its schedule."
      ],
      "metadata": {
        "id": "fGKeVuGAfv1T"
      }
    },
    {
      "cell_type": "markdown",
      "source": [
        "## **2.4 Permutations and Combinations**"
      ],
      "metadata": {
        "id": "WZtAkxR9aXkD"
      }
    },
    {
      "cell_type": "markdown",
      "source": [
        "**Definition 6:** \n",
        "\n",
        "Sampling **with replacement** means that every sampled item is replaced into the initial set, so that any of the objects can be selected with probability $1/n$ at any time. In particular, the same object may be sampled more than once."
      ],
      "metadata": {
        "id": "kEAUTNT0bPe3"
      }
    },
    {
      "cell_type": "markdown",
      "source": [
        "**Definition 7:**\n",
        "\n",
        "Sampling **without replacement** means that every sampled item is removed from further sampling, so the set of possibilities reduces by $1$ after each selection."
      ],
      "metadata": {
        "id": "94fNvG6brzDH"
      }
    },
    {
      "cell_type": "markdown",
      "source": [
        "**Definition 8:** \n",
        "\n",
        "Objects are **distinguishable** if sampling of exactly the same objects in a different order yields a different outcome, that is, a different element of the sample space. For **indistinguishable** objects, the order is not important, it only matters which objects are sampled and which ones aren’t. Indistinguishable objects\n",
        "arranged in a different order do not generate a new outcome."
      ],
      "metadata": {
        "id": "Y9ITkn-lsWMI"
      }
    },
    {
      "cell_type": "markdown",
      "source": [
        "### **2.4.1 Permutations with replacement**"
      ],
      "metadata": {
        "id": "GD0PHXTIsBP-"
      }
    },
    {
      "cell_type": "markdown",
      "source": [
        "Possible selections of $k$ distinguishable objects from a set of $n$ are called *permutations*. When we sample with replacement, each time there are $n$ possible selections, hence the total number of permutations is\n",
        "$$P_r(n,k)=n.n....n(k~terms)=n^k$$"
      ],
      "metadata": {
        "id": "PqOGVNfcsKYE"
      }
    },
    {
      "cell_type": "markdown",
      "source": [
        "**Example 17:** Electronic device usually require a personal code to operate. This particular device uses $4$-digits code. Calculate how many codes are possible.\n",
        "\n",
        "**Solution:** Each code is represented by $r=4$ permutation with replacement of set of $10$ digits $\\{0,1,2,3,4,5,6,7,8,9\\}$\n",
        "$$P(10,4)=(10)^4=10000$$"
      ],
      "metadata": {
        "id": "hmz_KnZxtiKo"
      }
    },
    {
      "cell_type": "markdown",
      "source": [
        "### **2.4.2 Permutations without replacement**"
      ],
      "metadata": {
        "id": "MWIHUmTPxUZW"
      }
    },
    {
      "cell_type": "markdown",
      "source": [
        "During sampling without replacement, the number of possible selections reduces by $1$ each time an object is sampled. Therefore, the number of permutations is\n",
        "$$P(n,k)=n(n-1)(n-2)...(n-k+1)=\\frac{n!}{(n-k)!}$$"
      ],
      "metadata": {
        "id": "ri4ytlb0xeQP"
      }
    },
    {
      "cell_type": "markdown",
      "source": [
        "**Example 18:** In how many ways can $10$ students be seated in a classroom with $15$ chairs?\n",
        "\n",
        "**Solution:** Students are distinguishable, and each student needs a separate seat. Thus, the number of possible allocations is the number of permutations without replacement,$P(15, 10) = 15.14...6=1.09\\times 10^{10}.$ Notice that if students enter the classroom one by one, the first student has $15$ choices of seats, then one seat is occupied, and the second student has only $14$ choices, etc., and the last student takes one of 6 chairs available at that\n",
        "time."
      ],
      "metadata": {
        "id": "9Wbud4HUx_Zk"
      }
    },
    {
      "cell_type": "markdown",
      "source": [
        "### **2.4.3 Combinations without replacement**\n",
        "\n",
        "\n",
        "\n"
      ],
      "metadata": {
        "id": "8gxd110Cy5US"
      }
    },
    {
      "cell_type": "markdown",
      "source": [
        "Possible selections of $k$ indistinguishable objects from a set of n are called *combinations*. The number of combinations without replacement is also called $“n~ choose~ k”$ and is denoted by $C(n,k)$ or $\\displaystyle\\left(_k^n\\right)$. Thus, it can be written as\n",
        "$$C(n,k)=(_k^n)=\\frac{P(n,k)}{P(k,k)}=\\frac{n!}{k!(n-k)!}$$\n",
        "Where $P(k,k)=k!$"
      ],
      "metadata": {
        "id": "feVAGO5VzOLp"
      }
    },
    {
      "cell_type": "markdown",
      "source": [
        "**Example 19:** An antivirus software reports that $3$ folders out of $10$ are infected. How many possibilities are there?\n",
        "\n",
        "**Solution:** Folders $A, B, C$ and folders $C, B, A$ represent the same outcome, thus, the order is not important. A software clearly detected $3$ different folders, thus it is sampling without\n",
        "replacement. The number of possibilities is\n",
        "$$C(10,3)=\\frac{10!}{3!7!}=\\frac{10.9.8}{1.2.3}=120.$$"
      ],
      "metadata": {
        "id": "SyaeDZZZ0vUa"
      }
    },
    {
      "cell_type": "markdown",
      "source": [
        "**Remarks:** We can simplify the fraction using the following;\n",
        "\n",
        "1.   $C(n,k)=C(n,n-k)$ for any $k$ and $n$\n",
        "2.   $C(n,0)=1$\n",
        "3.   $C(n,1)=n$\n",
        "4.   $C(n,n)=1$\n",
        "\n"
      ],
      "metadata": {
        "id": "qUv1QXhVz1oW"
      }
    },
    {
      "cell_type": "markdown",
      "source": [
        "### **2.4.4 Combinations with replacement**"
      ],
      "metadata": {
        "id": "o8cpqOTE2TEY"
      }
    },
    {
      "cell_type": "markdown",
      "source": [
        "For combinations with replacement, the order is not important, and each object may be sampled more than once. Then each outcome consists of counts, how many times each of $n$ objects appears in the sample. It can be done using the following formula\n",
        "$$C_r(n,k)=(_k^{k+n-1})=\\frac{(k+n-1)!}{k!(n-1)!}$$"
      ],
      "metadata": {
        "id": "V-SWPe3g2Z7X"
      }
    },
    {
      "cell_type": "markdown",
      "source": [
        "### **2.4.5 Permutation and Combination in Python**"
      ],
      "metadata": {
        "id": "BzYYXVGk4pc3"
      }
    },
    {
      "cell_type": "markdown",
      "source": [
        "Python provides direct methods to find permutations and combinations of a sequence. These methods are included in the itertools package."
      ],
      "metadata": {
        "id": "EPlRPUnp5VtU"
      }
    },
    {
      "cell_type": "markdown",
      "source": [
        "### **2.4.5.1 Permutation in Python**\n",
        "\n",
        "First import itertools package to implement the permutations method in python. This method takes a list as an input and returns an object list of tuples that contain all permutations in a list form. "
      ],
      "metadata": {
        "id": "kzLBp6R-5zb9"
      }
    },
    {
      "cell_type": "code",
      "source": [
        "# A Python program to print all\n",
        "# permutations using library function\n",
        "from itertools import permutations\n",
        " \n",
        "# Get all permutations of [1, 2, 3]\n",
        "perm = permutations([1, 2, 3])\n",
        " \n",
        "# Print the obtained permutations\n",
        "for i in list(perm):\n",
        "  print(i)\n"
      ],
      "metadata": {
        "id": "qJtEBSPbch9F"
      },
      "execution_count": null,
      "outputs": []
    },
    {
      "cell_type": "markdown",
      "source": [
        "It generates $n!$ permutations if the length of the input sequence is $n$. If want  to get permutations of length $L$ then implement it in this way. "
      ],
      "metadata": {
        "id": "pDL8CKGic4im"
      }
    },
    {
      "cell_type": "code",
      "source": [
        "# A Python program to print all\n",
        "# permutations of given length\n",
        "from itertools import permutations\n",
        "\n",
        "# Get all permutations of length 2\n",
        "# and length 2\n",
        "perm = permutations([1, 2, 3], 2)\n",
        "\n",
        "# Print the obtained permutations\n",
        "for i in list(perm):\n",
        "\tprint (i)\n"
      ],
      "metadata": {
        "id": "8Rof8I34cuTX"
      },
      "execution_count": null,
      "outputs": []
    },
    {
      "cell_type": "markdown",
      "source": [
        "It generates $^nC_r\\times r!$permutations if the length of the input sequence is $n$ and the input parameter is $r$."
      ],
      "metadata": {
        "id": "uccq7tjsdI54"
      }
    },
    {
      "cell_type": "markdown",
      "source": [
        "### **2.4.5.2 Combination in Python**"
      ],
      "metadata": {
        "id": "4tP_jTmjdYa9"
      }
    },
    {
      "cell_type": "markdown",
      "source": [
        "This method takes a list and an input $r$ as an input and return an object list of tuples which contain all possible combination of length $r$ in a list form. "
      ],
      "metadata": {
        "id": "dwbdi2FAdv3f"
      }
    },
    {
      "cell_type": "code",
      "source": [
        "# A Python program to print all\n",
        "# combinations of given length\n",
        "from itertools import combinations\n",
        "\n",
        "# Get all combinations of [1, 2, 3]\n",
        "# and length 2\n",
        "comb = combinations([1, 2, 3], 2)\n",
        "\n",
        "# Print the obtained combinations\n",
        "for i in list(comb):\n",
        "\tprint (i)\n"
      ],
      "metadata": {
        "id": "xRA71OmqeEtz"
      },
      "execution_count": null,
      "outputs": []
    },
    {
      "cell_type": "markdown",
      "source": [
        "1. Combinations are emitted in lexicographic sort order of input. So, if the input list is sorted, the combination tuples will be produced in sorted order. "
      ],
      "metadata": {
        "id": "0Bq1hrGHegk9"
      }
    },
    {
      "cell_type": "code",
      "source": [
        "# A Python program to print all\n",
        "# combinations of a given length\n",
        "from itertools import combinations\n",
        "\n",
        "# Get all combinations of [1, 2, 3]\n",
        "# and length 2\n",
        "comb = combinations([1, 2, 3], 2)\n",
        "\n",
        "# Print the obtained combinations\n",
        "for i in list(comb):\n",
        "\tprint (i)\n"
      ],
      "metadata": {
        "id": "g4Mt4rlLeiOo"
      },
      "execution_count": null,
      "outputs": []
    },
    {
      "cell_type": "markdown",
      "source": [
        "2. Elements are treated as unique based on their position, not on their value. So if the input elements are unique, there will be no repeat values in each combination. "
      ],
      "metadata": {
        "id": "hzovtFQhenIq"
      }
    },
    {
      "cell_type": "code",
      "source": [
        "# A Python program to print all combinations\n",
        "# of given length with unsorted input.\n",
        "from itertools import combinations\n",
        "\n",
        "# Get all combinations of [2, 1, 3]\n",
        "# and length 2\n",
        "comb = combinations([2, 1, 3], 2)\n",
        "\n",
        "# Print the obtained combinations\n",
        "for i in list(comb):\n",
        "\tprint (i)\n"
      ],
      "metadata": {
        "id": "NVlKz0qxesI2"
      },
      "execution_count": null,
      "outputs": []
    },
    {
      "cell_type": "markdown",
      "source": [
        "3.  If we want to make a combination of the same element to the same element then we use combinations_with_replacement. "
      ],
      "metadata": {
        "id": "D2eEHCA5ewVv"
      }
    },
    {
      "cell_type": "code",
      "source": [
        "# A Python program to print all combinations\n",
        "# with an element-to-itself combination is\n",
        "# also included\n",
        "from itertools import combinations_with_replacement\n",
        "\n",
        "# Get all combinations of [1, 2, 3] and length 2\n",
        "comb = combinations_with_replacement([1, 2, 3], 2)\n",
        "\n",
        "# Print the obtained combinations\n",
        "for i in list(comb):\n",
        "\tprint (i)\n"
      ],
      "metadata": {
        "id": "fGuGmk7ne4Aj"
      },
      "execution_count": null,
      "outputs": []
    },
    {
      "cell_type": "markdown",
      "source": [
        "### **To Do:**"
      ],
      "metadata": {
        "id": "DUmcdPTBfBtw"
      }
    },
    {
      "cell_type": "markdown",
      "source": [
        "1. Generate a permutation of first $N$ natural numbers having count of unique adjacent differences equal to $K$."
      ],
      "metadata": {
        "id": "HF5oQkwPlqPg"
      }
    },
    {
      "cell_type": "markdown",
      "source": [
        "2. Generate permutation of $[1, N]$ having bitwise $XOR$ of adjacent differences as $0$."
      ],
      "metadata": {
        "id": "NMmD_F5PlvYG"
      }
    },
    {
      "cell_type": "markdown",
      "source": [
        "3. Generate a permutation of first $N$ natural numbers from an array of differences between adjacent elements."
      ],
      "metadata": {
        "id": "Pu1OX9mumEBq"
      }
    },
    {
      "cell_type": "markdown",
      "source": [
        "## **2.5 Conditional Probability and Bayes Theorem**"
      ],
      "metadata": {
        "id": "I04BhSx_mYtl"
      }
    },
    {
      "cell_type": "markdown",
      "source": [
        "\n",
        "\n",
        "---\n",
        "\n",
        "\n",
        "**Definition 9:(Conditional Probability)**\n",
        "\n",
        "In probability theory, **conditional probability** is a measure of the probability of an event occurring given that another event has (by assumption, presumption, assertion or evidence) occurred.\n",
        "\n",
        "---\n",
        "\n"
      ],
      "metadata": {
        "id": "a9LbUtbkpmyl"
      }
    },
    {
      "cell_type": "markdown",
      "source": [
        "**Notation:** $P\\{A | B\\}=$ conditional probability of $A$ given $B$"
      ],
      "metadata": {
        "id": "6U7RXSjep77Y"
      }
    },
    {
      "cell_type": "markdown",
      "source": [
        "The formula to compute the conditional probability is\n",
        "$$P\\{A | B\\}=\\frac{P\\{A\\cap B\\}}{P\\{B\\}}$$\n",
        "\n",
        "Rewriting the formula in a different way, we obtain the general formula for the probability of intersection.\n",
        "$$P\\{A\\cap B\\}=P\\{B\\}P\\{A | B\\}$$"
      ],
      "metadata": {
        "id": "Le1iEU7psDEw"
      }
    },
    {
      "cell_type": "markdown",
      "source": [
        "**Remarks:** If events $A$ and $B$ are independent, then\n",
        "$$P\\{A\\cap B\\}=P\\{A\\}.P\\{B\\}$$\n",
        "\n",
        "$$\\therefore P\\{A | B\\}=P\\{A\\}$$\n"
      ],
      "metadata": {
        "id": "OR42PzMMtCWN"
      }
    },
    {
      "cell_type": "markdown",
      "source": [
        "**Example 1:** For three events $A, B,$ and $C$, we know that\n",
        "\n",
        "* $A$ and $C$ are independent,\n",
        "\n",
        "* $B$ and $C$ are independent,\n",
        "\n",
        "* $A$ and $B$ are disjoint,\n",
        "\n",
        "* $P(A\\cup B)=\\frac{2}{3},P(B\\cup C)=\\frac{3}{4},P(A\\cup B\\cup C)=\\frac{11}{12} $\n",
        "\n",
        "Find $P(A),P(B)$, and $P(C)$."
      ],
      "metadata": {
        "id": "IN4iJD3hwiux"
      }
    },
    {
      "cell_type": "markdown",
      "source": [
        "**Example 2:** I roll a fair die twice and obtain two numbers $X_1=$ result of the first roll and $X_2=$ result of the second roll. Given that I know $X_1+X_2=7$, what is the probability that $X_1=4$ or $X_2=4$?"
      ],
      "metadata": {
        "id": "S7rcynrs4cJJ"
      }
    },
    {
      "cell_type": "markdown",
      "source": [
        "**Solution:** Let $A$ be the event that $X_1=4$ or $X_2=4$ and $B$ be the event that $X_1+X_2=7$. We are interested in $P(A | B)$, so we can use\n",
        "$$P(A | B)=\\frac{P(A\\cap B)}{P(B)}$$\n",
        "We know that\n",
        "$$A={(4,1),(4,2),(4,3),(4,4),(4,5),(4,6),(1,4),(2,4),(3,4),(5,4),(6,4)},$$\n",
        "$$B={(6,1),(5,2),(4,3),(3,4),(2,5),(1,6)},$$\n",
        "$$A\\cap B={(4,3),(3,4)}$$\n",
        "We conclude\n",
        "$$P(A | B)=\\frac{P(A\\cap B)}{P(B)}$$\n",
        "$$=\\displaystyle\\frac{\\frac{2}{36}}{\\frac{6}{36}}$$\n",
        "$$=\\frac{1}{3}.$$"
      ],
      "metadata": {
        "id": "EtEcCmR841oH"
      }
    },
    {
      "cell_type": "markdown",
      "source": [
        "### **2.5.1 Law of Total Probability**"
      ],
      "metadata": {
        "id": "idtw-y7f3cVI"
      }
    },
    {
      "cell_type": "markdown",
      "source": [
        "By the definition of conditional probability, we have\n",
        "$$P(A\\cap B)=P(A | B)P(B)$$\n",
        "We can state a more general version of this formula which applies to a general partition of the sample space $S$."
      ],
      "metadata": {
        "id": "JnAw6CkCQQ3o"
      }
    },
    {
      "cell_type": "markdown",
      "source": [
        "\n",
        "\n",
        "---\n",
        "**Law of total probability:**\n",
        "\n",
        "If $B_1,B_2,B_3,⋯$ is a partition of the sample space $S$, then for any event $A$ we have\n",
        "$$P(A)=\\sum_iP(A\\cap B_i)=\\sum_iP(A | B_i).P(B_i)$$\n",
        "\n",
        "\n",
        "---\n",
        "\n"
      ],
      "metadata": {
        "id": "D2EuELqgVma2"
      }
    },
    {
      "cell_type": "markdown",
      "source": [
        "**Example 3:** I have three bags that each contain $100$ marbles:\n",
        "\n",
        "* Bag $1$ has $75$ red and $25$ blue marbles;\n",
        "* Bag $2$ has $60$ red and $40$ blue marbles;\n",
        "* Bag $3$ has $45$ red and $55$ blue marbles.\n",
        "\n",
        "I choose one of the bags at random and then pick a marble from the chosen bag, also at random. What is the probability that the chosen marble is red?"
      ],
      "metadata": {
        "id": "BlqDTJstWeGz"
      }
    },
    {
      "cell_type": "markdown",
      "source": [
        "**Solution:** Let $R$ be the event that the chosen marble is red. Let $B_i$ be the event that I choose Bag $i$. We already know that\n",
        "$$P(R|B_1)=0.75,\n",
        "P(R|B_2)=0.60,\n",
        "P(R|B_3)=0.45$$\n",
        "Using the law of total probability, we can write\n",
        "$$P(R) = P(R|B_1)P(B_1)+P(R|B_2)P(B_2)+P(R|B_3)P(B_3)$$\n",
        "$$=(0.75)\\frac{1}{3}+(0.60)\\frac{1}{3}+(0.45)\\frac{1}{3}$$\n",
        "$$=0.60$$"
      ],
      "metadata": {
        "id": "DX7qpv8VXvmT"
      }
    },
    {
      "cell_type": "markdown",
      "source": [
        "### **2.5.2 Bayes' Rules**"
      ],
      "metadata": {
        "id": "DgSO8pVUYsRQ"
      }
    },
    {
      "cell_type": "markdown",
      "source": [
        "Now we are ready to state one of the most useful results in conditional probability: **Bayes' rule**. Suppose that we know $P(A|B)$, but we are interested in the probability $P(B|A)$. Using the definition of conditional probability, we have\n",
        "$$P(A|B)P(B)=P(A\\cap B)=P(B|A)P(A).$$\n",
        "Dividing by $P(A)$, we obtain\n",
        "$$P(B|A)=\\frac{P(A|B)P(B)}{P(A)},$$\n",
        "which is the famous **Bayes' rule**. Often, in order to find $P(A)$ in Bayes' formula we need to use the law of total probability, so sometimes Bayes' rule is stated as\n",
        "$$P(B_j|A)=\\frac{P(A|B_j)P(B_j)}{\\sum_iP(A|B_i)P(B_i)},$$\n",
        "where $B_1,B_2,⋯,B_n$ form a partition of the sample space."
      ],
      "metadata": {
        "id": "TrotA7o4Y2pD"
      }
    },
    {
      "cell_type": "markdown",
      "source": [
        "**Example 4:** In **Example 3**, suppose we observe that the chosen marble is red. What is the probability that Bag $1$ was chosen?"
      ],
      "metadata": {
        "id": "NOMEISIFaDkF"
      }
    },
    {
      "cell_type": "markdown",
      "source": [
        "**Solution:** Here we know $P(R|B_i)$ but we are interested in $P(B_1|R)$, so this is a scenario in which we can use Bayes' rule. We have\n",
        "$$P(B_1|R)\t= \\frac{P(R|B_1)P(B_1)}{P(R)}$$\n",
        "$$=\\frac{0.75\\times\\frac{1}{3}}{0.6}$$\n",
        "$$=512.$$"
      ],
      "metadata": {
        "id": "Au0B7HoxaQMo"
      }
    },
    {
      "cell_type": "markdown",
      "source": [
        "### **2.5.3 Conditional Probability with a Python**"
      ],
      "metadata": {
        "id": "5lKWz399bCvc"
      }
    },
    {
      "cell_type": "markdown",
      "source": [
        "We’re going to calculate the probability a student gets an grade $A$ ($80\\%$ and above) in math, given that they miss $10$ or more classes."
      ],
      "metadata": {
        "id": "X0yF80TMb_zL"
      }
    },
    {
      "cell_type": "markdown",
      "source": [
        "Download the dataset from the link [https://drive.google.com/file/d/1rr6JKqIIT5z8lF87CKz_XwoQu_3XVra4/view?usp=sharing] and inspect the data."
      ],
      "metadata": {
        "id": "2QQ3k70HcUeL"
      }
    },
    {
      "cell_type": "code",
      "source": [
        "import numpy as np\n",
        "import pandas as pd\n",
        "df = pd.read_csv('student-mat.csv')\n",
        "df.head()"
      ],
      "metadata": {
        "id": "w0jqxDuGYrYw"
      },
      "execution_count": null,
      "outputs": []
    },
    {
      "cell_type": "markdown",
      "source": [
        "And check the number of records."
      ],
      "metadata": {
        "id": "F43wuDUkd0vV"
      }
    },
    {
      "cell_type": "code",
      "source": [
        "len(df)"
      ],
      "metadata": {
        "id": "JcKhPi8wg78T"
      },
      "execution_count": null,
      "outputs": []
    },
    {
      "cell_type": "markdown",
      "source": [
        "We’re only concerned with the columns, `absences` (number of absences), and `G3` (final grade from $0$ to $20$).\n",
        "\n",
        "Let’s create a couple new boolean columns based on these columns to make our lives easier.\n",
        "\n",
        "Add a boolean column called **grade_A** noting if a student achieved $80\\%$ or higher as a final score. Original values are on a $0–20$ scale so we multiply by $5$."
      ],
      "metadata": {
        "id": "9Hpz3WckeDcL"
      }
    },
    {
      "cell_type": "code",
      "source": [
        "df['grade_A'] = np.where(df['G3']*5 >= 80, 1, 0)"
      ],
      "metadata": {
        "id": "7WzjHzgOd8HF"
      },
      "execution_count": null,
      "outputs": []
    },
    {
      "cell_type": "markdown",
      "source": [
        "Make another boolean column called **high_absenses** with a value of $1$ if a student missed $10$ or more classes."
      ],
      "metadata": {
        "id": "PBqCwXXteruv"
      }
    },
    {
      "cell_type": "code",
      "source": [
        "df['high_absenses'] = np.where(df['absences'] >= 10, 1, 0)"
      ],
      "metadata": {
        "id": "Qmukyq_Aefc-"
      },
      "execution_count": null,
      "outputs": []
    },
    {
      "cell_type": "markdown",
      "source": [
        "Add one more column to make building a pivot table easier."
      ],
      "metadata": {
        "id": "xACp8ELue5tB"
      }
    },
    {
      "cell_type": "code",
      "source": [
        "df['count'] = 1"
      ],
      "metadata": {
        "id": "004cuQ6Jezzo"
      },
      "execution_count": null,
      "outputs": []
    },
    {
      "cell_type": "markdown",
      "source": [
        "And drop all columns we don’t care about."
      ],
      "metadata": {
        "id": "HHJ8tAPGfCi4"
      }
    },
    {
      "cell_type": "code",
      "source": [
        "df = df[['grade_A','high_absenses','count']]\n",
        "df.head()"
      ],
      "metadata": {
        "id": "ck58TllMe9MU"
      },
      "execution_count": null,
      "outputs": []
    },
    {
      "cell_type": "markdown",
      "source": [
        "Wonderful! Now we’ll create a pivot table from this."
      ],
      "metadata": {
        "id": "Z5T-Nxb6fPJ6"
      }
    },
    {
      "cell_type": "code",
      "source": [
        "pd.pivot_table(df, values='count', index=['grade_A'], columns=['high_absenses'], aggfunc=np.size, fill_value=0)"
      ],
      "metadata": {
        "id": "qHpVZstWfGfY"
      },
      "execution_count": null,
      "outputs": []
    },
    {
      "cell_type": "markdown",
      "source": [
        "We now have all the data we need to do our calculation. Let’s start by calculating each individual part in the formula."
      ],
      "metadata": {
        "id": "mef_Cc5Qfq_Y"
      }
    },
    {
      "cell_type": "markdown",
      "source": [
        "In our case:\n",
        "\n",
        "$P(A)$ is the probability of a grade of $80\\%$ or greater.\n",
        "\n",
        "$P(B)$ is the probability of missing $10$ or more classes.\n",
        "\n",
        "$P(A|B)$ is the probability of a $80\\%$ and above grade, given missing $10$ or more classes."
      ],
      "metadata": {
        "id": "_YuXVE_Qf2Ka"
      }
    },
    {
      "cell_type": "markdown",
      "source": [
        "Calculations of parts:\n",
        "$$P(A) = (35 + 5) / (35 + 5 + 277 + 78) = 0.10126582278481013$$\n",
        "$$P(B) = (78 + 5) / (35 + 5 + 277 + 78) = 0.21012658227848102$$\n",
        "$$P(A ∩ B) = 5 / (35 + 5 + 277 + 78) = 0.012658227848101266$$\n",
        "\n",
        "$$\\therefore P(A|B) = 0.012658227848101266/ 0.21012658227848102= 0.06$$"
      ],
      "metadata": {
        "id": "lcYrHY15gGEa"
      }
    },
    {
      "cell_type": "markdown",
      "source": [
        "There we have it. The probability of getting at least an $80\\%$ final grade, given missing $10$ or more classes is $6\\%$."
      ],
      "metadata": {
        "id": "MWFoql8EgeA2"
      }
    },
    {
      "cell_type": "markdown",
      "source": [
        "### **To Do:**"
      ],
      "metadata": {
        "id": "1fPIyjNchBiw"
      }
    },
    {
      "cell_type": "markdown",
      "source": [
        "1. Calculate the probability a student gets an grade $A^+$ ($90\\%$ and above), in math, given that they miss 10 or more classes.\n",
        "2. Calculate the probability a student gets an grade $A^-$ ($70\\%$ and above and $80\\%$ below), in math, given that they miss 10 or more classes.\n",
        "3. Calculate the probability a student gets an grade $B$ ($50\\%$ and below), in math, given that they've not missed any classes."
      ],
      "metadata": {
        "id": "mKtaUGe9hFM4"
      }
    },
    {
      "cell_type": "markdown",
      "source": [
        "### **2.5.4 Bayesian Statistics in Python**"
      ],
      "metadata": {
        "id": "k5FtlGNGo8iD"
      }
    },
    {
      "cell_type": "markdown",
      "source": [
        "Let’s take an example where we will examine all these terms in python. \n",
        "\n",
        "**For example**, suppose we have $2$ buckets $A$ and $B$. In bucket $A$ we have $30$ blue balls and $10$ yellow balls, while in bucket $B$ we have $20$ blue and $20$ yellow balls. We are required to choose one ball. What is the chance that we choose bucket $A$?"
      ],
      "metadata": {
        "id": "hchSbricpNBv"
      }
    },
    {
      "cell_type": "markdown",
      "source": [
        "We can say that there is an equal chance for choosing either of the buckets but now from the chosen bucket we picked a **blue** ball, so the question is what is the chance we pick it from bucket $A$?"
      ],
      "metadata": {
        "id": "nCxJTZjXpoyT"
      }
    },
    {
      "cell_type": "code",
      "source": [
        "import numpy as np\n",
        "import pandas as pd\n",
        "import matplotlib.pyplot as plt\n",
        "import seaborn as sns"
      ],
      "metadata": {
        "id": "TEVu2nO1fWUJ"
      },
      "execution_count": null,
      "outputs": []
    },
    {
      "cell_type": "markdown",
      "source": [
        "According to the question, the hypotheses and prior are:"
      ],
      "metadata": {
        "id": "kZjmZiGhp3Fl"
      }
    },
    {
      "cell_type": "code",
      "source": [
        "hypos = 'bucket a', 'bucket b'\n",
        "probs= 1/2,1/2"
      ],
      "metadata": {
        "id": "nbqb1hAvpy4L"
      },
      "execution_count": null,
      "outputs": []
    },
    {
      "cell_type": "markdown",
      "source": [
        "We can use the pandas series for computation as:"
      ],
      "metadata": {
        "id": "sqVurCXXp_ba"
      }
    },
    {
      "cell_type": "code",
      "source": [
        "prior = pd.Series(probs, hypos)\n",
        "prior"
      ],
      "metadata": {
        "colab": {
          "base_uri": "https://localhost:8080/"
        },
        "id": "t8TVjelkp7p0",
        "outputId": "75421f38-8fae-47c1-c7e6-53f247133d2f"
      },
      "execution_count": null,
      "outputs": [
        {
          "output_type": "execute_result",
          "data": {
            "text/plain": [
              "bucket a    0.5\n",
              "bucket b    0.5\n",
              "dtype: float64"
            ]
          },
          "metadata": {},
          "execution_count": 16
        }
      ]
    },
    {
      "cell_type": "markdown",
      "source": [
        "According to the question, we know that the chances of choosing a blue ball from bucket $A$ is $3/4$ and from bucket $B$ the chances of choosing any ball or blue ball are $1/2$. This chance or probabilities are our likelihood.\n",
        "\n",
        "So from the above statement, we can say that,"
      ],
      "metadata": {
        "id": "1cFANBNqqNB-"
      }
    },
    {
      "cell_type": "code",
      "source": [
        "likelihood = 3/4, 1/2"
      ],
      "metadata": {
        "id": "h_FkIAxoqDsK"
      },
      "execution_count": null,
      "outputs": []
    },
    {
      "cell_type": "markdown",
      "source": [
        "Using the likelihood and prior we can calculate the unnormalized posterior as:"
      ],
      "metadata": {
        "id": "K7Cy987HqfLp"
      }
    },
    {
      "cell_type": "code",
      "source": [
        "unnorm = prior * likelihood\n",
        "unnorm"
      ],
      "metadata": {
        "colab": {
          "base_uri": "https://localhost:8080/"
        },
        "id": "cXlrRlV_qbel",
        "outputId": "c036b1e4-db4f-458b-bd34-a61337ca9cf2"
      },
      "execution_count": null,
      "outputs": [
        {
          "output_type": "execute_result",
          "data": {
            "text/plain": [
              "bucket a    0.375\n",
              "bucket b    0.250\n",
              "dtype: float64"
            ]
          },
          "metadata": {},
          "execution_count": 18
        }
      ]
    },
    {
      "cell_type": "markdown",
      "source": [
        "To make the unnormalized posterior normalized posterior we have to divide the unnormalized posterior with the sum of the unnormalized posterior."
      ],
      "metadata": {
        "id": "Mmec0OUDqph4"
      }
    },
    {
      "cell_type": "code",
      "source": [
        "prob_data = unnorm.sum()\n",
        "prob_data"
      ],
      "metadata": {
        "colab": {
          "base_uri": "https://localhost:8080/"
        },
        "id": "T4WtjqhJqlxy",
        "outputId": "729be159-4aa7-4945-8d0a-e581129ca3bf"
      },
      "execution_count": null,
      "outputs": [
        {
          "output_type": "execute_result",
          "data": {
            "text/plain": [
              "0.625"
            ]
          },
          "metadata": {},
          "execution_count": 19
        }
      ]
    },
    {
      "cell_type": "code",
      "source": [
        "posterior = unnorm / prob_data\n",
        "posterior"
      ],
      "metadata": {
        "colab": {
          "base_uri": "https://localhost:8080/"
        },
        "id": "MfMfXZ-qqtgq",
        "outputId": "903f10a6-19be-409f-d7a0-b54caa3a52c7"
      },
      "execution_count": null,
      "outputs": [
        {
          "output_type": "execute_result",
          "data": {
            "text/plain": [
              "bucket a    0.6\n",
              "bucket b    0.4\n",
              "dtype: float64"
            ]
          },
          "metadata": {},
          "execution_count": 21
        }
      ]
    },
    {
      "cell_type": "markdown",
      "source": [
        "Here from the results, we can say the posterior probability of choosing bucket $A$ with a blue ball is $0.6$. Which is an implementation of the Bayes theorem which we had read above. "
      ],
      "metadata": {
        "id": "t6wYTnGmq5_w"
      }
    },
    {
      "cell_type": "markdown",
      "source": [
        "### **To Do:**"
      ],
      "metadata": {
        "id": "DmwO3UGwrTdJ"
      }
    },
    {
      "cell_type": "markdown",
      "source": [
        "We have $101$ buckets and the distribution of the balls are like below given points :\n",
        "\n",
        "* Bucket $0$ has $0\\%$ blue balls \n",
        "* Bucket $1$ has $1\\%$ blue balls\n",
        "* Bucket $2$ has $2\\%$ blue balls\n",
        "\n",
        "And so on up to \n",
        "\n",
        "* Bucket $99$ has $99\\%$ blue balls\n",
        "* Bucket $100$ has $100\\%$ blue balls.\n",
        "\n",
        "We have $100\\%$ yellow balls in bucket $0$ and $99\\%$ yellow balls in bucket $1$ and so on. Now suppose we randomly choose a bucket and pick a ball and it turns out to be blue. What is the probability that the ball came from the Bucket?"
      ],
      "metadata": {
        "id": "_Hs0Jau6rW34"
      }
    },
    {
      "cell_type": "markdown",
      "source": [
        "## **2.6 Random Variables**"
      ],
      "metadata": {
        "id": "aKieEgm1uNFi"
      }
    },
    {
      "cell_type": "markdown",
      "source": [
        "This section introduces the concept of a random variable and studies discrete distributions in detail followed by continuous distributions."
      ],
      "metadata": {
        "id": "wnt7Z3lyYdOL"
      }
    },
    {
      "cell_type": "markdown",
      "source": [
        "### **2.6.1 Main Concepts**"
      ],
      "metadata": {
        "id": "hbQPdLPuYpal"
      }
    },
    {
      "cell_type": "markdown",
      "source": [
        "\n",
        "\n",
        "---\n",
        "\n",
        "\n",
        "**Definition 1:** \n",
        "\n",
        "A random variable is a function of an outcome, $X = f(ω)$.\n",
        "\n",
        "In other words, it is a quantity that depends on chance.\n",
        "\n",
        "\n",
        "---\n",
        "\n"
      ],
      "metadata": {
        "id": "zr-iU83fZox9"
      }
    },
    {
      "cell_type": "markdown",
      "source": [
        "The domain of a random variable is the sample space $\\Omega$. Its range can be the set of all real numbers $\\mathbb{R}$, or only the positive numbers $(0, +\\infty)$, or the integers $\\mathbb{Z}$, or the interval $(0, 1)$, etc..\n",
        "\n",
        "Once an experiment is completed, and the outcome $ω$ is known, the value of random variable $X(ω)$ becomes determined."
      ],
      "metadata": {
        "id": "zdi1P2O0aKls"
      }
    },
    {
      "cell_type": "markdown",
      "source": [
        "**Example 1:** Consider an experiment of tossing $3$ fair coins and counting the number of heads. Certainly, the same model suits the number of girls in a family with $3$ children, the number of $1$’s in a random binary string of $3$ characters, etc."
      ],
      "metadata": {
        "id": "EVlpxjBaZ5Jn"
      }
    },
    {
      "cell_type": "markdown",
      "source": [
        "**Solution:** Let $X$ be the number of heads (girls, 1’s). Prior to an experiment, its value is not known. All we can say is that $X$ has to be an integer between $0$ and $3$. Since assuming each value is an event, we can compute probabilities,\n",
        "$$P\\{X=0\\}=P\\{TTT\\}=\\left(\\frac{1}{2}\\right)\\left(\\frac{1}{2}\\right)\\left(\\frac{1}{2}\\right)=\\frac{1}{8}$$\n",
        "$$P\\{X=1\\}=P\\{HTT\\}+P\\{THT\\}+P\\{TTH\\}=\\frac{3}{8}$$\n",
        "$$P\\{X=2\\}=P \\{HHT\\} + P \\{HTH\\} + P \\{THH\\} = \\frac{3}{\n",
        "8}$$\n",
        "$$P\\{X = 3\\} = P\\{HHH\\} = \\frac{1}{\n",
        "8}$$\n",
        "Summarizing,"
      ],
      "metadata": {
        "id": "xIAz75iYbN9B"
      }
    },
    {
      "cell_type": "markdown",
      "source": [
        "![image.png](data:image/png;base64,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)"
      ],
      "metadata": {
        "id": "GmrrnsW5fN52"
      }
    },
    {
      "cell_type": "markdown",
      "source": [
        "\n",
        "\n",
        "---\n",
        "**Definition 2:**\n",
        "\n",
        "Collection of all the probabilities related to $X$ is the distribution of $X$. The function\n",
        "$$P(x) = P\\{X = x\\}$$\n",
        "is the *probability mass function*, or *pmf*. The *cumulative distribution function*, or *cdf* is defined as\n",
        "$$F(x) = P\\{X \\leq x\\} = \\sum_{y\\leq x}P(y).$$\n",
        "The set of possible values of $X$ is called the **support** of the distribution $F$.\n",
        "\n",
        "\n",
        "---\n",
        "\n"
      ],
      "metadata": {
        "id": "rbV4-hoUfO-F"
      }
    },
    {
      "cell_type": "markdown",
      "source": [
        "**Remarks:** \n",
        "1. For every outcome $ω$, the variable $X$ takes one and only one value $x$. This makes events $\\{X = x\\}$ disjoint and exhaustive, and therefore,\n",
        "$$\\sum_xP(x) = \\sum_xP\\{X = x\\} = 1.$$\n",
        "2. We can conclude that the *cdf* $F(x)$ is a non-decreasing function of $x$, always between $0$ and $1$, with\n",
        "$$\\lim_{x\\to -\\infty}F(x)=0~and~\\lim_{x\\to +\\infty}F(x)=1.$$\n",
        "3. For any set $A$,\n",
        "$$P\\{x\\in A\\}=\\sum_{x\\in A}P(x)$$\n",
        "4. When $A$ is an interval, its probability can be computed directly from the *cdf* $F(x)$,\n",
        "$$P\\{a < X \\leq b\\} = F(b) − F(a).$$"
      ],
      "metadata": {
        "id": "05qyWihAgywY"
      }
    },
    {
      "cell_type": "markdown",
      "source": [
        "**Types of random variables:**\n",
        "\n",
        "There are two types of random variables,\n",
        "\n",
        "1.   Discrete random variables, and \n",
        "2.   Continuous random variable\n",
        "\n",
        "In the next section, we will discuss about the discrete random variables, discrete disdributions, and statistics of discrete distributions with examples.\n",
        "\n"
      ],
      "metadata": {
        "id": "E1GzUqL6jNTQ"
      }
    },
    {
      "cell_type": "markdown",
      "source": [
        "### **2.6.2 Discrete random variables**"
      ],
      "metadata": {
        "id": "sHj5reuIs_K6"
      }
    },
    {
      "cell_type": "markdown",
      "source": [
        "So far, we are dealing with *discrete random variables*. These are variables whose range is finite or countable. In particular, it means that their values can be listed, or arranged in a sequence. Examples include the number of jobs submitted to a printer, the number of errors, the number of error-free modules, the number of failed components, and so on. Discrete variables don’t have to be integers."
      ],
      "metadata": {
        "id": "sWytOaEStcNv"
      }
    },
    {
      "cell_type": "markdown",
      "source": [
        "\n",
        " \n",
        "---\n",
        "**Definition 3:(Joint distribution and marginal distributions)**\n",
        "\n",
        "If $X$ and $Y$ are random variables, then the pair $(X, Y )$ is a **random vector**. Its distribution is called the **joint distribution** of $X$ and $Y$. Individual distributions of $X$ and $Y$ are then called the **marginal distributions**.\n",
        "\n",
        "\n",
        "\n",
        "---\n",
        "\n"
      ],
      "metadata": {
        "id": "MWz3N3GGuQPU"
      }
    },
    {
      "cell_type": "markdown",
      "source": [
        "Despite the fact that the above definition only discusses two random variables, all of the ideas apply to a vector $(X_1, X_2,...,X_n)$ with $n$ components and its joint distribution.\n",
        "\n",
        "Similarly to a single variable, the *joint distribution* of a vector is a collection of probabilities for a vector $(X, Y )$ to take a  value $(x, y)$. Recall that two vectors are equal,\n",
        "$$(X, Y )=(x, y),$$\n",
        "\n",
        "if $X = x$ and $Y = y$. This “and” means the intersection, therefore, the *joint probability mass function* of $X$ and $Y$ is\n",
        "$$P(x, y) = P \\{(X, Y )=(x, y)\\} = P \\{X = x \\cap Y = y\\} .$$\n",
        "\n",
        "Again, $\\{(X, Y )=(x, y)\\}$ are exhaustive and mutually exclusive events for different pairs $(x, y)$, therefore,\n",
        "$$\\sum_x\\sum_yP(x,y)=1$$"
      ],
      "metadata": {
        "id": "T00JiAhTvvOW"
      }
    },
    {
      "cell_type": "markdown",
      "source": [
        "The *marginal probability mass functions* of $X$ and $Y$ can be\n",
        "obtained from the joint pmf by the Addition Rule.\n",
        "$$P_X(x) = P \\{X = x\\} = \\sum_y P_{(X,Y )}(x, y)$$\n",
        "\n",
        "$$P_Y (y) = P \\{Y = y\\} = \\sum_xP_{(X,Y )}(x, y)$$"
      ],
      "metadata": {
        "id": "QskHooR2yAvH"
      }
    },
    {
      "cell_type": "markdown",
      "source": [
        "\n",
        "\n",
        "---\n",
        "**Definition 4: (Independence of random variables)**\n",
        "\n",
        "Random variables $X$ and $Y$ are *independent* if\n",
        "$$P_{(X,Y )}(x, y) = P_X(x)P_Y(y)$$\n",
        "\n",
        "for all values of $x$ and $y$. This means, events $\\{X = x\\}$ and $\\{Y = y\\}$ are independent for all $x$ and $y$.\n",
        "\n",
        "\n",
        "---\n",
        "\n"
      ],
      "metadata": {
        "id": "4tnQAzYjysSy"
      }
    },
    {
      "cell_type": "markdown",
      "source": [
        "**Example 2:** I toss a coin twice and define $X$ to be the number of heads I observe. Then, I toss the coin two more times and define $Y$ to be the number of heads that I observe this time. Find $P((X<2)~ $and$~ (Y>1))$."
      ],
      "metadata": {
        "id": "sgsTObvvQU-z"
      }
    },
    {
      "cell_type": "markdown",
      "source": [
        "**Solution:** Since $X$ and $Y$ are the result of different independent coin tosses, the two random variables $X$ and $Y$ are independent. We can write\n",
        "$$P((X<2) ~and~ (Y>1)) \t=P(X<2)P(Y>1)$$\n",
        "$$=(P_X(0)+P_X(1))P_Y(2)$$\n",
        "$$=(\\frac{1}{4}+\\frac{1}{2})\\frac{1}{4}$$\n",
        "$$=\\frac{3}{16}.$$"
      ],
      "metadata": {
        "id": "LT9wIArIRp5_"
      }
    },
    {
      "cell_type": "markdown",
      "source": [
        "\n",
        "\n",
        "---\n",
        "\n",
        "\n",
        "**Definition 5: (Expectation).**\n",
        "\n",
        "**Expectation** or **expected value** of a random variable $X$ is its mean, the average value.\n",
        "\n",
        "It can be computed using the formula\n",
        "$$\\mu=E(X)=\\sum_xxP(x)$$\n",
        "\n",
        "---\n",
        "\n"
      ],
      "metadata": {
        "id": "XCI1V7ltSmPj"
      }
    },
    {
      "cell_type": "markdown",
      "source": [
        "**Example 3:** Suppose that $P(0) = 0.75$ and $P(1) = 0.25$. Then, in a long run, $X$ is equal $1$ only $1/4$ of times, otherwise it equals $0$. Suppose we earn $\\$1$ every time we see $X = 1$. On\n",
        "the average, we earn $\\$1$ every four times, or $\\$0.25$ per each observation. Therefore, in this case $E(X)=0.25$."
      ],
      "metadata": {
        "id": "3FloOvJeT_GB"
      }
    },
    {
      "cell_type": "markdown",
      "source": [
        "We will see more examples under the distributions of random variables section."
      ],
      "metadata": {
        "id": "HYT4NDBMUgco"
      }
    },
    {
      "cell_type": "markdown",
      "source": [
        "\n",
        "\n",
        "---\n",
        "**Properties of expectations:** Let $X$ and $Y$ be random variables, and $a$, $b$, $c$ be the scalar quantities.\n",
        "\n",
        "\n",
        "\n",
        "1.   $E(X+Y)=E(X)+E(Y)$\n",
        "2.   $E(aX)=aE(X)$\n",
        "3.   $E(c)=c$\n",
        "\n",
        "If $X$ and $Y$ are independent, then \n",
        "4.  $E(XY)=E(X)E(Y)$\n",
        "\n",
        "\n",
        "\n",
        "\n",
        "\n",
        "---\n",
        "\n"
      ],
      "metadata": {
        "id": "L07-ugEUUvqi"
      }
    },
    {
      "cell_type": "markdown",
      "source": [
        "**Remark:** The last property in above holds for some dependent variables too, hence it cannot be used to verify independence of $X$ and $Y$."
      ],
      "metadata": {
        "id": "xZnlpFK7WBhH"
      }
    },
    {
      "cell_type": "markdown",
      "source": [
        "\n",
        "\n",
        "---\n",
        "**Definition 6: (Variance and Standard deviation)**\n",
        "\n",
        "**Variance** of a random variable is defined as the expected squared deviation from the mean. For discrete random variables, variance is\n",
        "$$\\sigma^2 = Var(X) = E (X − E(X))^2 = \\sum_x(x − \\mu)^2P(x)$$\n",
        "\n",
        "**Standard deviation** is a square root of variance,\n",
        "$$\\sigma=\\sqrt{Var(X)}$$\n",
        "\n",
        "\n",
        "---\n",
        "\n"
      ],
      "metadata": {
        "id": "jDGB3HBgWjBG"
      }
    },
    {
      "cell_type": "markdown",
      "source": [
        "**Remark:** Notice that if the distance to the mean is not squared, then the result is always $\\mu−\\mu = 0$\n",
        "bearing no information about the distribution of $X$."
      ],
      "metadata": {
        "id": "6Mv_aLHxXM61"
      }
    },
    {
      "cell_type": "markdown",
      "source": [
        "\n",
        "\n",
        "---\n",
        "**Definition 7: (Covariance and Correlation)**\n",
        "\n",
        "**Covariance** $\\sigma_{XY} = Cov(X, Y )$ is defined as\n",
        "$$Cov(X, Y ) = E \\{(X − E(X))(Y − E(Y))\\}$$\n",
        "$$= E(XY ) − E(X) E(Y )$$\n",
        "It summarizes interrelation of two random variables.\n",
        "\n",
        "**Correlation coefficient** between variables $X$ and $Y$ is defined as\n",
        "$$r(X,Y)=\\frac{Cov(X,Y)}{\\sigma_X\\sigma_Y}$$\n",
        "\n",
        "---\n",
        "\n"
      ],
      "metadata": {
        "id": "Ucz7olNoXjq8"
      }
    },
    {
      "cell_type": "markdown",
      "source": [
        "**Properties of variances and covariances:**\n",
        "\n",
        "1.   $Cov(X,Y)=Cov(Y,X)$\n",
        "2.   $r(X,Y)=r(Y,X)$\n",
        "3.   $Var(aX+b)=a^2Var(X)$\n",
        "4.   $Cov(aX+b, cY+d)=acCov(X,Y)$\n",
        "5.   $r(aX+b,cY+d)=r(X,Y)$\n",
        "\n",
        "If $X$ and $Y$ are independent;\n",
        "6.  $Cov(X,Y)=0$\n",
        "7.  $Var(X+Y)=Var(X)+Var(Y)$\n",
        "\n",
        "\n"
      ],
      "metadata": {
        "id": "7TYVEL8YY-r4"
      }
    },
    {
      "cell_type": "markdown",
      "source": [
        "### **2.6.3 Families of discrete distributions**"
      ],
      "metadata": {
        "id": "fvEJpinclWv1"
      }
    },
    {
      "cell_type": "markdown",
      "source": [
        "Discrete random variables or distributions are often classified to their probability mass functions. We now consider some of these distributions."
      ],
      "metadata": {
        "id": "xy47_q3bJCoE"
      }
    },
    {
      "cell_type": "markdown",
      "source": [
        "#### **2.6.3.1 Bernoulli distribution**"
      ],
      "metadata": {
        "id": "62GMyEfVJSby"
      }
    },
    {
      "cell_type": "markdown",
      "source": [
        "\n",
        "\n",
        "---\n",
        "**Definition:**\n",
        "\n",
        "A random variable with two possible values, $0$ and $1$, is called a **Bernoulli variable**, its distribution is **Bernoulli distribution**, and any experiment with a binary outcome is called a **Bernoulli trial**.\n",
        "\n",
        "\n",
        "---\n",
        "\n"
      ],
      "metadata": {
        "id": "UWlyxQsOJw5E"
      }
    },
    {
      "cell_type": "markdown",
      "source": [
        "If $P(1) = p$ is the probability of a success, then $P(0) = q = 1 − p$ is the probability of a failure. We can then compute the expectation and variance as\n",
        "$$E(X) = \\sum_xxP(x) = (0)(1 − p) + (1)(p) = p,$$\n",
        "$$Var(X) = \\sum_x(x − p)^2P(x) = (0 − p)^2(1 − p) + (1 − p)^2p$$\n",
        "$$= p(1 − p)(p + 1 − p) = p(1 − p)=pq.$$\n",
        "\n",
        "\n",
        "**Summary:**\n",
        "\n",
        "1. $p=$ probability of success\n",
        "\n",
        "2. $P(x)= \\begin{cases} \n",
        "      q=1-p & if~ x=0  \\\\\n",
        "      p & if~x=1\n",
        "   \\end{cases}$\n",
        "\n",
        "3. $E(X)=p$\n",
        "\n",
        "4. $Var(X)=pq$\n",
        "\n",
        "\n"
      ],
      "metadata": {
        "id": "LpAAq48JKGZi"
      }
    },
    {
      "cell_type": "markdown",
      "source": [
        "The code to visualize the bernoulli distribution for different value of $p$ is given below. As a example, lets take $p=0.7$.\n",
        "\n"
      ],
      "metadata": {
        "id": "ean5q5dhL1Vj"
      }
    },
    {
      "cell_type": "code",
      "source": [
        "import matplotlib.pyplot as plt\n",
        "from scipy.stats import bernoulli\n",
        "# Instance of Bernoulli distribution with parameter p = 0.7\n",
        "\n",
        "bd = bernoulli(0.7)\n",
        "\n",
        "# Outcome of experiment can take value as 0, 1\n",
        "\n",
        "X = [0, 1]\n",
        "\n",
        "# Create a bar plot; Note the usage of \"pmf\" function to determine the probability of different values of random variable\n",
        "plt.figure(figsize=(6,6))\n",
        "plt.xlim(-1, 2)\n",
        "plt.bar(X, bd.pmf(X), color='orange')\n",
        "plt.title('Bernoulli Distribution (p=0.7)', fontsize='15')\n",
        "plt.xlabel('Values of Random Variable X (0, 1)', fontsize='15')\n",
        "plt.ylabel('Probability', fontsize='15')\n",
        "plt.show()"
      ],
      "metadata": {
        "colab": {
          "base_uri": "https://localhost:8080/",
          "height": 411
        },
        "id": "ivycvMc0qy5D",
        "outputId": "4f1bb09f-bb21-4771-99d1-cc2e56da024e"
      },
      "execution_count": null,
      "outputs": [
        {
          "output_type": "display_data",
          "data": {
            "text/plain": [
              "<Figure size 432x432 with 1 Axes>"
            ],
            "image/png": "[encoded data removed]"
          },
          "metadata": {
            "needs_background": "light"
          }
        }
      ]
    },
    {
      "cell_type": "markdown",
      "source": [
        "#### **2.6.3.2 Binomial distribution**"
      ],
      "metadata": {
        "id": "Hir1BVKVRKap"
      }
    },
    {
      "cell_type": "markdown",
      "source": [
        "\n",
        "\n",
        "---\n",
        "**Definition:**\n",
        "\n",
        "**Binomial distribution** describes a quantity defined as the number of successes in a series of independent Bernoulli trials. It has two parameters: $n$, which is the number of trials, and $p$, which is the probability of success.\n",
        "\n",
        "\n",
        "---\n",
        "\n"
      ],
      "metadata": {
        "id": "XDBKfnMRRaJn"
      }
    },
    {
      "cell_type": "markdown",
      "source": [
        "Binomial probability mass function is\n",
        "$$P(x)=P\\{X=x\\}= ~^nC_xp^xq^{n-x},~~~~~~x=0,1,2,3,....,n$$\n",
        "which is the probability of exactly $x$ successes in $n$ trials and probability of $n-x$ failures.\n",
        "\n",
        "Similar to the Bernoulli distribution, we will find Binomial expectation and variance.\n",
        "$$E(X)=\\sum_{x=0}^nx~^nC_xp^xq^{n-x}=np$$"
      ],
      "metadata": {
        "id": "TNOR3ah3WmJ-"
      }
    },
    {
      "cell_type": "markdown",
      "source": [
        "**Summary:**\n",
        "\n",
        "1. $n =$ number of trials\n",
        "2. $p =$ probability of success\n",
        "3. $P(x) =~^nC_xp^xq^{n-x}$\n",
        "4. $E(X) = np$\n",
        "5. $Var(X) = npq$"
      ],
      "metadata": {
        "id": "r1WKioMrsTx6"
      }
    },
    {
      "cell_type": "markdown",
      "source": [
        "**Example:** An exciting computer game is released. Sixty percent of players complete all the levels. Thirty percent of them will then buy an advanced version of the game. Among $15$ users, what is the expected number of people who will buy the advanced version? What is the probability that at least two people will buy it?"
      ],
      "metadata": {
        "id": "EP9H8a15tA6Z"
      }
    },
    {
      "cell_type": "markdown",
      "source": [
        "**Solution:** Let $X$ be the number of people (successes), among the mentioned $15$ users (trials), who will buy the advanced version of the game. It has Binomial distribution with $n = 15$\n",
        "trials and the probability of success\n",
        "$$p=P\\{Buy~ advance\\}P\\{Complete~all~levels\\}=(0.3)(0.6)=0.18$$\n",
        "Then we have \n",
        "$$E(X)=np=15(0.18)=2.7$$\n",
        "and\n",
        "$$P(X\\geq 2)=1-P(0)-P(1)=1 − (1 − p)^n− np(1 − p)^{n-1}=0.7813$$"
      ],
      "metadata": {
        "id": "EJuf25CutcUR"
      }
    },
    {
      "cell_type": "markdown",
      "source": [
        "As usual we will see how Binomial probabilities is calculated using `scipy` Python library below.\n",
        "\n",
        "**binom** function takes inputs as $k, n$ and $p$ and given as `binom.pmf(k,n,p)` , where *pmf* is Probability mass function.\n",
        "\n",
        "For example, given $k = 15, n = 25, p = 0.6$, binomial probability can be calculated as below using python code.\n"
      ],
      "metadata": {
        "id": "bk6wHLLdw1F4"
      }
    },
    {
      "cell_type": "code",
      "source": [
        "from scipy.stats import binom\n",
        "\n",
        "#calculate binomial probability\n",
        "\n",
        "result = binom.pmf(k=15, n=25, p=0.6)\n",
        "#Print the result\n",
        "print(\"Binomial Probability: \",result)"
      ],
      "metadata": {
        "id": "SHsnh8J8Q4U3"
      },
      "execution_count": null,
      "outputs": []
    },
    {
      "cell_type": "markdown",
      "source": [
        "#### **To Do:**"
      ],
      "metadata": {
        "id": "UTT2PD5pXzWV"
      }
    },
    {
      "cell_type": "markdown",
      "source": [
        "1. Assume there are six multiple choice questions in a brief quiz. Each question contains four possible responses, any of which is correct. On every question, a student makes an guess. Calculate the probability that a student will correctly answer all of the questions."
      ],
      "metadata": {
        "id": "D0b-Hg7wX2J8"
      }
    },
    {
      "cell_type": "markdown",
      "source": [
        "2. A candidate for public office claims that she will receive $60\\%$ of the vote. If a random sample of $5$ registered voters was taken.\n",
        "What is the probability that exactly three people will indicate they support this candidate?"
      ],
      "metadata": {
        "id": "zoyhH_rBYw8-"
      }
    },
    {
      "cell_type": "markdown",
      "source": [
        "#### **2.6.3.3 Geometric distribution**"
      ],
      "metadata": {
        "id": "SQfrYE9xZ70L"
      }
    },
    {
      "cell_type": "markdown",
      "source": [
        "Consider a series of independent Bernoulli trials once more. Each trial has a \"success\" or \"failure\" outcome."
      ],
      "metadata": {
        "id": "RDMufw_YaHKi"
      }
    },
    {
      "cell_type": "markdown",
      "source": [
        "\n",
        "\n",
        "---\n",
        "**Definition:**\n",
        "\n",
        "The number of Bernoulli trials needed to get the first success has **Geometric distribution**.\n",
        "\n",
        "\n",
        "---\n",
        "\n"
      ],
      "metadata": {
        "id": "_Q4dFb3gamK5"
      }
    },
    {
      "cell_type": "markdown",
      "source": [
        "Geometric random variables can have any integer value from $1$ to infinity because the initial success requires at least one try, and the number of trials required is not limited. (For example, there is no guarantee that among the first $10$ coin tosses\n",
        "there will be at least one head.) The only parameter is $p$, which represents the probability of a \"success.\"\n",
        "\n",
        "Geometric probability mass function has the form\n",
        "\n",
        "$P(x) = P \\{ $the $1^{st}$ success occurs on the $x^{th}$ trial\\} = $(1 − p)^{x−1}p$, $x = 1, 2,...$\n",
        "\n",
        "Which is the probability of $(x − 1)$ failures followed by one success."
      ],
      "metadata": {
        "id": "CKr94mR5avWl"
      }
    },
    {
      "cell_type": "markdown",
      "source": [
        "**Summary:**\n",
        "1. $p =$ probability of success\n",
        "2. $P(x) = (1 − p)^{x−1}p, x = 1, 2,...$\n",
        "3. $E(X) = \\frac{1}{p}$\n",
        "4. $Var(X) = \\frac{1 − p}{p^2}$"
      ],
      "metadata": {
        "id": "wLtsKHGrcLHk"
      }
    },
    {
      "cell_type": "markdown",
      "source": [
        "**Example:(Feedback from customers).**\n",
        "\n",
        "The geometric distribution is used to estimate the amount of customers who might provide positive or negative feedback on a given product. For example, if a manager conducts a poll on his or her restaurant's food quality, the probability of receiving favorable feedback after receiving bad input from ten people can be predicted in advance. Positive feedback indicates that the event was a success, whilst negative feedback indicates that the experiment was a failure. This aids the individual in drafting a suitable answer to customers and increasing sales."
      ],
      "metadata": {
        "id": "IGXPnFX8cJBs"
      }
    },
    {
      "cell_type": "markdown",
      "source": [
        "Now, we will try to see the geometric distribution of randomly picked examples below. The problem is about scoring the basketball, the number of attempts can be random variable here, and the probability of success $p$ can be the chance of scoring for the different throw."
      ],
      "metadata": {
        "id": "yAsuIAZ_ig-N"
      }
    },
    {
      "cell_type": "code",
      "source": [
        "from scipy.stats import geom\n",
        "import matplotlib.pyplot as plt\n",
        "\n",
        "# X = Discrete random variable representing number of throws\n",
        "# p = Probability of the perfect throw\n",
        "\n",
        "X = [1, 2, 3, 4, 5, 6, 7, 8, 9, 10]\n",
        "p = 0.6\n",
        "\n",
        "# Calculate geometric probability distribution\n",
        "\n",
        "geom_pd = geom.pmf(X, p)\n",
        "\n",
        "# Plot the probability distribution\n",
        "\n",
        "fig, ax = plt.subplots(1, 1, figsize=(8, 6))\n",
        "ax.plot(X, geom_pd,'bo', ms=8, label='geom pmf')\n",
        "plt.ylabel(\"Probability\", fontsize=\"14\")\n",
        "plt.xlabel(\"X - No. of Throws\", fontsize=\"14\")\n",
        "plt.title(\"Geometric Distribution - No. of Throws Vs Probability\", fontsize=\"14\")\n",
        "ax.vlines(X, 0, geom_pd, colors='b', lw=5, alpha=0.5)"
      ],
      "metadata": {
        "colab": {
          "base_uri": "https://localhost:8080/",
          "height": 426
        },
        "id": "muFrrBAVfk4o",
        "outputId": "908ca268-e50d-4887-c1f2-e78327e51303"
      },
      "execution_count": null,
      "outputs": [
        {
          "output_type": "execute_result",
          "data": {
            "text/plain": [
              "<matplotlib.collections.LineCollection at 0x7f33df7c3310>"
            ]
          },
          "metadata": {},
          "execution_count": 12
        },
        {
          "output_type": "display_data",
          "data": {
            "text/plain": [
              "<Figure size 576x432 with 1 Axes>"
            ],
            "image/png": "[encoded data removed]"
          },
          "metadata": {
            "needs_background": "light"
          }
        }
      ]
    },
    {
      "cell_type": "markdown",
      "source": [
        "#### **2.6.3.4 Poisson distribution**"
      ],
      "metadata": {
        "id": "N3EAsvCoewoO"
      }
    },
    {
      "cell_type": "markdown",
      "source": [
        "The next distribution is about rare events, often known as **Poissonian events**. It basically indicates that two similar events are exceedingly improbable to happen at the same moment or within a short period of time. Rare events include job arrivals, phone calls, e-mail messages, traffic accidents, network blackouts, virus assaults, software problems, floods, and earthquakes."
      ],
      "metadata": {
        "id": "0ln1syzkm1PA"
      }
    },
    {
      "cell_type": "markdown",
      "source": [
        "\n",
        "\n",
        "---\n",
        "**Definition:**\n",
        "\n",
        "The number of rare events occurring within a fixed period of time has **Poisson distribution**.\n",
        "\n",
        "The **Poisson distribution** describes the probability of obtaining $x$ successes during a given time interval.\n",
        "\n",
        "\n",
        "---\n",
        "\n"
      ],
      "metadata": {
        "id": "UVZ3K09MpoSg"
      }
    },
    {
      "cell_type": "markdown",
      "source": [
        "This distribution bears the name of a famous **French mathematician Sim ́eon-Denis Poisson** (1781–1840)."
      ],
      "metadata": {
        "id": "LpPAx3rSqI7Q"
      }
    },
    {
      "cell_type": "markdown",
      "source": [
        "**Summary:**\n",
        "\n",
        "1. $\\lambda =$ frequency, average number of events\n",
        "2. $P(x) = \\frac{e^{−λ} λ^x}{x!}, x = 0, 1, 2,...$\n",
        "3. $E(X) = \\lambda$\n",
        "4. $Var(X) = \\lambda$"
      ],
      "metadata": {
        "id": "N_3vcHSvqP-Q"
      }
    },
    {
      "cell_type": "markdown",
      "source": [
        "**How we are going to generate a Poisson Distribution in Python.**\n",
        "\n",
        "We can use the `poisson.rvs(mu, size)` function to generate random values from a Poisson distribution with a specific mean value and sample size:\n"
      ],
      "metadata": {
        "id": "vlGr0DFVqtFu"
      }
    },
    {
      "cell_type": "code",
      "source": [
        "from scipy.stats import poisson\n",
        "\n",
        "#generate random values from Poisson distribution with mean=3 and sample size=10\n",
        "poisson.rvs(mu=3, size=10)"
      ],
      "metadata": {
        "id": "tqLCM_XZXdaO"
      },
      "execution_count": null,
      "outputs": []
    },
    {
      "cell_type": "markdown",
      "source": [
        "**How to Calculate Probabilities Using a Poisson Distribution.**\n",
        "\n",
        "We can use the `poisson.pmf(k, mu)` and `poisson.cdf(k, mu)` functions to calculate probabilities related to the Poisson distribution."
      ],
      "metadata": {
        "id": "alDlae6Utqns"
      }
    },
    {
      "cell_type": "markdown",
      "source": [
        "**Example 1:** A store sells $3$ apples per day on average. What is the probability that they will sell $5$ apples on a given day? "
      ],
      "metadata": {
        "id": "TGyn3PIHt6gE"
      }
    },
    {
      "cell_type": "code",
      "source": [
        "from scipy.stats import poisson\n",
        "\n",
        "#calculate probability\n",
        "poisson.pmf(k=5, mu=3)"
      ],
      "metadata": {
        "id": "3cS4ZqdjtbM2"
      },
      "execution_count": null,
      "outputs": []
    },
    {
      "cell_type": "markdown",
      "source": [
        "The probability that the store sells $5$ apples in a given day is $0.100819$."
      ],
      "metadata": {
        "id": "8Pof-7rXuKwY"
      }
    },
    {
      "cell_type": "markdown",
      "source": [
        "**Example 2: Probability Less than Some Value**\n",
        "\n",
        "A certain store sells seven footballs per day on average. What is the probability that this store sells four or less footballs in a given day?"
      ],
      "metadata": {
        "id": "AUba-nPxuWM8"
      }
    },
    {
      "cell_type": "code",
      "source": [
        "from scipy.stats import poisson\n",
        "\n",
        "#calculate probability\n",
        "poisson.cdf(k=4, mu=7)"
      ],
      "metadata": {
        "id": "KV6JWzy2uGCv"
      },
      "execution_count": null,
      "outputs": []
    },
    {
      "cell_type": "markdown",
      "source": [
        "The probability that the store sells four or less footballs in a given day is **0.172992.**"
      ],
      "metadata": {
        "id": "qUckxp8cuh9Q"
      }
    },
    {
      "cell_type": "markdown",
      "source": [
        "**Example 3: Probability Greater than Some Value**\n",
        "\n",
        "A certain store sells 15 cans of tuna per day on average. What is the probability that this store sells more than 20 cans of tuna in a given day?"
      ],
      "metadata": {
        "id": "gL-d5KwTukUC"
      }
    },
    {
      "cell_type": "code",
      "source": [
        "from scipy.stats import poisson\n",
        "\n",
        "#calculate probability\n",
        "1-poisson.cdf(k=20, mu=15)"
      ],
      "metadata": {
        "id": "j57hRJ8bud2j"
      },
      "execution_count": null,
      "outputs": []
    },
    {
      "cell_type": "markdown",
      "source": [
        "The probability that the store sells more than 20 cans of tuna in a given day is **0.082971.**"
      ],
      "metadata": {
        "id": "K06JKkniu1Sd"
      }
    },
    {
      "cell_type": "markdown",
      "source": [
        "**Plot a Poisson Distribution:**\n",
        "\n",
        "We can use the following syntax to plot a Poisson distribution with a given mean:"
      ],
      "metadata": {
        "id": "l0MxSAX_u5Pm"
      }
    },
    {
      "cell_type": "code",
      "source": [
        "from scipy.stats import poisson\n",
        "import matplotlib.pyplot as plt\n",
        "\n",
        "#generate Poisson distribution with sample size 10000\n",
        "x = poisson.rvs(mu=3, size=10000)\n",
        "\n",
        "#create plot of Poisson distribution\n",
        "plt.hist(x, density=True, edgecolor='black')"
      ],
      "metadata": {
        "id": "D0j24svovC9E"
      },
      "execution_count": null,
      "outputs": []
    },
    {
      "cell_type": "markdown",
      "source": [
        "#### **To Do:**"
      ],
      "metadata": {
        "id": "pSDoAkuhvMNE"
      }
    },
    {
      "cell_type": "markdown",
      "source": [
        "1. Find the expectation of the Poisson distribution."
      ],
      "metadata": {
        "id": "J6_lONVSvPVn"
      }
    },
    {
      "cell_type": "markdown",
      "source": [
        "2. Find the variance of the Poisson distribution."
      ],
      "metadata": {
        "id": "pFihUWYhvaGp"
      }
    },
    {
      "cell_type": "markdown",
      "source": [
        "### **2.6.4 Continuous random variables**"
      ],
      "metadata": {
        "id": "-rzuVORBwUy6"
      }
    },
    {
      "cell_type": "markdown",
      "source": [
        "Recall that any discrete distribution is concentrated on a finite or countable number of isolated values. Conversely, *continuous variables* can take any value of an interval, $(a, b),(a, +\\infty), (-\\infty, +\\infty)$, etc."
      ],
      "metadata": {
        "id": "lerSQLuFwhRN"
      }
    },
    {
      "cell_type": "markdown",
      "source": [
        "The probability mass function (pmf) is always equal to zero for all continuous variables.\n",
        "$$P(x)=0, \\forall x$$\n",
        "\n",
        "As a result, the pmf does not carry any information about a random variable. Rather, we can use the cumulative distribution function (cdf) $F(x)$. In the continuous case, it equals\n",
        "$$F(x) = P \\{X \\leq x\\} = P \\{X < x\\}$$\n",
        "These two expressions for $F(x)$ differ by $P \\{X = x\\} = P(x) = 0$."
      ],
      "metadata": {
        "id": "lk0Y6exOxMZ0"
      }
    },
    {
      "cell_type": "markdown",
      "source": [
        "\n",
        "\n",
        "---\n",
        "**Definition:** \n",
        "\n",
        "**Probability density function** (*pdf*, density) is the derivative of the *cdf*, $f(x) = F'(x)$. The distribution is called **continuous** if it has a density.\n",
        "\n",
        "\n",
        "---\n",
        "\n"
      ],
      "metadata": {
        "id": "uFyOX4twQNN9"
      }
    },
    {
      "cell_type": "markdown",
      "source": [
        "Then, $F(x)$ is an antiderivative of a density. By the *Fundamental Theorem of Calculus*, the integral of a density from $a$ to $b$ equals to the difference of antiderivatives, i.e.,\n",
        "$$\\int_a^bf(x)dx=F(b)-F(a)=P\\{a< X<b\\}$$\n",
        "\n",
        "where we notice again that the probability in the right-hand side also equals $P \\{a \\leq X\\leq b\\}$, $P\\{a < X \\leq b\\}$, and $P\\{a\\leq X \\leq b\\}$.\n",
        "\n",
        "**Remarks:**\n",
        "\n",
        "1. $f(x)=F'(x)$\n",
        "2. $P\\{a<X<b\\}=\\displaystyle\\int_a^bf(x)dx$\n",
        "3. $F(x)=P\\{X\\leq x\\}=\\displaystyle\\int_{-\\infty}^xf(y)dy$\n",
        "4. $\\displaystyle\\int_{-\\infty}^{\\infty}f(x)dx=1$"
      ],
      "metadata": {
        "id": "s3PRkeSZQeYM"
      }
    },
    {
      "cell_type": "markdown",
      "source": [
        "\n",
        "\n",
        "---\n",
        "**Definitiom:(Joint and Marginal densities).**\n",
        "\n",
        "For a vector of random variables, the **joint cumulative distribution function** is defined as\n",
        "$$F_{(X,Y)}(x, y) = P \\{X \\leq x \\cap Y \\leq y\\}.$$\n",
        "The **joint density** is the mixed derivative of the joint *cdf*,\n",
        "$$f_{(X,Y)}(x, y) = \\frac{∂^2}{∂x∂y}F_{(X,Y)}(x, y).$$\n",
        "\n",
        "\n",
        "---\n",
        "\n"
      ],
      "metadata": {
        "id": "l0hpryklUUEL"
      }
    },
    {
      "cell_type": "markdown",
      "source": [
        "**Remarks:**\n",
        "\n",
        "1. Marginal distributions\n",
        "$$ f(x)=\\int f(x,y)dy\\\\ f(y)=\\int f(x,y)dx$$\n",
        "3. A **conditional probability distribution** of random variable $X$ of a system $(X,Y)$ is such distribution, where other random variable $Y$ took specific value $y$.\n",
        "$$f(y|x)=\\frac{f(x,y)}{f_1(x)}$$\n",
        "$$f(x|y)=\\frac{f(x,y)}{f_2(y)}$$\n",
        "2. Independence\n",
        "$$f(x,y)=f(x)f(y)$$\n",
        "3. Computing probabilities\n",
        "$$P\\{(X,Y)\\in A\\}=\\int\\int_{(x,y)\\in A}f(x,y)dxdy$$\n",
        "4. Expextation of continuous random variables\n",
        "$$E(x)=\\int xf(x)dx$$\n",
        "5. Variance of continuous random variables\n",
        "$$Var(X)=E(x-\\mu)^2=\\int (x-\\mu)^2f(x)dx=\\int x^2f(x)dx-\\mu^2$$\n",
        "6. Similarly, covariance, correlation, and standard deviation can be computed the same. In continuous case, we integrate or (continuous sum) unlike discrete."
      ],
      "metadata": {
        "id": "qPhnUG8cVZF_"
      }
    },
    {
      "cell_type": "markdown",
      "source": [
        "**Example 1:** The lifetime, in years, of some electronic component is a continuous random variable with the density\n",
        "$$f(x)=\\begin{cases}\n",
        "\\frac{k}{x^3}, & x\\geq 1\\\\\n",
        "0, & x<1\n",
        "\\end{cases}$$\n",
        "\n",
        "Find $k$, draw a graph of the cdf $F(x)$, and compute the probability for the lifetime to exceed $5$ years."
      ],
      "metadata": {
        "id": "a52qEfuKY3nV"
      }
    },
    {
      "cell_type": "markdown",
      "source": [
        "**Solution:** Find $k$ from the condition $\\displaystyle\\int f(x)dx=1$:\n",
        "$$\\int_{-\\infty}^{+\\infty}f(x)dx=\\int_1^{+\\infty}\\frac{k}{x^3}dx=\\frac{x}{2}=1$$\n",
        "Hence, $k = 2$. Integrating the density, we get the *cdf*,\n",
        "$$F(x)=\\int_{-\\infty}^xf(y)dy=\\int_1^x\\frac{2}{y^3}dy=1-\\frac{1}{x^2}$$\n",
        "for $x>1$.\n",
        "\n",
        "Next, compute the probability for the lifetime to exceed $5$ years,\n",
        "$$P \\{X > 5\\} = 1 − F(5) = 1 −\\left(1-\\frac{1}{5^2}\\right)= 0.04.$$\n",
        "We can also obtain this probability by integrating the density,\n",
        "$$P \\{X > 5\\}=\\int_5^{+\\infty}f(x)dx=\\int_5^{+\\infty}\\frac{2}{x^3}dx=0.04.$$"
      ],
      "metadata": {
        "id": "NqhbOlQDZ5i5"
      }
    },
    {
      "cell_type": "markdown",
      "source": [
        "**Example 2:** A random variable $X$ has density\n",
        "$$f(x)=2x^{-3}, x\\geq 1$$\n",
        "1. Check whether $f(x)$ is density function.\n",
        "2. If $f(x)$ is density function, then find $E(X)$, $Var(X)$, and Standard deviation $(\\sigma)$."
      ],
      "metadata": {
        "id": "YWZQuW8VXvHI"
      }
    },
    {
      "cell_type": "markdown",
      "source": [
        "#### **To Do:**\n",
        "\n",
        "**Q1.** The joint density function of $X,Y$ is \n",
        "$$f(x,y)=\\displaystyle\\frac{1}{y}e^{-(y+\\frac{x}{y})}, 0<x,y < \\infty$$\n",
        "\n",
        "\n",
        "1.   Verify that the preceding is a joint density function.\n",
        "2.   Find $Cov(X,Y)$\n",
        "\n"
      ],
      "metadata": {
        "id": "7VuuM_uF7-KT"
      }
    },
    {
      "cell_type": "markdown",
      "source": [
        "**Q2.** The joint *pdf* of two random variables $X$ and $Y$ is given by:\n",
        "\n",
        "$$f(x,y)=\\frac{9(1+x+y)}{2(1+x)^4(1+y)^4};~~~~~~ 0\\leq x< \\infty, 0<y<\\infty$$\n",
        "\n",
        "Find the marginal distribution of $X$ and $Y$, and the conditional distribution of $Y$ for $X=x$."
      ],
      "metadata": {
        "id": "j4lYq8X6K5I9"
      }
    },
    {
      "cell_type": "markdown",
      "source": [
        "### **2.6.5 Families of continuous distributions**"
      ],
      "metadata": {
        "id": "7qSRQLBNWZ-u"
      }
    },
    {
      "cell_type": "markdown",
      "source": [
        "Similarly to the discrete example, only a few families of continuous distributions can describe a wide range of occurrences. The Uniform, Exponential, and Normal families will be discussed here."
      ],
      "metadata": {
        "id": "bMzaZbxhcW9n"
      }
    },
    {
      "cell_type": "markdown",
      "source": [
        "#### **2.6.5.1 Uniform distribution**"
      ],
      "metadata": {
        "id": "yiqQfJRDc1E9"
      }
    },
    {
      "cell_type": "markdown",
      "source": [
        "A random variable is said to be uniformly distributed over the interval $(0,1)$ if its probability density function is given by \n",
        "$$f(x)=\\begin{cases}\n",
        "1, & 0<x<1\\\\\n",
        "0, & Otherwise\n",
        "\\end{cases}$$\n",
        "\n",
        "Note that the preceding is a density function since $f(x)\\geq 0$ and \n",
        "$$\\int_{-\\infty}^{+\\infty}f(x)dx=\\int_0^1dx=1$$\n",
        "\n",
        "Since $f(x)>0$ only when $x\\in(0,1)$, it follows that $X$ must assume a value in $(0,1)$. Also, since $f(x)$ is constant, $X$ is just as likely to be \"near\" any value in $(0,1)$ as any other value."
      ],
      "metadata": {
        "id": "r9uXLvkqdAPg"
      }
    },
    {
      "cell_type": "markdown",
      "source": [
        "For any $0<a<b<1,$\n",
        "$$P\\{a\\leq X\\leq b\\}=\\int_a^b f(x)dx=b-a$$\n",
        "\n",
        "In general, we say that $X$ is a uniform random variable on the interval $(\\alpha, \\beta)$ if its probability density function is given by\n",
        "$$f(x)=\\begin{cases}\n",
        "\\frac{1}{\\beta-\\alpha} & \\alpha<x<\\beta\\\\\n",
        "0, & otherwise\n",
        "\\end{cases}$$\n"
      ],
      "metadata": {
        "id": "3fEv6Dlbnokg"
      }
    },
    {
      "cell_type": "markdown",
      "source": [
        "**Example:** If $X$ is uniformly distributed over $(0,10)$, calculate the probabiity that **a)** $X<3$, **b)** $X>7$, **c)** $1<X<6$."
      ],
      "metadata": {
        "id": "5mNQxdfmobw9"
      }
    },
    {
      "cell_type": "markdown",
      "source": [
        "**Solution:** $$P\\{X<3\\}=\\frac{\\displaystyle\\int_0^3dx}{10}=\\frac{3}{10}$$\n",
        "$$P\\{X>7\\}=\\frac{\\displaystyle\\int_7^{10}dx}{10}=\\frac{3}{10}$$\n",
        "$$P\\{1<X<6\\}=\\frac{\\displaystyle\\int_1^6dx}{10}=\\frac{1}{2}$$"
      ],
      "metadata": {
        "id": "M4pgcJayo8AM"
      }
    },
    {
      "cell_type": "markdown",
      "source": [
        "**Remarks:** As usual we can find expectation and variance of the uniform distribution using the probability density function.\n",
        "1. $(a,b)=$ range of values\n",
        "2. $f(x)=\\frac{1}{\\beta-\\alpha}, \\alpha<x<\\beta$\n",
        "3. $E(X)=\\displaystyle\\frac{\\alpha+\\beta}{2}$\n",
        "4. $Var(X)=\\displaystyle\\frac{(b-a)^2}{12}$"
      ],
      "metadata": {
        "id": "3-pG3Y-Opsyl"
      }
    },
    {
      "cell_type": "markdown",
      "source": [
        "Now lets check how uniform continuous random variable is created, how probability is calculated, and the graphical representation of uniform distribution in Python."
      ],
      "metadata": {
        "id": "XYEi9I08rJhr"
      }
    },
    {
      "cell_type": "markdown",
      "source": [
        "`scipy.stats.uniform()` is a Uniform continuous random variable. It is inherited from the of generic methods as an instance of the rv_continuous class. It completes the methods with details specific for this particular distribution."
      ],
      "metadata": {
        "id": "UGd0klddzNWq"
      }
    },
    {
      "cell_type": "markdown",
      "source": [
        "**Creating Uniform continuous random variable:**"
      ],
      "metadata": {
        "id": "p_ILcLx0zcDg"
      }
    },
    {
      "cell_type": "code",
      "source": [
        "# importing library\n",
        "\n",
        "from scipy.stats import uniform\n",
        "\t\n",
        "numargs = uniform .numargs\n",
        "a, b = 0.2, 0.8\n",
        "rv = uniform (a, b)\n",
        "\t\n",
        "print (\"RV : \\n\", rv)\n"
      ],
      "metadata": {
        "id": "6Aboj-XTtUq3"
      },
      "execution_count": null,
      "outputs": []
    },
    {
      "cell_type": "markdown",
      "source": [
        "**Uniform continuous variates and probability distribution:**"
      ],
      "metadata": {
        "id": "2GJAkXfGzjNU"
      }
    },
    {
      "cell_type": "code",
      "source": [
        "import numpy as np\n",
        "quantile = np.arange (0.01, 1, 0.1)\n",
        "\n",
        "# Random Variates\n",
        "R = uniform .rvs(a, b, size = 10)\n",
        "print (\"Random Variates : \\n\", R)\n",
        "\n",
        "# PDF\n",
        "x = np.linspace(uniform.ppf(0.01, a, b), #ppf stands for percentage point function(inverse of cdf)\n",
        "\t\t\t\tuniform.ppf(0.99, a, b), 10)\n",
        "R = uniform.pdf(x, 1, 3)\n",
        "print (\"\\nProbability Distribution : \\n\", R)\n"
      ],
      "metadata": {
        "id": "4RrgYj8ezoKR"
      },
      "execution_count": null,
      "outputs": []
    },
    {
      "cell_type": "markdown",
      "source": [
        "**Graphical Representation:**"
      ],
      "metadata": {
        "id": "sZvazGlC0QTK"
      }
    },
    {
      "cell_type": "code",
      "source": [
        "import numpy as np\n",
        "import matplotlib.pyplot as plt\n",
        "\t\n",
        "distribution = np.linspace(0, np.minimum(rv.dist.b, 3))\n",
        "print(\"Distribution : \\n\", distribution)\n",
        "\t\n",
        "plot = plt.plot(distribution, rv.pdf(distribution))\n"
      ],
      "metadata": {
        "id": "VlTiRDlI0Slh"
      },
      "execution_count": null,
      "outputs": []
    },
    {
      "cell_type": "markdown",
      "source": [
        "#### **2.6.5.2 Exponential distribution**"
      ],
      "metadata": {
        "id": "rAoyBN420krT"
      }
    },
    {
      "cell_type": "markdown",
      "source": [
        "A continuous random variable whose *pdf* is given, for some $\\lambda>0$, by\n",
        "$$f(x)=\\begin{cases}\n",
        "\\lambda e^{-\\lambda x}, & if ~~x\\geq 0\\\\\n",
        "0, & if ~~x<0\n",
        "\\end{cases}$$\n",
        "is said to be an exponential random variable with parameter $\\lambda$.\n"
      ],
      "metadata": {
        "id": "BQaFM1th0pY5"
      }
    },
    {
      "cell_type": "markdown",
      "source": [
        "The cumulative distribution function $F$:\n",
        "$$F(a)=\\int_0^a\\lambda e^{-\\lambda x}dx=1-e^{-\\lambda a}, a\\geq 0$$\n",
        "\n",
        "Note that $F(\\infty)=\\displaystyle\\int_0^{\\infty}\\lambda e^{-\\lambda x}dx=1$, as of course, it must.\n",
        "\n",
        "**Remarks:** \n",
        "1. $\\lambda =$ frequency parameter, the number of events\n",
        "per time unit\n",
        "2. $f(x)=\\lambda e^{-\\lambda x}, x\\geq 0$, *pdf* of exponential distribution.\n",
        "3. $E(X)=\\frac{1}{\\lambda}$, expectation of exponential distribution.\n",
        "4. $Var(X)=\\frac{1}{\\lambda^2}$, variance of expoential distribution."
      ],
      "metadata": {
        "id": "GtefmMC21iPB"
      }
    },
    {
      "cell_type": "markdown",
      "source": [
        "**Example 1:** Jobs are sent to a printer at an average rate of $3$ jobs per hour.\n",
        "\n",
        "**(a)** What is the expected time between jobs?\n",
        "\n",
        "**(b)** What is the probability that the next job is sent within $5$ minutes?"
      ],
      "metadata": {
        "id": "_jZd1zWs3fUR"
      }
    },
    {
      "cell_type": "markdown",
      "source": [
        "**Solution:** Job arrivals represent rare events, thus the time $T$ between them is Exponential with the given parameter $\\lambda = 3$ (jobs per hour).\n",
        "\n",
        "**(a)** $E(T)=1/\\lambda = 1/3$ hours or $20$ minutes between jobs;\n",
        "\n",
        "**(b)** Convert to the same measurement unit: $5$ min $= (1/12)$ hrs. Then,\n",
        "$$P \\{T < 1/12 ~hrs\\} = F(1/12) = 1 − e^{−λ(1/12)} = 1 − e^{−1/4} = 0.2212$$."
      ],
      "metadata": {
        "id": "qTTXhbbH31uX"
      }
    },
    {
      "cell_type": "markdown",
      "source": [
        "**Example 2:** suppose we want to know the probability of a certain component lasting beyond $T = 10$ years where $T$ is\n",
        "modeled as a an exponential random variable with $1/λ = 5$ years. Then, we have\n",
        "$$1 − F_X (10) = e^{−2} \\approx 0.135.$$"
      ],
      "metadata": {
        "id": "IOwb30SW7_Mz"
      }
    },
    {
      "cell_type": "markdown",
      "source": [
        "The exponential distribution is available in the `scipy.stats `module. The following code computes the result of the example above. Note that the parameters are described in slightly different terms as above, as described in the corresponding\n",
        "documentation for `expon`."
      ],
      "metadata": {
        "id": "CBzvwYfh4tpH"
      }
    },
    {
      "cell_type": "code",
      "source": [
        "from scipy.stats import expon\n",
        "x = expon(0,5) # create random variable object\n",
        "print(1 - x.cdf(10))"
      ],
      "metadata": {
        "id": "ZtVY6xS-0Vgn"
      },
      "execution_count": null,
      "outputs": []
    },
    {
      "cell_type": "markdown",
      "source": [
        "#### **To Do:**\n",
        "\n",
        "Find the variance and expectation of the exponential distribution."
      ],
      "metadata": {
        "id": "P3jCWrk_8uVZ"
      }
    },
    {
      "cell_type": "markdown",
      "source": [
        "#### **2.6.5.3 Normal distribution**"
      ],
      "metadata": {
        "id": "Q_5qbz5v9HTw"
      }
    },
    {
      "cell_type": "markdown",
      "source": [
        "Normal distribution plays a vital role in Probability and Statistics. Besides sums, averages, and errors, Normal distribution is often found to be a good model for physical variables like weight, height, temperature, voltage, pollution level, and for instance, household incomes or student grades.\n",
        "\n",
        "Normal distribution has a density\n",
        "$$f(x)=\\frac{1}{\\sigma\\sqrt{2\\pi}}exp\\bigg\\{\\displaystyle\\frac{-(x-\\mu)^2}{2\\sigma^2}\\bigg\\}, -\\infty<x<\\infty$$"
      ],
      "metadata": {
        "id": "Z0jJndt49PfK"
      }
    },
    {
      "cell_type": "markdown",
      "source": [
        "where parameters $\\mu$ and $\\sigma$ have a simple meaning of the expectation $E(X)$ and the standard deviation $Std(X)$. This density is known as the bell-shaped curve, symmetric and centered\n",
        "at $\\mu$, its spread being controlled by $\\sigma$."
      ],
      "metadata": {
        "id": "xARik-O8Oo4L"
      }
    },
    {
      "cell_type": "markdown",
      "source": [
        "**Remarks:** \n",
        "1. $\\mu=$ expectation, location parameter\n",
        "2. $\\sigma=$  standard deviation, scale parameter\n",
        "3. $f(x)=\\frac{1}{\\sigma\\sqrt{2\\pi}}exp\\bigg\\{\\displaystyle\\frac{-(x-\\mu)^2}{2\\sigma^2}\\bigg\\}, -\\infty<x<\\infty$\n",
        "4. $E(X)=\\mu$\n",
        "5. $Var(X)=\\sigma^2$"
      ],
      "metadata": {
        "id": "1_N4XHEfPfPR"
      }
    },
    {
      "cell_type": "markdown",
      "source": [
        "\n",
        "\n",
        "---\n",
        "\n",
        "**Definition:(Standard normal distribution).**\n",
        "\n",
        "Normal distribution with “standard parameters” $\\mu = 0$ and $\\sigma = 1$ is called **Standard Normal distribution**.\n",
        "\n",
        "\n",
        "\n",
        "---\n",
        "\n"
      ],
      "metadata": {
        "id": "uiZnzhaDQKd3"
      }
    },
    {
      "cell_type": "markdown",
      "source": [
        "**Remarks:** \n",
        "1. $Z=$ Standard Normal random variable\n",
        "2. $\\phi(x)=\\frac{1}{\\sqrt{2\\pi}}e^{-\\displaystyle\\frac{x^2}{2}}$, Standard Normal *pdf*\n",
        "3. $\\Phi(x)=\\displaystyle\\int_{-\\infty}^x\\frac{1}{\\sqrt{2\\pi}}e^{-z^2/2}dz$, Standard Normal *cdf*"
      ],
      "metadata": {
        "id": "a-eu7bnjQcv6"
      }
    },
    {
      "cell_type": "markdown",
      "source": [
        "Now lets see how to deal with normal distribution in Python.\n",
        "\n"
      ],
      "metadata": {
        "id": "YiLPL8Y2Rr6y"
      }
    },
    {
      "cell_type": "markdown",
      "source": [
        "First, assume that $\\mu=1$ and $\\sigma=1$."
      ],
      "metadata": {
        "id": "Z_o6sEy5TxwC"
      }
    },
    {
      "cell_type": "code",
      "source": [
        "import numpy as np\n",
        "x = np.linspace(-20,20,10000)\n",
        "mu = 1\n",
        "sigma = 1\n",
        "fx = np.exp((-(x-mu)**2)/(2*(sigma**2)))/((2*np.pi*sigma**2)**0.5)\n"
      ],
      "metadata": {
        "id": "LVCAKWJn9Gkt"
      },
      "execution_count": null,
      "outputs": []
    },
    {
      "cell_type": "markdown",
      "source": [
        "Visualize the function:"
      ],
      "metadata": {
        "id": "22ROGmnRVoM3"
      }
    },
    {
      "cell_type": "code",
      "source": [
        "import matplotlib.pyplot as plt\n",
        "plt.plot(x,fx)"
      ],
      "metadata": {
        "id": "FKCeNwoX8nE2"
      },
      "execution_count": null,
      "outputs": []
    },
    {
      "cell_type": "markdown",
      "source": [
        "What will happen if $\\mu$ changes, lets see what happens below"
      ],
      "metadata": {
        "id": "wQ4s4b6OWZIM"
      }
    },
    {
      "cell_type": "code",
      "source": [
        "x = np.linspace(-20,20,10000)\n",
        "muz = np.arange(1,10,2)\n",
        "for mu in muz:\n",
        "  sigma = 1\n",
        "  fx = np.exp((-(x-mu)**2)/(2*(sigma**2)))/((2*np.pi*sigma**2)**0.5)\n",
        "  plt.plot(x,fx,label=str(mu))\n",
        "  plt.legend()"
      ],
      "metadata": {
        "id": "kH-l0a7EVyx_"
      },
      "execution_count": null,
      "outputs": []
    },
    {
      "cell_type": "markdown",
      "source": [
        "Similarly, fix $\\mu$, and change $\\sigma$."
      ],
      "metadata": {
        "id": "HFQfCxlcXEb1"
      }
    },
    {
      "cell_type": "code",
      "source": [
        "x = np.linspace(-20,20,10000)\n",
        "mu = 2\n",
        "sigmaz = np.arange(1,10,2)\n",
        "for sigma in sigmaz:\n",
        "  fx = np.exp((-(x-mu)**2)/(2*(sigma**2)))/((2*np.pi*sigma**2)**0.5)\n",
        "  plt.plot(x,fx, label=str(sigma))\n",
        "  plt.legend()"
      ],
      "metadata": {
        "id": "Co0ywHEaW5dJ"
      },
      "execution_count": null,
      "outputs": []
    },
    {
      "cell_type": "markdown",
      "source": [
        "#### **To Do:**"
      ],
      "metadata": {
        "id": "ELvRDeJu73RJ"
      }
    },
    {
      "cell_type": "markdown",
      "source": [
        "1. Suppose that the average household income in some country is $900$ coins, and the standard deviation is $200$ coins. Assuming the Normal distribution of incomes, compute the proportion of “the\n",
        "middle class,” whose income is between $600$ and $1200$ coins."
      ],
      "metadata": {
        "id": "fzJFZGox-3JT"
      }
    },
    {
      "cell_type": "markdown",
      "source": [
        "2. Demonstrate that the normal random variable's expectation and variance are $\\mu$ and $\\sigma^2$, respectively."
      ],
      "metadata": {
        "id": "xXcLvaSz-SYw"
      }
    },
    {
      "cell_type": "markdown",
      "source": [
        "## **2.7 Moment Generating Functions**\n",
        "\n"
      ],
      "metadata": {
        "id": "4BY_RPvYACUE"
      }
    },
    {
      "cell_type": "markdown",
      "source": [
        "Generating moments usually involves integrals that are extremely difficult to compute. Moment generating functions make this much, much easier. The moment generating function is defined as,\n",
        "$$M(t)=E(e^{tX})$$\n",
        "\n",
        "The first moment is the mean, which we can easily compute from $M(t)$ as,\n",
        "$$\\frac{dM(t)}{dt}=\\frac{d}{dt}E(e^{tX})$$\n",
        "$$=E\\frac{d}{dt}(e^{tX})$$\n",
        "$$=E(Xe^{tX})$$\n",
        "\n",
        "Now, we have to set $t = 0$ and we have the mean,\n",
        "$$M'(0)=E(X)$$\n",
        "continuing this derivative process again, we obtain the second moment as,\n",
        "$$M''(t)=E(X^2e^{tX})$$\n",
        "$$M''(0)=E(X^2)$$\n",
        "\n",
        "With this in hand, we can easily compute the variance as,\n",
        "$$Var(X)=E(X^2)-\\{E(X)\\}^2=M''(0)-\\{M'(0)\\}^2$$\n"
      ],
      "metadata": {
        "id": "_l0AknUHECvB"
      }
    },
    {
      "cell_type": "markdown",
      "source": [
        "**Remark:** Now we know about the moment generating functions, the question is how to evaluate $E(e^{tX})$ for the different random distributions. We have studied about discrete and continuous, so to find the expectation we have the formula below;\n",
        "$$M(t)=E(e^{tX})=\\begin{cases}\n",
        "\\displaystyle\\sum_xe^{tX}p(x), & if~ X~ is~ discrete\\\\\n",
        "\\displaystyle\\int_{-\\infty}^{\\infty}e^{tX}f(x)dx, & if~ X~ is~ continuous\n",
        "\\end{cases}$$"
      ],
      "metadata": {
        "id": "fBcHRouqwsoJ"
      }
    },
    {
      "cell_type": "markdown",
      "source": [
        "**Example:** Returning to our favorite binomial distribution, let’s compute some moments using `Sympy`.\n"
      ],
      "metadata": {
        "id": "cxT6vkhAyz9r"
      }
    },
    {
      "cell_type": "code",
      "source": [
        "import sympy as smp\n",
        "from sympy import stats\n",
        "p, t = smp.symbols('p t',positive=True)\n",
        "x = stats.Binomial('x',10,p)                                     \n",
        "mgf = stats.E(smp.exp(t*x))\n"
      ],
      "metadata": {
        "id": "1Rg8bq2a4Z70"
      },
      "execution_count": null,
      "outputs": []
    },
    {
      "cell_type": "markdown",
      "source": [
        "Now, let’s compute the first moment (aka, mean) using the usual integration method and using moment generating functions,"
      ],
      "metadata": {
        "id": "2DLKEh6e1783"
      }
    },
    {
      "cell_type": "code",
      "source": [
        "smp.simplify(stats.E(x))                                         "
      ],
      "metadata": {
        "id": "vHEGIKrK0BPG"
      },
      "execution_count": null,
      "outputs": []
    },
    {
      "cell_type": "code",
      "source": [
        "smp.simplify(smp.diff(mgf,t).subs(t,0))"
      ],
      "metadata": {
        "id": "28XqQ2en3Fc_"
      },
      "execution_count": null,
      "outputs": []
    },
    {
      "cell_type": "markdown",
      "source": [
        "Otherwise, we can compute this directly as follows,"
      ],
      "metadata": {
        "id": "zfxK17gl3k4g"
      }
    },
    {
      "cell_type": "code",
      "source": [
        "smp.simplify(stats.moment(x,1)) #Mean"
      ],
      "metadata": {
        "id": "Tci0WjA93fEP"
      },
      "execution_count": null,
      "outputs": []
    },
    {
      "cell_type": "code",
      "source": [
        "smp.simplify(stats.moment(x,2)) #Second moment"
      ],
      "metadata": {
        "id": "RmFFnUyA3-bu"
      },
      "execution_count": null,
      "outputs": []
    },
    {
      "cell_type": "markdown",
      "source": [
        "In general, the moment generating function for the binomial distribution is the following,\n",
        "$$M_X(t)=(p(e^t-1)+1)^n$$"
      ],
      "metadata": {
        "id": "1Jy-_Wfw4G3K"
      }
    },
    {
      "cell_type": "markdown",
      "source": [
        "**Remark:** Moment generating functions are useful for deriving distributions of sums of independent random variables. Suppose $X_1$ and $X_2$ are independent and $Y = X_1 +\n",
        "X_2$. Then, the moment generating function of $Y$ follows from the properties of the expectation,\n",
        "$$M_Y(t)=E(e^{tY})=E(e^{tX_1+tX_2})$$\n",
        "$$E(e^{tX_1}e^{tX_2})=E(e^{tX_1})E(e^{tX_2})$$\n",
        "$$=M_{X_1}(t)M_{X_2}(t)$$"
      ],
      "metadata": {
        "id": "kJ51vww17KBb"
      }
    },
    {
      "cell_type": "markdown",
      "source": [
        "#### **To Do:**"
      ],
      "metadata": {
        "id": "1n7QcS34_oKy"
      }
    },
    {
      "cell_type": "markdown",
      "source": [
        "1. Suppose we have two normally distributed random variables, $X_1 ∼\n",
        "N (\\mu_1, \\sigma_1)$ and $X2 ∼ N (\\mu_2, \\sigma_2)$ with $Y = X_1 + X_2$. Find moment generating function."
      ],
      "metadata": {
        "id": "fZnPv9o8_rew"
      }
    },
    {
      "cell_type": "markdown",
      "source": [
        "2. Find the moment generating functions of discrete distributions(for bernoulli, geometric, and poisson). "
      ],
      "metadata": {
        "id": "ie6lTQJo_8lB"
      }
    },
    {
      "cell_type": "markdown",
      "source": [
        "3. Find the moment generating functions of continuous distributions(for uniform, exponential, and normal)."
      ],
      "metadata": {
        "id": "Z-DizCzjA_rb"
      }
    },
    {
      "cell_type": "markdown",
      "source": [
        "## **2.8 Transformation of Random Variables**"
      ],
      "metadata": {
        "id": "I3zUuubSCSYQ"
      }
    },
    {
      "cell_type": "markdown",
      "source": [
        "We begin with a random variable $X$ and we want to start looking at the random variable $Y = g(X)$ where the function\n",
        "$$g:\\mathbb{R}\\to\\mathbb{R}$$\n"
      ],
      "metadata": {
        "id": "GGrK4BNNyv_x"
      }
    },
    {
      "cell_type": "markdown",
      "source": [
        "The inverse image of a set $A$,\n",
        "$$g^{-1}(A)=\\{x\\in \\mathbb{R}; g(x)\\in A\\}$$\n",
        "In other words,\n",
        "$$x\\in g^{-1}(A)~~iff~g(x)\\in A$$\n",
        "For example, if $g(x) = x^3$, then $g^{-1}([1, 8]) = [1, 2]$.\n"
      ],
      "metadata": {
        "id": "ljvSMhQ7zDmI"
      }
    },
    {
      "cell_type": "markdown",
      "source": [
        "The easiest case for transformations of continuous random variables is the case of g one-to-one. We first consider the case of $g$ increasing on the range of the random variable $X$. In this case, $g^{−1}$ is also an increasing function."
      ],
      "metadata": {
        "id": "7_S0aixh82KD"
      }
    },
    {
      "cell_type": "markdown",
      "source": [
        "To compute the cumulative distribution of $Y = g(X)$ in terms of the cumulative distribution of $X$, note that\n",
        "$$F_Y(y)=P\\{Y\\leq y\\}=P\\{g(X)\\leq y\\}=P\\{X\\leq g^{-1}(y)\\}=F_X(g^{-1}(y))$$\n",
        "\n",
        "Now use the chain rule to compute the density of $Y$\n",
        "$$f_Y(y)=F'_Y(y)=\\frac{d}{dy}F_X(g^{-1}(y))=f_X(g^{-1}(y))\\frac{d}{dy}g^{-1}(y)$$\n",
        "\n",
        "For $g$ decreasing on the range of $X$,\n",
        "$$F_Y(y)=P\\{Y\\leq y\\}=P\\{g(X)\\leq y\\}=P\\{X\\geq g^{-1}(y)\\}=1-F_X(g^{-1}(y))$$\n",
        "\n",
        "and the density\n",
        "$$f_Y(y)=F'_Y(y)=-\\frac{d}{dy}F_X(g^{-1}(y))=-f_X(g^{-1}(y))\\frac{d}{dy}g^{-1}(y)$$\n",
        "\n",
        "For $g$ decreasing, we also have $g^{-1}$ decreasing and consequently the density of $Y$ is indeed positive,\n",
        "\n",
        "We can combine these two cases to obtain\n",
        "$$f_Y(y)=f_X(g^{-1}(y))\\left|\\frac{d}{dy}g^{-1}(y)\\right|$$"
      ],
      "metadata": {
        "id": "4ZVBeqlE9Yfb"
      }
    },
    {
      "cell_type": "markdown",
      "source": [
        "**Example 1:** If $X$ is a uniform random variable over $(0,1)$. Find the distribution function of $Y=e^X$."
      ],
      "metadata": {
        "id": "wSZQSeMIB9eg"
      }
    },
    {
      "cell_type": "markdown",
      "source": [
        "**Solution:** The *pdf* of $X is\n",
        "\n",
        "$$f_X(x)=\\begin{cases}\n",
        "1; & 0 < x < 1\\\\\n",
        "0; & otherwise\n",
        "\\end{cases}$$\n",
        "\n",
        "Since $y=e^x$ is continuously differentiable and non-decreasing in the interval $0<x<1$, so we apply transformation method.\n",
        "\n",
        "For $y=e^x\\implies x=log(y)\\implies \\frac{dx}{dy}=\\frac{1}{y}$\n",
        "\n",
        "When $0<x<1\\implies 0<log(y)<1\\implies 1<y<e$\n",
        "\n",
        "Hence, the *pdf* of $Y$ is\n",
        "$$f_Y(y)=\\begin{cases}\n",
        "\\frac{1}{y}; & 1<y<e\\\\\n",
        "0; & otherwise\n",
        "\\end{cases}$$"
      ],
      "metadata": {
        "id": "6O2MKSZuCk9P"
      }
    },
    {
      "cell_type": "markdown",
      "source": [
        "**Example 2:** If the *pdf* of random variable $X$ is given by \n",
        "$$f(x)=\\begin{cases}\n",
        "2x, & 0<x<1\\\\\n",
        "0, & otherwise\n",
        "\\end{cases}$$ \n",
        "Find the *pdf* of $Y=8X^3$."
      ],
      "metadata": {
        "id": "vObWtL14FvOb"
      }
    },
    {
      "cell_type": "markdown",
      "source": [
        "#### **To Do:**"
      ],
      "metadata": {
        "id": "RjizGalYGtuU"
      }
    },
    {
      "cell_type": "markdown",
      "source": [
        "1. If $X$ is normal random variable with mean $0$ and variance $\\sigma^2$, find the *pdf* of $Y=e^X$."
      ],
      "metadata": {
        "id": "-3lHlqJcGxVl"
      }
    },
    {
      "cell_type": "markdown",
      "source": [
        "2. For a random variable $X$ with *pdf*\n",
        "$$f(x)=\\begin{cases}\n",
        "e^{-x}; & x>0\\\\\n",
        "0; & otherwise\n",
        "\\end{cases}$$\n",
        "Find the density function of $Y=X\\sqrt{X}.$"
      ],
      "metadata": {
        "id": "X-41u9_UHOAG"
      }
    },
    {
      "cell_type": "code",
      "source": [
        ""
      ],
      "metadata": {
        "id": "aVVCU0N34AM8"
      },
      "execution_count": null,
      "outputs": []
    }
  ]
}