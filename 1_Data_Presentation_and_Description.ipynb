{
  "nbformat": 4,
  "nbformat_minor": 0,
  "metadata": {
    "colab": {
      "name": "1. Data Presentation and Description",
      "provenance": [],
      "collapsed_sections": [
        "4_zy21c1rBFw",
        "hbGyv7m7rJSP",
        "_cVYP_icGJBe",
        "ES8B51tTEDBi",
        "VYT1fuXljaq4",
        "axp9sNawCDJ_",
        "6j3-PNWuW6Un",
        "80XSrOH8ivdm",
        "cuo5p2hYaJRI",
        "-l6xMzmUcvkK",
        "0sWeO9dCpuL3",
        "oVG8NXkg7s3m",
        "_U4OI7OT7QoQ",
        "54OQ2mkQ-O2T",
        "vDf_cb0BAVrt",
        "vz00sTN1iuTf",
        "9i-MlRIAC59s",
        "1gesbBQAEhbO",
        "usQBPw8C_65j",
        "FytV14fCJBxn",
        "5u0sVpBINqIL",
        "nMsCXkEYURvw",
        "rXDSkxeBE0fM",
        "uWvsJz2vGNxA",
        "W20F5tUdOZfH",
        "TDRJyeAdK_6N",
        "0U7yTwmYMj13",
        "9VU7ux-1DDTe",
        "nbVFBaBfEJgc",
        "dOSfoILRHsKQ",
        "WiTeigAYMGPW",
        "1ZoP8hEOR3En",
        "lAvqbnHRvK8G",
        "Bn53ZmPj2Rr5"
      ],
      "authorship_tag": "ABX9TyPrXFJQTbB7+IoNB1MguS+n",
      "include_colab_link": true
    },
    "kernelspec": {
      "name": "python3",
      "display_name": "Python 3"
    },
    "language_info": {
      "name": "python"
    }
  },
  "cells": [
    {
      "cell_type": "markdown",
      "metadata": {
        "id": "view-in-github",
        "colab_type": "text"
      },
      "source": [
        "<a href=\"https://colab.research.google.com/github/Chimi-Dendup/CSM301_Statistics-and-Probability-Theory/blob/main/1_Data_Presentation_and_Description.ipynb\" target=\"_parent\"><img src=\"https://colab.research.google.com/assets/colab-badge.svg\" alt=\"Open In Colab\"/></a>"
      ]
    },
    {
      "cell_type": "markdown",
      "source": [
        "<!DOCTYPE html>\n",
        "<html >\n",
        "<body>\n",
        "<h1 align=\"center\"> <b>1. Data Presentation and Description</b> </h1>\n",
        "<h4 align=\"center\"><i>Prepared by Chimi Dendup</i></h4>\n",
        "</body>\n",
        "</html>\n",
        "\n",
        "\n"
      ],
      "metadata": {
        "id": "0Pfi6DTrq1Ff"
      }
    },
    {
      "cell_type": "markdown",
      "source": [
        "## **1.1 Overview**\n",
        "\n"
      ],
      "metadata": {
        "id": "4_zy21c1rBFw"
      }
    },
    {
      "cell_type": "markdown",
      "source": [
        "This section presents about the graphical and the numerical summaries of the data. In addition we will study how and why to provide information. Types and characteristics of data can be useful for scientific data, data analysis, and machine learning.\n",
        "\n",
        "By the end of this section, you should be able to \n",
        "\n",
        "**Understand the graphical and numerical summaries;**\n",
        "\n",
        "*   Define the data.\n",
        "*   Explain the different types of data.\n",
        "*   Explain the different ways to present the data scientifically and systematically.\n",
        "*   Define and interpret the most common diagrams for data presentation.\n",
        "*   Demonstrate the most common diagrams for data presentation using Python.\n",
        "\n",
        "*   Explain the measures of central tendencies and the measures of dispersions.\n",
        "*   Calculate the measures of central tendencies and the measures of dispersions.\n",
        "*   Apply Central tendencies and the dispersion using Python to perform data analysis.\n",
        "*   Define, explain and interpret covariance and correlation using Python.\n",
        "\n"
      ],
      "metadata": {
        "id": "kG6V9n5aF_c6"
      }
    },
    {
      "cell_type": "markdown",
      "source": [
        "## **1.2 What is Data?**\n",
        "\n"
      ],
      "metadata": {
        "id": "hbGyv7m7rJSP"
      }
    },
    {
      "cell_type": "markdown",
      "source": [
        "#### **1.2.1 Definition of Data**\n",
        "\n",
        "Any observation collected in respect of any characteristic or event is called data.\n",
        "\n",
        "\n",
        "#### **1.2.2 Information**\n",
        "\n",
        "Raw data carry/convey little meaning, when it is considered alone.\n",
        "\n",
        "The data is minimized, processed/analyzed and then presented systematically . So that it is converted into information.\n",
        "\n",
        "It is important to note that data, that is not converted into information is of little value for evaluation and planning and cannot be used by those who are involved in decision making.\n",
        "\n",
        "#### **1.2.3 Types of Data**\n",
        "\n",
        "To give an idea of ​​the classification data can be divided into two categories.\n",
        "\n",
        "*   **Quantitative data** (numerical)\n",
        "*   **Qualitative data** (descriptive, categorical/frequency count)\n",
        "\n",
        "#### **1.2.3.1 Quantitative data**\n",
        "\n",
        "Quantitative data are data that can be calculated or measured in numerical values. Quantitative data is used when a researcher needs to quantify a problem, and answers questions like “what,” “how many,” and “how often.” This type of data is frequently used in math calculations, algorithms, or statistical analysis. Some examples of quantitative data include:\n",
        "\n",
        "\n",
        "*   Age in months or years\n",
        "*   Time in days or weeks\n",
        "*   Experiment results \n",
        "*   Distance in miles or kilometer.\n",
        "\n",
        "It has two types;\n",
        "\n",
        "1.   **Discrete:** Discrete variables can take only certain values and none in between. For example, number of patients in a hospital, the number of right or wrong questions on a test, and shoe size etc. It is expressed in whole number.\n",
        "2.   **Continuous:** Continuous variables may take any value (typically between certain limits). For example weight(75.5kg), blood pressure (120/80), height(1.5m). It can be expressed as decimals.\n",
        "\n",
        "#### **1.2.3.2 Qualitative data**\n",
        "\n",
        "Qualitative data is defined as the data that approximates and characterizes. Also called descriptive or categorical data or frequency count. This data type is non-numerical in nature. This type of data is collected through methods of observations, one-to-one interviews conducting on focus groups, and similar methods.\n",
        "\n",
        "For example, name, religion, matrital status etc.\n",
        "\n",
        "It has two types;\n",
        "\n",
        "1.  **Nominal data:** Nominal data, also called \"named or labeled data\" or \"nominal scale,\" is any type of data that you can use to label something without assigning a numeric value. For example, if you categorize a group of variables by color.\n",
        "\n",
        "2.  **Ordinal data:** When the categorical data can be placed in meaningful order on the basis of their quality, it is known as ordinal data. When researchers use ordinal data, the order of the qualitative information matters more than the difference between each category. For example, to classify variables or subjects by groups, such as child, teenager, adult and senior.\n",
        "\n"
      ],
      "metadata": {
        "id": "x_Adxdb6rUyF"
      }
    },
    {
      "cell_type": "markdown",
      "source": [
        "## **1.3 Data Presentation**"
      ],
      "metadata": {
        "id": "_cVYP_icGJBe"
      }
    },
    {
      "cell_type": "markdown",
      "source": [
        "**Data presentation** is defined as the process of using different graphical formats to visually represent the relationship between two or more datasets so that an informed decision can be made based on the data.\n",
        "\n",
        "**How and why to present data?**\n",
        "\n",
        "The reason for the data presentation;\n",
        "\n",
        "*   To present the data in a way that should appeal to readers at first sight.\n",
        "*   To present the information in a compact and concise form without losing important details.\n",
        "*   To present the data in a simple form so as to draw the conclusion directly by viewing at the data.\n",
        "*   To present it in such a way that it can help in further statistical analysis.\n",
        "\n",
        "There are three main forms of presentation of data;\n",
        "\n",
        "\n",
        "1.   **Textual presentation:** In such form of presentation, data is simply mentioned as mere text, that is generally in a paragraph. This is commonly used when the data is not very large. For example, “the 2009 earthquake proved to be a mass murderer of humans in Bhutan. As many as 12, citizens have been reported dead”.\n",
        "2.   **Tabular:** With tables, even large amounts of data are attractive, easy to read, and easy to view in an organized way. The data is organized in rows and columns. Data tables are one of the most widely used data display formats because they are easy to create and read.\n",
        "3.   **Graphical:** They are useful methods in presenting statistical data. Diagrams are better retained in the memory than statistical tables.\n",
        "\n",
        "Here on we will focus more on tabular and graphical presentations of data. Before that you can find below the hirarchical representation of data presentation.\n",
        "\n",
        "\n"
      ],
      "metadata": {
        "id": "-Ly-WwcYu5Nd"
      }
    },
    {
      "cell_type": "markdown",
      "source": [
        "![New Microsoft PowerPoint Presentation.jpg](data:image/jpeg;base64,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)"
      ],
      "metadata": {
        "id": "9LDvrtkhDXdr"
      }
    },
    {
      "cell_type": "markdown",
      "source": [
        "#### **1.3.1 Tabulation**\n",
        "\n",
        "Table format is a systematic and logical representation of numerical data in rows and columns for easy comparison and statistical analysis. Bringing relevant information together facilitates comparison and is useful for further analysis and interpretation of statistics. It is probably the first step before the data is used for analysis or interpretation. There are two types of tables;\n",
        "\n",
        "\n",
        "\n",
        "1.   **Simple table:** Measurement of single set are presented.\n",
        "2.   **Complex table:** Measurement of multiple sets are presented.\n",
        "\n",
        "#### **1.3.1.1 Simple Table**\n",
        "\n",
        "A simple table provides summary information on a single characteristic and is also called a **univariate table.** This table is based upon a single attribute, namely marks, and from this table, one may see the number of students in each class of marks. For example\n",
        "\n",
        "**Table 1:** Infant mortality rate of selected countries in 2021\n",
        " "
      ],
      "metadata": {
        "id": "ES8B51tTEDBi"
      }
    },
    {
      "cell_type": "markdown",
      "source": [
        "![image.png](data:image/png;base64,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)"
      ],
      "metadata": {
        "id": "BzuK9SwFjXdE"
      }
    },
    {
      "cell_type": "markdown",
      "source": [
        "#### **1.3.1.2 Frequency Distribution Table**\n",
        "\n",
        "Frequency tells you how often something happened. The frequency of an observation tells you the number of times the observation occurs in the data. \n",
        "\n",
        "In the frequency distribution table, the data is first split up into convenient groups (class interval) and the number of items (frequency) which occur in each group is shown in adjacent columns.\n",
        "\n",
        "Hence it is a table showing the frequency with which the values are distributed in different groups or classes with some defined characteristics. For example,\n",
        "\n",
        "**Table 2:** Age distribution of patients\n",
        "\n"
      ],
      "metadata": {
        "id": "VYT1fuXljaq4"
      }
    },
    {
      "cell_type": "markdown",
      "source": [
        "![image.png](data:image/png;base64,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)"
      ],
      "metadata": {
        "id": "UCAwUgCSC5Xn"
      }
    },
    {
      "cell_type": "markdown",
      "source": [
        "#### **1.3.2 Working with Tabular Data in `pandas`**\n",
        "\n",
        "If `NumPy` is used on matrix data and linear algebraic operations, `pandas` is designed to work with data in the form of tables. Just  like `NumPy`, `pandas` can be installed in\n",
        "your Python environment using the `pip` package manager:"
      ],
      "metadata": {
        "id": "axp9sNawCDJ_"
      }
    },
    {
      "cell_type": "code",
      "source": [
        "!pip install pandas"
      ],
      "metadata": {
        "id": "SGvQNbYaUluT"
      },
      "execution_count": null,
      "outputs": []
    },
    {
      "cell_type": "markdown",
      "source": [
        "When the installation process is complete, turn off the Python Interpreter and try import a library:"
      ],
      "metadata": {
        "id": "h_W_cznbEODN"
      }
    },
    {
      "cell_type": "code",
      "source": [
        "import pandas as pd"
      ],
      "metadata": {
        "id": "IVOamPHiV0Eh"
      },
      "execution_count": null,
      "outputs": []
    },
    {
      "cell_type": "markdown",
      "source": [
        "If this command runs without any error message, then you have successfully installed `pandas`. With that, let's move on with our discussions, beginning with the most commonly used data structure in `pandas`, **DataFrame**, which can represent table data:  two-dimensional data with row and column labels."
      ],
      "metadata": {
        "id": "d5MscQq2VAFH"
      }
    },
    {
      "cell_type": "markdown",
      "source": [
        "#### **1.3.3 Initializing a DataFrame Object**\n",
        "\n",
        "There are several ways to initialize **DataFrame** objects. First, we know it by hand create it by passing a python dictionary where each key should be a name of a column and the value of the key must match the data in that column as a list or NumPy array.\n",
        "\n",
        "For example, in the following code, we are creating a table with five rows and two columns. "
      ],
      "metadata": {
        "id": "6j3-PNWuW6Un"
      }
    },
    {
      "cell_type": "code",
      "source": [
        "import pandas as pd\n",
        "my_dict={'Name of Country':[\"Bhutan\",\"Singapore\",\"Bangladesh\",\"Sri Lanka\", \"India\"], 'Infant mortality rate':[21,2,24,7,29]}\n",
        "df=pd.DataFrame(my_dict)\n",
        "df"
      ],
      "metadata": {
        "colab": {
          "base_uri": "https://localhost:8080/",
          "height": 206
        },
        "id": "Drrn_hEvYcb2",
        "outputId": "10b8e029-f493-42a7-87c1-5cbf516f0e61"
      },
      "execution_count": null,
      "outputs": [
        {
          "output_type": "execute_result",
          "data": {
            "text/plain": [
              "  Name of Country  Infant mortality rate\n",
              "0          Bhutan                     21\n",
              "1       Singapore                      2\n",
              "2      Bangladesh                     24\n",
              "3       Sri Lanka                      7\n",
              "4           India                     29"
            ],
            "text/html": [
              "\n",
              "  <div id=\"df-e4e30688-7d10-4b5d-9bd3-f1cb1a1ed6eb\">\n",
              "    <div class=\"colab-df-container\">\n",
              "      <div>\n",
              "<style scoped>\n",
              "    .dataframe tbody tr th:only-of-type {\n",
              "        vertical-align: middle;\n",
              "    }\n",
              "\n",
              "    .dataframe tbody tr th {\n",
              "        vertical-align: top;\n",
              "    }\n",
              "\n",
              "    .dataframe thead th {\n",
              "        text-align: right;\n",
              "    }\n",
              "</style>\n",
              "<table border=\"1\" class=\"dataframe\">\n",
              "  <thead>\n",
              "    <tr style=\"text-align: right;\">\n",
              "      <th></th>\n",
              "      <th>Name of Country</th>\n",
              "      <th>Infant mortality rate</th>\n",
              "    </tr>\n",
              "  </thead>\n",
              "  <tbody>\n",
              "    <tr>\n",
              "      <th>0</th>\n",
              "      <td>Bhutan</td>\n",
              "      <td>21</td>\n",
              "    </tr>\n",
              "    <tr>\n",
              "      <th>1</th>\n",
              "      <td>Singapore</td>\n",
              "      <td>2</td>\n",
              "    </tr>\n",
              "    <tr>\n",
              "      <th>2</th>\n",
              "      <td>Bangladesh</td>\n",
              "      <td>24</td>\n",
              "    </tr>\n",
              "    <tr>\n",
              "      <th>3</th>\n",
              "      <td>Sri Lanka</td>\n",
              "      <td>7</td>\n",
              "    </tr>\n",
              "    <tr>\n",
              "      <th>4</th>\n",
              "      <td>India</td>\n",
              "      <td>29</td>\n",
              "    </tr>\n",
              "  </tbody>\n",
              "</table>\n",
              "</div>\n",
              "      <button class=\"colab-df-convert\" onclick=\"convertToInteractive('df-e4e30688-7d10-4b5d-9bd3-f1cb1a1ed6eb')\"\n",
              "              title=\"Convert this dataframe to an interactive table.\"\n",
              "              style=\"display:none;\">\n",
              "        \n",
              "  <svg xmlns=\"http://www.w3.org/2000/svg\" height=\"24px\"viewBox=\"0 0 24 24\"\n",
              "       width=\"24px\">\n",
              "    <path d=\"M0 0h24v24H0V0z\" fill=\"none\"/>\n",
              "    <path d=\"M18.56 5.44l.94 2.06.94-2.06 2.06-.94-2.06-.94-.94-2.06-.94 2.06-2.06.94zm-11 1L8.5 8.5l.94-2.06 2.06-.94-2.06-.94L8.5 2.5l-.94 2.06-2.06.94zm10 10l.94 2.06.94-2.06 2.06-.94-2.06-.94-.94-2.06-.94 2.06-2.06.94z\"/><path d=\"M17.41 7.96l-1.37-1.37c-.4-.4-.92-.59-1.43-.59-.52 0-1.04.2-1.43.59L10.3 9.45l-7.72 7.72c-.78.78-.78 2.05 0 2.83L4 21.41c.39.39.9.59 1.41.59.51 0 1.02-.2 1.41-.59l7.78-7.78 2.81-2.81c.8-.78.8-2.07 0-2.86zM5.41 20L4 18.59l7.72-7.72 1.47 1.35L5.41 20z\"/>\n",
              "  </svg>\n",
              "      </button>\n",
              "      \n",
              "  <style>\n",
              "    .colab-df-container {\n",
              "      display:flex;\n",
              "      flex-wrap:wrap;\n",
              "      gap: 12px;\n",
              "    }\n",
              "\n",
              "    .colab-df-convert {\n",
              "      background-color: #E8F0FE;\n",
              "      border: none;\n",
              "      border-radius: 50%;\n",
              "      cursor: pointer;\n",
              "      display: none;\n",
              "      fill: #1967D2;\n",
              "      height: 32px;\n",
              "      padding: 0 0 0 0;\n",
              "      width: 32px;\n",
              "    }\n",
              "\n",
              "    .colab-df-convert:hover {\n",
              "      background-color: #E2EBFA;\n",
              "      box-shadow: 0px 1px 2px rgba(60, 64, 67, 0.3), 0px 1px 3px 1px rgba(60, 64, 67, 0.15);\n",
              "      fill: #174EA6;\n",
              "    }\n",
              "\n",
              "    [theme=dark] .colab-df-convert {\n",
              "      background-color: #3B4455;\n",
              "      fill: #D2E3FC;\n",
              "    }\n",
              "\n",
              "    [theme=dark] .colab-df-convert:hover {\n",
              "      background-color: #434B5C;\n",
              "      box-shadow: 0px 1px 3px 1px rgba(0, 0, 0, 0.15);\n",
              "      filter: drop-shadow(0px 1px 2px rgba(0, 0, 0, 0.3));\n",
              "      fill: #FFFFFF;\n",
              "    }\n",
              "  </style>\n",
              "\n",
              "      <script>\n",
              "        const buttonEl =\n",
              "          document.querySelector('#df-e4e30688-7d10-4b5d-9bd3-f1cb1a1ed6eb button.colab-df-convert');\n",
              "        buttonEl.style.display =\n",
              "          google.colab.kernel.accessAllowed ? 'block' : 'none';\n",
              "\n",
              "        async function convertToInteractive(key) {\n",
              "          const element = document.querySelector('#df-e4e30688-7d10-4b5d-9bd3-f1cb1a1ed6eb');\n",
              "          const dataTable =\n",
              "            await google.colab.kernel.invokeFunction('convertToInteractive',\n",
              "                                                     [key], {});\n",
              "          if (!dataTable) return;\n",
              "\n",
              "          const docLinkHtml = 'Like what you see? Visit the ' +\n",
              "            '<a target=\"_blank\" href=https://colab.research.google.com/notebooks/data_table.ipynb>data table notebook</a>'\n",
              "            + ' to learn more about interactive tables.';\n",
              "          element.innerHTML = '';\n",
              "          dataTable['output_type'] = 'display_data';\n",
              "          await google.colab.output.renderOutput(dataTable, element);\n",
              "          const docLink = document.createElement('div');\n",
              "          docLink.innerHTML = docLinkHtml;\n",
              "          element.appendChild(docLink);\n",
              "        }\n",
              "      </script>\n",
              "    </div>\n",
              "  </div>\n",
              "  "
            ]
          },
          "metadata": {},
          "execution_count": 3
        }
      ]
    },
    {
      "cell_type": "markdown",
      "source": [
        "**Figure 1:** Printed Dataframe objects in Jupyter Notebook"
      ],
      "metadata": {
        "id": "vWxQFX67ZrzQ"
      }
    },
    {
      "cell_type": "markdown",
      "source": [
        "Another common way to initialize a **DataFrame** object is that when we already have its data represented by a 2D NumPy array, we can directly pass that array to the DataFrame class. For example, we can initialize the same DataFrame we looked at previously with the following code:"
      ],
      "metadata": {
        "id": "5hJKb3ZaaEBS"
      }
    },
    {
      "cell_type": "code",
      "source": [
        "import numpy as np\n",
        "my_array=np.array([[\"Bhutan\",21],[\"Singapore\",2],[\"Bangladesh\",24],[\"Sri Lanka\",7],[\"India\",29]])\n",
        "alt_df=pd.DataFrame(my_array,columns=['Name of Country','Infant mortality rate'])\n",
        "alt_df"
      ],
      "metadata": {
        "colab": {
          "base_uri": "https://localhost:8080/",
          "height": 206
        },
        "id": "lTC8U73ZaDkU",
        "outputId": "366dc007-9d07-45cc-c3fc-3c6e0d1643ab"
      },
      "execution_count": null,
      "outputs": [
        {
          "output_type": "execute_result",
          "data": {
            "text/plain": [
              "  Name of Country Infant mortality rate\n",
              "0          Bhutan                    21\n",
              "1       Singapore                     2\n",
              "2      Bangladesh                    24\n",
              "3       Sri Lanka                     7\n",
              "4           India                    29"
            ],
            "text/html": [
              "\n",
              "  <div id=\"df-526d2ced-037b-4907-adb7-bd4b1d964c9e\">\n",
              "    <div class=\"colab-df-container\">\n",
              "      <div>\n",
              "<style scoped>\n",
              "    .dataframe tbody tr th:only-of-type {\n",
              "        vertical-align: middle;\n",
              "    }\n",
              "\n",
              "    .dataframe tbody tr th {\n",
              "        vertical-align: top;\n",
              "    }\n",
              "\n",
              "    .dataframe thead th {\n",
              "        text-align: right;\n",
              "    }\n",
              "</style>\n",
              "<table border=\"1\" class=\"dataframe\">\n",
              "  <thead>\n",
              "    <tr style=\"text-align: right;\">\n",
              "      <th></th>\n",
              "      <th>Name of Country</th>\n",
              "      <th>Infant mortality rate</th>\n",
              "    </tr>\n",
              "  </thead>\n",
              "  <tbody>\n",
              "    <tr>\n",
              "      <th>0</th>\n",
              "      <td>Bhutan</td>\n",
              "      <td>21</td>\n",
              "    </tr>\n",
              "    <tr>\n",
              "      <th>1</th>\n",
              "      <td>Singapore</td>\n",
              "      <td>2</td>\n",
              "    </tr>\n",
              "    <tr>\n",
              "      <th>2</th>\n",
              "      <td>Bangladesh</td>\n",
              "      <td>24</td>\n",
              "    </tr>\n",
              "    <tr>\n",
              "      <th>3</th>\n",
              "      <td>Sri Lanka</td>\n",
              "      <td>7</td>\n",
              "    </tr>\n",
              "    <tr>\n",
              "      <th>4</th>\n",
              "      <td>India</td>\n",
              "      <td>29</td>\n",
              "    </tr>\n",
              "  </tbody>\n",
              "</table>\n",
              "</div>\n",
              "      <button class=\"colab-df-convert\" onclick=\"convertToInteractive('df-526d2ced-037b-4907-adb7-bd4b1d964c9e')\"\n",
              "              title=\"Convert this dataframe to an interactive table.\"\n",
              "              style=\"display:none;\">\n",
              "        \n",
              "  <svg xmlns=\"http://www.w3.org/2000/svg\" height=\"24px\"viewBox=\"0 0 24 24\"\n",
              "       width=\"24px\">\n",
              "    <path d=\"M0 0h24v24H0V0z\" fill=\"none\"/>\n",
              "    <path d=\"M18.56 5.44l.94 2.06.94-2.06 2.06-.94-2.06-.94-.94-2.06-.94 2.06-2.06.94zm-11 1L8.5 8.5l.94-2.06 2.06-.94-2.06-.94L8.5 2.5l-.94 2.06-2.06.94zm10 10l.94 2.06.94-2.06 2.06-.94-2.06-.94-.94-2.06-.94 2.06-2.06.94z\"/><path d=\"M17.41 7.96l-1.37-1.37c-.4-.4-.92-.59-1.43-.59-.52 0-1.04.2-1.43.59L10.3 9.45l-7.72 7.72c-.78.78-.78 2.05 0 2.83L4 21.41c.39.39.9.59 1.41.59.51 0 1.02-.2 1.41-.59l7.78-7.78 2.81-2.81c.8-.78.8-2.07 0-2.86zM5.41 20L4 18.59l7.72-7.72 1.47 1.35L5.41 20z\"/>\n",
              "  </svg>\n",
              "      </button>\n",
              "      \n",
              "  <style>\n",
              "    .colab-df-container {\n",
              "      display:flex;\n",
              "      flex-wrap:wrap;\n",
              "      gap: 12px;\n",
              "    }\n",
              "\n",
              "    .colab-df-convert {\n",
              "      background-color: #E8F0FE;\n",
              "      border: none;\n",
              "      border-radius: 50%;\n",
              "      cursor: pointer;\n",
              "      display: none;\n",
              "      fill: #1967D2;\n",
              "      height: 32px;\n",
              "      padding: 0 0 0 0;\n",
              "      width: 32px;\n",
              "    }\n",
              "\n",
              "    .colab-df-convert:hover {\n",
              "      background-color: #E2EBFA;\n",
              "      box-shadow: 0px 1px 2px rgba(60, 64, 67, 0.3), 0px 1px 3px 1px rgba(60, 64, 67, 0.15);\n",
              "      fill: #174EA6;\n",
              "    }\n",
              "\n",
              "    [theme=dark] .colab-df-convert {\n",
              "      background-color: #3B4455;\n",
              "      fill: #D2E3FC;\n",
              "    }\n",
              "\n",
              "    [theme=dark] .colab-df-convert:hover {\n",
              "      background-color: #434B5C;\n",
              "      box-shadow: 0px 1px 3px 1px rgba(0, 0, 0, 0.15);\n",
              "      filter: drop-shadow(0px 1px 2px rgba(0, 0, 0, 0.3));\n",
              "      fill: #FFFFFF;\n",
              "    }\n",
              "  </style>\n",
              "\n",
              "      <script>\n",
              "        const buttonEl =\n",
              "          document.querySelector('#df-526d2ced-037b-4907-adb7-bd4b1d964c9e button.colab-df-convert');\n",
              "        buttonEl.style.display =\n",
              "          google.colab.kernel.accessAllowed ? 'block' : 'none';\n",
              "\n",
              "        async function convertToInteractive(key) {\n",
              "          const element = document.querySelector('#df-526d2ced-037b-4907-adb7-bd4b1d964c9e');\n",
              "          const dataTable =\n",
              "            await google.colab.kernel.invokeFunction('convertToInteractive',\n",
              "                                                     [key], {});\n",
              "          if (!dataTable) return;\n",
              "\n",
              "          const docLinkHtml = 'Like what you see? Visit the ' +\n",
              "            '<a target=\"_blank\" href=https://colab.research.google.com/notebooks/data_table.ipynb>data table notebook</a>'\n",
              "            + ' to learn more about interactive tables.';\n",
              "          element.innerHTML = '';\n",
              "          dataTable['output_type'] = 'display_data';\n",
              "          await google.colab.output.renderOutput(dataTable, element);\n",
              "          const docLink = document.createElement('div');\n",
              "          docLink.innerHTML = docLinkHtml;\n",
              "          element.appendChild(docLink);\n",
              "        }\n",
              "      </script>\n",
              "    </div>\n",
              "  </div>\n",
              "  "
            ]
          },
          "metadata": {},
          "execution_count": 4
        }
      ]
    },
    {
      "cell_type": "markdown",
      "source": [
        "The most common way in which a DataFrame object is initialized is\n",
        "through the `pd.read_csv()` function, which, as the name suggests, reads in a CSV file (or any text file formatted in the same way but with a different separating special character) and renders it as a DataFrame object."
      ],
      "metadata": {
        "id": "HzWPDMzmfHx-"
      }
    },
    {
      "cell_type": "markdown",
      "source": [
        "#### **1.3.4 Accessing Rows and Columns**\n",
        "\n",
        "To access a group of rows or columns, we can take advantage of the `loc` method, which takes in the labels of the rows/columns we are interested in. For example, using the same table from our previous section, we can pass in the name of a row (for example, $0$):"
      ],
      "metadata": {
        "id": "80XSrOH8ivdm"
      }
    },
    {
      "cell_type": "code",
      "source": [
        "df.loc[0]"
      ],
      "metadata": {
        "colab": {
          "base_uri": "https://localhost:8080/"
        },
        "id": "HqcYo_c7ZeA0",
        "outputId": "a4661f93-1763-47d3-b64c-e020bfad8f9b"
      },
      "execution_count": null,
      "outputs": [
        {
          "output_type": "execute_result",
          "data": {
            "text/plain": [
              "Name of Country          Bhutan\n",
              "Infant mortality rate        21\n",
              "Name: 0, dtype: object"
            ]
          },
          "metadata": {},
          "execution_count": 5
        }
      ]
    },
    {
      "cell_type": "markdown",
      "source": [
        "Still considering the `loc` method, we can pass in a list of row labels to access multiple rows. The following code returns both rows in our example table:"
      ],
      "metadata": {
        "id": "E8TWOuXBlFdt"
      }
    },
    {
      "cell_type": "code",
      "source": [
        "df.loc[[0,1,2]]"
      ],
      "metadata": {
        "colab": {
          "base_uri": "https://localhost:8080/",
          "height": 143
        },
        "id": "UuNOOtn6kpYh",
        "outputId": "ec7a817a-9349-4aeb-edd3-8d5ae0f7f85e"
      },
      "execution_count": null,
      "outputs": [
        {
          "output_type": "execute_result",
          "data": {
            "text/plain": [
              "  Name of Country  Infant mortality rate\n",
              "0          Bhutan                     21\n",
              "1       Singapore                      2\n",
              "2      Bangladesh                     24"
            ],
            "text/html": [
              "\n",
              "  <div id=\"df-8b0fafd5-1007-4bc7-8556-762e58e8248a\">\n",
              "    <div class=\"colab-df-container\">\n",
              "      <div>\n",
              "<style scoped>\n",
              "    .dataframe tbody tr th:only-of-type {\n",
              "        vertical-align: middle;\n",
              "    }\n",
              "\n",
              "    .dataframe tbody tr th {\n",
              "        vertical-align: top;\n",
              "    }\n",
              "\n",
              "    .dataframe thead th {\n",
              "        text-align: right;\n",
              "    }\n",
              "</style>\n",
              "<table border=\"1\" class=\"dataframe\">\n",
              "  <thead>\n",
              "    <tr style=\"text-align: right;\">\n",
              "      <th></th>\n",
              "      <th>Name of Country</th>\n",
              "      <th>Infant mortality rate</th>\n",
              "    </tr>\n",
              "  </thead>\n",
              "  <tbody>\n",
              "    <tr>\n",
              "      <th>0</th>\n",
              "      <td>Bhutan</td>\n",
              "      <td>21</td>\n",
              "    </tr>\n",
              "    <tr>\n",
              "      <th>1</th>\n",
              "      <td>Singapore</td>\n",
              "      <td>2</td>\n",
              "    </tr>\n",
              "    <tr>\n",
              "      <th>2</th>\n",
              "      <td>Bangladesh</td>\n",
              "      <td>24</td>\n",
              "    </tr>\n",
              "  </tbody>\n",
              "</table>\n",
              "</div>\n",
              "      <button class=\"colab-df-convert\" onclick=\"convertToInteractive('df-8b0fafd5-1007-4bc7-8556-762e58e8248a')\"\n",
              "              title=\"Convert this dataframe to an interactive table.\"\n",
              "              style=\"display:none;\">\n",
              "        \n",
              "  <svg xmlns=\"http://www.w3.org/2000/svg\" height=\"24px\"viewBox=\"0 0 24 24\"\n",
              "       width=\"24px\">\n",
              "    <path d=\"M0 0h24v24H0V0z\" fill=\"none\"/>\n",
              "    <path d=\"M18.56 5.44l.94 2.06.94-2.06 2.06-.94-2.06-.94-.94-2.06-.94 2.06-2.06.94zm-11 1L8.5 8.5l.94-2.06 2.06-.94-2.06-.94L8.5 2.5l-.94 2.06-2.06.94zm10 10l.94 2.06.94-2.06 2.06-.94-2.06-.94-.94-2.06-.94 2.06-2.06.94z\"/><path d=\"M17.41 7.96l-1.37-1.37c-.4-.4-.92-.59-1.43-.59-.52 0-1.04.2-1.43.59L10.3 9.45l-7.72 7.72c-.78.78-.78 2.05 0 2.83L4 21.41c.39.39.9.59 1.41.59.51 0 1.02-.2 1.41-.59l7.78-7.78 2.81-2.81c.8-.78.8-2.07 0-2.86zM5.41 20L4 18.59l7.72-7.72 1.47 1.35L5.41 20z\"/>\n",
              "  </svg>\n",
              "      </button>\n",
              "      \n",
              "  <style>\n",
              "    .colab-df-container {\n",
              "      display:flex;\n",
              "      flex-wrap:wrap;\n",
              "      gap: 12px;\n",
              "    }\n",
              "\n",
              "    .colab-df-convert {\n",
              "      background-color: #E8F0FE;\n",
              "      border: none;\n",
              "      border-radius: 50%;\n",
              "      cursor: pointer;\n",
              "      display: none;\n",
              "      fill: #1967D2;\n",
              "      height: 32px;\n",
              "      padding: 0 0 0 0;\n",
              "      width: 32px;\n",
              "    }\n",
              "\n",
              "    .colab-df-convert:hover {\n",
              "      background-color: #E2EBFA;\n",
              "      box-shadow: 0px 1px 2px rgba(60, 64, 67, 0.3), 0px 1px 3px 1px rgba(60, 64, 67, 0.15);\n",
              "      fill: #174EA6;\n",
              "    }\n",
              "\n",
              "    [theme=dark] .colab-df-convert {\n",
              "      background-color: #3B4455;\n",
              "      fill: #D2E3FC;\n",
              "    }\n",
              "\n",
              "    [theme=dark] .colab-df-convert:hover {\n",
              "      background-color: #434B5C;\n",
              "      box-shadow: 0px 1px 3px 1px rgba(0, 0, 0, 0.15);\n",
              "      filter: drop-shadow(0px 1px 2px rgba(0, 0, 0, 0.3));\n",
              "      fill: #FFFFFF;\n",
              "    }\n",
              "  </style>\n",
              "\n",
              "      <script>\n",
              "        const buttonEl =\n",
              "          document.querySelector('#df-8b0fafd5-1007-4bc7-8556-762e58e8248a button.colab-df-convert');\n",
              "        buttonEl.style.display =\n",
              "          google.colab.kernel.accessAllowed ? 'block' : 'none';\n",
              "\n",
              "        async function convertToInteractive(key) {\n",
              "          const element = document.querySelector('#df-8b0fafd5-1007-4bc7-8556-762e58e8248a');\n",
              "          const dataTable =\n",
              "            await google.colab.kernel.invokeFunction('convertToInteractive',\n",
              "                                                     [key], {});\n",
              "          if (!dataTable) return;\n",
              "\n",
              "          const docLinkHtml = 'Like what you see? Visit the ' +\n",
              "            '<a target=\"_blank\" href=https://colab.research.google.com/notebooks/data_table.ipynb>data table notebook</a>'\n",
              "            + ' to learn more about interactive tables.';\n",
              "          element.innerHTML = '';\n",
              "          dataTable['output_type'] = 'display_data';\n",
              "          await google.colab.output.renderOutput(dataTable, element);\n",
              "          const docLink = document.createElement('div');\n",
              "          docLink.innerHTML = docLinkHtml;\n",
              "          element.appendChild(docLink);\n",
              "        }\n",
              "      </script>\n",
              "    </div>\n",
              "  </div>\n",
              "  "
            ]
          },
          "metadata": {},
          "execution_count": 6
        }
      ]
    },
    {
      "cell_type": "markdown",
      "source": [
        "Note that if you want to restore an entire column to the **DataFrame** object, you can use it the colon special character, $:$ , in the colon sign indicates all lines that must be right back. Without using the `loc` method, you can extract the desired column using the square brakets as follows;"
      ],
      "metadata": {
        "id": "6vnAyFUnlyXA"
      }
    },
    {
      "cell_type": "code",
      "source": [
        "df['Name of Country']"
      ],
      "metadata": {
        "colab": {
          "base_uri": "https://localhost:8080/"
        },
        "id": "S7-VHVQblx6a",
        "outputId": "56d3425e-86e2-49fe-bc56-a866862a71bc"
      },
      "execution_count": null,
      "outputs": [
        {
          "output_type": "execute_result",
          "data": {
            "text/plain": [
              "0        Bhutan\n",
              "1     Singapore\n",
              "2    Bangladesh\n",
              "3     Sri Lanka\n",
              "4         India\n",
              "Name: Name of Country, dtype: object"
            ]
          },
          "metadata": {},
          "execution_count": 7
        }
      ]
    },
    {
      "cell_type": "markdown",
      "source": [
        "If you want to change the values in a **DataFrame** object, you can use `loc` method to change the entries as follows;"
      ],
      "metadata": {
        "id": "eJBRbMsFm-eN"
      }
    },
    {
      "cell_type": "code",
      "source": [
        "df.loc[0] = [\"Japan\",2] # change first row\n",
        "df"
      ],
      "metadata": {
        "colab": {
          "base_uri": "https://localhost:8080/",
          "height": 206
        },
        "id": "2Xg2WksVlSY1",
        "outputId": "2f6aaf87-fbfe-4969-f18e-f0cf7ba728d6"
      },
      "execution_count": null,
      "outputs": [
        {
          "output_type": "execute_result",
          "data": {
            "text/plain": [
              "  Name of Country  Infant mortality rate\n",
              "0           Japan                      2\n",
              "1       Singapore                      2\n",
              "2      Bangladesh                     24\n",
              "3       Sri Lanka                      7\n",
              "4           India                     29"
            ],
            "text/html": [
              "\n",
              "  <div id=\"df-bdadbd2b-6799-4996-b9b4-9eabedf75fc1\">\n",
              "    <div class=\"colab-df-container\">\n",
              "      <div>\n",
              "<style scoped>\n",
              "    .dataframe tbody tr th:only-of-type {\n",
              "        vertical-align: middle;\n",
              "    }\n",
              "\n",
              "    .dataframe tbody tr th {\n",
              "        vertical-align: top;\n",
              "    }\n",
              "\n",
              "    .dataframe thead th {\n",
              "        text-align: right;\n",
              "    }\n",
              "</style>\n",
              "<table border=\"1\" class=\"dataframe\">\n",
              "  <thead>\n",
              "    <tr style=\"text-align: right;\">\n",
              "      <th></th>\n",
              "      <th>Name of Country</th>\n",
              "      <th>Infant mortality rate</th>\n",
              "    </tr>\n",
              "  </thead>\n",
              "  <tbody>\n",
              "    <tr>\n",
              "      <th>0</th>\n",
              "      <td>Japan</td>\n",
              "      <td>2</td>\n",
              "    </tr>\n",
              "    <tr>\n",
              "      <th>1</th>\n",
              "      <td>Singapore</td>\n",
              "      <td>2</td>\n",
              "    </tr>\n",
              "    <tr>\n",
              "      <th>2</th>\n",
              "      <td>Bangladesh</td>\n",
              "      <td>24</td>\n",
              "    </tr>\n",
              "    <tr>\n",
              "      <th>3</th>\n",
              "      <td>Sri Lanka</td>\n",
              "      <td>7</td>\n",
              "    </tr>\n",
              "    <tr>\n",
              "      <th>4</th>\n",
              "      <td>India</td>\n",
              "      <td>29</td>\n",
              "    </tr>\n",
              "  </tbody>\n",
              "</table>\n",
              "</div>\n",
              "      <button class=\"colab-df-convert\" onclick=\"convertToInteractive('df-bdadbd2b-6799-4996-b9b4-9eabedf75fc1')\"\n",
              "              title=\"Convert this dataframe to an interactive table.\"\n",
              "              style=\"display:none;\">\n",
              "        \n",
              "  <svg xmlns=\"http://www.w3.org/2000/svg\" height=\"24px\"viewBox=\"0 0 24 24\"\n",
              "       width=\"24px\">\n",
              "    <path d=\"M0 0h24v24H0V0z\" fill=\"none\"/>\n",
              "    <path d=\"M18.56 5.44l.94 2.06.94-2.06 2.06-.94-2.06-.94-.94-2.06-.94 2.06-2.06.94zm-11 1L8.5 8.5l.94-2.06 2.06-.94-2.06-.94L8.5 2.5l-.94 2.06-2.06.94zm10 10l.94 2.06.94-2.06 2.06-.94-2.06-.94-.94-2.06-.94 2.06-2.06.94z\"/><path d=\"M17.41 7.96l-1.37-1.37c-.4-.4-.92-.59-1.43-.59-.52 0-1.04.2-1.43.59L10.3 9.45l-7.72 7.72c-.78.78-.78 2.05 0 2.83L4 21.41c.39.39.9.59 1.41.59.51 0 1.02-.2 1.41-.59l7.78-7.78 2.81-2.81c.8-.78.8-2.07 0-2.86zM5.41 20L4 18.59l7.72-7.72 1.47 1.35L5.41 20z\"/>\n",
              "  </svg>\n",
              "      </button>\n",
              "      \n",
              "  <style>\n",
              "    .colab-df-container {\n",
              "      display:flex;\n",
              "      flex-wrap:wrap;\n",
              "      gap: 12px;\n",
              "    }\n",
              "\n",
              "    .colab-df-convert {\n",
              "      background-color: #E8F0FE;\n",
              "      border: none;\n",
              "      border-radius: 50%;\n",
              "      cursor: pointer;\n",
              "      display: none;\n",
              "      fill: #1967D2;\n",
              "      height: 32px;\n",
              "      padding: 0 0 0 0;\n",
              "      width: 32px;\n",
              "    }\n",
              "\n",
              "    .colab-df-convert:hover {\n",
              "      background-color: #E2EBFA;\n",
              "      box-shadow: 0px 1px 2px rgba(60, 64, 67, 0.3), 0px 1px 3px 1px rgba(60, 64, 67, 0.15);\n",
              "      fill: #174EA6;\n",
              "    }\n",
              "\n",
              "    [theme=dark] .colab-df-convert {\n",
              "      background-color: #3B4455;\n",
              "      fill: #D2E3FC;\n",
              "    }\n",
              "\n",
              "    [theme=dark] .colab-df-convert:hover {\n",
              "      background-color: #434B5C;\n",
              "      box-shadow: 0px 1px 3px 1px rgba(0, 0, 0, 0.15);\n",
              "      filter: drop-shadow(0px 1px 2px rgba(0, 0, 0, 0.3));\n",
              "      fill: #FFFFFF;\n",
              "    }\n",
              "  </style>\n",
              "\n",
              "      <script>\n",
              "        const buttonEl =\n",
              "          document.querySelector('#df-bdadbd2b-6799-4996-b9b4-9eabedf75fc1 button.colab-df-convert');\n",
              "        buttonEl.style.display =\n",
              "          google.colab.kernel.accessAllowed ? 'block' : 'none';\n",
              "\n",
              "        async function convertToInteractive(key) {\n",
              "          const element = document.querySelector('#df-bdadbd2b-6799-4996-b9b4-9eabedf75fc1');\n",
              "          const dataTable =\n",
              "            await google.colab.kernel.invokeFunction('convertToInteractive',\n",
              "                                                     [key], {});\n",
              "          if (!dataTable) return;\n",
              "\n",
              "          const docLinkHtml = 'Like what you see? Visit the ' +\n",
              "            '<a target=\"_blank\" href=https://colab.research.google.com/notebooks/data_table.ipynb>data table notebook</a>'\n",
              "            + ' to learn more about interactive tables.';\n",
              "          element.innerHTML = '';\n",
              "          dataTable['output_type'] = 'display_data';\n",
              "          await google.colab.output.renderOutput(dataTable, element);\n",
              "          const docLink = document.createElement('div');\n",
              "          docLink.innerHTML = docLinkHtml;\n",
              "          element.appendChild(docLink);\n",
              "        }\n",
              "      </script>\n",
              "    </div>\n",
              "  </div>\n",
              "  "
            ]
          },
          "metadata": {},
          "execution_count": 8
        }
      ]
    },
    {
      "cell_type": "markdown",
      "source": [
        "Furthermore, you can use the same syntax to declare the new rows and columns."
      ],
      "metadata": {
        "id": "-QYKwKY2n6wA"
      }
    },
    {
      "cell_type": "code",
      "source": [
        "df['Population in million']=[125.40,5.45,166.30,21.497,1391.99] # Add new column\n",
        "df.loc[1]=[\"Bhutan\",21,0.75]\n",
        "df"
      ],
      "metadata": {
        "colab": {
          "base_uri": "https://localhost:8080/",
          "height": 206
        },
        "id": "A9-Ba3Xpn6Th",
        "outputId": "09d5607b-95ff-459d-f1bc-9138abcd0be0"
      },
      "execution_count": null,
      "outputs": [
        {
          "output_type": "execute_result",
          "data": {
            "text/plain": [
              "  Name of Country  Infant mortality rate  Population in million\n",
              "0           Japan                      2                125.400\n",
              "1          Bhutan                     21                  0.750\n",
              "2      Bangladesh                     24                166.300\n",
              "3       Sri Lanka                      7                 21.497\n",
              "4           India                     29               1391.990"
            ],
            "text/html": [
              "\n",
              "  <div id=\"df-74d36a79-655b-48e6-bdb8-1032c1127191\">\n",
              "    <div class=\"colab-df-container\">\n",
              "      <div>\n",
              "<style scoped>\n",
              "    .dataframe tbody tr th:only-of-type {\n",
              "        vertical-align: middle;\n",
              "    }\n",
              "\n",
              "    .dataframe tbody tr th {\n",
              "        vertical-align: top;\n",
              "    }\n",
              "\n",
              "    .dataframe thead th {\n",
              "        text-align: right;\n",
              "    }\n",
              "</style>\n",
              "<table border=\"1\" class=\"dataframe\">\n",
              "  <thead>\n",
              "    <tr style=\"text-align: right;\">\n",
              "      <th></th>\n",
              "      <th>Name of Country</th>\n",
              "      <th>Infant mortality rate</th>\n",
              "      <th>Population in million</th>\n",
              "    </tr>\n",
              "  </thead>\n",
              "  <tbody>\n",
              "    <tr>\n",
              "      <th>0</th>\n",
              "      <td>Japan</td>\n",
              "      <td>2</td>\n",
              "      <td>125.400</td>\n",
              "    </tr>\n",
              "    <tr>\n",
              "      <th>1</th>\n",
              "      <td>Bhutan</td>\n",
              "      <td>21</td>\n",
              "      <td>0.750</td>\n",
              "    </tr>\n",
              "    <tr>\n",
              "      <th>2</th>\n",
              "      <td>Bangladesh</td>\n",
              "      <td>24</td>\n",
              "      <td>166.300</td>\n",
              "    </tr>\n",
              "    <tr>\n",
              "      <th>3</th>\n",
              "      <td>Sri Lanka</td>\n",
              "      <td>7</td>\n",
              "      <td>21.497</td>\n",
              "    </tr>\n",
              "    <tr>\n",
              "      <th>4</th>\n",
              "      <td>India</td>\n",
              "      <td>29</td>\n",
              "      <td>1391.990</td>\n",
              "    </tr>\n",
              "  </tbody>\n",
              "</table>\n",
              "</div>\n",
              "      <button class=\"colab-df-convert\" onclick=\"convertToInteractive('df-74d36a79-655b-48e6-bdb8-1032c1127191')\"\n",
              "              title=\"Convert this dataframe to an interactive table.\"\n",
              "              style=\"display:none;\">\n",
              "        \n",
              "  <svg xmlns=\"http://www.w3.org/2000/svg\" height=\"24px\"viewBox=\"0 0 24 24\"\n",
              "       width=\"24px\">\n",
              "    <path d=\"M0 0h24v24H0V0z\" fill=\"none\"/>\n",
              "    <path d=\"M18.56 5.44l.94 2.06.94-2.06 2.06-.94-2.06-.94-.94-2.06-.94 2.06-2.06.94zm-11 1L8.5 8.5l.94-2.06 2.06-.94-2.06-.94L8.5 2.5l-.94 2.06-2.06.94zm10 10l.94 2.06.94-2.06 2.06-.94-2.06-.94-.94-2.06-.94 2.06-2.06.94z\"/><path d=\"M17.41 7.96l-1.37-1.37c-.4-.4-.92-.59-1.43-.59-.52 0-1.04.2-1.43.59L10.3 9.45l-7.72 7.72c-.78.78-.78 2.05 0 2.83L4 21.41c.39.39.9.59 1.41.59.51 0 1.02-.2 1.41-.59l7.78-7.78 2.81-2.81c.8-.78.8-2.07 0-2.86zM5.41 20L4 18.59l7.72-7.72 1.47 1.35L5.41 20z\"/>\n",
              "  </svg>\n",
              "      </button>\n",
              "      \n",
              "  <style>\n",
              "    .colab-df-container {\n",
              "      display:flex;\n",
              "      flex-wrap:wrap;\n",
              "      gap: 12px;\n",
              "    }\n",
              "\n",
              "    .colab-df-convert {\n",
              "      background-color: #E8F0FE;\n",
              "      border: none;\n",
              "      border-radius: 50%;\n",
              "      cursor: pointer;\n",
              "      display: none;\n",
              "      fill: #1967D2;\n",
              "      height: 32px;\n",
              "      padding: 0 0 0 0;\n",
              "      width: 32px;\n",
              "    }\n",
              "\n",
              "    .colab-df-convert:hover {\n",
              "      background-color: #E2EBFA;\n",
              "      box-shadow: 0px 1px 2px rgba(60, 64, 67, 0.3), 0px 1px 3px 1px rgba(60, 64, 67, 0.15);\n",
              "      fill: #174EA6;\n",
              "    }\n",
              "\n",
              "    [theme=dark] .colab-df-convert {\n",
              "      background-color: #3B4455;\n",
              "      fill: #D2E3FC;\n",
              "    }\n",
              "\n",
              "    [theme=dark] .colab-df-convert:hover {\n",
              "      background-color: #434B5C;\n",
              "      box-shadow: 0px 1px 3px 1px rgba(0, 0, 0, 0.15);\n",
              "      filter: drop-shadow(0px 1px 2px rgba(0, 0, 0, 0.3));\n",
              "      fill: #FFFFFF;\n",
              "    }\n",
              "  </style>\n",
              "\n",
              "      <script>\n",
              "        const buttonEl =\n",
              "          document.querySelector('#df-74d36a79-655b-48e6-bdb8-1032c1127191 button.colab-df-convert');\n",
              "        buttonEl.style.display =\n",
              "          google.colab.kernel.accessAllowed ? 'block' : 'none';\n",
              "\n",
              "        async function convertToInteractive(key) {\n",
              "          const element = document.querySelector('#df-74d36a79-655b-48e6-bdb8-1032c1127191');\n",
              "          const dataTable =\n",
              "            await google.colab.kernel.invokeFunction('convertToInteractive',\n",
              "                                                     [key], {});\n",
              "          if (!dataTable) return;\n",
              "\n",
              "          const docLinkHtml = 'Like what you see? Visit the ' +\n",
              "            '<a target=\"_blank\" href=https://colab.research.google.com/notebooks/data_table.ipynb>data table notebook</a>'\n",
              "            + ' to learn more about interactive tables.';\n",
              "          element.innerHTML = '';\n",
              "          dataTable['output_type'] = 'display_data';\n",
              "          await google.colab.output.renderOutput(dataTable, element);\n",
              "          const docLink = document.createElement('div');\n",
              "          docLink.innerHTML = docLinkHtml;\n",
              "          element.appendChild(docLink);\n",
              "        }\n",
              "      </script>\n",
              "    </div>\n",
              "  </div>\n",
              "  "
            ]
          },
          "metadata": {},
          "execution_count": 9
        }
      ]
    },
    {
      "cell_type": "markdown",
      "source": [
        "**Note:** Remaining manipulation of DataFrame will be explored as you move on with remaining topics. Still then, you can have a look in this link (https://www.makeuseof.com/pandas-manipulate-dataframes/)."
      ],
      "metadata": {
        "id": "RDz7VrTsvPVa"
      }
    },
    {
      "cell_type": "markdown",
      "source": [
        "#### **1.3.5 Graphical representation of data**\n",
        "\n",
        "Graphical representation is a visual representation of data based on data using graphs, plots and charts. This type of representation is more useful for understanding and comparing data than seen in a tabular form. Graphical representation helps to qualify, sort, and present data in a method that is simple to understand for a larger audience. Graphs allow you to study cause and effect relationships between two variables through both time series and frequency distribution.\n",
        "\n",
        "#### **1.3.5.1 Uses of Graphical Representation of Data**\n",
        "\n",
        "The main use of graphical representation of data is to understand and identify trends and patterns in data. It helps you analyze large volumes, compare two or more data, make predictions, and make informed decisions. Visual display of data helps to avoid confusion and duplication of information. Graphs such as line charts and bar charts clearly display two or more data for easy comparison. This is important in communicating our results to others and in understanding and analyzing the data."
      ],
      "metadata": {
        "id": "ytfP6-SRwtp1"
      }
    },
    {
      "cell_type": "markdown",
      "source": [
        "#### **1.3.6 Data Visualization with `Matplotlib` and `Seaborn`**\n",
        "\n",
        "Data visualization is undoubtedly an integral part of any data flow. Good visualizations can not only help scientists and researchers find unique insights about their data, but also help convey complex, advanced ideas in an intuitive, easy to\n",
        "understand way. In Python, the backend of most of the data visualization tools is connected to the `Matplotlib` library, which offers an incredibly wide range of options and functionalities.\n",
        "\n",
        "First, to install `Matplotlib`, simply run the following command."
      ],
      "metadata": {
        "id": "cuo5p2hYaJRI"
      }
    },
    {
      "cell_type": "code",
      "source": [
        "!pip install matplotlib"
      ],
      "metadata": {
        "id": "UIb4qQqUwloP"
      },
      "execution_count": null,
      "outputs": []
    },
    {
      "cell_type": "markdown",
      "source": [
        "The convention in Python is to import the `pyplot` package from the `Matplotlib` library, like so:"
      ],
      "metadata": {
        "id": "0p2e_fh5cRlL"
      }
    },
    {
      "cell_type": "code",
      "source": [
        "import matplotlib.pyplot as plt"
      ],
      "metadata": {
        "id": "a9JBk5QQniAz"
      },
      "execution_count": null,
      "outputs": []
    },
    {
      "cell_type": "markdown",
      "source": [
        "This **pyplot** package, whose alias is now **plt**, is the main workhorse for any visualization functionality in Python and will therefore be used extensively.\n",
        "\n",
        "Generally, instead of studying the theoretical assumptions of the library. In the following section, we'll take a more practical approach and look at a few different things. As a result, it becomes practical takeaway that will be useful for your own project in the future."
      ],
      "metadata": {
        "id": "aTmz8Isgclmf"
      }
    },
    {
      "cell_type": "markdown",
      "source": [
        "#### **1.3.6.1 Scatter Plots**\n",
        "\n",
        "One of the simplest visualization methods is the scatter plot.\n",
        "A point on a plane (or other higher-dimensional space). This is done simply by `plt.scatter()` function. For example, suppose you have a list of six items, whose $x$ and $y$ coordinates are respectively stored in the following two lists:"
      ],
      "metadata": {
        "id": "-l6xMzmUcvkK"
      }
    },
    {
      "cell_type": "code",
      "source": [
        "x = [1,3,4,1.5,6,2,8]\n",
        "\n",
        "y = [-2,4,3,6,1,1,10]"
      ],
      "metadata": {
        "id": "9q6eoGwgy-eS"
      },
      "execution_count": null,
      "outputs": []
    },
    {
      "cell_type": "markdown",
      "source": [
        "Now, we can use the `plt.scatter()` function to create a scatter plot."
      ],
      "metadata": {
        "id": "ijz__ZWi0A7A"
      }
    },
    {
      "cell_type": "code",
      "source": [
        "import matplotlib.pyplot as plt\n",
        "\n",
        "plt.scatter(x,y)         \n",
        "plt.title('Scatter Plot') #To format the chart title\n",
        "plt.xlabel('x')           #To format the x-axis title\n",
        "plt.ylabel('y')           #To format the y-axis title\n",
        "plt.show()"
      ],
      "metadata": {
        "colab": {
          "base_uri": "https://localhost:8080/",
          "height": 295
        },
        "id": "g7SCDjMwzwcz",
        "outputId": "1c4fc9a8-cde6-4af6-8c9f-7915f476020c"
      },
      "execution_count": null,
      "outputs": [
        {
          "output_type": "display_data",
          "data": {
            "text/plain": [
              "<Figure size 432x288 with 1 Axes>"
            ],
            "image/png": "[encoded data removed]"
          },
          "metadata": {
            "needs_background": "light"
          }
        }
      ]
    },
    {
      "cell_type": "markdown",
      "source": [
        "As for the `plt.scatter()` function, there are arguments that we can specify to customize our plots further. For example, we can customize the size of the individual points, as well as their respective colors:"
      ],
      "metadata": {
        "id": "mQF0DHeDnTtn"
      }
    },
    {
      "cell_type": "code",
      "source": [
        "sizes = [10, 40, 60, 80, 100,50,70]\n",
        "colors = ['r', 'b', 'y', 'g', 'k','b','b']\n",
        "plt.scatter(x, y, s=sizes, c=colors)\n",
        "plt.show()"
      ],
      "metadata": {
        "colab": {
          "base_uri": "https://localhost:8080/",
          "height": 265
        },
        "id": "hucZCSkyncSV",
        "outputId": "0b914780-1199-4c17-f8e7-b17985d0422b"
      },
      "execution_count": null,
      "outputs": [
        {
          "output_type": "display_data",
          "data": {
            "text/plain": [
              "<Figure size 432x288 with 1 Axes>"
            ],
            "image/png": "[encoded data removed]"
          },
          "metadata": {
            "needs_background": "light"
          }
        }
      ]
    },
    {
      "cell_type": "markdown",
      "source": [
        "This feature is useful when the points you want to see in the distribution belong to different data groups, but then you can assign a different color to each group."
      ],
      "metadata": {
        "id": "lasLAbbRpcDF"
      }
    },
    {
      "cell_type": "markdown",
      "source": [
        "A potential goal of a scatter plot is to identify any existing groups in our data that can give us more information about its\n",
        "relationships between the attributes of our dataset."
      ],
      "metadata": {
        "id": "mOsk3KuL2Wik"
      }
    },
    {
      "cell_type": "markdown",
      "source": [
        "#### **1.3.6.2 Line Graphs**\n",
        "\n",
        "Line charts are another of the most basic visualization methods, where the points are plotted along the curve, rather than scattered individually. This is done by simple `plt.plot()` function. As an example, we are plotting out the $cosine$ wave\n",
        "(from $0$ to $10$) in the following code:"
      ],
      "metadata": {
        "id": "0sWeO9dCpuL3"
      }
    },
    {
      "cell_type": "code",
      "source": [
        "import numpy as np\n",
        "x = np.linspace(0, 10, 10000)\n",
        "y = np.cos(x)\n",
        "\n",
        "plt.plot(x, y)\n",
        "plt.show()"
      ],
      "metadata": {
        "id": "kbX-CCvw0ZWn",
        "colab": {
          "base_uri": "https://localhost:8080/",
          "height": 265
        },
        "outputId": "5a7c4441-71ae-450e-e101-33462b67bcdb"
      },
      "execution_count": null,
      "outputs": [
        {
          "output_type": "display_data",
          "data": {
            "text/plain": [
              "<Figure size 432x288 with 1 Axes>"
            ],
            "image/png": "[encoded data removed]"
          },
          "metadata": {
            "needs_background": "light"
          }
        }
      ]
    },
    {
      "cell_type": "markdown",
      "source": [
        "Note that the `np.linspace()` function returns a set of equal spaces numbers between two endpoints. In our case, we get $10000$ evenly distributed numbers from $0$ to $10$. The goal here is to take the $cosine$ function on these numbers and plot them out.Since the points are very close to each other, this will create the effect of plotting a really smooth function."
      ],
      "metadata": {
        "id": "lWXY_2MSradp"
      }
    },
    {
      "cell_type": "markdown",
      "source": [
        "Similar to the scatter plot, we can customize different things\n",
        "for our line graphs, especially line colors and styles. The following code, which is plotting three separate curves (the $y = x$ graph, the natural logarithm function, and the cosine wave), provides an example of this:"
      ],
      "metadata": {
        "id": "kC9HQhousbUc"
      }
    },
    {
      "cell_type": "code",
      "source": [
        "x = np.linspace(1, 10, 10000)\n",
        "\n",
        "linear_line = x\n",
        "log_curve = np.log(x)\n",
        "cos_wave = np.cos(x)\n",
        "\n",
        "curves = [linear_line, log_curve, cos_wave]\n",
        "\n",
        "colors = ['k', 'r', 'b']\n",
        "styles = ['-', '--', ':']\n",
        "\n",
        "for curve, color, style in zip(curves, colors, styles):\n",
        "  plt.plot(x, curve, c=color, linestyle=style)\n",
        "  \n",
        "plt.show()"
      ],
      "metadata": {
        "colab": {
          "base_uri": "https://localhost:8080/",
          "height": 265
        },
        "id": "WlkH0_rrq3mY",
        "outputId": "376e0e6f-5116-4234-c21e-e7ab3f5da460"
      },
      "execution_count": null,
      "outputs": [
        {
          "output_type": "display_data",
          "data": {
            "text/plain": [
              "<Figure size 432x288 with 1 Axes>"
            ],
            "image/png": "[encoded data removed]"
          },
          "metadata": {
            "needs_background": "light"
          }
        }
      ]
    },
    {
      "cell_type": "markdown",
      "source": [
        "Generally, line graphs are used to visualize the trend of a specific function, which is represented by a list of points sequenced in order. As such, this method is highly applicable to data with some sequential elements, such as a time series dataset.\n",
        "\n",
        "Next, we will see Bar Graphs in `matplotlib`."
      ],
      "metadata": {
        "id": "Oy_WTvXxxQWE"
      }
    },
    {
      "cell_type": "markdown",
      "source": [
        "#### **1.3.6.3 Bar Graphs**\n",
        "\n",
        "Bar graphs are typically used to represent the counts of unique values in a dataset via the height of individual bars. In terms of implementation in `Matplotlib`, this is done using the `plt.bar()` function, as follows:"
      ],
      "metadata": {
        "id": "oVG8NXkg7s3m"
      }
    },
    {
      "cell_type": "code",
      "source": [
        "labels = ['Type 1', 'Type 2', 'Type 3']\n",
        "counts = [2, 3, 5]\n",
        "\n",
        "plt.bar(labels, counts)\n",
        "plt.show()"
      ],
      "metadata": {
        "colab": {
          "base_uri": "https://localhost:8080/",
          "height": 265
        },
        "id": "D8mepL1Jw8iO",
        "outputId": "eaf900a6-f2ae-44aa-ca34-22dab3be11e0"
      },
      "execution_count": null,
      "outputs": [
        {
          "output_type": "display_data",
          "data": {
            "text/plain": [
              "<Figure size 432x288 with 1 Axes>"
            ],
            "image/png": "[encoded data removed]"
          },
          "metadata": {
            "needs_background": "light"
          }
        }
      ]
    },
    {
      "cell_type": "markdown",
      "source": [
        "The first argument that the `plt.bar()` function takes in (the variable **labels**, in this case) determines what will be the marks for individual bars, and for others the argument (in this case, **counts**) specifies the height of the columns."
      ],
      "metadata": {
        "id": "NK2edGcr_urt"
      }
    },
    {
      "cell_type": "markdown",
      "source": [
        "**Multiple Bar Plots:**"
      ],
      "metadata": {
        "id": "_7C-wU4n2XlY"
      }
    },
    {
      "cell_type": "markdown",
      "source": [
        "Multiple bar plots are used when comparison among the data set is to be done when one variable is changing. We can easily convert it as a stacked area bar chart, where each subgroup is displayed by one on top of the others. It can be plotted by varying the thickness and position of the bars. Following bar plot shows the number of students passed in the IT branch:"
      ],
      "metadata": {
        "id": "nVU07qICxg94"
      }
    },
    {
      "cell_type": "code",
      "source": [
        "import numpy as np\n",
        "import matplotlib.pyplot as plt\n",
        "\n",
        "# set width of bar\n",
        "barWidth = 0.25\n",
        "fig = plt.subplots(figsize =(8, 5))\n",
        "\n",
        "# set height of bar\n",
        "Blockchain = [12, 30, 1, 8]\n",
        "Fullstack = [28, 6, 16, 5]\n",
        "AI = [29, 3, 24, 25]\n",
        "\n",
        "# Set position of bar on X axis\n",
        "br1 = np.arange(len(Blockchain))\n",
        "br2 = [x + barWidth for x in br1]\n",
        "br3 = [x + barWidth for x in br2]\n",
        "\n",
        "# Make the plot\n",
        "plt.bar(br1, Blockchain, color ='r', width = barWidth, edgecolor ='grey', label ='Blockchain')\n",
        "plt.bar(br2, Fullstack, color ='g', width = barWidth, edgecolor ='grey', label ='Fullstack')\n",
        "plt.bar(br3, AI, color ='b', width = barWidth, edgecolor ='grey', label ='AI')\n",
        "\n",
        "# Adding Xticks\n",
        "plt.xlabel('Branch', fontweight ='bold', fontsize = 15)\n",
        "plt.ylabel('Students passed', fontweight ='bold', fontsize = 15)\n",
        "plt.xticks([r + barWidth for r in range(len(Blockchain))], ['2019','2020','2021','2022'])\n",
        "\n",
        "plt.legend()\n",
        "plt.show()\n"
      ],
      "metadata": {
        "colab": {
          "base_uri": "https://localhost:8080/",
          "height": 339
        },
        "id": "xlYIR-DKBPgv",
        "outputId": "d9c3d3b5-706b-43b4-e315-b7f03f63aa64"
      },
      "execution_count": null,
      "outputs": [
        {
          "output_type": "display_data",
          "data": {
            "text/plain": [
              "<Figure size 576x360 with 1 Axes>"
            ],
            "image/png": "[encoded data removed]"
          },
          "metadata": {
            "needs_background": "light"
          }
        }
      ]
    },
    {
      "cell_type": "markdown",
      "source": [
        "**Stacked Bar Plot:**"
      ],
      "metadata": {
        "id": "6DyomC5L3-7s"
      }
    },
    {
      "cell_type": "markdown",
      "source": [
        "Stacked bar plots represent different groups on top of one another. The height of the bar depends on the resulting height of the combination of the results of the groups. It goes from the bottom to the value instead of going from zero to value. The following bar plot represents the contribution of boys and girls in the team."
      ],
      "metadata": {
        "id": "wJrOvFo94Gs9"
      }
    },
    {
      "cell_type": "code",
      "source": [
        "import numpy as np\n",
        "import matplotlib.pyplot as plt\n",
        "\n",
        "N = 4\n",
        "\n",
        "boys = (20, 35, 30, 35)\n",
        "girls = (25, 32, 34, 20)\n",
        "boyStd = (2, 3, 4, 1)\n",
        "girlStd = (3, 5, 2, 3)\n",
        "index = np.arange(N)\n",
        "width = 0.35\n",
        "\n",
        "fig = plt.subplots(figsize =(8, 5))\n",
        "p1 = plt.bar(index, boys, width)\n",
        "p2 = plt.bar(index, girls, width, bottom = boys)\n",
        "\n",
        "plt.ylabel('Contribution')\n",
        "plt.title('Contribution by the teams')\n",
        "plt.xticks(index, ('T1', 'T2', 'T3', 'T4'))\n",
        "plt.yticks(np.arange(0, 81, 10))\n",
        "plt.legend((p1[0], p2[0]), ('boys', 'girls'))\n",
        "\n",
        "plt.show()\n"
      ],
      "metadata": {
        "colab": {
          "base_uri": "https://localhost:8080/",
          "height": 336
        },
        "id": "jQ1LXaIT1EF5",
        "outputId": "4b6347bf-a508-4a56-cffc-7775f6e69970"
      },
      "execution_count": null,
      "outputs": [
        {
          "output_type": "display_data",
          "data": {
            "text/plain": [
              "<Figure size 576x360 with 1 Axes>"
            ],
            "image/png": "[encoded data removed]"
          },
          "metadata": {
            "needs_background": "light"
          }
        }
      ]
    },
    {
      "cell_type": "markdown",
      "source": [
        "#### **1.3.6.4 Histograms**\n",
        "\n",
        "A histogram is basically used to represent data provided in a form of some groups. It's accurate method for the graphical representation of numerical data distribution. It is a type of bar plot where X-axis represents the bin ranges while Y-axis gives information about frequency.\n",
        "\n",
        "The `plt.hist()` function is used to compute and create histogram of $x$. "
      ],
      "metadata": {
        "id": "_U4OI7OT7QoQ"
      }
    },
    {
      "cell_type": "markdown",
      "source": [
        "Let’s create a basic histogram of some random values. Below code creates a simple histogram of some random values:  "
      ],
      "metadata": {
        "id": "eCLo70Uf7szp"
      }
    },
    {
      "cell_type": "code",
      "source": [
        "from matplotlib import pyplot as plt\n",
        "import numpy as np\n",
        "\n",
        "# Creating dataset\n",
        "ds = np.array([22, 87, 5, 43, 56, 73, 55, 54, 11, 20, 51, 5, 79, 31, 27])\n",
        "\n",
        "# Creating histogram\n",
        "fig, ax = plt.subplots(figsize =(8, 5))\n",
        "ax.hist(ds, bins = [0, 25, 50, 75, 100])\n",
        "\n",
        "# Show plot\n",
        "plt.show()\n"
      ],
      "metadata": {
        "colab": {
          "base_uri": "https://localhost:8080/",
          "height": 320
        },
        "id": "o4Q9w2cF4at_",
        "outputId": "adce92a8-48ce-4944-ad19-b77818eba714"
      },
      "execution_count": null,
      "outputs": [
        {
          "output_type": "display_data",
          "data": {
            "text/plain": [
              "<Figure size 576x360 with 1 Axes>"
            ],
            "image/png": "[encoded data removed]"
          },
          "metadata": {
            "needs_background": "light"
          }
        }
      ]
    },
    {
      "cell_type": "markdown",
      "source": [
        "Matplotlib provides a range of different methods to customize histogram. "
      ],
      "metadata": {
        "id": "3-yYhJB18off"
      }
    },
    {
      "cell_type": "markdown",
      "source": [
        "#### **1.3.6.5 Pie Chart**\n",
        "\n",
        "A **Pie Chart** is a circular statistical plot that can display only one series of data. The area of the chart is the total percentage of the given data. The area of slices of the pie represents the percentage of the parts of the data. The slices of pie are called wedges. The area of the wedge is determined by the length of the arc of the wedge. The area of a wedge represents the relative percentage of that part with respect to whole data. Pie charts are commonly used in business presentations like sales, operations, survey results, resources, etc as they provide a quick summary."
      ],
      "metadata": {
        "id": "54OQ2mkQ-O2T"
      }
    },
    {
      "cell_type": "markdown",
      "source": [
        "Let’s create a simple pie chart using the `pie()` function:"
      ],
      "metadata": {
        "id": "_qI-Qxt7-v0O"
      }
    },
    {
      "cell_type": "code",
      "source": [
        "# Import libraries\n",
        "from matplotlib import pyplot as plt\n",
        "import numpy as np\n",
        "\n",
        "# Creating dataset\n",
        "cars = ['Kia', 'Van', 'EV', 'TESLA', 'Alto', 'Swift']\n",
        "\n",
        "data = [23, 17, 35, 2, 30, 23]\n",
        "\n",
        "# Creating plot\n",
        "fig = plt.figure(figsize =(9, 6))\n",
        "plt.pie(data, labels = cars)\n",
        "\n",
        "# show plot\n",
        "plt.show()\n"
      ],
      "metadata": {
        "colab": {
          "base_uri": "https://localhost:8080/",
          "height": 357
        },
        "id": "gkI7UHU78Zg9",
        "outputId": "7f3ade84-5353-41f1-e2ea-05ddb0cf1a07"
      },
      "execution_count": null,
      "outputs": [
        {
          "output_type": "display_data",
          "data": {
            "text/plain": [
              "<Figure size 648x432 with 1 Axes>"
            ],
            "image/png": "[encoded data removed]"
          },
          "metadata": {}
        }
      ]
    },
    {
      "cell_type": "markdown",
      "source": [
        "#### **1.3.6.6 HeatMaps**\n",
        "\n",
        "A heatmap is generated with a 2D array of numbers, where numbers with high values correspond to hot colors, and low-valued numbers correspond to cold colors. With `Matplotlib`, a heatmap is created with the `plt.imshow()` function. Let's say we have the following code:"
      ],
      "metadata": {
        "id": "vDf_cb0BAVrt"
      }
    },
    {
      "cell_type": "code",
      "source": [
        "import numpy as np\n",
        "import matplotlib.pyplot as plt\n",
        "\n",
        "my_map = np.random.randn(10, 10)\n",
        "\n",
        "plt.imshow(my_map)\n",
        "plt.colorbar()\n",
        "plt.show()"
      ],
      "metadata": {
        "colab": {
          "base_uri": "https://localhost:8080/",
          "height": 267
        },
        "id": "23WThj04_r_Y",
        "outputId": "2cc2ef44-5e07-4f93-8f8e-e5da4b13ebd0"
      },
      "execution_count": null,
      "outputs": [
        {
          "output_type": "display_data",
          "data": {
            "text/plain": [
              "<Figure size 432x288 with 2 Axes>"
            ],
            "image/png": "[encoded data removed]"
          },
          "metadata": {
            "needs_background": "light"
          }
        }
      ]
    },
    {
      "cell_type": "markdown",
      "source": [
        "Notice that with this representation, any group structure in the input 2D array (for example, if there is a block of cells whose values are significantly greater than the rest) will be effectively visualized."
      ],
      "metadata": {
        "id": "hk7fg7_SBPJf"
      }
    },
    {
      "cell_type": "markdown",
      "source": [
        "An important use of heatmaps is when we consider the correlation matrix of a dataset (which is a 2D array containing a correlation between any given pair of attributes within the dataset). A heatmap will be able to help us pinpoint any and all attributes that are highly correlated to one another."
      ],
      "metadata": {
        "id": "khbq7FIgBe_V"
      }
    },
    {
      "cell_type": "markdown",
      "source": [
        "#### **To Do:**"
      ],
      "metadata": {
        "id": "vz00sTN1iuTf"
      }
    },
    {
      "cell_type": "markdown",
      "source": [
        "In this activity, we will practice some basic data processing and analysis techniques on a dataset available online called Communities and Crime, with the hope of consolidating our knowledge and techniques. Specifically, we will process missing\n",
        "values in the dataset, iterate through the attributes, and visualize the distribution of their values.\n",
        "\n",
        "You may download the dataset from this link [https://drive.google.com/file/d/1EEo1Zu0sTvx2UK-1Til_a_TD9jhAv5jv/view?usp=sharing].\n",
        "\n",
        "Now, perform the following steps:\n",
        "\n",
        "1. As a first step, import the libraries that we will be using: `pandas`, `NumPy`, and `Matplotlib`.\n",
        "2. Read in the dataset from the text file using `pandas` and print out the first five rows by calling the `head()` method on the DataFrame object.\n",
        "3. Print out the total number of rows and columns.\n",
        "4. Notice that missing values are indicated as **'?'** in different cells of the dataset. Call the `replace()` method on the DataFrame object to replace that character with `np.nan` to faithfully represent missing values in Python.\n",
        "5. Print out the list of columns in the dataset and their respective numbers of missing values using `df.isnull().sum()`, where **df** is the variable name of the DataFrame object.\n",
        "6. Using the `df.isnull().sum()`[column_name] syntax (where column_\n",
        "name **bold text** is the name of the column we are interested in), print out the number of missing values in the **NumStreet** and **PolicPerPop** columns.\n",
        "7. Compute a DataFrame object that contains a list of values in the **state** attribute and their respective counts. Then, use the **DataFrame.plot.bar()** method to visualize that information in a bar graph.\n",
        "8. Observe that, with the default scale of the plot, the labels on the x-axis are overlapping. Address this problem by making the plot bigger with the **f, ax = plt.subplots(figsize=(15, 10))** command. This should be placed at the beginning of any plotting commands.\n",
        "9. Using the same value count **DataFrame** object that we used previously, call the **DataFrame.plot.pie()** method to create a corresponding pie chart. Adjust the figure size to ensure that the labels for your graph are displayed correctly."
      ],
      "metadata": {
        "id": "-6w1pz8-ix2k"
      }
    },
    {
      "cell_type": "markdown",
      "source": [
        "## **1.4 Measures of Central Tendency**"
      ],
      "metadata": {
        "id": "9i-MlRIAC59s"
      }
    },
    {
      "cell_type": "markdown",
      "source": [
        "A **measure of central tendency** is a single value that attempts to describe a set of data by identifying the central position within that set of data. As such, measures of central tendency are sometimes called measures of central location. They are also classed as summary statistics. The mean (often called the average) is most likely the measure of central tendency that you are most familiar with, but there are others, such as the median and the mode.\n",
        "\n",
        "The **mean**, **median** and **mode** are all valid measures of central tendency, but under different conditions, some measures of central tendency become more appropriate to use than others. In the following sections, we will look at the mean, mode and median, and learn how to calculate them and under what conditions they are most appropriate to be used."
      ],
      "metadata": {
        "id": "pAwzm7nBoC-N"
      }
    },
    {
      "cell_type": "markdown",
      "source": [
        "#### **1.4.1 The (Arithmetic) Mean**"
      ],
      "metadata": {
        "id": "1gesbBQAEhbO"
      }
    },
    {
      "cell_type": "markdown",
      "source": [
        "The **arithmetic mean** in statistics, ​​is nothing but the ratio of all observations to the total number of observations in the data set. Some of the examples include the average rainfall of a place, the average income of employees in an organization. We often come across statements like \"the average monthly income of a family is Nu.$5000$ or the average monthly rainfall of a place is $100$ mm\" quite often. Average is typically referred to as Arithmetic Mean."
      ],
      "metadata": {
        "id": "cT7t1OFRMFGy"
      }
    },
    {
      "cell_type": "markdown",
      "source": [
        "The general formula to find the arithmetic mean of a given data is:\n",
        "$$\\bar{x}=\\frac{x_1+x_2+...+x_n}{n}=\\frac{\\displaystyle\\sum_{i=1}^nx_i}{n}$$"
      ],
      "metadata": {
        "id": "qweQ8hHZwLCo"
      }
    },
    {
      "cell_type": "markdown",
      "source": [
        "Now consider a case where we have huge data, will it be convenient to find the arithmetic mean with the above method? The answer is a big NO! So, how can we find the mean? We arrange the data in a form that is meaningful and easy to comprehend. We will study more in detail about finding the arithmetic mean for **ungrouped** and **grouped** data. The arithmetic mean for grouped and ungrouped data can be calculated using the following formula.\n",
        "$$\\bar{x}=\\frac{\\displaystyle\\sum_{i=1}^nx_i}{n}~~~(Ungrouped~~data)$$\n",
        "$$\\bar{x}=\\frac{\\displaystyle\\sum_{i=1}^nf_ix_i}{N}~~~(Grouped~~data)$$\n",
        "\n",
        "Where: \n",
        "\n",
        "$f$ is the frequency in each class\n",
        "\n",
        "$x$ is the midpoint of each class\n",
        "\n",
        "$N=\\sum f_i$ is the total number of scores\n",
        "\n"
      ],
      "metadata": {
        "id": "g9oz6-H_xMcD"
      }
    },
    {
      "cell_type": "markdown",
      "source": [
        "#### **1.4.1.1 Properties of Arithmetic Mean**\n",
        "\n",
        "Let us have a look at some of the important properties of the arithmetic mean. Suppose we have $n$ observations denoted by $x_1, x_2, x_3, ….,x_n$ and $\\bar{x}$ is their arithmetic mean, then:"
      ],
      "metadata": {
        "id": "usQBPw8C_65j"
      }
    },
    {
      "cell_type": "markdown",
      "source": [
        "\n",
        "\n",
        "1.   The algebraic sum of deviations of a set of observations from their arithmetic mean is zero. For discrete data, $\\sum (x_i-\\bar{x})=0$. For grouped frequency distribution, $\\sum f(x_i-\\bar{x})=0$.\n",
        "2.   If each value in the data increases or decreases by a fixed value, then the mean also increases/decreases by the same number. \n",
        "3.   If each value in the data gets multiplied or divided by a fixed value, then the mean also gets multiplied or divided by the same number.\n",
        "\n",
        "**Note:** While dividing each value by $k$, it must be a non-zero number as division by $0$ is not defined.\n",
        "\n"
      ],
      "metadata": {
        "id": "LI4E4OVeANSe"
      }
    },
    {
      "cell_type": "markdown",
      "source": [
        "With this let's see some examples."
      ],
      "metadata": {
        "id": "SktwxVppCE-d"
      }
    },
    {
      "cell_type": "markdown",
      "source": [
        "**Example 1: For ungrouped data.**  \n",
        "\n",
        "Compute the arithmetic mean of the first $6$ odd, natural numbers.\n",
        "\n",
        "**Solution:** The first $6$ odd, natural numbers: $1, 3, 5, 7, 9, 11$\n",
        "$$\\therefore \\bar{x}=\\frac{(1+3+5+7+9+11)}{6}=\\frac{36}{6}=6$$\n",
        "Thus, the arithmetic mean is $6$."
      ],
      "metadata": {
        "id": "lDsVzyv1CNKl"
      }
    },
    {
      "cell_type": "markdown",
      "source": [
        "**Example 2: For discrete grouped data.**\n",
        "\n",
        "Find the mean of the following distribution:"
      ],
      "metadata": {
        "id": "WL6X6V4qDPVo"
      }
    },
    {
      "cell_type": "markdown",
      "source": [
        "![image.png](data:image/png;base64,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)"
      ],
      "metadata": {
        "id": "KIZP2RnlE9Yn"
      }
    },
    {
      "cell_type": "markdown",
      "source": [
        "**Solution:** Using the mean formula, we have \n",
        "$$\\sum f_ix_i=2750,\\sum f_i=50 $$\n",
        "Plugging into the formula, we get\n",
        "$$\\therefore \\bar{x}=\\frac{\\sum f_ix_i}{\\sum f_i}=\\frac{2750}{50}=55$$\n",
        "Thus, mean is $55$."
      ],
      "metadata": {
        "id": "gBEyaCqHFBYK"
      }
    },
    {
      "cell_type": "markdown",
      "source": [
        "**Example 3: For continuous grouped data.** \n",
        "\n",
        "Find the mean of the following distribution:\n"
      ],
      "metadata": {
        "id": "zVJt3VbIGNrI"
      }
    },
    {
      "cell_type": "markdown",
      "source": [
        "![image.png](data:image/png;base64,iVBORw0KGgoAAAANSUhEUgAAAysAAABGCAYAAADM1QtFAAAAAXNSR0IArs4c6QAAAARnQU1BAACxjwv8YQUAAAAJcEhZcwAAFiUAABYlAUlSJPAAABPlSURBVHhe7Z09eqM8F4ZPvrXYKWa8AryCeJqp0k6HS7uZLmW6NLiMu2lTpRlYQbwCv1ME74XvHCGBwOBAYhDGz31dSjDIkngkJB3045uEIea///6j79+/yyEACpQJt0B/t0B/t0B/t0B/t0B/t0B/t5T1/5/+DwAAAAAAAACDAsYKAAAAAAAAYJDAWAEAAAAAAAAMEhgrAAAAAAAAgEECYwUAAAAAAAAwSG72+73aDWw2m6kTAAAAAAAAAOAKtk/0ERsrZuvim5sb0ocAKFAm3AL93QL93QL93QL93QL93QL93VLWH9PAAAAAAAAAAIMExgoAAAAAAABgkMBYAQAAAAAAAAwSGCsAAAAAAACAQQJjBQAAAAAAADBIYKwAAAAAAAAABklHxsqBNvMbtfXYzXzDn8CwQP4AAAAAAIDh8ylj5RBtaDmfp51d7ebzJW2iS+j2FjvqkT4LHHOQMiX5sqzOE74+t8pb0dV8p4bDISqV3zktN9Gx0XbGOIeKCy2gf45zLaJlFu58U4r1CvQv0IcWbcIZu/5OtThwds+LYfJzuLQDGrv+GX1pYfW9at2cskdv1Po71ILbnE0pvyv77wPTv+WPQorAU1rv9McjPAriN1pNLH9eQPHbiiaphwHAnYObBW3VsUmv+tASKxw/pOT5Tp29DJrlT7My8XUOmzlNs0LlU5g805Ga8uBM15xen2YzfS7jJ/1m/ZtkYx6Xx0HNaEZ72m513OV8PFOcn6Vr/Z1owR3Cm4U8NdDfvRbF+twLYnqzK8Ox61+gJy3ahDN2/Z1pYdpuee7u6eHnLZ97p9fXF9p/e+B818/d2PVX9KkFG0WbJ3r9pz+W2G+3tLPb/1Hr70qLivx+f6XHtcQnzU5CHFTK0PTnDwrrsIY4CTxS/pTzgiSM9SW+Fod+4nleEqhzll/2l3kbBOdKW5j4RgvO4cuimQZyvVvydHhBqI99VraCOEg89vdVqePAU3EV7lmHzU+lLr+aM8X5WbrW34UWp+Ms5f1V69+9FhK/yufAV/fKHXR9RTNy/W1606JNOGPX34kWps0p1W9VjF3/IWnB/Ue530JfavT619ChFmk9VxGODn/I+jefBhY95SMq+m38XWZWTWhy90xvb58dpeiTCa3eElGBkkGN+Fwhh7/0spPRrYTeVlN9slsmqzf1tqiQ75MfdM9PJdGO/sXqzFXgQovTce7pvTQSPWbcahHRk1To/gOt5GXqVQMtrgbV5kgX5s8F9FU6ZkBaRK/pCHPw27zWv1661CL+J514j7710906K42NlVTAFP/h8538uvUux8tdZJgsn0Nc7a+JnzIy3K/9W4vLZUqMOicTNfWcPhPmjczns8KMlnLeTCVjtgvt15pjqDieC1qVvmLcZu0G+91s8rQezRGsuY/G+g6AyYrekiEZuJf5EHcDtBgz0VLqL5/CbMz/eoEW18Ph7wvtuG67/3HtlsqAtOA+z6Pqn9/T1WdLx1pMv8mbsB29/C12CNOywNEOuNFvaKxElNsqPv38ZJ0unfzpYk3bnciSs9ttaTEtdvSj5ZQWeh6dQfn7lXfMm/hpzfaR5tMFrc3ccYHDXJfS9zEyN5DTx+EcpY/DKixeM+wlbtEn/bj7d0s/0teszJZe7e/otyKCd/9DGY9t9L1U9u8RRZF2h3PdUEzqhQPN6LaigugmzqHiQAszaitvtq9d/z600A2iF/w+XhtWwaj1d6RFm3DGXv771CJ9szzjg/JLvZqNLZix6j8ULaKnteoj1b0EH3v5t+lai8nqDwXcpdytpzRfblQYkVm76of0p6LRGYz+6Wywj+bnWesz6tYUFKheExH6XuJ5/P04nyApa13ScK15wmb+nH2OQ4kDWRejw2vip5LqtJm5fKmTNB6fL85jPr1mJfRNWF4SZIFZ36mNO58/qv5Z92nHk38n999Y3xoNysj1/jBpqilftg4F5yV+IV/ak2lZzscO42yCxNU3vWjBz0EYiguSgMusCkfKrb6ccQ36966Ffs7s517XEcX6jRm9/g60aBPO2PXvXQur3WPn+fzM6WfPN+ftem/U+g9FC9MnutL6v0BfWsSqr2iHc1TfCQPTP/tUvlDkPMZKNVWdfrtTz/FVBtDETxXVaavq/KdUpU+oOy/UX6uKJz9XtZjJrlRy7XNj6KP8qEpLs/yR6/1h0tSkfKXEXLGahynXjR9EVena7kThyB7IZvFWx9kN/erPnEWLj/W3y7tx0lg2eYbHpv/5tfhAf90ZL2hX10GvYFT6d6JFy/qHaaPp2Mp/ma9rcUr/vI05zt5m7c949O9Ki3bl39R/TZ43Yczl/zxaNNCf2/nUIJWX26b9aWaAuNQ/+1S+UMTq8DbqyJjCzq7QGc53DUvDKjnr7o8bcRGzuHNOEz/HVKctD+sMxkqtRWq7KmOlHHeKfZ9pVHVxN9W3Ln+KyPX+aFZBHqE7F9l9mM8FVxem0bFa91rKcXaExNEfZ9Kilf6CLrPKX8O4R6m/cAYtTuqv87hcX+nvNG0kx6F/R1qc1P8EbTQdhf4n+IoWJ/U/3caYF4DlInHEKPTvSIuT+pcxbU6D58NmFPqXOZMWH+lv+c9teLMTK7sPM5xxpH/DNStTUutyFKW1E41J97GfLra0K62pqEJ2yonjkHzPRLyj7XpBU2sxeRM/Y2Dy457MHW5F/MM77fVnP1tA1E7f0TD9lmmjuHuWEl5yFb/bovRKN0nww5aL/MtxXjxn1KKx/ga9kyC3jvL8rp8aVC6j099wBi1O6H/YPKo89vavtFwuc/eY1ia7lyf1efNRtCPQvzMtWpd/TRtNR1v+NV/R4qT+E7pVvxfxxZ32RqF/R1q0Kf/Rq3oGuRPz8fNhM8byfy4tTuof0VL9rpdPob2b7+SOVm+xWssia7Y/XNvsSP+GxsrEWuitO8xtsRaEkx8QW2RaSDY29OkyExbx+e2N/cSk2m9htya7DW/ip3cmt7JsLUV+3K1QcIxr0SnMtjNltq+00Ts3SKHLbZX2+l4vqWGXrimzfgTpKhmYFvt3ThFQdKSFbLix3VrOvNzQ51+uaP9oaHFdmN2QjrdlP9C7slOvZxdEt1pwu5Nue4XtivvSwrzk9r7RcbYa43XAcIdWYR3WYIapUudxz8YeApK5bP6pH4W0pkbJD6GlxEloT+UyQ1Di1/PzhenM0VSpJn4qqZ4C9aVpYEfDYVYcEp49ZzDme1YL4ZvEnWNPBcucnZ42+trpOzGUJ9f74/SwdDX5fTSetmF9xy/P5WzEZ+L8HN3r37cW4r/0PCjkmUjDKT5jVYxF/wFpoYf1m+fhGPSvwYkWbcIZuf5da1E3haXx1JYR6e9Si8ZxlBlh+e9Ni1NTzUxYH/W/3OmffWqUMR+uxTCd7fyG8gywztU50zifiseE18RPJVVpk+DaGitSxvT5zFnf/UgrK6xGRlZFeMXktNC3RoMycr1bpGPmJ7526f2xIWfOZeuPOA84vbIWx/j17d0sTuZ3kSzP2NDNw7JcZuidL87PIvF0Sf9a2GU0Dysv13ZFOXb9B6SFbiyLjc/4y38lnWrRJpyx6+9Ki4rnjsM1n/NsH7v+gjstTNtT6lJZXIP+KX1qkfU1JSxu39UCfLWDbhpWXu8NT//sU/lCPfK2Pr+51KVb5uZvCes6w3zevmF5QFicrNNkd+C50TiKg6/bAjXxc0x12j5jrMg1eTuaxc8aFHzIwiW+34KRoQtJ4T6aGCtMppMKp8Y6bqRvXf4UkevdYmlb6fJ7NCN3heuiZasRAeu+65xdJs4S5+eR+LrDlRYV9YeEU3omhHHrLwxEi8oO+jXoX0HHWrQJZ+z6u9NC2sRiu1y1A9/Y9U9xoIV58Xqi7yFchf4OtKgKqzxLSRia/jfyh0+qHwPShwAoUCbcAv3dAv3dAv3dAv3dAv3dAv3dUta/4QJ7AAAAAAAAAOgXGCsAAAAAAACAQQJjBQAAAAAAADBIYKwAAAAAAAAABgmMFQAAAAAAAMAgudnv92q5/Ww29J+vBAAAAAAAAIwdtk/0ERsrid4bDNu0gTIoE26B/m6B/m6B/m6B/m6B/m6B/m4p649pYAAAAAAAAIBBAmMFAAAAAAAAMEhgrAAAAAAAAAAGCYwVAAAAAAAAwCCBsQIAAAAAAAAYJDBWAAAAAAAAAIMExgoAAAAAAABgkHRqrBw2c7VXcp1bRtojAGflQNFyTnO7vM3nKG9dcdjQci46L+lDidv4BS040EbpesrNaXPQ3kH3RMusDppD+P6B/r1zOERcv9v9Pm53NxHXTqBXRtjOYmQFjAyuLG+mtNjyoR9QGIbsAvJnRPt3dI/PjXohMV3TdqdPnKCNX9Ce23uffL/aecrHjG4n6gB0DhuPj1tCUXcF9O8bqd+n04Wq3z1V70its6PtekFTvCnsjdG2s4nGOjwbceCpcMX5oT4JLoYuykS3xEngSXnzkiDWpy6YYetvtKbEC0J97CfVj3kbv8Ph8sp/DaGv7oUurBK+ZP3Tto/roSDV3rvACgn6u+XS9BfNpX4vKB0HCZssaV5cWBZcXvm/zHa2jrL+GFkB4+Hwl17krU7wh1Z4g9wtSmuPuAGit9VUn6yhjV9wdqJXGWZk/X/fpSdAx0T0tOaKyH+g1a0+BXoE+rtgsnrj+v2OCk3v5Afdq2HdHf2L1RnQFSNvZwdhrGRrW2SoMJtrJ/NM7aHD43UI8/mSoqrJkKV5k8ZftDTh5l8y547m9nE66ue7NktL8b4i2vB3jP8b9l85jVb7y8PmY/7+QYa1sznp5XmI1rX5hj9dJ4e/L1wlenT/A5ZK50xW9Ja8NTMK2/gF54XrsUdlq9wTHot+iJYL2pJP4TOMQxdA/yHi0Te8p+qWkbezwxpZ2T/S3Jprt/uX/pc3Jek6hF1hDuput6XFtLRwWowMNW8y92n8Pe71iS/RIi2GrdzXgtb2JEL2v2b/BYNFp138Walnrwv6tSH6kb6iYLb0WrjndERB8O5/FN9sXBHxPxFhxgdi8FqGIRb5gSslelqrusR/WF1tvdAr2jj0gt+ErrIDoP/AiEk1y1gvB75Ib8bKdmE6jsaVRwcYNjDkzbgMYyVJQrF+M5K+KRH4Whira0kckq/O7dgWyEcTTOMs+JnfgL/JYZsLX6BNWnLkvnwKzX0FxujY0cvf3Hdl2pOYQrVQTUZU7znWlK1lraQjCsI1jyoc6F0Zo2wELta0n91z/ujF9R4W+YFrJCI1A4zrnp/oufXAgTa/uA73AvqDYUQHQP+hcdg8pv0l/yeMR/AlBrdmxQ/zYaz0n2lwGZmDemcu3tFv0+nfvVDa57f8coX1O/O7ojdlsHyVNmmxEQPsmfLkPGjjhr1nEzntsEN6Np5ZhbtnmQvKn/k+HswXt4/ZqEw6osBgqgfjp3M2n1ecP3d0d7ei57eYVPZsX1llAK4D01HAW+aeiJ4oXSqBUSwnQP9hcdjQL8kQeVGLKXngi/RmrPhhOqqQO+6862s5FfMaD++Uzd7aLgqjM1P1IFjYfme356+w2qSlLVbY3onJnXc/MzNHj8rkRs41TwGzOR5untDtTP6Xps8BMFr0ImPuKDzgLXMPRLSU/dLViyZ9CvQI9B8WnB9TmSmiX9TqswB8lsGNrIAPuPuZj8q8/KWDZeTMrnpSqDFI9vR+NLIFwJURvWL6RY9ko1j7V1oul7nTCyV3L0/qc2HPGHA2oP+QkA1/0uny9kwZAL7C8I2Vya0smU7xw9LojHH6gbD97t8r1o6cokEnt01avkA+NawKe8rZmn79MutVMC99+k10qdoi0axnwY4k4BrgzkK6BRi2K+4Z2Whlu7WcWSipz7/gTUqnQH/XiKEyTafjhQlGucDZuICRlSmpPqgg6zTs/YEPegvhbLteyy935J+MX7XLVr543Sbt4ArWYvda/23S0pJsP3Jmu6BlFrYO19o2zF5ovzOVMd6gsi2ZmpJHmxzoucxY0wOuApT33pHfmKh8eRWm4+BekG6YotYegrMD/YeAbajEMFTAWbkAY2VCqz9mcfyO1otpvlZkqrcQztansN9sBbr0+bXfGkNFKHT817Z/jzxzIaNNWtqSpt1EmaVdb5NcwDZsND62+yG6+50upGdDdSrbFcs0ANnCWOYys7LBHyy8PB9iRJvpFk966+w9PZpzha2i2/gFXyX9EUiuE7DQGADQE9EyNVTI4z7YazrtruAwB69jRt7OJhrr8GzEgafCFeef+M3/3J+XBLE+WSYOk8D3Eu6LZmGyNZH4QZiUvxKHQeJ7uT/PD5KQz5nveuVI4gr/7CX06/w3S0v9fYUJP87ptbIwHLbPYWXh8nc99lNKgSTO8uNziOdHwr48YpammDcmPy+NYetvleFKZ5fJNn6Hg6Tt4uC6TJV9LziuMy6Mi9S/jK6nj9qQCwD6u+Wy9I+TwOpDVboLq5MkzZfFZbazdUiabW7kD59Ub/H14TixpnbJkPDFDwfbU9Vk/UwHY66jLxMDB/q7Bfq7Bfq7Bfq7Bfq7Bfq7paw/dgO7UPIfgmRbBVPAAAAAAADACIGxcpGY31AQsAsYAAAAAAAYJzBWLhHzGwqMF2AXMAAAAAAAME6uZ80KaA3KhFugv1ugv1ugv1ugv1ugv1ugv1vK+mNkBQAAAAAAADBIbvb7vTJdZrPst9kBAAAAAAAAwAlsn+gjNlYSPc7y33//0ffv39VJAASUCbdAf7dAf7dAf7dAf7dAf7dAf7eU9cc0MAAAAAAAAMAggbECAAAAAAAAGCQwVgAAAAAAAACDBMYKAAAAAAAAYIAQ/R8wm3vk1Yz3/AAAAABJRU5ErkJggg==)"
      ],
      "metadata": {
        "id": "0a-BIbHMHQIG"
      }
    },
    {
      "cell_type": "markdown",
      "source": [
        "**Solution:** When the data is presented in the form of class intervals, the mid-point of each class (also called class mark) is considered for calculating the mean. \n",
        "$$\\sum f_ix_i=1390, \\sum f_i=35$$\n",
        "$$\\therefore \\bar{x}=\\frac{\\sum f_ix_i}{\\sum f_i}=\\frac{1390}{35}=39.71$$\n",
        "\n"
      ],
      "metadata": {
        "id": "wvmH9ww-HaL_"
      }
    },
    {
      "cell_type": "markdown",
      "source": [
        "#### **To Do:**"
      ],
      "metadata": {
        "id": "FytV14fCJBxn"
      }
    },
    {
      "cell_type": "markdown",
      "source": [
        "**1)**. Calculate the mean of the following using the concept of deviation from arbitrary point."
      ],
      "metadata": {
        "id": "RMzQlBwIJYAu"
      }
    },
    {
      "cell_type": "markdown",
      "source": [
        "![image.png](data:image/png;base64,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)"
      ],
      "metadata": {
        "id": "bE4cZhgBKGwi"
      }
    },
    {
      "cell_type": "markdown",
      "source": [
        "**2)**. Find the arithmetic mean of the following by changing the origin and scale method. The method is also called step-deviation method."
      ],
      "metadata": {
        "id": "yPok2X0TKj_5"
      }
    },
    {
      "cell_type": "markdown",
      "source": [
        "![image.png](data:image/png;base64,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)"
      ],
      "metadata": {
        "id": "zYEs34ZhLPjk"
      }
    },
    {
      "cell_type": "markdown",
      "source": [
        "#### **1.4.1.2 Mean Function in Python**\n",
        "\n",
        "`mean()` – Mean Function in python `pandas` is used to calculate the arithmetic mean of a given set of numbers, mean of a data frame ,column wise mean or mean of column in `pandas` and row wise mean or mean of rows in `pandas`. lets see an example of each."
      ],
      "metadata": {
        "id": "5u0sVpBINqIL"
      }
    },
    {
      "cell_type": "markdown",
      "source": [
        "**Simple mean function is shown below:**"
      ],
      "metadata": {
        "id": "rWcw3_9PPHBP"
      }
    },
    {
      "cell_type": "code",
      "source": [
        "# Calculate arithmetic mean \n",
        "import statistics as stat\n",
        "\n",
        "stat.mean([1,9,5,6,4,7,3,6])"
      ],
      "metadata": {
        "id": "iKrLa1ST9rMu"
      },
      "execution_count": null,
      "outputs": []
    },
    {
      "cell_type": "markdown",
      "source": [
        "**Mean of a dataframe in `pandas` python:**"
      ],
      "metadata": {
        "id": "6Xdn-hfhQDRs"
      }
    },
    {
      "cell_type": "code",
      "source": [
        "# Create dataframe\n",
        "\n",
        "import pandas as pd\n",
        "import numpy as np\n",
        " \n",
        "#Create a DataFrame\n",
        "d = {\n",
        "    'Name':['Jigme','Dendup','Wangmo','Chimi','Karma','Yangden','Sonam'],\n",
        "   'Math_Score':[62,47,55,74,31,77,85],\n",
        "   'AI_Score':[89,87,67,55,47,72,76]}\n",
        " \n",
        "df = pd.DataFrame(d)\n",
        "df"
      ],
      "metadata": {
        "id": "XQO_X5Je9tei",
        "colab": {
          "base_uri": "https://localhost:8080/",
          "height": 268
        },
        "outputId": "c0c8a5b1-d196-413f-f548-ce997eaaeec0"
      },
      "execution_count": null,
      "outputs": [
        {
          "output_type": "execute_result",
          "data": {
            "text/plain": [
              "      Name  Math_Score  AI_Score\n",
              "0    Jigme          62        89\n",
              "1   Dendup          47        87\n",
              "2   Wangmo          55        67\n",
              "3    Chimi          74        55\n",
              "4    Karma          31        47\n",
              "5  Yangden          77        72\n",
              "6    Sonam          85        76"
            ],
            "text/html": [
              "\n",
              "  <div id=\"df-13ce449f-fe19-4dd7-8500-d1552fa7c191\">\n",
              "    <div class=\"colab-df-container\">\n",
              "      <div>\n",
              "<style scoped>\n",
              "    .dataframe tbody tr th:only-of-type {\n",
              "        vertical-align: middle;\n",
              "    }\n",
              "\n",
              "    .dataframe tbody tr th {\n",
              "        vertical-align: top;\n",
              "    }\n",
              "\n",
              "    .dataframe thead th {\n",
              "        text-align: right;\n",
              "    }\n",
              "</style>\n",
              "<table border=\"1\" class=\"dataframe\">\n",
              "  <thead>\n",
              "    <tr style=\"text-align: right;\">\n",
              "      <th></th>\n",
              "      <th>Name</th>\n",
              "      <th>Math_Score</th>\n",
              "      <th>AI_Score</th>\n",
              "    </tr>\n",
              "  </thead>\n",
              "  <tbody>\n",
              "    <tr>\n",
              "      <th>0</th>\n",
              "      <td>Jigme</td>\n",
              "      <td>62</td>\n",
              "      <td>89</td>\n",
              "    </tr>\n",
              "    <tr>\n",
              "      <th>1</th>\n",
              "      <td>Dendup</td>\n",
              "      <td>47</td>\n",
              "      <td>87</td>\n",
              "    </tr>\n",
              "    <tr>\n",
              "      <th>2</th>\n",
              "      <td>Wangmo</td>\n",
              "      <td>55</td>\n",
              "      <td>67</td>\n",
              "    </tr>\n",
              "    <tr>\n",
              "      <th>3</th>\n",
              "      <td>Chimi</td>\n",
              "      <td>74</td>\n",
              "      <td>55</td>\n",
              "    </tr>\n",
              "    <tr>\n",
              "      <th>4</th>\n",
              "      <td>Karma</td>\n",
              "      <td>31</td>\n",
              "      <td>47</td>\n",
              "    </tr>\n",
              "    <tr>\n",
              "      <th>5</th>\n",
              "      <td>Yangden</td>\n",
              "      <td>77</td>\n",
              "      <td>72</td>\n",
              "    </tr>\n",
              "    <tr>\n",
              "      <th>6</th>\n",
              "      <td>Sonam</td>\n",
              "      <td>85</td>\n",
              "      <td>76</td>\n",
              "    </tr>\n",
              "  </tbody>\n",
              "</table>\n",
              "</div>\n",
              "      <button class=\"colab-df-convert\" onclick=\"convertToInteractive('df-13ce449f-fe19-4dd7-8500-d1552fa7c191')\"\n",
              "              title=\"Convert this dataframe to an interactive table.\"\n",
              "              style=\"display:none;\">\n",
              "        \n",
              "  <svg xmlns=\"http://www.w3.org/2000/svg\" height=\"24px\"viewBox=\"0 0 24 24\"\n",
              "       width=\"24px\">\n",
              "    <path d=\"M0 0h24v24H0V0z\" fill=\"none\"/>\n",
              "    <path d=\"M18.56 5.44l.94 2.06.94-2.06 2.06-.94-2.06-.94-.94-2.06-.94 2.06-2.06.94zm-11 1L8.5 8.5l.94-2.06 2.06-.94-2.06-.94L8.5 2.5l-.94 2.06-2.06.94zm10 10l.94 2.06.94-2.06 2.06-.94-2.06-.94-.94-2.06-.94 2.06-2.06.94z\"/><path d=\"M17.41 7.96l-1.37-1.37c-.4-.4-.92-.59-1.43-.59-.52 0-1.04.2-1.43.59L10.3 9.45l-7.72 7.72c-.78.78-.78 2.05 0 2.83L4 21.41c.39.39.9.59 1.41.59.51 0 1.02-.2 1.41-.59l7.78-7.78 2.81-2.81c.8-.78.8-2.07 0-2.86zM5.41 20L4 18.59l7.72-7.72 1.47 1.35L5.41 20z\"/>\n",
              "  </svg>\n",
              "      </button>\n",
              "      \n",
              "  <style>\n",
              "    .colab-df-container {\n",
              "      display:flex;\n",
              "      flex-wrap:wrap;\n",
              "      gap: 12px;\n",
              "    }\n",
              "\n",
              "    .colab-df-convert {\n",
              "      background-color: #E8F0FE;\n",
              "      border: none;\n",
              "      border-radius: 50%;\n",
              "      cursor: pointer;\n",
              "      display: none;\n",
              "      fill: #1967D2;\n",
              "      height: 32px;\n",
              "      padding: 0 0 0 0;\n",
              "      width: 32px;\n",
              "    }\n",
              "\n",
              "    .colab-df-convert:hover {\n",
              "      background-color: #E2EBFA;\n",
              "      box-shadow: 0px 1px 2px rgba(60, 64, 67, 0.3), 0px 1px 3px 1px rgba(60, 64, 67, 0.15);\n",
              "      fill: #174EA6;\n",
              "    }\n",
              "\n",
              "    [theme=dark] .colab-df-convert {\n",
              "      background-color: #3B4455;\n",
              "      fill: #D2E3FC;\n",
              "    }\n",
              "\n",
              "    [theme=dark] .colab-df-convert:hover {\n",
              "      background-color: #434B5C;\n",
              "      box-shadow: 0px 1px 3px 1px rgba(0, 0, 0, 0.15);\n",
              "      filter: drop-shadow(0px 1px 2px rgba(0, 0, 0, 0.3));\n",
              "      fill: #FFFFFF;\n",
              "    }\n",
              "  </style>\n",
              "\n",
              "      <script>\n",
              "        const buttonEl =\n",
              "          document.querySelector('#df-13ce449f-fe19-4dd7-8500-d1552fa7c191 button.colab-df-convert');\n",
              "        buttonEl.style.display =\n",
              "          google.colab.kernel.accessAllowed ? 'block' : 'none';\n",
              "\n",
              "        async function convertToInteractive(key) {\n",
              "          const element = document.querySelector('#df-13ce449f-fe19-4dd7-8500-d1552fa7c191');\n",
              "          const dataTable =\n",
              "            await google.colab.kernel.invokeFunction('convertToInteractive',\n",
              "                                                     [key], {});\n",
              "          if (!dataTable) return;\n",
              "\n",
              "          const docLinkHtml = 'Like what you see? Visit the ' +\n",
              "            '<a target=\"_blank\" href=https://colab.research.google.com/notebooks/data_table.ipynb>data table notebook</a>'\n",
              "            + ' to learn more about interactive tables.';\n",
              "          element.innerHTML = '';\n",
              "          dataTable['output_type'] = 'display_data';\n",
              "          await google.colab.output.renderOutput(dataTable, element);\n",
              "          const docLink = document.createElement('div');\n",
              "          docLink.innerHTML = docLinkHtml;\n",
              "          element.appendChild(docLink);\n",
              "        }\n",
              "      </script>\n",
              "    </div>\n",
              "  </div>\n",
              "  "
            ]
          },
          "metadata": {},
          "execution_count": 29
        }
      ]
    },
    {
      "cell_type": "markdown",
      "source": [
        "Mean of the dataframe in `pandas` can be calculated by"
      ],
      "metadata": {
        "id": "VKvyujcQRzVe"
      }
    },
    {
      "cell_type": "code",
      "source": [
        "# mean of the dataframe\n",
        "df['AI_Score'].mean()"
      ],
      "metadata": {
        "colab": {
          "base_uri": "https://localhost:8080/"
        },
        "id": "R_UbFEqrRPu-",
        "outputId": "a3692bdd-ba76-4215-9bfe-1601f8c87027"
      },
      "execution_count": null,
      "outputs": [
        {
          "output_type": "execute_result",
          "data": {
            "text/plain": [
              "70.42857142857143"
            ]
          },
          "metadata": {},
          "execution_count": 30
        }
      ]
    },
    {
      "cell_type": "markdown",
      "source": [
        "**Note:** 'axis=0' argument calculates the column wise mean and 'axis=1' arugment for row wise."
      ],
      "metadata": {
        "id": "cKBsZXLMSwCF"
      }
    },
    {
      "cell_type": "markdown",
      "source": [
        "If you want to compute the mean of only the first column, it can be done by the following code"
      ],
      "metadata": {
        "id": "cswTO3QvTQW5"
      }
    },
    {
      "cell_type": "code",
      "source": [
        "# mean of the specific column\n",
        "df.loc[:,\"Math_Score\"].mean()"
      ],
      "metadata": {
        "colab": {
          "base_uri": "https://localhost:8080/"
        },
        "id": "JMqnkKMcSHeB",
        "outputId": "1486f475-71b2-4c43-877c-2eed3e47a69a"
      },
      "execution_count": null,
      "outputs": [
        {
          "output_type": "execute_result",
          "data": {
            "text/plain": [
              "61.57142857142857"
            ]
          },
          "metadata": {},
          "execution_count": 14
        }
      ]
    },
    {
      "cell_type": "markdown",
      "source": [
        "#### **1.4.2 Geometric Mean**\n",
        "\n",
        "The **Geometric Mean (GM)** is the average value or mean which signifies the central tendency of the set of numbers by taking the root of the product of their values. Basically, we multiply the $n$ values altogether and take out the $n^{th}$ root of the numbers, where $n$ is the total number of values."
      ],
      "metadata": {
        "id": "nMsCXkEYURvw"
      }
    },
    {
      "cell_type": "markdown",
      "source": [
        "Consider, if $x_1, x_2, ..., x_n$ are the $n$ observations, for which we aim to calculate the geometric mean. The formula to calculate the geometric mean is given below:\n",
        "$$GM=\\sqrt[n]{x_1.x_2.x_3...x_n}$$\n",
        "or\n",
        "$$GM=(x_1.x_2.x_3...x_n)^{1/n}$$\n",
        "\n",
        "Taking the logarithm on both sides,\n",
        "$$log(GM)=log(x_1,x_2,...,x_n)^{1/n}$$\n",
        "$$~~~~~~~~~~~~~~~=\\frac{1}{n}log(x_1,x_2,...,x_n)$$\n",
        "$$~~~~~~~~~~~~~~~~~~~~~~~~~~~~~~~~~~~~~~~~=\\frac{1}{n}[log(x_1)+log(x_2)+...+log(x_n)]$$\n",
        "$$=\\frac{1}{n}\\sum_{i=1}^nlog(x_i)$$\n",
        "$$\\therefore GM=Antilog\\left[\\frac{\\displaystyle\\sum log(x_i)}{n}\\right]$$\n",
        "\n",
        "This is an alternative formula of geometric mean (It represents the same thing).\n",
        "\n",
        "**Note:** For any grouped data, $GM$ can be calculated using:\n",
        "$$GM=Antilog\\left[\\frac{\\sum f_ilog(x_i)}{N}\\right]$$\n",
        "Where \n",
        "$$N=\\sum_{i=1}^nf_i$$"
      ],
      "metadata": {
        "id": "sL83BsTHVGRu"
      }
    },
    {
      "cell_type": "markdown",
      "source": [
        "#### **To Do:**"
      ],
      "metadata": {
        "id": "rXDSkxeBE0fM"
      }
    },
    {
      "cell_type": "markdown",
      "source": [
        "**1).** Find the geometric mean of the following data.\n",
        "$$Weight(Kg): 45,60,48,100,65$$"
      ],
      "metadata": {
        "id": "B6NYnp9bDckK"
      }
    },
    {
      "cell_type": "markdown",
      "source": [
        "**2).** Find the geometric mean of the following grouped data for the frequency distribution of weights."
      ],
      "metadata": {
        "id": "hgC4HamcEyQu"
      }
    },
    {
      "cell_type": "markdown",
      "source": [
        "![image.png](data:image/png;base64,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)"
      ],
      "metadata": {
        "id": "FhCL4gmQF-rQ"
      }
    },
    {
      "cell_type": "markdown",
      "source": [
        "#### **1.4.2.1 Geometric Mean Function in Python**\n",
        "\n",
        "Geometric Mean Function in python `pandas` is used to calculate the geometric mean of a given set of numbers, Geometric mean of a data frame, Geometric mean of column and Geometric mean of rows. let’s see an example of each we need to use the package name “stats” from `scipy` in calculation of geometric mean. "
      ],
      "metadata": {
        "id": "uWvsJz2vGNxA"
      }
    },
    {
      "cell_type": "markdown",
      "source": [
        "**Simple geometric mean function is shown below:**"
      ],
      "metadata": {
        "id": "5EXdcFfpGaA7"
      }
    },
    {
      "cell_type": "code",
      "source": [
        "# calculate geometric mean\n",
        "from scipy import stats\n",
        " \n",
        "print(stats.gmean([4,11,15,16,5,7]))"
      ],
      "metadata": {
        "colab": {
          "base_uri": "https://localhost:8080/"
        },
        "id": "qBGr9Hv1TfKD",
        "outputId": "df0b85ae-afae-4d79-87e7-289624601b15"
      },
      "execution_count": null,
      "outputs": [
        {
          "output_type": "stream",
          "name": "stdout",
          "text": [
            "8.471402701221082\n"
          ]
        }
      ]
    },
    {
      "cell_type": "markdown",
      "source": [
        "**Geometric Mean of a dataframe:**\n",
        "\n",
        "Create dataframe"
      ],
      "metadata": {
        "id": "6KnNt7oFHaso"
      }
    },
    {
      "cell_type": "code",
      "source": [
        "import pandas as pd\n",
        "import numpy as np\n",
        "from scipy import stats\n",
        " \n",
        "#Create a DataFrame\n",
        "d = {'Name':['Dorji','Sonam','Chador','Shyam','Zangmo','Om','Sushmita'],\n",
        "   'Stats_Score':[62,47,55,74,31,77,85],\n",
        "   'Algebra_Score':[89,87,67,55,47,72,76]}\n",
        " \n",
        "df = pd.DataFrame(d)\n",
        "df"
      ],
      "metadata": {
        "colab": {
          "base_uri": "https://localhost:8080/",
          "height": 268
        },
        "id": "bHQIcYqZHkes",
        "outputId": "99f494ae-27a6-4422-806e-f65c00ad483f"
      },
      "execution_count": null,
      "outputs": [
        {
          "output_type": "execute_result",
          "data": {
            "text/plain": [
              "       Name  Stats_Score  Algebra_Score\n",
              "0     Dorji           62             89\n",
              "1     Sonam           47             87\n",
              "2    Chador           55             67\n",
              "3     Shyam           74             55\n",
              "4    Zangmo           31             47\n",
              "5        Om           77             72\n",
              "6  Sushmita           85             76"
            ],
            "text/html": [
              "\n",
              "  <div id=\"df-038e9bfd-2e0d-49ee-9c13-a034421c2be9\">\n",
              "    <div class=\"colab-df-container\">\n",
              "      <div>\n",
              "<style scoped>\n",
              "    .dataframe tbody tr th:only-of-type {\n",
              "        vertical-align: middle;\n",
              "    }\n",
              "\n",
              "    .dataframe tbody tr th {\n",
              "        vertical-align: top;\n",
              "    }\n",
              "\n",
              "    .dataframe thead th {\n",
              "        text-align: right;\n",
              "    }\n",
              "</style>\n",
              "<table border=\"1\" class=\"dataframe\">\n",
              "  <thead>\n",
              "    <tr style=\"text-align: right;\">\n",
              "      <th></th>\n",
              "      <th>Name</th>\n",
              "      <th>Stats_Score</th>\n",
              "      <th>Algebra_Score</th>\n",
              "    </tr>\n",
              "  </thead>\n",
              "  <tbody>\n",
              "    <tr>\n",
              "      <th>0</th>\n",
              "      <td>Dorji</td>\n",
              "      <td>62</td>\n",
              "      <td>89</td>\n",
              "    </tr>\n",
              "    <tr>\n",
              "      <th>1</th>\n",
              "      <td>Sonam</td>\n",
              "      <td>47</td>\n",
              "      <td>87</td>\n",
              "    </tr>\n",
              "    <tr>\n",
              "      <th>2</th>\n",
              "      <td>Chador</td>\n",
              "      <td>55</td>\n",
              "      <td>67</td>\n",
              "    </tr>\n",
              "    <tr>\n",
              "      <th>3</th>\n",
              "      <td>Shyam</td>\n",
              "      <td>74</td>\n",
              "      <td>55</td>\n",
              "    </tr>\n",
              "    <tr>\n",
              "      <th>4</th>\n",
              "      <td>Zangmo</td>\n",
              "      <td>31</td>\n",
              "      <td>47</td>\n",
              "    </tr>\n",
              "    <tr>\n",
              "      <th>5</th>\n",
              "      <td>Om</td>\n",
              "      <td>77</td>\n",
              "      <td>72</td>\n",
              "    </tr>\n",
              "    <tr>\n",
              "      <th>6</th>\n",
              "      <td>Sushmita</td>\n",
              "      <td>85</td>\n",
              "      <td>76</td>\n",
              "    </tr>\n",
              "  </tbody>\n",
              "</table>\n",
              "</div>\n",
              "      <button class=\"colab-df-convert\" onclick=\"convertToInteractive('df-038e9bfd-2e0d-49ee-9c13-a034421c2be9')\"\n",
              "              title=\"Convert this dataframe to an interactive table.\"\n",
              "              style=\"display:none;\">\n",
              "        \n",
              "  <svg xmlns=\"http://www.w3.org/2000/svg\" height=\"24px\"viewBox=\"0 0 24 24\"\n",
              "       width=\"24px\">\n",
              "    <path d=\"M0 0h24v24H0V0z\" fill=\"none\"/>\n",
              "    <path d=\"M18.56 5.44l.94 2.06.94-2.06 2.06-.94-2.06-.94-.94-2.06-.94 2.06-2.06.94zm-11 1L8.5 8.5l.94-2.06 2.06-.94-2.06-.94L8.5 2.5l-.94 2.06-2.06.94zm10 10l.94 2.06.94-2.06 2.06-.94-2.06-.94-.94-2.06-.94 2.06-2.06.94z\"/><path d=\"M17.41 7.96l-1.37-1.37c-.4-.4-.92-.59-1.43-.59-.52 0-1.04.2-1.43.59L10.3 9.45l-7.72 7.72c-.78.78-.78 2.05 0 2.83L4 21.41c.39.39.9.59 1.41.59.51 0 1.02-.2 1.41-.59l7.78-7.78 2.81-2.81c.8-.78.8-2.07 0-2.86zM5.41 20L4 18.59l7.72-7.72 1.47 1.35L5.41 20z\"/>\n",
              "  </svg>\n",
              "      </button>\n",
              "      \n",
              "  <style>\n",
              "    .colab-df-container {\n",
              "      display:flex;\n",
              "      flex-wrap:wrap;\n",
              "      gap: 12px;\n",
              "    }\n",
              "\n",
              "    .colab-df-convert {\n",
              "      background-color: #E8F0FE;\n",
              "      border: none;\n",
              "      border-radius: 50%;\n",
              "      cursor: pointer;\n",
              "      display: none;\n",
              "      fill: #1967D2;\n",
              "      height: 32px;\n",
              "      padding: 0 0 0 0;\n",
              "      width: 32px;\n",
              "    }\n",
              "\n",
              "    .colab-df-convert:hover {\n",
              "      background-color: #E2EBFA;\n",
              "      box-shadow: 0px 1px 2px rgba(60, 64, 67, 0.3), 0px 1px 3px 1px rgba(60, 64, 67, 0.15);\n",
              "      fill: #174EA6;\n",
              "    }\n",
              "\n",
              "    [theme=dark] .colab-df-convert {\n",
              "      background-color: #3B4455;\n",
              "      fill: #D2E3FC;\n",
              "    }\n",
              "\n",
              "    [theme=dark] .colab-df-convert:hover {\n",
              "      background-color: #434B5C;\n",
              "      box-shadow: 0px 1px 3px 1px rgba(0, 0, 0, 0.15);\n",
              "      filter: drop-shadow(0px 1px 2px rgba(0, 0, 0, 0.3));\n",
              "      fill: #FFFFFF;\n",
              "    }\n",
              "  </style>\n",
              "\n",
              "      <script>\n",
              "        const buttonEl =\n",
              "          document.querySelector('#df-038e9bfd-2e0d-49ee-9c13-a034421c2be9 button.colab-df-convert');\n",
              "        buttonEl.style.display =\n",
              "          google.colab.kernel.accessAllowed ? 'block' : 'none';\n",
              "\n",
              "        async function convertToInteractive(key) {\n",
              "          const element = document.querySelector('#df-038e9bfd-2e0d-49ee-9c13-a034421c2be9');\n",
              "          const dataTable =\n",
              "            await google.colab.kernel.invokeFunction('convertToInteractive',\n",
              "                                                     [key], {});\n",
              "          if (!dataTable) return;\n",
              "\n",
              "          const docLinkHtml = 'Like what you see? Visit the ' +\n",
              "            '<a target=\"_blank\" href=https://colab.research.google.com/notebooks/data_table.ipynb>data table notebook</a>'\n",
              "            + ' to learn more about interactive tables.';\n",
              "          element.innerHTML = '';\n",
              "          dataTable['output_type'] = 'display_data';\n",
              "          await google.colab.output.renderOutput(dataTable, element);\n",
              "          const docLink = document.createElement('div');\n",
              "          docLink.innerHTML = docLinkHtml;\n",
              "          element.appendChild(docLink);\n",
              "        }\n",
              "      </script>\n",
              "    </div>\n",
              "  </div>\n",
              "  "
            ]
          },
          "metadata": {},
          "execution_count": 8
        }
      ]
    },
    {
      "cell_type": "markdown",
      "source": [
        "**Geometric Mean of the column in dataframe:**"
      ],
      "metadata": {
        "id": "yY3Edkw8JrPq"
      }
    },
    {
      "cell_type": "code",
      "source": [
        "# Geometric Mean of the column in dataframe\n",
        "from scipy import stats\n",
        "\n",
        "stats.gmean(df.iloc[:,1:3],axis=0)"
      ],
      "metadata": {
        "colab": {
          "base_uri": "https://localhost:8080/"
        },
        "id": "hwg-GZBoJJAt",
        "outputId": "5ffe45c9-56f5-4cb5-f1a6-ae7b3544d943"
      },
      "execution_count": null,
      "outputs": [
        {
          "output_type": "execute_result",
          "data": {
            "text/plain": [
              "array([58.71716018, 68.85595852])"
            ]
          },
          "metadata": {},
          "execution_count": 21
        }
      ]
    },
    {
      "cell_type": "markdown",
      "source": [
        "**Row wise geometric Mean of the dataframe:**"
      ],
      "metadata": {
        "id": "tXEyQ6L4KSz2"
      }
    },
    {
      "cell_type": "code",
      "source": [
        "# Row wise geometric mean of the dataframe\n",
        "from scipy import stats\n",
        " \n",
        "stats.gmean(df.iloc[:,1:3],axis=1)"
      ],
      "metadata": {
        "colab": {
          "base_uri": "https://localhost:8080/"
        },
        "id": "8PNQM0vjKAvA",
        "outputId": "17de3342-b35c-4856-fedb-21c0849fbd6d"
      },
      "execution_count": null,
      "outputs": [
        {
          "output_type": "execute_result",
          "data": {
            "text/plain": [
              "array([74.28324172, 63.94528911, 60.70420084, 63.79655163, 38.17066937,\n",
              "       74.45804188, 80.37412519])"
            ]
          },
          "metadata": {},
          "execution_count": 12
        }
      ]
    },
    {
      "cell_type": "markdown",
      "source": [
        "**Calculate the geometric mean of the specific Column**"
      ],
      "metadata": {
        "id": "UE1iN_UILjG5"
      }
    },
    {
      "cell_type": "code",
      "source": [
        "# geometric mean of the specific column\n",
        "stats.gmean(df.loc[:,\"Stats_Score\"])"
      ],
      "metadata": {
        "colab": {
          "base_uri": "https://localhost:8080/"
        },
        "id": "W3hkR_uRLi3A",
        "outputId": "bc4fdf24-cd44-4e89-f10c-051d8102dda2"
      },
      "execution_count": null,
      "outputs": [
        {
          "output_type": "execute_result",
          "data": {
            "text/plain": [
              "58.71716018389239"
            ]
          },
          "metadata": {},
          "execution_count": 23
        }
      ]
    },
    {
      "cell_type": "markdown",
      "source": [
        "#### **1.4.3 Harmonic Mean**\n",
        "\n",
        "The **harmonic mean** is a type of Pythagorean mean. To find it, we divide the number of terms in a data series by the sum of all the reciprocal terms. It will always be the lowest as compared to the geometric and arithmetic mean.\n",
        "\n"
      ],
      "metadata": {
        "id": "W20F5tUdOZfH"
      }
    },
    {
      "cell_type": "markdown",
      "source": [
        "If we have a set of observations given by $x_1, x_2, x_3....x_n$. The reciprocal terms of this data set will be $1/x_1, 1/x_2, 1/x_3....1/x_n$. Thus, the harmonic mean formula is given by\n",
        "$$HM=\\frac{n}{\\displaystyle\\sum_{i=1}^n\\frac{1}{x_i}}$$"
      ],
      "metadata": {
        "id": "zL21J02iHo4z"
      }
    },
    {
      "cell_type": "markdown",
      "source": [
        "**Weighted harmonic mean** is used when we want to find the average of a set of observations such that equal weight is given to each data point. Let $x_1, x_2, x_3....x_n$ be the set of observations and $w_1, w_2, w_3....w_n$ be the corresponding weights. Then the formula for weighted harmonic mean is given as follows:\n",
        "\n",
        "$$HM_w=\\frac{\\displaystyle\\sum_{i=1}^nw_i}{\\displaystyle\\sum_{i=1}^n\\frac{w_i}{x_i}}$$\n",
        "\n",
        "Suppose we have a **frequency distribution** with $n$ items $x_1, x_2, x_3....x_n$ having corresponding frequencies $f_1, f_2, f_3....f_n$ then the weighted harmonic mean is give as:\n",
        "$$HM_f=\\frac{\\displaystyle\\sum_{i=1}^nf_i}{\\displaystyle\\sum_{i=1}^n\\frac{f_i}{x_i}}$$"
      ],
      "metadata": {
        "id": "crNEP9KyIhL5"
      }
    },
    {
      "cell_type": "markdown",
      "source": [
        "#### **To Do:**"
      ],
      "metadata": {
        "id": "TDRJyeAdK_6N"
      }
    },
    {
      "cell_type": "markdown",
      "source": [
        "**1).** Find the harmonic mean of $\\{2, 4, 5, 11, 14\\}$."
      ],
      "metadata": {
        "id": "Tc1GGz8tK_HE"
      }
    },
    {
      "cell_type": "markdown",
      "source": [
        "**2).** Derive the relationship between arithmetic mean(AM), geometric mean(GM), and harmonic mean(HM)."
      ],
      "metadata": {
        "id": "THly1f4bMFxG"
      }
    },
    {
      "cell_type": "markdown",
      "source": [
        "#### **1.4.3.1 Harmonic Mean Function in Python**\n",
        "\n",
        "Harmonic Mean Function in python `pandas` is used to calculate the harmonic mean of a given set of numbers, Harmonic mean of a data frame, Harmonic mean of column and Harmonic mean of rows. let’s see an example of each we need to use the package name “stats” from `scipy` in calculation of harmonic mean."
      ],
      "metadata": {
        "id": "0U7yTwmYMj13"
      }
    },
    {
      "cell_type": "markdown",
      "source": [
        "**Simple harmonic mean function is shown below:**"
      ],
      "metadata": {
        "id": "VEQnFDpMM7e_"
      }
    },
    {
      "cell_type": "code",
      "source": [
        "# calculate harmonic mean\n",
        "from scipy import stats\n",
        " \n",
        "print(stats.hmean([4,11,15,16,5,7]))"
      ],
      "metadata": {
        "colab": {
          "base_uri": "https://localhost:8080/"
        },
        "id": "OunsrSkdKaND",
        "outputId": "cfa21ea9-1262-4a01-cfa1-1d3121c1a902"
      },
      "execution_count": null,
      "outputs": [
        {
          "output_type": "stream",
          "name": "stdout",
          "text": [
            "7.380682952805698\n"
          ]
        }
      ]
    },
    {
      "cell_type": "markdown",
      "source": [
        "**Harmonic Mean of a dataframe:**"
      ],
      "metadata": {
        "id": "KvWGBm15NSs-"
      }
    },
    {
      "cell_type": "code",
      "source": [
        "import pandas as pd\n",
        "import numpy as np\n",
        "from scipy import stats\n",
        " \n",
        "#Create a DataFrame\n",
        "d = {'Name':['Dorji','Sonam','Chador','Shyam','Zangmo','Om','Sushmita'],\n",
        "   'Stats_Score':[62,47,55,74,31,77,85],\n",
        "   'Algebra_Score':[89,87,67,55,47,72,76]}\n",
        " \n",
        "df = pd.DataFrame(d)\n",
        "df"
      ],
      "metadata": {
        "colab": {
          "base_uri": "https://localhost:8080/",
          "height": 268
        },
        "id": "Fd8scNizNG8H",
        "outputId": "d38cb375-540b-4b3e-9b3f-39f62d9f1ee6"
      },
      "execution_count": null,
      "outputs": [
        {
          "output_type": "execute_result",
          "data": {
            "text/plain": [
              "       Name  Stats_Score  Algebra_Score\n",
              "0     Dorji           62             89\n",
              "1     Sonam           47             87\n",
              "2    Chador           55             67\n",
              "3     Shyam           74             55\n",
              "4    Zangmo           31             47\n",
              "5        Om           77             72\n",
              "6  Sushmita           85             76"
            ],
            "text/html": [
              "\n",
              "  <div id=\"df-c740a7dd-770e-4cb0-ae07-b274b132505a\">\n",
              "    <div class=\"colab-df-container\">\n",
              "      <div>\n",
              "<style scoped>\n",
              "    .dataframe tbody tr th:only-of-type {\n",
              "        vertical-align: middle;\n",
              "    }\n",
              "\n",
              "    .dataframe tbody tr th {\n",
              "        vertical-align: top;\n",
              "    }\n",
              "\n",
              "    .dataframe thead th {\n",
              "        text-align: right;\n",
              "    }\n",
              "</style>\n",
              "<table border=\"1\" class=\"dataframe\">\n",
              "  <thead>\n",
              "    <tr style=\"text-align: right;\">\n",
              "      <th></th>\n",
              "      <th>Name</th>\n",
              "      <th>Stats_Score</th>\n",
              "      <th>Algebra_Score</th>\n",
              "    </tr>\n",
              "  </thead>\n",
              "  <tbody>\n",
              "    <tr>\n",
              "      <th>0</th>\n",
              "      <td>Dorji</td>\n",
              "      <td>62</td>\n",
              "      <td>89</td>\n",
              "    </tr>\n",
              "    <tr>\n",
              "      <th>1</th>\n",
              "      <td>Sonam</td>\n",
              "      <td>47</td>\n",
              "      <td>87</td>\n",
              "    </tr>\n",
              "    <tr>\n",
              "      <th>2</th>\n",
              "      <td>Chador</td>\n",
              "      <td>55</td>\n",
              "      <td>67</td>\n",
              "    </tr>\n",
              "    <tr>\n",
              "      <th>3</th>\n",
              "      <td>Shyam</td>\n",
              "      <td>74</td>\n",
              "      <td>55</td>\n",
              "    </tr>\n",
              "    <tr>\n",
              "      <th>4</th>\n",
              "      <td>Zangmo</td>\n",
              "      <td>31</td>\n",
              "      <td>47</td>\n",
              "    </tr>\n",
              "    <tr>\n",
              "      <th>5</th>\n",
              "      <td>Om</td>\n",
              "      <td>77</td>\n",
              "      <td>72</td>\n",
              "    </tr>\n",
              "    <tr>\n",
              "      <th>6</th>\n",
              "      <td>Sushmita</td>\n",
              "      <td>85</td>\n",
              "      <td>76</td>\n",
              "    </tr>\n",
              "  </tbody>\n",
              "</table>\n",
              "</div>\n",
              "      <button class=\"colab-df-convert\" onclick=\"convertToInteractive('df-c740a7dd-770e-4cb0-ae07-b274b132505a')\"\n",
              "              title=\"Convert this dataframe to an interactive table.\"\n",
              "              style=\"display:none;\">\n",
              "        \n",
              "  <svg xmlns=\"http://www.w3.org/2000/svg\" height=\"24px\"viewBox=\"0 0 24 24\"\n",
              "       width=\"24px\">\n",
              "    <path d=\"M0 0h24v24H0V0z\" fill=\"none\"/>\n",
              "    <path d=\"M18.56 5.44l.94 2.06.94-2.06 2.06-.94-2.06-.94-.94-2.06-.94 2.06-2.06.94zm-11 1L8.5 8.5l.94-2.06 2.06-.94-2.06-.94L8.5 2.5l-.94 2.06-2.06.94zm10 10l.94 2.06.94-2.06 2.06-.94-2.06-.94-.94-2.06-.94 2.06-2.06.94z\"/><path d=\"M17.41 7.96l-1.37-1.37c-.4-.4-.92-.59-1.43-.59-.52 0-1.04.2-1.43.59L10.3 9.45l-7.72 7.72c-.78.78-.78 2.05 0 2.83L4 21.41c.39.39.9.59 1.41.59.51 0 1.02-.2 1.41-.59l7.78-7.78 2.81-2.81c.8-.78.8-2.07 0-2.86zM5.41 20L4 18.59l7.72-7.72 1.47 1.35L5.41 20z\"/>\n",
              "  </svg>\n",
              "      </button>\n",
              "      \n",
              "  <style>\n",
              "    .colab-df-container {\n",
              "      display:flex;\n",
              "      flex-wrap:wrap;\n",
              "      gap: 12px;\n",
              "    }\n",
              "\n",
              "    .colab-df-convert {\n",
              "      background-color: #E8F0FE;\n",
              "      border: none;\n",
              "      border-radius: 50%;\n",
              "      cursor: pointer;\n",
              "      display: none;\n",
              "      fill: #1967D2;\n",
              "      height: 32px;\n",
              "      padding: 0 0 0 0;\n",
              "      width: 32px;\n",
              "    }\n",
              "\n",
              "    .colab-df-convert:hover {\n",
              "      background-color: #E2EBFA;\n",
              "      box-shadow: 0px 1px 2px rgba(60, 64, 67, 0.3), 0px 1px 3px 1px rgba(60, 64, 67, 0.15);\n",
              "      fill: #174EA6;\n",
              "    }\n",
              "\n",
              "    [theme=dark] .colab-df-convert {\n",
              "      background-color: #3B4455;\n",
              "      fill: #D2E3FC;\n",
              "    }\n",
              "\n",
              "    [theme=dark] .colab-df-convert:hover {\n",
              "      background-color: #434B5C;\n",
              "      box-shadow: 0px 1px 3px 1px rgba(0, 0, 0, 0.15);\n",
              "      filter: drop-shadow(0px 1px 2px rgba(0, 0, 0, 0.3));\n",
              "      fill: #FFFFFF;\n",
              "    }\n",
              "  </style>\n",
              "\n",
              "      <script>\n",
              "        const buttonEl =\n",
              "          document.querySelector('#df-c740a7dd-770e-4cb0-ae07-b274b132505a button.colab-df-convert');\n",
              "        buttonEl.style.display =\n",
              "          google.colab.kernel.accessAllowed ? 'block' : 'none';\n",
              "\n",
              "        async function convertToInteractive(key) {\n",
              "          const element = document.querySelector('#df-c740a7dd-770e-4cb0-ae07-b274b132505a');\n",
              "          const dataTable =\n",
              "            await google.colab.kernel.invokeFunction('convertToInteractive',\n",
              "                                                     [key], {});\n",
              "          if (!dataTable) return;\n",
              "\n",
              "          const docLinkHtml = 'Like what you see? Visit the ' +\n",
              "            '<a target=\"_blank\" href=https://colab.research.google.com/notebooks/data_table.ipynb>data table notebook</a>'\n",
              "            + ' to learn more about interactive tables.';\n",
              "          element.innerHTML = '';\n",
              "          dataTable['output_type'] = 'display_data';\n",
              "          await google.colab.output.renderOutput(dataTable, element);\n",
              "          const docLink = document.createElement('div');\n",
              "          docLink.innerHTML = docLinkHtml;\n",
              "          element.appendChild(docLink);\n",
              "        }\n",
              "      </script>\n",
              "    </div>\n",
              "  </div>\n",
              "  "
            ]
          },
          "metadata": {},
          "execution_count": 2
        }
      ]
    },
    {
      "cell_type": "markdown",
      "source": [
        "**Harmonic Mean of the column in dataframe:**"
      ],
      "metadata": {
        "id": "6Holci9yNbXz"
      }
    },
    {
      "cell_type": "code",
      "source": [
        "# Harmonic Mean of the  column in dataframe\n",
        "from scipy import stats\n",
        " \n",
        "stats.hmean(df.iloc[:,1:3],axis=0)"
      ],
      "metadata": {
        "colab": {
          "base_uri": "https://localhost:8080/"
        },
        "id": "y7FWgAQmNhJ9",
        "outputId": "da89c8c8-6af2-4325-9ff8-bfc470eb7361"
      },
      "execution_count": null,
      "outputs": [
        {
          "output_type": "execute_result",
          "data": {
            "text/plain": [
              "array([55.50676991, 67.20379871])"
            ]
          },
          "metadata": {},
          "execution_count": 3
        }
      ]
    },
    {
      "cell_type": "markdown",
      "source": [
        "**Row wise harmonic Mean of the dataframe:**"
      ],
      "metadata": {
        "id": "R4zc2JaSNvs9"
      }
    },
    {
      "cell_type": "code",
      "source": [
        "# Row wise harmonic mean of the dataframe\n",
        "from scipy import stats\n",
        " \n",
        "stats.hmean(df.iloc[:,1:3],axis=1)\n"
      ],
      "metadata": {
        "colab": {
          "base_uri": "https://localhost:8080/"
        },
        "id": "y6-r8IVYNnMp",
        "outputId": "5a4b55c9-1b32-420d-caf6-82fa709ac7f4"
      },
      "execution_count": null,
      "outputs": [
        {
          "output_type": "execute_result",
          "data": {
            "text/plain": [
              "array([73.08609272, 61.02985075, 60.40983607, 63.10077519, 37.35897436,\n",
              "       74.41610738, 80.2484472 ])"
            ]
          },
          "metadata": {},
          "execution_count": 4
        }
      ]
    },
    {
      "cell_type": "markdown",
      "source": [
        "**Calculate the harmonic mean of the specific Column**"
      ],
      "metadata": {
        "id": "0sNudM4WN3hQ"
      }
    },
    {
      "cell_type": "code",
      "source": [
        "# harmonic mean of the specific column\n",
        "from scipy import stats\n",
        " \n",
        "stats.hmean(df.loc[:,\"Stats_Score\"])"
      ],
      "metadata": {
        "colab": {
          "base_uri": "https://localhost:8080/"
        },
        "id": "SoQG7fiON175",
        "outputId": "a6720070-b713-4b78-f3d8-c960662181d3"
      },
      "execution_count": null,
      "outputs": [
        {
          "output_type": "execute_result",
          "data": {
            "text/plain": [
              "55.50676991381446"
            ]
          },
          "metadata": {},
          "execution_count": 5
        }
      ]
    },
    {
      "cell_type": "markdown",
      "source": [
        "#### **To Do:**\n",
        "\n",
        "**Q).** Find the arithmetic mean, geometric mean, and harmonic mean for all possible columns of the \"iris\" and the \"titanic\" datasets."
      ],
      "metadata": {
        "id": "d1uqfbvtgeVv"
      }
    },
    {
      "cell_type": "markdown",
      "source": [
        "### **1.4.4 Median**\n",
        "\n",
        "The value of the middle-most observation obtained after arranging the data in ascending order is called the **median** of the data. \n",
        "\n"
      ],
      "metadata": {
        "id": "7xuKf1rLiwRw"
      }
    },
    {
      "cell_type": "markdown",
      "source": [
        "Using the median formula, the middle value of the arranged set of numbers can be calculated. For finding this measure of central tendency, it is necessary to write the components of the group in increasing order. The median formula varies based on the number of observations and whether they are odd or even. The following set of formulas would help in finding the median of the given data."
      ],
      "metadata": {
        "id": "5jxvQSlc8sSa"
      }
    },
    {
      "cell_type": "markdown",
      "source": [
        "#### **1.4.4.1 Median Formula for Ungrouped Data**\n",
        "\n",
        "Let's assume that there are $n$ observations. \n",
        "\n",
        "**Median Formula When n is Odd:**\n",
        "\n",
        "The median formula of a given set of numbers, say having $n$ odd number of observations, can be expressed as:\n",
        "$$Median=\\left[\\frac{n+1}{2}\\right]^{th}~term$$\n",
        "\n",
        "**Median Formula When n is Even:**\n",
        "\n",
        "The median formula of a given set of numbers say having $n$ even number of observations, can be expressed as:\n",
        "$$Median=\\frac{(\\frac{n}{2})^{th}~term + (\\frac{n}{2}+1)^{th}~term}{2}$$"
      ],
      "metadata": {
        "id": "9MIl6Rsk89PK"
      }
    },
    {
      "cell_type": "markdown",
      "source": [
        "#### **1.4.4.2 Median Formula for Grouped Data**\n",
        "\n",
        "When the data is continuous and in the form of a frequency distribution, the median is calculated using the formula given below;\n",
        "$$Median=l+\\frac{h}{f}\\left[\\frac{n}{2}-c\\right]$$\n",
        "Where\n",
        "\n",
        "$l$ is the lower limit of the median class\n",
        "\n",
        "$n$ is the total number of observations.\n",
        "\n",
        "$h$ is the class size\n",
        "\n",
        "$c$ is the cumulative frequency of the preceding median class.\n",
        "\n",
        "$f$ is the frequency of the median class\n",
        "\n",
        "Median class is the class where $\\frac{n}{2}$ lies."
      ],
      "metadata": {
        "id": "jY92YQk6_z3A"
      }
    },
    {
      "cell_type": "markdown",
      "source": [
        "#### **To Do:**"
      ],
      "metadata": {
        "id": "9VU7ux-1DDTe"
      }
    },
    {
      "cell_type": "markdown",
      "source": [
        "**1).** Find the median of the data set $\\{3, 15, 2, 34, 11, 25\\}$."
      ],
      "metadata": {
        "id": "LzQkRnQXDt5Y"
      }
    },
    {
      "cell_type": "markdown",
      "source": [
        "**2).** Calculate the median for the following data:"
      ],
      "metadata": {
        "id": "_S83MAffDHMa"
      }
    },
    {
      "cell_type": "markdown",
      "source": [
        "![image.png](data:image/png;base64,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)"
      ],
      "metadata": {
        "id": "oL0UpJS6DA-W"
      }
    },
    {
      "cell_type": "markdown",
      "source": [
        "#### **1.4.4.3 Median Function in Python**\n",
        "\n",
        "`median()` – Median Function in python `pandas` is used to calculate the median or middle value of a given set of numbers, Median of a data frame, median of column and median of rows, let’s see an example of each."
      ],
      "metadata": {
        "id": "nbVFBaBfEJgc"
      }
    },
    {
      "cell_type": "markdown",
      "source": [
        "**Simple median function is shown below:**"
      ],
      "metadata": {
        "id": "rsk5F7v2FHND"
      }
    },
    {
      "cell_type": "code",
      "source": [
        "# calculate median or middle value\n",
        "import statistics as stats\n",
        " \n",
        "stats.median([4,-11,-5,16,5,7,9])"
      ],
      "metadata": {
        "colab": {
          "base_uri": "https://localhost:8080/"
        },
        "id": "jwBrw2v0EIVE",
        "outputId": "7f8fd408-943e-48e2-ee3e-05c96812c922"
      },
      "execution_count": null,
      "outputs": [
        {
          "output_type": "execute_result",
          "data": {
            "text/plain": [
              "5"
            ]
          },
          "metadata": {},
          "execution_count": 1
        }
      ]
    },
    {
      "cell_type": "markdown",
      "source": [
        "**Median of a dataframe:**\n",
        "\n",
        "Create dataframe"
      ],
      "metadata": {
        "id": "xeM9hI7QFp2_"
      }
    },
    {
      "cell_type": "code",
      "source": [
        "import pandas as pd\n",
        "import numpy as np\n",
        "from scipy import stats\n",
        " \n",
        "#Create a DataFrame\n",
        "d = {'Name':['Dorji','Sonam','Chador','Shyam','Zangmo','Om','Sushmita','Karma'],\n",
        "   'Stats_Score':[62,47,55,74,31,77,85,67],\n",
        "   'Algebra_Score':[89,87,67,55,47,72,76,45],\n",
        "   'ML_Score':[45,65,62,80,57,75,79,51]}\n",
        " \n",
        "df = pd.DataFrame(d)\n",
        "df"
      ],
      "metadata": {
        "colab": {
          "base_uri": "https://localhost:8080/",
          "height": 300
        },
        "id": "vwSYq5odgIEw",
        "outputId": "022a7784-1b74-4b15-877a-9396f3867ff8"
      },
      "execution_count": null,
      "outputs": [
        {
          "output_type": "execute_result",
          "data": {
            "text/plain": [
              "       Name  Stats_Score  Algebra_Score  ML_Score\n",
              "0     Dorji           62             89        45\n",
              "1     Sonam           47             87        65\n",
              "2    Chador           55             67        62\n",
              "3     Shyam           74             55        80\n",
              "4    Zangmo           31             47        57\n",
              "5        Om           77             72        75\n",
              "6  Sushmita           85             76        79\n",
              "7     Karma           67             45        51"
            ],
            "text/html": [
              "\n",
              "  <div id=\"df-3c80a710-163f-478f-9ea7-51a7069b0467\">\n",
              "    <div class=\"colab-df-container\">\n",
              "      <div>\n",
              "<style scoped>\n",
              "    .dataframe tbody tr th:only-of-type {\n",
              "        vertical-align: middle;\n",
              "    }\n",
              "\n",
              "    .dataframe tbody tr th {\n",
              "        vertical-align: top;\n",
              "    }\n",
              "\n",
              "    .dataframe thead th {\n",
              "        text-align: right;\n",
              "    }\n",
              "</style>\n",
              "<table border=\"1\" class=\"dataframe\">\n",
              "  <thead>\n",
              "    <tr style=\"text-align: right;\">\n",
              "      <th></th>\n",
              "      <th>Name</th>\n",
              "      <th>Stats_Score</th>\n",
              "      <th>Algebra_Score</th>\n",
              "      <th>ML_Score</th>\n",
              "    </tr>\n",
              "  </thead>\n",
              "  <tbody>\n",
              "    <tr>\n",
              "      <th>0</th>\n",
              "      <td>Dorji</td>\n",
              "      <td>62</td>\n",
              "      <td>89</td>\n",
              "      <td>45</td>\n",
              "    </tr>\n",
              "    <tr>\n",
              "      <th>1</th>\n",
              "      <td>Sonam</td>\n",
              "      <td>47</td>\n",
              "      <td>87</td>\n",
              "      <td>65</td>\n",
              "    </tr>\n",
              "    <tr>\n",
              "      <th>2</th>\n",
              "      <td>Chador</td>\n",
              "      <td>55</td>\n",
              "      <td>67</td>\n",
              "      <td>62</td>\n",
              "    </tr>\n",
              "    <tr>\n",
              "      <th>3</th>\n",
              "      <td>Shyam</td>\n",
              "      <td>74</td>\n",
              "      <td>55</td>\n",
              "      <td>80</td>\n",
              "    </tr>\n",
              "    <tr>\n",
              "      <th>4</th>\n",
              "      <td>Zangmo</td>\n",
              "      <td>31</td>\n",
              "      <td>47</td>\n",
              "      <td>57</td>\n",
              "    </tr>\n",
              "    <tr>\n",
              "      <th>5</th>\n",
              "      <td>Om</td>\n",
              "      <td>77</td>\n",
              "      <td>72</td>\n",
              "      <td>75</td>\n",
              "    </tr>\n",
              "    <tr>\n",
              "      <th>6</th>\n",
              "      <td>Sushmita</td>\n",
              "      <td>85</td>\n",
              "      <td>76</td>\n",
              "      <td>79</td>\n",
              "    </tr>\n",
              "    <tr>\n",
              "      <th>7</th>\n",
              "      <td>Karma</td>\n",
              "      <td>67</td>\n",
              "      <td>45</td>\n",
              "      <td>51</td>\n",
              "    </tr>\n",
              "  </tbody>\n",
              "</table>\n",
              "</div>\n",
              "      <button class=\"colab-df-convert\" onclick=\"convertToInteractive('df-3c80a710-163f-478f-9ea7-51a7069b0467')\"\n",
              "              title=\"Convert this dataframe to an interactive table.\"\n",
              "              style=\"display:none;\">\n",
              "        \n",
              "  <svg xmlns=\"http://www.w3.org/2000/svg\" height=\"24px\"viewBox=\"0 0 24 24\"\n",
              "       width=\"24px\">\n",
              "    <path d=\"M0 0h24v24H0V0z\" fill=\"none\"/>\n",
              "    <path d=\"M18.56 5.44l.94 2.06.94-2.06 2.06-.94-2.06-.94-.94-2.06-.94 2.06-2.06.94zm-11 1L8.5 8.5l.94-2.06 2.06-.94-2.06-.94L8.5 2.5l-.94 2.06-2.06.94zm10 10l.94 2.06.94-2.06 2.06-.94-2.06-.94-.94-2.06-.94 2.06-2.06.94z\"/><path d=\"M17.41 7.96l-1.37-1.37c-.4-.4-.92-.59-1.43-.59-.52 0-1.04.2-1.43.59L10.3 9.45l-7.72 7.72c-.78.78-.78 2.05 0 2.83L4 21.41c.39.39.9.59 1.41.59.51 0 1.02-.2 1.41-.59l7.78-7.78 2.81-2.81c.8-.78.8-2.07 0-2.86zM5.41 20L4 18.59l7.72-7.72 1.47 1.35L5.41 20z\"/>\n",
              "  </svg>\n",
              "      </button>\n",
              "      \n",
              "  <style>\n",
              "    .colab-df-container {\n",
              "      display:flex;\n",
              "      flex-wrap:wrap;\n",
              "      gap: 12px;\n",
              "    }\n",
              "\n",
              "    .colab-df-convert {\n",
              "      background-color: #E8F0FE;\n",
              "      border: none;\n",
              "      border-radius: 50%;\n",
              "      cursor: pointer;\n",
              "      display: none;\n",
              "      fill: #1967D2;\n",
              "      height: 32px;\n",
              "      padding: 0 0 0 0;\n",
              "      width: 32px;\n",
              "    }\n",
              "\n",
              "    .colab-df-convert:hover {\n",
              "      background-color: #E2EBFA;\n",
              "      box-shadow: 0px 1px 2px rgba(60, 64, 67, 0.3), 0px 1px 3px 1px rgba(60, 64, 67, 0.15);\n",
              "      fill: #174EA6;\n",
              "    }\n",
              "\n",
              "    [theme=dark] .colab-df-convert {\n",
              "      background-color: #3B4455;\n",
              "      fill: #D2E3FC;\n",
              "    }\n",
              "\n",
              "    [theme=dark] .colab-df-convert:hover {\n",
              "      background-color: #434B5C;\n",
              "      box-shadow: 0px 1px 3px 1px rgba(0, 0, 0, 0.15);\n",
              "      filter: drop-shadow(0px 1px 2px rgba(0, 0, 0, 0.3));\n",
              "      fill: #FFFFFF;\n",
              "    }\n",
              "  </style>\n",
              "\n",
              "      <script>\n",
              "        const buttonEl =\n",
              "          document.querySelector('#df-3c80a710-163f-478f-9ea7-51a7069b0467 button.colab-df-convert');\n",
              "        buttonEl.style.display =\n",
              "          google.colab.kernel.accessAllowed ? 'block' : 'none';\n",
              "\n",
              "        async function convertToInteractive(key) {\n",
              "          const element = document.querySelector('#df-3c80a710-163f-478f-9ea7-51a7069b0467');\n",
              "          const dataTable =\n",
              "            await google.colab.kernel.invokeFunction('convertToInteractive',\n",
              "                                                     [key], {});\n",
              "          if (!dataTable) return;\n",
              "\n",
              "          const docLinkHtml = 'Like what you see? Visit the ' +\n",
              "            '<a target=\"_blank\" href=https://colab.research.google.com/notebooks/data_table.ipynb>data table notebook</a>'\n",
              "            + ' to learn more about interactive tables.';\n",
              "          element.innerHTML = '';\n",
              "          dataTable['output_type'] = 'display_data';\n",
              "          await google.colab.output.renderOutput(dataTable, element);\n",
              "          const docLink = document.createElement('div');\n",
              "          docLink.innerHTML = docLinkHtml;\n",
              "          element.appendChild(docLink);\n",
              "        }\n",
              "      </script>\n",
              "    </div>\n",
              "  </div>\n",
              "  "
            ]
          },
          "metadata": {},
          "execution_count": 4
        }
      ]
    },
    {
      "cell_type": "code",
      "source": [
        "# median of the dataframe\n",
        "df.iloc[:,1:4].median()"
      ],
      "metadata": {
        "colab": {
          "base_uri": "https://localhost:8080/"
        },
        "id": "iBLFjTBXFzDi",
        "outputId": "da03c886-a496-4613-cb9a-f72cd9bf51b0"
      },
      "execution_count": null,
      "outputs": [
        {
          "output_type": "execute_result",
          "data": {
            "text/plain": [
              "Stats_Score      64.5\n",
              "Algebra_Score    69.5\n",
              "ML_Score         63.5\n",
              "dtype: float64"
            ]
          },
          "metadata": {},
          "execution_count": 6
        }
      ]
    },
    {
      "cell_type": "code",
      "source": [
        "# median of the specific column\n",
        "df.loc[:,\"ML_Score\"].median()"
      ],
      "metadata": {
        "colab": {
          "base_uri": "https://localhost:8080/"
        },
        "id": "MacggUBnHLvg",
        "outputId": "3d0f8a27-4616-4489-b20c-d212011141c9"
      },
      "execution_count": null,
      "outputs": [
        {
          "output_type": "execute_result",
          "data": {
            "text/plain": [
              "63.5"
            ]
          },
          "metadata": {},
          "execution_count": 9
        }
      ]
    },
    {
      "cell_type": "markdown",
      "source": [
        "#### **1.4.5 Mode**\n",
        "\n",
        "**Mode** means a value or a number that appears most frequently in a dataset. Sometimes we may need to find the value, which is occurring more frequently in the dataset. In such cases, we find the mode for the set of given data. Depending on the dataset we can find one mode, two mode, and so on.\n",
        "\n",
        "A list of given data with only one mode is called a **unimodal** list.\n",
        "\n",
        "A list of given data with two modes is called a **bimodal** list."
      ],
      "metadata": {
        "id": "dOSfoILRHsKQ"
      }
    },
    {
      "cell_type": "markdown",
      "source": [
        "Now, as usual we will try to see the formula to find the mode for the grouped and ungrouped data. For **ungrouped** data it's just a matter of picking up the value repeating the most. However, the formula to find the mode of **grouped** data is given below;\n",
        "$$Mode=l+\\frac{h(f_m-f_1)}{(f_m-f_1)+(f_m-f_2)}$$\n",
        "Where\n",
        "\n",
        "$l$ is the lower limit of the modal class\n",
        "\n",
        "$h$ is the size of the class interval\n",
        "\n",
        "$f_m$ is the frequency of the modal class\n",
        "\n",
        "$f_1$ is the frequency of the class preceding the modal class\n",
        "\n",
        "$f_2$ is the frequency of the class succeeding the modal class"
      ],
      "metadata": {
        "id": "efVSlmjsI8OV"
      }
    },
    {
      "cell_type": "markdown",
      "source": [
        "#### **To Do:**"
      ],
      "metadata": {
        "id": "WiTeigAYMGPW"
      }
    },
    {
      "cell_type": "markdown",
      "source": [
        "Find the mode of the table given below:"
      ],
      "metadata": {
        "id": "3-Y4vvERMRpi"
      }
    },
    {
      "cell_type": "markdown",
      "source": [
        "![image.png](data:image/png;base64,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)"
      ],
      "metadata": {
        "id": "jfqNzBH3LPdh"
      }
    },
    {
      "cell_type": "markdown",
      "source": [
        "#### **1.4.5.1 Mode function in Python**"
      ],
      "metadata": {
        "id": "gug63vkaLNyl"
      }
    },
    {
      "cell_type": "markdown",
      "source": [
        "**Simple mode function in python is shown below:**"
      ],
      "metadata": {
        "id": "YD4ElPv4N6GD"
      }
    },
    {
      "cell_type": "code",
      "source": [
        "# calculate mode or most repeated value\n",
        "import statistics as stats\n",
        " \n",
        "stats.mode(['lion', 'cat', 'cat','dog','tiger'])\n"
      ],
      "metadata": {
        "colab": {
          "base_uri": "https://localhost:8080/",
          "height": 36
        },
        "id": "JrYUJt_XLQKs",
        "outputId": "0b30c252-3d20-4c5d-f189-89df6093e393"
      },
      "execution_count": null,
      "outputs": [
        {
          "output_type": "execute_result",
          "data": {
            "text/plain": [
              "'cat'"
            ],
            "application/vnd.google.colaboratory.intrinsic+json": {
              "type": "string"
            }
          },
          "metadata": {},
          "execution_count": 15
        }
      ]
    },
    {
      "cell_type": "markdown",
      "source": [
        "**Mode of a dataframe:**\n",
        "\n",
        "Create dataframe"
      ],
      "metadata": {
        "id": "A20Jn7VYN8mN"
      }
    },
    {
      "cell_type": "code",
      "source": [
        "import pandas as pd\n",
        "import numpy as np\n",
        "from scipy import stats\n",
        " \n",
        "#Create a DataFrame\n",
        "d = {'Name':['Dorji','Sonam','Chador','Shyam','Zangmo','Om','Sonam','Karma'],\n",
        "   'Stats_Score':[62,47,55,74,47,77,85,67],\n",
        "   'Algebra_Score':[89,87,67,55,47,72,55,45],\n",
        "   'ML_Score':[45,65,62,71,57,75,65,51]}\n",
        " \n",
        "df = pd.DataFrame(d)\n",
        "df"
      ],
      "metadata": {
        "colab": {
          "base_uri": "https://localhost:8080/",
          "height": 300
        },
        "id": "Cl7KbP7HHa_f",
        "outputId": "446a6784-66e5-46b4-e39c-1a3b22269675"
      },
      "execution_count": null,
      "outputs": [
        {
          "output_type": "execute_result",
          "data": {
            "text/plain": [
              "     Name  Stats_Score  Algebra_Score  ML_Score\n",
              "0   Dorji           62             89        45\n",
              "1   Sonam           47             87        65\n",
              "2  Chador           55             67        62\n",
              "3   Shyam           74             55        71\n",
              "4  Zangmo           47             47        57\n",
              "5      Om           77             72        75\n",
              "6   Sonam           85             55        65\n",
              "7   Karma           67             45        51"
            ],
            "text/html": [
              "\n",
              "  <div id=\"df-06967ddf-bd17-4782-8dcf-d1853e64fda3\">\n",
              "    <div class=\"colab-df-container\">\n",
              "      <div>\n",
              "<style scoped>\n",
              "    .dataframe tbody tr th:only-of-type {\n",
              "        vertical-align: middle;\n",
              "    }\n",
              "\n",
              "    .dataframe tbody tr th {\n",
              "        vertical-align: top;\n",
              "    }\n",
              "\n",
              "    .dataframe thead th {\n",
              "        text-align: right;\n",
              "    }\n",
              "</style>\n",
              "<table border=\"1\" class=\"dataframe\">\n",
              "  <thead>\n",
              "    <tr style=\"text-align: right;\">\n",
              "      <th></th>\n",
              "      <th>Name</th>\n",
              "      <th>Stats_Score</th>\n",
              "      <th>Algebra_Score</th>\n",
              "      <th>ML_Score</th>\n",
              "    </tr>\n",
              "  </thead>\n",
              "  <tbody>\n",
              "    <tr>\n",
              "      <th>0</th>\n",
              "      <td>Dorji</td>\n",
              "      <td>62</td>\n",
              "      <td>89</td>\n",
              "      <td>45</td>\n",
              "    </tr>\n",
              "    <tr>\n",
              "      <th>1</th>\n",
              "      <td>Sonam</td>\n",
              "      <td>47</td>\n",
              "      <td>87</td>\n",
              "      <td>65</td>\n",
              "    </tr>\n",
              "    <tr>\n",
              "      <th>2</th>\n",
              "      <td>Chador</td>\n",
              "      <td>55</td>\n",
              "      <td>67</td>\n",
              "      <td>62</td>\n",
              "    </tr>\n",
              "    <tr>\n",
              "      <th>3</th>\n",
              "      <td>Shyam</td>\n",
              "      <td>74</td>\n",
              "      <td>55</td>\n",
              "      <td>71</td>\n",
              "    </tr>\n",
              "    <tr>\n",
              "      <th>4</th>\n",
              "      <td>Zangmo</td>\n",
              "      <td>47</td>\n",
              "      <td>47</td>\n",
              "      <td>57</td>\n",
              "    </tr>\n",
              "    <tr>\n",
              "      <th>5</th>\n",
              "      <td>Om</td>\n",
              "      <td>77</td>\n",
              "      <td>72</td>\n",
              "      <td>75</td>\n",
              "    </tr>\n",
              "    <tr>\n",
              "      <th>6</th>\n",
              "      <td>Sonam</td>\n",
              "      <td>85</td>\n",
              "      <td>55</td>\n",
              "      <td>65</td>\n",
              "    </tr>\n",
              "    <tr>\n",
              "      <th>7</th>\n",
              "      <td>Karma</td>\n",
              "      <td>67</td>\n",
              "      <td>45</td>\n",
              "      <td>51</td>\n",
              "    </tr>\n",
              "  </tbody>\n",
              "</table>\n",
              "</div>\n",
              "      <button class=\"colab-df-convert\" onclick=\"convertToInteractive('df-06967ddf-bd17-4782-8dcf-d1853e64fda3')\"\n",
              "              title=\"Convert this dataframe to an interactive table.\"\n",
              "              style=\"display:none;\">\n",
              "        \n",
              "  <svg xmlns=\"http://www.w3.org/2000/svg\" height=\"24px\"viewBox=\"0 0 24 24\"\n",
              "       width=\"24px\">\n",
              "    <path d=\"M0 0h24v24H0V0z\" fill=\"none\"/>\n",
              "    <path d=\"M18.56 5.44l.94 2.06.94-2.06 2.06-.94-2.06-.94-.94-2.06-.94 2.06-2.06.94zm-11 1L8.5 8.5l.94-2.06 2.06-.94-2.06-.94L8.5 2.5l-.94 2.06-2.06.94zm10 10l.94 2.06.94-2.06 2.06-.94-2.06-.94-.94-2.06-.94 2.06-2.06.94z\"/><path d=\"M17.41 7.96l-1.37-1.37c-.4-.4-.92-.59-1.43-.59-.52 0-1.04.2-1.43.59L10.3 9.45l-7.72 7.72c-.78.78-.78 2.05 0 2.83L4 21.41c.39.39.9.59 1.41.59.51 0 1.02-.2 1.41-.59l7.78-7.78 2.81-2.81c.8-.78.8-2.07 0-2.86zM5.41 20L4 18.59l7.72-7.72 1.47 1.35L5.41 20z\"/>\n",
              "  </svg>\n",
              "      </button>\n",
              "      \n",
              "  <style>\n",
              "    .colab-df-container {\n",
              "      display:flex;\n",
              "      flex-wrap:wrap;\n",
              "      gap: 12px;\n",
              "    }\n",
              "\n",
              "    .colab-df-convert {\n",
              "      background-color: #E8F0FE;\n",
              "      border: none;\n",
              "      border-radius: 50%;\n",
              "      cursor: pointer;\n",
              "      display: none;\n",
              "      fill: #1967D2;\n",
              "      height: 32px;\n",
              "      padding: 0 0 0 0;\n",
              "      width: 32px;\n",
              "    }\n",
              "\n",
              "    .colab-df-convert:hover {\n",
              "      background-color: #E2EBFA;\n",
              "      box-shadow: 0px 1px 2px rgba(60, 64, 67, 0.3), 0px 1px 3px 1px rgba(60, 64, 67, 0.15);\n",
              "      fill: #174EA6;\n",
              "    }\n",
              "\n",
              "    [theme=dark] .colab-df-convert {\n",
              "      background-color: #3B4455;\n",
              "      fill: #D2E3FC;\n",
              "    }\n",
              "\n",
              "    [theme=dark] .colab-df-convert:hover {\n",
              "      background-color: #434B5C;\n",
              "      box-shadow: 0px 1px 3px 1px rgba(0, 0, 0, 0.15);\n",
              "      filter: drop-shadow(0px 1px 2px rgba(0, 0, 0, 0.3));\n",
              "      fill: #FFFFFF;\n",
              "    }\n",
              "  </style>\n",
              "\n",
              "      <script>\n",
              "        const buttonEl =\n",
              "          document.querySelector('#df-06967ddf-bd17-4782-8dcf-d1853e64fda3 button.colab-df-convert');\n",
              "        buttonEl.style.display =\n",
              "          google.colab.kernel.accessAllowed ? 'block' : 'none';\n",
              "\n",
              "        async function convertToInteractive(key) {\n",
              "          const element = document.querySelector('#df-06967ddf-bd17-4782-8dcf-d1853e64fda3');\n",
              "          const dataTable =\n",
              "            await google.colab.kernel.invokeFunction('convertToInteractive',\n",
              "                                                     [key], {});\n",
              "          if (!dataTable) return;\n",
              "\n",
              "          const docLinkHtml = 'Like what you see? Visit the ' +\n",
              "            '<a target=\"_blank\" href=https://colab.research.google.com/notebooks/data_table.ipynb>data table notebook</a>'\n",
              "            + ' to learn more about interactive tables.';\n",
              "          element.innerHTML = '';\n",
              "          dataTable['output_type'] = 'display_data';\n",
              "          await google.colab.output.renderOutput(dataTable, element);\n",
              "          const docLink = document.createElement('div');\n",
              "          docLink.innerHTML = docLinkHtml;\n",
              "          element.appendChild(docLink);\n",
              "        }\n",
              "      </script>\n",
              "    </div>\n",
              "  </div>\n",
              "  "
            ]
          },
          "metadata": {},
          "execution_count": 30
        }
      ]
    },
    {
      "cell_type": "code",
      "source": [
        "# Mode of the dataframe (or column mode of the dataframe)\n",
        "df.mode()"
      ],
      "metadata": {
        "colab": {
          "base_uri": "https://localhost:8080/",
          "height": 80
        },
        "id": "iWgGKGChRK6x",
        "outputId": "cab0ae07-a004-4437-f0da-20117708d718"
      },
      "execution_count": null,
      "outputs": [
        {
          "output_type": "execute_result",
          "data": {
            "text/plain": [
              "    Name  Stats_Score  Algebra_Score  ML_Score\n",
              "0  Sonam           47             55        65"
            ],
            "text/html": [
              "\n",
              "  <div id=\"df-cdd0560e-d75a-4614-93ca-c7ce2a24531b\">\n",
              "    <div class=\"colab-df-container\">\n",
              "      <div>\n",
              "<style scoped>\n",
              "    .dataframe tbody tr th:only-of-type {\n",
              "        vertical-align: middle;\n",
              "    }\n",
              "\n",
              "    .dataframe tbody tr th {\n",
              "        vertical-align: top;\n",
              "    }\n",
              "\n",
              "    .dataframe thead th {\n",
              "        text-align: right;\n",
              "    }\n",
              "</style>\n",
              "<table border=\"1\" class=\"dataframe\">\n",
              "  <thead>\n",
              "    <tr style=\"text-align: right;\">\n",
              "      <th></th>\n",
              "      <th>Name</th>\n",
              "      <th>Stats_Score</th>\n",
              "      <th>Algebra_Score</th>\n",
              "      <th>ML_Score</th>\n",
              "    </tr>\n",
              "  </thead>\n",
              "  <tbody>\n",
              "    <tr>\n",
              "      <th>0</th>\n",
              "      <td>Sonam</td>\n",
              "      <td>47</td>\n",
              "      <td>55</td>\n",
              "      <td>65</td>\n",
              "    </tr>\n",
              "  </tbody>\n",
              "</table>\n",
              "</div>\n",
              "      <button class=\"colab-df-convert\" onclick=\"convertToInteractive('df-cdd0560e-d75a-4614-93ca-c7ce2a24531b')\"\n",
              "              title=\"Convert this dataframe to an interactive table.\"\n",
              "              style=\"display:none;\">\n",
              "        \n",
              "  <svg xmlns=\"http://www.w3.org/2000/svg\" height=\"24px\"viewBox=\"0 0 24 24\"\n",
              "       width=\"24px\">\n",
              "    <path d=\"M0 0h24v24H0V0z\" fill=\"none\"/>\n",
              "    <path d=\"M18.56 5.44l.94 2.06.94-2.06 2.06-.94-2.06-.94-.94-2.06-.94 2.06-2.06.94zm-11 1L8.5 8.5l.94-2.06 2.06-.94-2.06-.94L8.5 2.5l-.94 2.06-2.06.94zm10 10l.94 2.06.94-2.06 2.06-.94-2.06-.94-.94-2.06-.94 2.06-2.06.94z\"/><path d=\"M17.41 7.96l-1.37-1.37c-.4-.4-.92-.59-1.43-.59-.52 0-1.04.2-1.43.59L10.3 9.45l-7.72 7.72c-.78.78-.78 2.05 0 2.83L4 21.41c.39.39.9.59 1.41.59.51 0 1.02-.2 1.41-.59l7.78-7.78 2.81-2.81c.8-.78.8-2.07 0-2.86zM5.41 20L4 18.59l7.72-7.72 1.47 1.35L5.41 20z\"/>\n",
              "  </svg>\n",
              "      </button>\n",
              "      \n",
              "  <style>\n",
              "    .colab-df-container {\n",
              "      display:flex;\n",
              "      flex-wrap:wrap;\n",
              "      gap: 12px;\n",
              "    }\n",
              "\n",
              "    .colab-df-convert {\n",
              "      background-color: #E8F0FE;\n",
              "      border: none;\n",
              "      border-radius: 50%;\n",
              "      cursor: pointer;\n",
              "      display: none;\n",
              "      fill: #1967D2;\n",
              "      height: 32px;\n",
              "      padding: 0 0 0 0;\n",
              "      width: 32px;\n",
              "    }\n",
              "\n",
              "    .colab-df-convert:hover {\n",
              "      background-color: #E2EBFA;\n",
              "      box-shadow: 0px 1px 2px rgba(60, 64, 67, 0.3), 0px 1px 3px 1px rgba(60, 64, 67, 0.15);\n",
              "      fill: #174EA6;\n",
              "    }\n",
              "\n",
              "    [theme=dark] .colab-df-convert {\n",
              "      background-color: #3B4455;\n",
              "      fill: #D2E3FC;\n",
              "    }\n",
              "\n",
              "    [theme=dark] .colab-df-convert:hover {\n",
              "      background-color: #434B5C;\n",
              "      box-shadow: 0px 1px 3px 1px rgba(0, 0, 0, 0.15);\n",
              "      filter: drop-shadow(0px 1px 2px rgba(0, 0, 0, 0.3));\n",
              "      fill: #FFFFFF;\n",
              "    }\n",
              "  </style>\n",
              "\n",
              "      <script>\n",
              "        const buttonEl =\n",
              "          document.querySelector('#df-cdd0560e-d75a-4614-93ca-c7ce2a24531b button.colab-df-convert');\n",
              "        buttonEl.style.display =\n",
              "          google.colab.kernel.accessAllowed ? 'block' : 'none';\n",
              "\n",
              "        async function convertToInteractive(key) {\n",
              "          const element = document.querySelector('#df-cdd0560e-d75a-4614-93ca-c7ce2a24531b');\n",
              "          const dataTable =\n",
              "            await google.colab.kernel.invokeFunction('convertToInteractive',\n",
              "                                                     [key], {});\n",
              "          if (!dataTable) return;\n",
              "\n",
              "          const docLinkHtml = 'Like what you see? Visit the ' +\n",
              "            '<a target=\"_blank\" href=https://colab.research.google.com/notebooks/data_table.ipynb>data table notebook</a>'\n",
              "            + ' to learn more about interactive tables.';\n",
              "          element.innerHTML = '';\n",
              "          dataTable['output_type'] = 'display_data';\n",
              "          await google.colab.output.renderOutput(dataTable, element);\n",
              "          const docLink = document.createElement('div');\n",
              "          docLink.innerHTML = docLinkHtml;\n",
              "          element.appendChild(docLink);\n",
              "        }\n",
              "      </script>\n",
              "    </div>\n",
              "  </div>\n",
              "  "
            ]
          },
          "metadata": {},
          "execution_count": 35
        }
      ]
    },
    {
      "cell_type": "code",
      "source": [
        "# Row mode of the dataframe\n",
        "df.iloc[:,1:4].mode(axis=1)"
      ],
      "metadata": {
        "colab": {
          "base_uri": "https://localhost:8080/",
          "height": 300
        },
        "id": "3Cnt4z9EOTl1",
        "outputId": "fa584b53-f53a-40ba-b821-79c4aeed5c7c"
      },
      "execution_count": null,
      "outputs": [
        {
          "output_type": "execute_result",
          "data": {
            "text/plain": [
              "      0     1     2\n",
              "0  45.0  62.0  89.0\n",
              "1  47.0  65.0  87.0\n",
              "2  55.0  62.0  67.0\n",
              "3  55.0  71.0  74.0\n",
              "4  47.0   NaN   NaN\n",
              "5  72.0  75.0  77.0\n",
              "6  55.0  65.0  85.0\n",
              "7  45.0  51.0  67.0"
            ],
            "text/html": [
              "\n",
              "  <div id=\"df-62b3b790-61b5-444d-85d0-44a808b1810a\">\n",
              "    <div class=\"colab-df-container\">\n",
              "      <div>\n",
              "<style scoped>\n",
              "    .dataframe tbody tr th:only-of-type {\n",
              "        vertical-align: middle;\n",
              "    }\n",
              "\n",
              "    .dataframe tbody tr th {\n",
              "        vertical-align: top;\n",
              "    }\n",
              "\n",
              "    .dataframe thead th {\n",
              "        text-align: right;\n",
              "    }\n",
              "</style>\n",
              "<table border=\"1\" class=\"dataframe\">\n",
              "  <thead>\n",
              "    <tr style=\"text-align: right;\">\n",
              "      <th></th>\n",
              "      <th>0</th>\n",
              "      <th>1</th>\n",
              "      <th>2</th>\n",
              "    </tr>\n",
              "  </thead>\n",
              "  <tbody>\n",
              "    <tr>\n",
              "      <th>0</th>\n",
              "      <td>45.0</td>\n",
              "      <td>62.0</td>\n",
              "      <td>89.0</td>\n",
              "    </tr>\n",
              "    <tr>\n",
              "      <th>1</th>\n",
              "      <td>47.0</td>\n",
              "      <td>65.0</td>\n",
              "      <td>87.0</td>\n",
              "    </tr>\n",
              "    <tr>\n",
              "      <th>2</th>\n",
              "      <td>55.0</td>\n",
              "      <td>62.0</td>\n",
              "      <td>67.0</td>\n",
              "    </tr>\n",
              "    <tr>\n",
              "      <th>3</th>\n",
              "      <td>55.0</td>\n",
              "      <td>71.0</td>\n",
              "      <td>74.0</td>\n",
              "    </tr>\n",
              "    <tr>\n",
              "      <th>4</th>\n",
              "      <td>47.0</td>\n",
              "      <td>NaN</td>\n",
              "      <td>NaN</td>\n",
              "    </tr>\n",
              "    <tr>\n",
              "      <th>5</th>\n",
              "      <td>72.0</td>\n",
              "      <td>75.0</td>\n",
              "      <td>77.0</td>\n",
              "    </tr>\n",
              "    <tr>\n",
              "      <th>6</th>\n",
              "      <td>55.0</td>\n",
              "      <td>65.0</td>\n",
              "      <td>85.0</td>\n",
              "    </tr>\n",
              "    <tr>\n",
              "      <th>7</th>\n",
              "      <td>45.0</td>\n",
              "      <td>51.0</td>\n",
              "      <td>67.0</td>\n",
              "    </tr>\n",
              "  </tbody>\n",
              "</table>\n",
              "</div>\n",
              "      <button class=\"colab-df-convert\" onclick=\"convertToInteractive('df-62b3b790-61b5-444d-85d0-44a808b1810a')\"\n",
              "              title=\"Convert this dataframe to an interactive table.\"\n",
              "              style=\"display:none;\">\n",
              "        \n",
              "  <svg xmlns=\"http://www.w3.org/2000/svg\" height=\"24px\"viewBox=\"0 0 24 24\"\n",
              "       width=\"24px\">\n",
              "    <path d=\"M0 0h24v24H0V0z\" fill=\"none\"/>\n",
              "    <path d=\"M18.56 5.44l.94 2.06.94-2.06 2.06-.94-2.06-.94-.94-2.06-.94 2.06-2.06.94zm-11 1L8.5 8.5l.94-2.06 2.06-.94-2.06-.94L8.5 2.5l-.94 2.06-2.06.94zm10 10l.94 2.06.94-2.06 2.06-.94-2.06-.94-.94-2.06-.94 2.06-2.06.94z\"/><path d=\"M17.41 7.96l-1.37-1.37c-.4-.4-.92-.59-1.43-.59-.52 0-1.04.2-1.43.59L10.3 9.45l-7.72 7.72c-.78.78-.78 2.05 0 2.83L4 21.41c.39.39.9.59 1.41.59.51 0 1.02-.2 1.41-.59l7.78-7.78 2.81-2.81c.8-.78.8-2.07 0-2.86zM5.41 20L4 18.59l7.72-7.72 1.47 1.35L5.41 20z\"/>\n",
              "  </svg>\n",
              "      </button>\n",
              "      \n",
              "  <style>\n",
              "    .colab-df-container {\n",
              "      display:flex;\n",
              "      flex-wrap:wrap;\n",
              "      gap: 12px;\n",
              "    }\n",
              "\n",
              "    .colab-df-convert {\n",
              "      background-color: #E8F0FE;\n",
              "      border: none;\n",
              "      border-radius: 50%;\n",
              "      cursor: pointer;\n",
              "      display: none;\n",
              "      fill: #1967D2;\n",
              "      height: 32px;\n",
              "      padding: 0 0 0 0;\n",
              "      width: 32px;\n",
              "    }\n",
              "\n",
              "    .colab-df-convert:hover {\n",
              "      background-color: #E2EBFA;\n",
              "      box-shadow: 0px 1px 2px rgba(60, 64, 67, 0.3), 0px 1px 3px 1px rgba(60, 64, 67, 0.15);\n",
              "      fill: #174EA6;\n",
              "    }\n",
              "\n",
              "    [theme=dark] .colab-df-convert {\n",
              "      background-color: #3B4455;\n",
              "      fill: #D2E3FC;\n",
              "    }\n",
              "\n",
              "    [theme=dark] .colab-df-convert:hover {\n",
              "      background-color: #434B5C;\n",
              "      box-shadow: 0px 1px 3px 1px rgba(0, 0, 0, 0.15);\n",
              "      filter: drop-shadow(0px 1px 2px rgba(0, 0, 0, 0.3));\n",
              "      fill: #FFFFFF;\n",
              "    }\n",
              "  </style>\n",
              "\n",
              "      <script>\n",
              "        const buttonEl =\n",
              "          document.querySelector('#df-62b3b790-61b5-444d-85d0-44a808b1810a button.colab-df-convert');\n",
              "        buttonEl.style.display =\n",
              "          google.colab.kernel.accessAllowed ? 'block' : 'none';\n",
              "\n",
              "        async function convertToInteractive(key) {\n",
              "          const element = document.querySelector('#df-62b3b790-61b5-444d-85d0-44a808b1810a');\n",
              "          const dataTable =\n",
              "            await google.colab.kernel.invokeFunction('convertToInteractive',\n",
              "                                                     [key], {});\n",
              "          if (!dataTable) return;\n",
              "\n",
              "          const docLinkHtml = 'Like what you see? Visit the ' +\n",
              "            '<a target=\"_blank\" href=https://colab.research.google.com/notebooks/data_table.ipynb>data table notebook</a>'\n",
              "            + ' to learn more about interactive tables.';\n",
              "          element.innerHTML = '';\n",
              "          dataTable['output_type'] = 'display_data';\n",
              "          await google.colab.output.renderOutput(dataTable, element);\n",
              "          const docLink = document.createElement('div');\n",
              "          docLink.innerHTML = docLinkHtml;\n",
              "          element.appendChild(docLink);\n",
              "        }\n",
              "      </script>\n",
              "    </div>\n",
              "  </div>\n",
              "  "
            ]
          },
          "metadata": {},
          "execution_count": 36
        }
      ]
    },
    {
      "cell_type": "markdown",
      "source": [
        "## **1.5 Measures of Dispersion**"
      ],
      "metadata": {
        "id": "1ZoP8hEOR3En"
      }
    },
    {
      "cell_type": "markdown",
      "source": [
        "In statistics, the measures of dispersion help to interpret the variability of data, that is, to know how homogeneous or heterogeneous the data are. Simply put, it shows how the variable is compressed or scattered.\n",
        "\n",
        "There are two main types of dispersion methods in statistics which are:\n",
        "\n",
        "\n",
        "*   Absolute Measure of Dispersion\n",
        "*   Relative Measure of Dispersion\n",
        "\n"
      ],
      "metadata": {
        "id": "ihJzKNDzt4UL"
      }
    },
    {
      "cell_type": "markdown",
      "source": [
        "#### **1.5.1 Absolute Measure of Dispersion**"
      ],
      "metadata": {
        "id": "lAvqbnHRvK8G"
      }
    },
    {
      "cell_type": "markdown",
      "source": [
        "The absolute measure of dispersion contains a unit similar to the original data set. The absolute dispersion method expresses variation according to the average deviation of the observations, such as the standard deviation or the mean deviation. It includes range, standard deviation, quarter deviation, etc.\n",
        "\n",
        "The types of absolute measures of dispersion are;\n",
        "\n",
        "1. **Range** \n",
        "\n",
        "It is simply the difference between the maximum value and the minimum value given in a data set. The formula to calculate the range;\n",
        "\n",
        "$$Range=x_{max}-x_{min}$$\n",
        "\n"
      ],
      "metadata": {
        "id": "EWN6CMxxvSng"
      }
    },
    {
      "cell_type": "markdown",
      "source": [
        "2. **Variance**\n",
        "\n",
        "Deduct the mean from each data in the set then squaring each of them and adding each square and finally dividing them by the total number of values in the data set is the variance. Also, there are two types of variance \n",
        "\n",
        "*   Variance of a population\n",
        "*   Variance of a sample\n",
        "\n",
        "The variance of a population is denoted by $\\sigma^2$ and the variance of a sample by $s^2$.\n",
        "\n",
        "Now, the formulas to calculate variances of the **population**:\n",
        "\n",
        "**Remark 1:** For ungrouped data;\n",
        "$$\\sigma^2=\\frac{1}{N}\\sum_{i=1}^n(x_i-\\bar{x})^2$$\n",
        "\n",
        "**Remark 2:** For grouped frequency distribution;\n",
        "$$\\sigma^2=\\frac{1}{\\sum f_i}\\sum_{i=1}^{n}f_i(x_i-\\bar{x})^2$$\n",
        "Where, $x_i$ is the observations, $\\bar{x}$ is the mean, and $f$ is the frequency.\n",
        "\n",
        "Similarly, for the variance of the **sample**:\n",
        "\n",
        "**Remark 1:** For ungrouped data;\n",
        "$$s^2=\\frac{1}{n-1}\\sum_{i=1}^n(x_i-\\mu)^2$$\n",
        "\n",
        "**Remark 2:** For grouped frequency distribution;\n",
        "$$s^2=\\frac{1}{\\sum f_i-1}\\sum_{i=1}^nf_i(x_i-\\mu)^2$$\n",
        "\n",
        "Where, $x_i$ is the observations, $\\mu$ is the mean, and $f$ is the frequency.\n",
        "\n",
        "\n",
        "\n"
      ],
      "metadata": {
        "id": "mShxp9Wjx3dg"
      }
    },
    {
      "cell_type": "markdown",
      "source": [
        "3. **Standard Deviation**\n",
        "\n",
        "The square root of the variance is known as the standard deviation. Now the formulas to compute standard deviation can be seen below;\n",
        "\n",
        "**Remark 1:** For the ungrouped data\n",
        "$$\\sigma=\\sqrt{\\frac{1}{N}\\sum_{i=1}^n(x_i-\\bar{x})^2}$$\n",
        "\n",
        "**Remark 2:** For the grouped frequency data\n",
        "$$\\sigma=\\sqrt{\\frac{1}{\\sum f_i}\\sum_{i=1}^{n}f_i(x_i-\\bar{x})^2}$$\n",
        "\n",
        "Where, $x_i$ is the observations, $\\bar{x}$ is the mean, and $f$ is the frequency."
      ],
      "metadata": {
        "id": "Qs9dQf8l5k0C"
      }
    },
    {
      "cell_type": "markdown",
      "source": [
        "4.  **Quartiles and Quartile Deviation**\n",
        "\n",
        "The quartiles are values that divide a list of numbers into quarters. The quartile deviation is half of the distance between the third and the first quartile. The formulas to calculate the quartile and quartile deviation;\n"
      ],
      "metadata": {
        "id": "GMtLoa5v7OQz"
      }
    },
    {
      "cell_type": "markdown",
      "source": [
        "When the set of observation is arranged in an ascending order, then the $25^{th}$ percentile is given as:\n",
        "$$Q_1=\\left(\\frac{n+1}{4}\\right)^{th}~term$$\n",
        "\n",
        "The second quartile or the $50^{th}$ percentile or the Median is given as:\n",
        "$$Q_2=\\left(\\frac{n+1}{2}\\right)^{th}~term$$\n",
        "\n",
        "The third Quartile of the $75^{th}$ Percentile is given as:\n",
        "$$Q_3=\\left(\\frac{3(n+1)}{4}\\right)^{th}~term$$\n",
        "\n",
        "The dispersion is also called “inter quartile range”, denoted as $IQR$, inter quartile range is the difference between lower and upper quartile.\n",
        "$$IQR=Upper~ Quartile-Lower~ Quartile$$\n",
        "\n",
        "**Quartile deviation** is also called **semi-interquartile range**. It can be calculated using the formula.\n",
        "$$QD=\\frac{Q_3-Q_1}{2}$$"
      ],
      "metadata": {
        "id": "9MpoyMzfwIZ9"
      }
    },
    {
      "cell_type": "markdown",
      "source": [
        "5.  **Mean Deviation**\n",
        "\n",
        "The mean deviation (also called mean absolute deviation) of the set of distinct statistical data $\\{x_1,x_2,...,x_n\\}$ is by definition;\n",
        "$$\\bar{d}=\\frac{\\displaystyle\\sum_{i=1}^n|x_i-\\bar{x}|}{n}$$ \n",
        "**Remark:** For data presented as a frequency distribution,\n",
        "$$\\bar{d}=\\frac{\\displaystyle\\sum_{i=1}^nf_i.|x_i-\\bar{x}|}{\\displaystyle\\sum_{i=1}^n f_i}$$"
      ],
      "metadata": {
        "id": "er84CGiSzlYL"
      }
    },
    {
      "cell_type": "markdown",
      "source": [
        "#### **1.5.2 Relative Measure of Dispersion**"
      ],
      "metadata": {
        "id": "Bn53ZmPj2Rr5"
      }
    },
    {
      "cell_type": "markdown",
      "source": [
        "The relative measures of dispersion are used to compare the distribution of two or more data sets. This measure compares values without units. Common relative dispersion methods include:\n",
        "\n",
        "1. **Co-efficient of range**\n",
        " \n",
        "The formula to calculate the coefficient of range is\n",
        "$$C.D_{range}=\\frac{x_{max}-x_{min}}{x_{max}+x_{min}}$$"
      ],
      "metadata": {
        "id": "y-_mE9cr2rB5"
      }
    },
    {
      "cell_type": "markdown",
      "source": [
        "2. **Co-efficient of variation**\n",
        "\n",
        "The formula to calculate the coefficient of variation is\n",
        "$$C.D_{variation}=\\frac{\\sigma}{Mean}$$"
      ],
      "metadata": {
        "id": "EGh9HPWL4C6w"
      }
    },
    {
      "cell_type": "markdown",
      "source": [
        "3.  **Co-efficient of quartile deviation**\n",
        "\n",
        "The formula to calculate the coefficient of quartile deviation is\n",
        "$$C.D_{QD}=\\frac{Q_3-Q_1}{Q_3+Q_1}$$"
      ],
      "metadata": {
        "id": "BQ0Y0GkF44zY"
      }
    },
    {
      "cell_type": "markdown",
      "source": [
        "4. **Co-efficient of mean deviation**\n",
        "\n",
        "The formula to calculate the coefficient of mean deviation is\n",
        "$$C.D_{MD}=\\frac{Mean~Deviation}{Average}$$"
      ],
      "metadata": {
        "id": "1KZc_NvW5WZa"
      }
    },
    {
      "cell_type": "markdown",
      "source": [
        "#### **1.5.3 Measures of dispersion functions in Python**"
      ],
      "metadata": {
        "id": "1ktd44gjHY1x"
      }
    },
    {
      "cell_type": "markdown",
      "source": [
        "`var()` – Variance Function in python pandas is used to calculate variance of a given set of numbers.\n",
        "\n",
        "`std()`- function is used to calculate standard deviation of a given set of numbers.\n",
        "\n",
        "`max(), min()`- functions are used find the maximum and minimum number number respectively.\n",
        "\n",
        "`quantile()`- function is used to find the quartiles of the given set of numbers."
      ],
      "metadata": {
        "id": "ghNCOG5MNozI"
      }
    },
    {
      "cell_type": "markdown",
      "source": [
        "#### **To Do:**"
      ],
      "metadata": {
        "id": "eCtZQLOwPUqe"
      }
    },
    {
      "cell_type": "markdown",
      "source": [
        "**1).** Calculate and interpret the measures of dispersion for the dataframe created in the section $1.4$ above using the respective formulas and using the Python functions."
      ],
      "metadata": {
        "id": "UmqlkTf7PmZk"
      }
    },
    {
      "cell_type": "markdown",
      "source": [
        "**2).** Do the necessary data preprocessing or data wrangling of the dataset given in this link [https://drive.google.com/file/d/1_NmNMrWHKYgP1ljU13gbWmTntXYt0PRh/view?usp=sharing] and find the possible measures of dispersion of the respective columns using Python `pandas` and write your say(or interpretation) on the results."
      ],
      "metadata": {
        "id": "hWX3wWo54s8u"
      }
    },
    {
      "cell_type": "markdown",
      "source": [
        "## **1.6 Covariance and Correlation**"
      ],
      "metadata": {
        "id": "f79tZs23nNa7"
      }
    },
    {
      "cell_type": "markdown",
      "source": [
        "**Covariance** brings about the variation across variables. We use covariance to measure how much two variables change with each other. **Correlation** reveals the relation between the variables. We use correlation to determine how strongly linked two variables are to each other."
      ],
      "metadata": {
        "id": "Ms3vFz95oXFb"
      }
    },
    {
      "cell_type": "markdown",
      "source": [
        "Both covariance and correlation are about the relationship between the variables. **Covariance** defines the directional association between the variables. Covariance values range from $-\\infty$ to $+\\infty$ where a positive value denotes that both the variables move in the same direction and a negative value denotes that both the variables move in opposite directions.\n",
        "\n",
        "**Correlation** is a standardized statistical measure that expresses the extent to which two variables are linearly related (meaning how much they change together at a constant rate). The strength and directional association of the relationship between two variables are defined by correlation and it ranges from $-1$ to $+1$. Similar to covariance, a positive value denotes that both variables move in the same direction whereas a negative value tells us that they move in opposite directions."
      ],
      "metadata": {
        "id": "PiJk4pLweG1I"
      }
    },
    {
      "cell_type": "markdown",
      "source": [
        "#### **1.6.1 Calculating Covariance in Python**"
      ],
      "metadata": {
        "id": "mpef9u2ThLVo"
      }
    },
    {
      "cell_type": "markdown",
      "source": [
        "The following formula computes the population covariance:\n",
        "$$Cov(x,y)=\\frac{\\displaystyle\\sum_{i=1}^n(x_i-\\bar{x})(y_i-\\bar{y})}{n}$$\n",
        "\n",
        "**Note:** The formula to calculate the sample covariance is given by;\n",
        "$$Cov(x,y)=\\frac{\\displaystyle\\sum_{i=1}^n(x_i-\\bar{x})(y_i-\\bar{y})}{n-1}$$\n",
        "Where\n",
        "\n",
        "$x_i, y_i$ - are individual elements of the $x$ and $y$ series\n",
        "\n",
        "$\\bar{x}, \\bar{y}$ - are the mathematical means of the $x$ and $y$ series\n",
        "\n",
        "$n$ - is the number of elements in the series"
      ],
      "metadata": {
        "id": "cO6tCFr0hS4t"
      }
    },
    {
      "cell_type": "markdown",
      "source": [
        "Now we will try to see some examples to find the covariance matrix using the `pandas` library;"
      ],
      "metadata": {
        "id": "u66yY5jXj23O"
      }
    },
    {
      "cell_type": "code",
      "source": [
        "import pandas as pd\n",
        "df = pd.DataFrame([(1, 2), (0, 3), (2, 0), (1, 1)], columns=['dogs', 'cats'])\n",
        "df.cov()"
      ],
      "metadata": {
        "colab": {
          "base_uri": "https://localhost:8080/",
          "height": 112
        },
        "id": "ljrg1EKoKSnT",
        "outputId": "e3f213e7-0076-4fe6-8315-c9e7a4eafaa2"
      },
      "execution_count": null,
      "outputs": [
        {
          "output_type": "execute_result",
          "data": {
            "text/plain": [
              "          dogs      cats\n",
              "dogs  0.666667 -1.000000\n",
              "cats -1.000000  1.666667"
            ],
            "text/html": [
              "\n",
              "  <div id=\"df-177fb974-03fa-4532-b5e8-cc8259082aba\">\n",
              "    <div class=\"colab-df-container\">\n",
              "      <div>\n",
              "<style scoped>\n",
              "    .dataframe tbody tr th:only-of-type {\n",
              "        vertical-align: middle;\n",
              "    }\n",
              "\n",
              "    .dataframe tbody tr th {\n",
              "        vertical-align: top;\n",
              "    }\n",
              "\n",
              "    .dataframe thead th {\n",
              "        text-align: right;\n",
              "    }\n",
              "</style>\n",
              "<table border=\"1\" class=\"dataframe\">\n",
              "  <thead>\n",
              "    <tr style=\"text-align: right;\">\n",
              "      <th></th>\n",
              "      <th>dogs</th>\n",
              "      <th>cats</th>\n",
              "    </tr>\n",
              "  </thead>\n",
              "  <tbody>\n",
              "    <tr>\n",
              "      <th>dogs</th>\n",
              "      <td>0.666667</td>\n",
              "      <td>-1.000000</td>\n",
              "    </tr>\n",
              "    <tr>\n",
              "      <th>cats</th>\n",
              "      <td>-1.000000</td>\n",
              "      <td>1.666667</td>\n",
              "    </tr>\n",
              "  </tbody>\n",
              "</table>\n",
              "</div>\n",
              "      <button class=\"colab-df-convert\" onclick=\"convertToInteractive('df-177fb974-03fa-4532-b5e8-cc8259082aba')\"\n",
              "              title=\"Convert this dataframe to an interactive table.\"\n",
              "              style=\"display:none;\">\n",
              "        \n",
              "  <svg xmlns=\"http://www.w3.org/2000/svg\" height=\"24px\"viewBox=\"0 0 24 24\"\n",
              "       width=\"24px\">\n",
              "    <path d=\"M0 0h24v24H0V0z\" fill=\"none\"/>\n",
              "    <path d=\"M18.56 5.44l.94 2.06.94-2.06 2.06-.94-2.06-.94-.94-2.06-.94 2.06-2.06.94zm-11 1L8.5 8.5l.94-2.06 2.06-.94-2.06-.94L8.5 2.5l-.94 2.06-2.06.94zm10 10l.94 2.06.94-2.06 2.06-.94-2.06-.94-.94-2.06-.94 2.06-2.06.94z\"/><path d=\"M17.41 7.96l-1.37-1.37c-.4-.4-.92-.59-1.43-.59-.52 0-1.04.2-1.43.59L10.3 9.45l-7.72 7.72c-.78.78-.78 2.05 0 2.83L4 21.41c.39.39.9.59 1.41.59.51 0 1.02-.2 1.41-.59l7.78-7.78 2.81-2.81c.8-.78.8-2.07 0-2.86zM5.41 20L4 18.59l7.72-7.72 1.47 1.35L5.41 20z\"/>\n",
              "  </svg>\n",
              "      </button>\n",
              "      \n",
              "  <style>\n",
              "    .colab-df-container {\n",
              "      display:flex;\n",
              "      flex-wrap:wrap;\n",
              "      gap: 12px;\n",
              "    }\n",
              "\n",
              "    .colab-df-convert {\n",
              "      background-color: #E8F0FE;\n",
              "      border: none;\n",
              "      border-radius: 50%;\n",
              "      cursor: pointer;\n",
              "      display: none;\n",
              "      fill: #1967D2;\n",
              "      height: 32px;\n",
              "      padding: 0 0 0 0;\n",
              "      width: 32px;\n",
              "    }\n",
              "\n",
              "    .colab-df-convert:hover {\n",
              "      background-color: #E2EBFA;\n",
              "      box-shadow: 0px 1px 2px rgba(60, 64, 67, 0.3), 0px 1px 3px 1px rgba(60, 64, 67, 0.15);\n",
              "      fill: #174EA6;\n",
              "    }\n",
              "\n",
              "    [theme=dark] .colab-df-convert {\n",
              "      background-color: #3B4455;\n",
              "      fill: #D2E3FC;\n",
              "    }\n",
              "\n",
              "    [theme=dark] .colab-df-convert:hover {\n",
              "      background-color: #434B5C;\n",
              "      box-shadow: 0px 1px 3px 1px rgba(0, 0, 0, 0.15);\n",
              "      filter: drop-shadow(0px 1px 2px rgba(0, 0, 0, 0.3));\n",
              "      fill: #FFFFFF;\n",
              "    }\n",
              "  </style>\n",
              "\n",
              "      <script>\n",
              "        const buttonEl =\n",
              "          document.querySelector('#df-177fb974-03fa-4532-b5e8-cc8259082aba button.colab-df-convert');\n",
              "        buttonEl.style.display =\n",
              "          google.colab.kernel.accessAllowed ? 'block' : 'none';\n",
              "\n",
              "        async function convertToInteractive(key) {\n",
              "          const element = document.querySelector('#df-177fb974-03fa-4532-b5e8-cc8259082aba');\n",
              "          const dataTable =\n",
              "            await google.colab.kernel.invokeFunction('convertToInteractive',\n",
              "                                                     [key], {});\n",
              "          if (!dataTable) return;\n",
              "\n",
              "          const docLinkHtml = 'Like what you see? Visit the ' +\n",
              "            '<a target=\"_blank\" href=https://colab.research.google.com/notebooks/data_table.ipynb>data table notebook</a>'\n",
              "            + ' to learn more about interactive tables.';\n",
              "          element.innerHTML = '';\n",
              "          dataTable['output_type'] = 'display_data';\n",
              "          await google.colab.output.renderOutput(dataTable, element);\n",
              "          const docLink = document.createElement('div');\n",
              "          docLink.innerHTML = docLinkHtml;\n",
              "          element.appendChild(docLink);\n",
              "        }\n",
              "      </script>\n",
              "    </div>\n",
              "  </div>\n",
              "  "
            ]
          },
          "metadata": {},
          "execution_count": 3
        }
      ]
    },
    {
      "cell_type": "markdown",
      "source": [
        "In this example we are trying to generate random values of $1000$ rows and $5$ columns and calculating the covariance using pandas."
      ],
      "metadata": {
        "id": "bJiznzuOl7Bu"
      }
    },
    {
      "cell_type": "code",
      "source": [
        "import numpy as np\n",
        "import pandas as pd\n",
        "#np.random.seed(42)\n",
        "df = pd.DataFrame(np.random.randn(1000, 5), columns=['A', 'B', 'C', 'D', 'E'])\n",
        "df.cov()"
      ],
      "metadata": {
        "colab": {
          "base_uri": "https://localhost:8080/",
          "height": 206
        },
        "id": "U_cjrW6AkQEQ",
        "outputId": "66bf39b8-b6ad-4bcd-98c4-fe1b1c976833"
      },
      "execution_count": null,
      "outputs": [
        {
          "output_type": "execute_result",
          "data": {
            "text/plain": [
              "          A         B         C         D         E\n",
              "A  1.012552  0.048166 -0.009674  0.034240 -0.018401\n",
              "B  0.048166  0.981544 -0.013647  0.020987  0.019773\n",
              "C -0.009674 -0.013647  0.984849  0.006546  0.034038\n",
              "D  0.034240  0.020987  0.006546  0.998385 -0.021586\n",
              "E -0.018401  0.019773  0.034038 -0.021586  0.976272"
            ],
            "text/html": [
              "\n",
              "  <div id=\"df-a03e82d1-b462-4ffd-ba13-0516992a592d\">\n",
              "    <div class=\"colab-df-container\">\n",
              "      <div>\n",
              "<style scoped>\n",
              "    .dataframe tbody tr th:only-of-type {\n",
              "        vertical-align: middle;\n",
              "    }\n",
              "\n",
              "    .dataframe tbody tr th {\n",
              "        vertical-align: top;\n",
              "    }\n",
              "\n",
              "    .dataframe thead th {\n",
              "        text-align: right;\n",
              "    }\n",
              "</style>\n",
              "<table border=\"1\" class=\"dataframe\">\n",
              "  <thead>\n",
              "    <tr style=\"text-align: right;\">\n",
              "      <th></th>\n",
              "      <th>A</th>\n",
              "      <th>B</th>\n",
              "      <th>C</th>\n",
              "      <th>D</th>\n",
              "      <th>E</th>\n",
              "    </tr>\n",
              "  </thead>\n",
              "  <tbody>\n",
              "    <tr>\n",
              "      <th>A</th>\n",
              "      <td>1.012552</td>\n",
              "      <td>0.048166</td>\n",
              "      <td>-0.009674</td>\n",
              "      <td>0.034240</td>\n",
              "      <td>-0.018401</td>\n",
              "    </tr>\n",
              "    <tr>\n",
              "      <th>B</th>\n",
              "      <td>0.048166</td>\n",
              "      <td>0.981544</td>\n",
              "      <td>-0.013647</td>\n",
              "      <td>0.020987</td>\n",
              "      <td>0.019773</td>\n",
              "    </tr>\n",
              "    <tr>\n",
              "      <th>C</th>\n",
              "      <td>-0.009674</td>\n",
              "      <td>-0.013647</td>\n",
              "      <td>0.984849</td>\n",
              "      <td>0.006546</td>\n",
              "      <td>0.034038</td>\n",
              "    </tr>\n",
              "    <tr>\n",
              "      <th>D</th>\n",
              "      <td>0.034240</td>\n",
              "      <td>0.020987</td>\n",
              "      <td>0.006546</td>\n",
              "      <td>0.998385</td>\n",
              "      <td>-0.021586</td>\n",
              "    </tr>\n",
              "    <tr>\n",
              "      <th>E</th>\n",
              "      <td>-0.018401</td>\n",
              "      <td>0.019773</td>\n",
              "      <td>0.034038</td>\n",
              "      <td>-0.021586</td>\n",
              "      <td>0.976272</td>\n",
              "    </tr>\n",
              "  </tbody>\n",
              "</table>\n",
              "</div>\n",
              "      <button class=\"colab-df-convert\" onclick=\"convertToInteractive('df-a03e82d1-b462-4ffd-ba13-0516992a592d')\"\n",
              "              title=\"Convert this dataframe to an interactive table.\"\n",
              "              style=\"display:none;\">\n",
              "        \n",
              "  <svg xmlns=\"http://www.w3.org/2000/svg\" height=\"24px\"viewBox=\"0 0 24 24\"\n",
              "       width=\"24px\">\n",
              "    <path d=\"M0 0h24v24H0V0z\" fill=\"none\"/>\n",
              "    <path d=\"M18.56 5.44l.94 2.06.94-2.06 2.06-.94-2.06-.94-.94-2.06-.94 2.06-2.06.94zm-11 1L8.5 8.5l.94-2.06 2.06-.94-2.06-.94L8.5 2.5l-.94 2.06-2.06.94zm10 10l.94 2.06.94-2.06 2.06-.94-2.06-.94-.94-2.06-.94 2.06-2.06.94z\"/><path d=\"M17.41 7.96l-1.37-1.37c-.4-.4-.92-.59-1.43-.59-.52 0-1.04.2-1.43.59L10.3 9.45l-7.72 7.72c-.78.78-.78 2.05 0 2.83L4 21.41c.39.39.9.59 1.41.59.51 0 1.02-.2 1.41-.59l7.78-7.78 2.81-2.81c.8-.78.8-2.07 0-2.86zM5.41 20L4 18.59l7.72-7.72 1.47 1.35L5.41 20z\"/>\n",
              "  </svg>\n",
              "      </button>\n",
              "      \n",
              "  <style>\n",
              "    .colab-df-container {\n",
              "      display:flex;\n",
              "      flex-wrap:wrap;\n",
              "      gap: 12px;\n",
              "    }\n",
              "\n",
              "    .colab-df-convert {\n",
              "      background-color: #E8F0FE;\n",
              "      border: none;\n",
              "      border-radius: 50%;\n",
              "      cursor: pointer;\n",
              "      display: none;\n",
              "      fill: #1967D2;\n",
              "      height: 32px;\n",
              "      padding: 0 0 0 0;\n",
              "      width: 32px;\n",
              "    }\n",
              "\n",
              "    .colab-df-convert:hover {\n",
              "      background-color: #E2EBFA;\n",
              "      box-shadow: 0px 1px 2px rgba(60, 64, 67, 0.3), 0px 1px 3px 1px rgba(60, 64, 67, 0.15);\n",
              "      fill: #174EA6;\n",
              "    }\n",
              "\n",
              "    [theme=dark] .colab-df-convert {\n",
              "      background-color: #3B4455;\n",
              "      fill: #D2E3FC;\n",
              "    }\n",
              "\n",
              "    [theme=dark] .colab-df-convert:hover {\n",
              "      background-color: #434B5C;\n",
              "      box-shadow: 0px 1px 3px 1px rgba(0, 0, 0, 0.15);\n",
              "      filter: drop-shadow(0px 1px 2px rgba(0, 0, 0, 0.3));\n",
              "      fill: #FFFFFF;\n",
              "    }\n",
              "  </style>\n",
              "\n",
              "      <script>\n",
              "        const buttonEl =\n",
              "          document.querySelector('#df-a03e82d1-b462-4ffd-ba13-0516992a592d button.colab-df-convert');\n",
              "        buttonEl.style.display =\n",
              "          google.colab.kernel.accessAllowed ? 'block' : 'none';\n",
              "\n",
              "        async function convertToInteractive(key) {\n",
              "          const element = document.querySelector('#df-a03e82d1-b462-4ffd-ba13-0516992a592d');\n",
              "          const dataTable =\n",
              "            await google.colab.kernel.invokeFunction('convertToInteractive',\n",
              "                                                     [key], {});\n",
              "          if (!dataTable) return;\n",
              "\n",
              "          const docLinkHtml = 'Like what you see? Visit the ' +\n",
              "            '<a target=\"_blank\" href=https://colab.research.google.com/notebooks/data_table.ipynb>data table notebook</a>'\n",
              "            + ' to learn more about interactive tables.';\n",
              "          element.innerHTML = '';\n",
              "          dataTable['output_type'] = 'display_data';\n",
              "          await google.colab.output.renderOutput(dataTable, element);\n",
              "          const docLink = document.createElement('div');\n",
              "          docLink.innerHTML = docLinkHtml;\n",
              "          element.appendChild(docLink);\n",
              "        }\n",
              "      </script>\n",
              "    </div>\n",
              "  </div>\n",
              "  "
            ]
          },
          "metadata": {},
          "execution_count": 18
        }
      ]
    },
    {
      "cell_type": "markdown",
      "source": [
        "#### **1.6.2 Calculating Correlation in Python**"
      ],
      "metadata": {
        "id": "zmJ1S70_oGOu"
      }
    },
    {
      "cell_type": "markdown",
      "source": [
        "The most widely used formula to compute correlation coefficient is Pearson's $r$:\n",
        "$$r(x,y)=\\frac{Cov(x,y)}{\\sigma_x\\sigma_y}$$\n",
        "Where it is the ratio of covariance to the standard deviation of $x$ variable multiplied with standard deviation of $y$ variable. If $r$ is near to $+1$ or $-1$, then it is called strongly correlated, if $r$ is equal to zero, then no correlation, otherwise, it is called weakly correlated."
      ],
      "metadata": {
        "id": "LGV8yOsRoWtf"
      }
    },
    {
      "cell_type": "markdown",
      "source": [
        "Let's see some examples to calculate the correlation of randomly created dataframe using Python **pandas**."
      ],
      "metadata": {
        "id": "s5gk5awTqZnj"
      }
    },
    {
      "cell_type": "code",
      "source": [
        "import pandas as pd\n",
        "import numpy as np\n",
        "from scipy import stats\n",
        " \n",
        "#Create a DataFrame\n",
        "d = {'Name':['Dorji','Sonam','Chador','Shyam','Zangmo','Om','Sushmita','Karma'],\n",
        "   'Age':[28,23,35,54,31,27,85,41],\n",
        "   'Weight(kg)':[63,67,81,55,47,72,53,45],\n",
        "   'Height(cm)':[175,125,156,165,157,179,161,151]}\n",
        " \n",
        "df = pd.DataFrame(d)\n",
        "df"
      ],
      "metadata": {
        "colab": {
          "base_uri": "https://localhost:8080/",
          "height": 300
        },
        "id": "VHgJkwuXqHM_",
        "outputId": "c3d10631-3cd8-44e6-ba0f-725fbbd26947"
      },
      "execution_count": null,
      "outputs": [
        {
          "output_type": "execute_result",
          "data": {
            "text/plain": [
              "       Name  Age  Weight(kg)  Height(cm)\n",
              "0     Dorji   28          63         175\n",
              "1     Sonam   23          67         125\n",
              "2    Chador   35          81         156\n",
              "3     Shyam   54          55         165\n",
              "4    Zangmo   31          47         157\n",
              "5        Om   27          72         179\n",
              "6  Sushmita   85          53         161\n",
              "7     Karma   41          45         151"
            ],
            "text/html": [
              "\n",
              "  <div id=\"df-c83591b2-f6e9-4dd3-8d8c-bee3614d2b36\">\n",
              "    <div class=\"colab-df-container\">\n",
              "      <div>\n",
              "<style scoped>\n",
              "    .dataframe tbody tr th:only-of-type {\n",
              "        vertical-align: middle;\n",
              "    }\n",
              "\n",
              "    .dataframe tbody tr th {\n",
              "        vertical-align: top;\n",
              "    }\n",
              "\n",
              "    .dataframe thead th {\n",
              "        text-align: right;\n",
              "    }\n",
              "</style>\n",
              "<table border=\"1\" class=\"dataframe\">\n",
              "  <thead>\n",
              "    <tr style=\"text-align: right;\">\n",
              "      <th></th>\n",
              "      <th>Name</th>\n",
              "      <th>Age</th>\n",
              "      <th>Weight(kg)</th>\n",
              "      <th>Height(cm)</th>\n",
              "    </tr>\n",
              "  </thead>\n",
              "  <tbody>\n",
              "    <tr>\n",
              "      <th>0</th>\n",
              "      <td>Dorji</td>\n",
              "      <td>28</td>\n",
              "      <td>63</td>\n",
              "      <td>175</td>\n",
              "    </tr>\n",
              "    <tr>\n",
              "      <th>1</th>\n",
              "      <td>Sonam</td>\n",
              "      <td>23</td>\n",
              "      <td>67</td>\n",
              "      <td>125</td>\n",
              "    </tr>\n",
              "    <tr>\n",
              "      <th>2</th>\n",
              "      <td>Chador</td>\n",
              "      <td>35</td>\n",
              "      <td>81</td>\n",
              "      <td>156</td>\n",
              "    </tr>\n",
              "    <tr>\n",
              "      <th>3</th>\n",
              "      <td>Shyam</td>\n",
              "      <td>54</td>\n",
              "      <td>55</td>\n",
              "      <td>165</td>\n",
              "    </tr>\n",
              "    <tr>\n",
              "      <th>4</th>\n",
              "      <td>Zangmo</td>\n",
              "      <td>31</td>\n",
              "      <td>47</td>\n",
              "      <td>157</td>\n",
              "    </tr>\n",
              "    <tr>\n",
              "      <th>5</th>\n",
              "      <td>Om</td>\n",
              "      <td>27</td>\n",
              "      <td>72</td>\n",
              "      <td>179</td>\n",
              "    </tr>\n",
              "    <tr>\n",
              "      <th>6</th>\n",
              "      <td>Sushmita</td>\n",
              "      <td>85</td>\n",
              "      <td>53</td>\n",
              "      <td>161</td>\n",
              "    </tr>\n",
              "    <tr>\n",
              "      <th>7</th>\n",
              "      <td>Karma</td>\n",
              "      <td>41</td>\n",
              "      <td>45</td>\n",
              "      <td>151</td>\n",
              "    </tr>\n",
              "  </tbody>\n",
              "</table>\n",
              "</div>\n",
              "      <button class=\"colab-df-convert\" onclick=\"convertToInteractive('df-c83591b2-f6e9-4dd3-8d8c-bee3614d2b36')\"\n",
              "              title=\"Convert this dataframe to an interactive table.\"\n",
              "              style=\"display:none;\">\n",
              "        \n",
              "  <svg xmlns=\"http://www.w3.org/2000/svg\" height=\"24px\"viewBox=\"0 0 24 24\"\n",
              "       width=\"24px\">\n",
              "    <path d=\"M0 0h24v24H0V0z\" fill=\"none\"/>\n",
              "    <path d=\"M18.56 5.44l.94 2.06.94-2.06 2.06-.94-2.06-.94-.94-2.06-.94 2.06-2.06.94zm-11 1L8.5 8.5l.94-2.06 2.06-.94-2.06-.94L8.5 2.5l-.94 2.06-2.06.94zm10 10l.94 2.06.94-2.06 2.06-.94-2.06-.94-.94-2.06-.94 2.06-2.06.94z\"/><path d=\"M17.41 7.96l-1.37-1.37c-.4-.4-.92-.59-1.43-.59-.52 0-1.04.2-1.43.59L10.3 9.45l-7.72 7.72c-.78.78-.78 2.05 0 2.83L4 21.41c.39.39.9.59 1.41.59.51 0 1.02-.2 1.41-.59l7.78-7.78 2.81-2.81c.8-.78.8-2.07 0-2.86zM5.41 20L4 18.59l7.72-7.72 1.47 1.35L5.41 20z\"/>\n",
              "  </svg>\n",
              "      </button>\n",
              "      \n",
              "  <style>\n",
              "    .colab-df-container {\n",
              "      display:flex;\n",
              "      flex-wrap:wrap;\n",
              "      gap: 12px;\n",
              "    }\n",
              "\n",
              "    .colab-df-convert {\n",
              "      background-color: #E8F0FE;\n",
              "      border: none;\n",
              "      border-radius: 50%;\n",
              "      cursor: pointer;\n",
              "      display: none;\n",
              "      fill: #1967D2;\n",
              "      height: 32px;\n",
              "      padding: 0 0 0 0;\n",
              "      width: 32px;\n",
              "    }\n",
              "\n",
              "    .colab-df-convert:hover {\n",
              "      background-color: #E2EBFA;\n",
              "      box-shadow: 0px 1px 2px rgba(60, 64, 67, 0.3), 0px 1px 3px 1px rgba(60, 64, 67, 0.15);\n",
              "      fill: #174EA6;\n",
              "    }\n",
              "\n",
              "    [theme=dark] .colab-df-convert {\n",
              "      background-color: #3B4455;\n",
              "      fill: #D2E3FC;\n",
              "    }\n",
              "\n",
              "    [theme=dark] .colab-df-convert:hover {\n",
              "      background-color: #434B5C;\n",
              "      box-shadow: 0px 1px 3px 1px rgba(0, 0, 0, 0.15);\n",
              "      filter: drop-shadow(0px 1px 2px rgba(0, 0, 0, 0.3));\n",
              "      fill: #FFFFFF;\n",
              "    }\n",
              "  </style>\n",
              "\n",
              "      <script>\n",
              "        const buttonEl =\n",
              "          document.querySelector('#df-c83591b2-f6e9-4dd3-8d8c-bee3614d2b36 button.colab-df-convert');\n",
              "        buttonEl.style.display =\n",
              "          google.colab.kernel.accessAllowed ? 'block' : 'none';\n",
              "\n",
              "        async function convertToInteractive(key) {\n",
              "          const element = document.querySelector('#df-c83591b2-f6e9-4dd3-8d8c-bee3614d2b36');\n",
              "          const dataTable =\n",
              "            await google.colab.kernel.invokeFunction('convertToInteractive',\n",
              "                                                     [key], {});\n",
              "          if (!dataTable) return;\n",
              "\n",
              "          const docLinkHtml = 'Like what you see? Visit the ' +\n",
              "            '<a target=\"_blank\" href=https://colab.research.google.com/notebooks/data_table.ipynb>data table notebook</a>'\n",
              "            + ' to learn more about interactive tables.';\n",
              "          element.innerHTML = '';\n",
              "          dataTable['output_type'] = 'display_data';\n",
              "          await google.colab.output.renderOutput(dataTable, element);\n",
              "          const docLink = document.createElement('div');\n",
              "          docLink.innerHTML = docLinkHtml;\n",
              "          element.appendChild(docLink);\n",
              "        }\n",
              "      </script>\n",
              "    </div>\n",
              "  </div>\n",
              "  "
            ]
          },
          "metadata": {},
          "execution_count": 27
        }
      ]
    },
    {
      "cell_type": "code",
      "source": [
        "df.corr(method='pearson') #Pairwise correlation of all columns in the dataframe\n"
      ],
      "metadata": {
        "colab": {
          "base_uri": "https://localhost:8080/",
          "height": 143
        },
        "id": "sBBhDr9urCEj",
        "outputId": "902e254f-cf40-4bf2-c0c1-747ac168c384"
      },
      "execution_count": null,
      "outputs": [
        {
          "output_type": "execute_result",
          "data": {
            "text/plain": [
              "                 Age  Weight(kg)  Height(cm)\n",
              "Age         1.000000   -0.388585    0.137423\n",
              "Weight(kg) -0.388585    1.000000    0.061612\n",
              "Height(cm)  0.137423    0.061612    1.000000"
            ],
            "text/html": [
              "\n",
              "  <div id=\"df-4a9cc27c-d0e0-473b-9dd6-bd882d897f64\">\n",
              "    <div class=\"colab-df-container\">\n",
              "      <div>\n",
              "<style scoped>\n",
              "    .dataframe tbody tr th:only-of-type {\n",
              "        vertical-align: middle;\n",
              "    }\n",
              "\n",
              "    .dataframe tbody tr th {\n",
              "        vertical-align: top;\n",
              "    }\n",
              "\n",
              "    .dataframe thead th {\n",
              "        text-align: right;\n",
              "    }\n",
              "</style>\n",
              "<table border=\"1\" class=\"dataframe\">\n",
              "  <thead>\n",
              "    <tr style=\"text-align: right;\">\n",
              "      <th></th>\n",
              "      <th>Age</th>\n",
              "      <th>Weight(kg)</th>\n",
              "      <th>Height(cm)</th>\n",
              "    </tr>\n",
              "  </thead>\n",
              "  <tbody>\n",
              "    <tr>\n",
              "      <th>Age</th>\n",
              "      <td>1.000000</td>\n",
              "      <td>-0.388585</td>\n",
              "      <td>0.137423</td>\n",
              "    </tr>\n",
              "    <tr>\n",
              "      <th>Weight(kg)</th>\n",
              "      <td>-0.388585</td>\n",
              "      <td>1.000000</td>\n",
              "      <td>0.061612</td>\n",
              "    </tr>\n",
              "    <tr>\n",
              "      <th>Height(cm)</th>\n",
              "      <td>0.137423</td>\n",
              "      <td>0.061612</td>\n",
              "      <td>1.000000</td>\n",
              "    </tr>\n",
              "  </tbody>\n",
              "</table>\n",
              "</div>\n",
              "      <button class=\"colab-df-convert\" onclick=\"convertToInteractive('df-4a9cc27c-d0e0-473b-9dd6-bd882d897f64')\"\n",
              "              title=\"Convert this dataframe to an interactive table.\"\n",
              "              style=\"display:none;\">\n",
              "        \n",
              "  <svg xmlns=\"http://www.w3.org/2000/svg\" height=\"24px\"viewBox=\"0 0 24 24\"\n",
              "       width=\"24px\">\n",
              "    <path d=\"M0 0h24v24H0V0z\" fill=\"none\"/>\n",
              "    <path d=\"M18.56 5.44l.94 2.06.94-2.06 2.06-.94-2.06-.94-.94-2.06-.94 2.06-2.06.94zm-11 1L8.5 8.5l.94-2.06 2.06-.94-2.06-.94L8.5 2.5l-.94 2.06-2.06.94zm10 10l.94 2.06.94-2.06 2.06-.94-2.06-.94-.94-2.06-.94 2.06-2.06.94z\"/><path d=\"M17.41 7.96l-1.37-1.37c-.4-.4-.92-.59-1.43-.59-.52 0-1.04.2-1.43.59L10.3 9.45l-7.72 7.72c-.78.78-.78 2.05 0 2.83L4 21.41c.39.39.9.59 1.41.59.51 0 1.02-.2 1.41-.59l7.78-7.78 2.81-2.81c.8-.78.8-2.07 0-2.86zM5.41 20L4 18.59l7.72-7.72 1.47 1.35L5.41 20z\"/>\n",
              "  </svg>\n",
              "      </button>\n",
              "      \n",
              "  <style>\n",
              "    .colab-df-container {\n",
              "      display:flex;\n",
              "      flex-wrap:wrap;\n",
              "      gap: 12px;\n",
              "    }\n",
              "\n",
              "    .colab-df-convert {\n",
              "      background-color: #E8F0FE;\n",
              "      border: none;\n",
              "      border-radius: 50%;\n",
              "      cursor: pointer;\n",
              "      display: none;\n",
              "      fill: #1967D2;\n",
              "      height: 32px;\n",
              "      padding: 0 0 0 0;\n",
              "      width: 32px;\n",
              "    }\n",
              "\n",
              "    .colab-df-convert:hover {\n",
              "      background-color: #E2EBFA;\n",
              "      box-shadow: 0px 1px 2px rgba(60, 64, 67, 0.3), 0px 1px 3px 1px rgba(60, 64, 67, 0.15);\n",
              "      fill: #174EA6;\n",
              "    }\n",
              "\n",
              "    [theme=dark] .colab-df-convert {\n",
              "      background-color: #3B4455;\n",
              "      fill: #D2E3FC;\n",
              "    }\n",
              "\n",
              "    [theme=dark] .colab-df-convert:hover {\n",
              "      background-color: #434B5C;\n",
              "      box-shadow: 0px 1px 3px 1px rgba(0, 0, 0, 0.15);\n",
              "      filter: drop-shadow(0px 1px 2px rgba(0, 0, 0, 0.3));\n",
              "      fill: #FFFFFF;\n",
              "    }\n",
              "  </style>\n",
              "\n",
              "      <script>\n",
              "        const buttonEl =\n",
              "          document.querySelector('#df-4a9cc27c-d0e0-473b-9dd6-bd882d897f64 button.colab-df-convert');\n",
              "        buttonEl.style.display =\n",
              "          google.colab.kernel.accessAllowed ? 'block' : 'none';\n",
              "\n",
              "        async function convertToInteractive(key) {\n",
              "          const element = document.querySelector('#df-4a9cc27c-d0e0-473b-9dd6-bd882d897f64');\n",
              "          const dataTable =\n",
              "            await google.colab.kernel.invokeFunction('convertToInteractive',\n",
              "                                                     [key], {});\n",
              "          if (!dataTable) return;\n",
              "\n",
              "          const docLinkHtml = 'Like what you see? Visit the ' +\n",
              "            '<a target=\"_blank\" href=https://colab.research.google.com/notebooks/data_table.ipynb>data table notebook</a>'\n",
              "            + ' to learn more about interactive tables.';\n",
              "          element.innerHTML = '';\n",
              "          dataTable['output_type'] = 'display_data';\n",
              "          await google.colab.output.renderOutput(dataTable, element);\n",
              "          const docLink = document.createElement('div');\n",
              "          docLink.innerHTML = docLinkHtml;\n",
              "          element.appendChild(docLink);\n",
              "        }\n",
              "      </script>\n",
              "    </div>\n",
              "  </div>\n",
              "  "
            ]
          },
          "metadata": {},
          "execution_count": 28
        }
      ]
    },
    {
      "cell_type": "markdown",
      "source": [
        "#### **To Do:**"
      ],
      "metadata": {
        "id": "gWTcutJRs5W0"
      }
    },
    {
      "cell_type": "markdown",
      "source": [
        "**1).** Calculate the covariance and correlation between the distinct pair of the columns given in the dataframe above using the given formulas and interpret the answers."
      ],
      "metadata": {
        "id": "naa9LhwUtAEv"
      }
    },
    {
      "cell_type": "markdown",
      "source": [
        "**2).** Perform analysis of the \"iris dataset\" by computing the covariance and correlation between the arguments or attributes or columns of the dataset using the `pandas` library. Do necessary data preprocessing if required. \n"
      ],
      "metadata": {
        "id": "wVtWo7e5wjvM"
      }
    }
  ]
}