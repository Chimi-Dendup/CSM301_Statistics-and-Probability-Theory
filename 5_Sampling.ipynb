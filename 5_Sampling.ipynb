{
  "nbformat": 4,
  "nbformat_minor": 0,
  "metadata": {
    "colab": {
      "name": "5_Sampling",
      "provenance": [],
      "collapsed_sections": [],
      "include_colab_link": true
    },
    "kernelspec": {
      "name": "python3",
      "display_name": "Python 3"
    },
    "language_info": {
      "name": "python"
    }
  },
  "cells": [
    {
      "cell_type": "markdown",
      "metadata": {
        "id": "view-in-github",
        "colab_type": "text"
      },
      "source": [
        "<a href=\"https://colab.research.google.com/github/Chimi-Dendup/CSM301_Statistics-and-Probability-Theory/blob/main/5_Sampling.ipynb\" target=\"_parent\"><img src=\"https://colab.research.google.com/assets/colab-badge.svg\" alt=\"Open In Colab\"/></a>"
      ]
    },
    {
      "cell_type": "markdown",
      "source": [
        "<!DOCTYPE html>\n",
        "<html >\n",
        "<body>\n",
        "<h1 align=\"center\"> <b>5. Sampling</b> </h1>\n",
        "<h4 align=\"center\"><i>Prepared by Chimi Dendup</i></h4>\n",
        "</body>\n",
        "</html>"
      ],
      "metadata": {
        "id": "uV427rgaGYzx"
      }
    },
    {
      "cell_type": "markdown",
      "source": [
        "## **5.1 Overview**"
      ],
      "metadata": {
        "id": "lrdqImvj2_vj"
      }
    },
    {
      "cell_type": "markdown",
      "source": [
        "In this section, you will learn about sampling and its techniques, as well as sampling error, using Python as a hands-on practice to sample population data. When gathering data, sampling is used.\n",
        "\n",
        "By the end of this section, you should be able to\n",
        "\n",
        "**Understand the methods of sampling.**\n",
        "\n",
        "* Define and describe what sampling is\n",
        "* Explain why we need sampling.\n",
        "* Define, describe and apply the different types of sampling techniques.\n",
        "* Explain the data sampling errors.\n",
        "* Use the most common sampling techniques to sample the data in Python.\n",
        "* Define, describe and interpret undersampling and oversampling with examples using Python.\n",
        "\n",
        "\n"
      ],
      "metadata": {
        "id": "TZhkqrQB3Dlo"
      }
    },
    {
      "cell_type": "markdown",
      "source": [
        "## **5.2 Sampling**"
      ],
      "metadata": {
        "id": "eKaQhUj_5PYJ"
      }
    },
    {
      "cell_type": "markdown",
      "source": [
        "Let’s start by formally defining what sampling is.\n",
        "\n",
        "**Sampling** is a technique that allows us to obtain information about a population based on statistics from a subset of the population (sample) without having to investigate every individual."
      ],
      "metadata": {
        "id": "jaDv1U8i-YOZ"
      }
    },
    {
      "cell_type": "markdown",
      "source": [
        "![New Microsoft PowerPoint Presentation.png](data:image/png;base64,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)"
      ],
      "metadata": {
        "id": "ZHNRzWhiowzh"
      }
    },
    {
      "cell_type": "markdown",
      "source": [
        "The diagram above perfectly depicts what sampling is. Let's look at an example to get a better understanding.\n",
        "\n",
        "The average height of all adult males in Gyalpozhing is what we're looking for. Gyalpozhing's population is around 10K, and males are roughly 4K (these are general assumptions for this example, so don't take them at face value!). As you might expect, determining the average height of all males in Gyalpozhing is nearly impossible.\n",
        "\n",
        "It is also not possible to reach every male, so we cannot truly analyze the entire population. So, what can we do instead? We can take multiple samples and calculate the average height of the individuals in the selected samples.\n",
        "\n",
        "But then we have another problem: how do we take a sample? Should we take a sample at random? Or do we need to consult the experts?\n",
        "\n",
        "Assume we visit a basketball court and use the average height of all professional basketball players as our sample. This is not a good sample because a basketball player is generally taller than the average male, and it will give us an inaccurate estimate of the average male's height.\n",
        "\n",
        "Here's one possible solution: find random people in random situations so that our sample isn't skewed by height."
      ],
      "metadata": {
        "id": "Qfsssa0IJ0wc"
      }
    },
    {
      "cell_type": "markdown",
      "source": [
        "### **5.2.1 Why do we need Sampling?**"
      ],
      "metadata": {
        "id": "LqNXJSGCP3a7"
      }
    },
    {
      "cell_type": "markdown",
      "source": [
        "I'm sure you have a good intuition about the question at this point.\n",
        "\n",
        "Sampling is used to draw conclusions about populations based on samples, and it allows us to determine the characteristics of a population by directly observing only a portion (or sample) of the population.\n",
        "\n",
        "* Choosing a sample takes less time than choosing every item in a population.\n",
        "* Sample selection is a low-cost method.\n",
        "* A sample analysis is less time-consuming and more practical than a population analysis."
      ],
      "metadata": {
        "id": "mey8_Y74QXTh"
      }
    },
    {
      "cell_type": "markdown",
      "source": [
        "### **5.2.2 Steps involved in Sampling**"
      ],
      "metadata": {
        "id": "x7SoQAhsQwv3"
      }
    },
    {
      "cell_type": "markdown",
      "source": [
        "Here's a step-by-step process of how sampling is typically done!\n",
        "\n"
      ],
      "metadata": {
        "id": "TNLaCgADx8CG"
      }
    },
    {
      "cell_type": "markdown",
      "source": [
        "![image.png](data:image/png;base64,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)"
      ],
      "metadata": {
        "id": "nROyC6TSy2Pv"
      }
    },
    {
      "cell_type": "markdown",
      "source": [
        "### **5.2.3 Different Types of Sampling Techniques**"
      ],
      "metadata": {
        "id": "_HUEII2e2HCq"
      }
    },
    {
      "cell_type": "markdown",
      "source": [
        "Another diagrammatic illustration has arrived! This one discusses the various sampling techniques available to us:"
      ],
      "metadata": {
        "id": "HwWTW5lF2Qxl"
      }
    },
    {
      "cell_type": "markdown",
      "source": [
        "![image.png](data:image/png;base64,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)"
      ],
      "metadata": {
        "id": "qn5WnGaI2dFs"
      }
    },
    {
      "cell_type": "markdown",
      "source": [
        "Whether you have decided to go for a probability or a non-probability approach depends on the following factors:\n",
        "\n",
        "1. Goal and scope of the study.\n",
        "2. Data collection methods that are feasible.\n",
        "3. Duration of the study.\n",
        "4. Level of precision you wish to have from the results.\n",
        "5. Design of the sampling frame and viability to maintain the frame."
      ],
      "metadata": {
        "id": "RMa_KgU0_58h"
      }
    },
    {
      "cell_type": "markdown",
      "source": [
        "Assume our population consists of $20$ people. Each person is assigned a number from $1$ to $20$ and a color (red, blue, green, or yellow). In probability sampling, each person has a $1$ in $20$ chance of being chosen.\n",
        "\n",
        "These odds are not equal with non-probability sampling. A person may have a better chance of being chosen than others. So, now that we've established these two sampling types, let's dive into each and understand the various types of sampling under each section."
      ],
      "metadata": {
        "id": "w5xNOqcY9wY_"
      }
    },
    {
      "cell_type": "markdown",
      "source": [
        "## **5.3 Probability Sampling**"
      ],
      "metadata": {
        "id": "xNmV_O8S-pSy"
      }
    },
    {
      "cell_type": "markdown",
      "source": [
        "Probability sampling is a sampling method in which samples are chosen from a larger population using a method based on probability theory. **The most important requirement of probability sampling is that every data point in the population has a known and equal chance of being chosen.**"
      ],
      "metadata": {
        "id": "uD0w4hhrAg1G"
      }
    },
    {
      "cell_type": "markdown",
      "source": [
        "### **5.3.1 Simple Random sampling**"
      ],
      "metadata": {
        "id": "ys6_pvJzCzJx"
      }
    },
    {
      "cell_type": "markdown",
      "source": [
        "In this type of sampling, each member of the population has an equal chance of being included in the sample. In this method, samples are chosen at random. A sample drawn at random is intended to be an unbiased representation of the entire population. Let us now implement Random Sampling in Python. We start with the Employee's Monthly Salary Sample Dataset.\n",
        "\n",
        "Get the dataset here[https://drive.google.com/file/d/1ReZiMbKRkyzLfqGux5GNBB9f-E92d5-8/view?usp=sharing]"
      ],
      "metadata": {
        "id": "ljQ87345DjXj"
      }
    },
    {
      "cell_type": "markdown",
      "source": [
        "Let us start by reading the data."
      ],
      "metadata": {
        "id": "Q3zN7q--TGmz"
      }
    },
    {
      "cell_type": "code",
      "source": [
        "import numpy as np \n",
        "import pandas as pd\n",
        "\n",
        "#read the data\n",
        "df=pd.read_csv('Employee_monthly_salary.csv')\n",
        "df.head()"
      ],
      "metadata": {
        "id": "uyYhYXVzTN8s"
      },
      "execution_count": null,
      "outputs": []
    },
    {
      "cell_type": "markdown",
      "source": [
        "In python, Random sampling is very easy to implement, using the `.sample()` function."
      ],
      "metadata": {
        "id": "v_Xf4jG-TnJ6"
      }
    },
    {
      "cell_type": "code",
      "source": [
        "#taking 200 units\n",
        "df.sample(200)"
      ],
      "metadata": {
        "id": "sQtRPE9bTwrk"
      },
      "execution_count": null,
      "outputs": []
    },
    {
      "cell_type": "markdown",
      "source": [
        "Random sampling is one of the simplest methods for gathering data from the entire population. Each member of the population has an equal chance of being chosen as part of the sampling process in the case of random sampling."
      ],
      "metadata": {
        "id": "chjxmUvIUIDd"
      }
    },
    {
      "cell_type": "markdown",
      "source": [
        "### **5.3.2 Systematic Sampling**"
      ],
      "metadata": {
        "id": "Nn0xKmcaUUPT"
      }
    },
    {
      "cell_type": "markdown",
      "source": [
        "Systematic sampling is a probability sampling method that selects elements from a target population by choosing a random starting point and selecting sample members after a fixed **'sampling interval'**. This is easily implemented by selecting the $N^{th}$ element. The use of systematic sampling ensures that the entire population is fairly represented."
      ],
      "metadata": {
        "id": "E9D_IKY8Uepj"
      }
    },
    {
      "cell_type": "markdown",
      "source": [
        "Here, we do systematic sampling, choosing every $10^{th}$ element."
      ],
      "metadata": {
        "id": "B7Q2gomWVTNB"
      }
    },
    {
      "cell_type": "code",
      "source": [
        "df.iloc[0:1802:10]\n"
      ],
      "metadata": {
        "id": "Zj0kP5zPVeR_"
      },
      "execution_count": null,
      "outputs": []
    },
    {
      "cell_type": "markdown",
      "source": [
        "### **5.3.3 Stratified Sampling**"
      ],
      "metadata": {
        "id": "xYgihLaNVrXs"
      }
    },
    {
      "cell_type": "markdown",
      "source": [
        "A stratum is a subset of the population that shares at least one characteristic. Further sampling is carried out in order to obtain a sufficient number of samples from each stratum. When trying to draw conclusions from different sub-groups or strata, stratified sampling is a common sampling technique.\n",
        "\n",
        "We use stratified sampling here. First, we select only male data points, and then we select random data points. Similarly, for the female data points, an aggregate of the data can be taken."
      ],
      "metadata": {
        "id": "NV1JGxKBVxdb"
      }
    },
    {
      "cell_type": "code",
      "source": [
        "df_male=df[df[\"Gender\"]==\"M\"]\n",
        "df_male.head()"
      ],
      "metadata": {
        "id": "UjchzovTWJ28"
      },
      "execution_count": null,
      "outputs": []
    },
    {
      "cell_type": "code",
      "source": [
        "df_male.sample(100)"
      ],
      "metadata": {
        "id": "iJgvBhgRWYYl"
      },
      "execution_count": null,
      "outputs": []
    },
    {
      "cell_type": "markdown",
      "source": [
        "Similar steps can be executed for the female data."
      ],
      "metadata": {
        "id": "70ejy2R_WgPS"
      }
    },
    {
      "cell_type": "markdown",
      "source": [
        "### **5.3.4 Cluster sampling**"
      ],
      "metadata": {
        "id": "VqYj2zfNWhPX"
      }
    },
    {
      "cell_type": "markdown",
      "source": [
        "First, we divide the population into clusters. We then select a random sample of these clusters to form our sample. If your subjects are sporadic and spread over a large geographical area, cluster sampling can save you time and money. The following are the stages of cluster sampling:\n",
        "\n",
        "1. Sampling frame – In the sampling frame, select your grouping, such as the geographical region.\n",
        "\n",
        "2. Assign a number to each cluster.\n",
        "\n",
        "3. Choose one of these clusters at random.\n",
        "\n"
      ],
      "metadata": {
        "id": "0VqR18ZQW-JK"
      }
    },
    {
      "cell_type": "markdown",
      "source": [
        "**Example:** Assume a company that offers city tours wants to poll its customers. They choose four tours at random from ten given that day and ask each customer to rate their experience on a scale of $1$ to $10$.\n",
        "\n",
        "The following code shows how to create a pandas DataFrame to work with:"
      ],
      "metadata": {
        "id": "dWFdGZ8Tu8Ft"
      }
    },
    {
      "cell_type": "code",
      "source": [
        "import pandas as pd\n",
        "import numpy as np\n",
        "\n",
        "#make this example reproducible\n",
        "np.random.seed(0)\n",
        "\n",
        "#create DataFrame\n",
        "df = pd.DataFrame({'tour': np.repeat(np.arange(1,11), 20),\n",
        "                   'experience': np.random.normal(loc=7, scale=1, size=200)})\n",
        "\n",
        "#view first five rows of DataFrame\n",
        "df.head()"
      ],
      "metadata": {
        "id": "DiF99zrAYBow"
      },
      "execution_count": null,
      "outputs": []
    },
    {
      "cell_type": "markdown",
      "source": [
        "And the following code demonstrates how to obtain a sample of customers by selecting four tours at random and including every member of those tours in the sample:"
      ],
      "metadata": {
        "id": "LkzYkHbDvL0d"
      }
    },
    {
      "cell_type": "code",
      "source": [
        "#randomly choose 4 tour groups out of the 10\n",
        "clusters = np.random.choice(np.arange(1,11), size=4, replace=False)\n",
        "\n",
        "#define sample as all members who belong to one of the 4 tour groups\n",
        "cluster_sample = df[df['tour'].isin(clusters)]\n",
        "\n",
        "#view first six rows of sample\n",
        "cluster_sample.head()"
      ],
      "metadata": {
        "id": "IPVc5Xbit1iq"
      },
      "execution_count": null,
      "outputs": []
    },
    {
      "cell_type": "code",
      "source": [
        "#find how many observations came from each tour group\n",
        "cluster_sample['tour'].value_counts()"
      ],
      "metadata": {
        "id": "L6uzsOc8vxD3"
      },
      "execution_count": null,
      "outputs": []
    },
    {
      "cell_type": "markdown",
      "source": [
        "As a result, we can see that sampling is an important concept in analytics and data science. It ensures that we have a usable data subset on which to work."
      ],
      "metadata": {
        "id": "VW80e-iowZkA"
      }
    },
    {
      "cell_type": "markdown",
      "source": [
        "## **5.4 Non-Probability Sampling**"
      ],
      "metadata": {
        "id": "D7JoIHfxAh2K"
      }
    },
    {
      "cell_type": "markdown",
      "source": [
        "We intentionally do not assign importance to each element in the population having an equal chance of being picked up in the sample in this type of sampling."
      ],
      "metadata": {
        "id": "8vG1FJyIyGTO"
      }
    },
    {
      "cell_type": "markdown",
      "source": [
        "### **5.4.1 Convenience Sampling**"
      ],
      "metadata": {
        "id": "aoobLnsKyHOS"
      }
    },
    {
      "cell_type": "markdown",
      "source": [
        "This is possibly the simplest method of sampling because individuals are chosen based on their availability and willingness to participate.\n",
        "\n",
        "From the number set $\\{1,2,3,...,20\\}$. Let's say people with the numbers $4, 7, 12, 15$, and $20$ want to be a part of our sample, so we'll include them.\n",
        "\n",
        "Convenience sampling is prone to significant bias because the sample may not be representative of the population's specific characteristics, such as religion or gender."
      ],
      "metadata": {
        "id": "A-lDd44CyYLt"
      }
    },
    {
      "cell_type": "markdown",
      "source": [
        "### **5.4.2 Quota Sampling**"
      ],
      "metadata": {
        "id": "1VC51D4i0enq"
      }
    },
    {
      "cell_type": "markdown",
      "source": [
        "In this type of sampling, we select items based on predetermined population characteristics. Consider that we need to choose individuals whose numbers are multiples of four for our sample:\n",
        "\n",
        "As a result, the numbers $4, 8, 12, 16$, and $20$ have already been reserved for our sample.\n",
        "\n",
        "The chosen sample in quota sampling may not be the best representation of the characteristics of the population that were not considered."
      ],
      "metadata": {
        "id": "xEg3i7Ff0wsX"
      }
    },
    {
      "cell_type": "markdown",
      "source": [
        "### **5.4.3 Judgment Sampling**"
      ],
      "metadata": {
        "id": "qNeyitfm1PTc"
      }
    },
    {
      "cell_type": "markdown",
      "source": [
        "It is also referred to as selective sampling. When deciding who to invite to participate, the experts' judgment is used.\n",
        "\n",
        "Assume our experts believe that people numbered $1, 7, 10, 15$, and $19$ should be included in our sample because they can help us better infer the population. As you might expect, quota sampling is subject to expert bias and may not be representative."
      ],
      "metadata": {
        "id": "ddZnQ7eN1b55"
      }
    },
    {
      "cell_type": "markdown",
      "source": [
        "### **5.4.4 Snowball Sampling**"
      ],
      "metadata": {
        "id": "xExV_FUr16ro"
      }
    },
    {
      "cell_type": "markdown",
      "source": [
        "This sampling technique appeals to me. Existing people are asked to nominate more people they know, so that the sample grows in size like a snowball. This sampling method is useful when identifying a sampling frame is difficult.\n",
        "\n",
        "We chose person $1$ at random for our sample, and then he/she recommended person $6$, and person $6$ recommended person $11$, and so on.\n",
        "$$1\\to 6\\to 11\\to 14\\to 19$$\n",
        "\n",
        "Snowball sampling has a high risk of selection bias because the individuals being referenced share characteristics with the person recommending them."
      ],
      "metadata": {
        "id": "jjoQsaGd2Cuf"
      }
    },
    {
      "cell_type": "markdown",
      "source": [
        "## **5.5 Sampling Errors**"
      ],
      "metadata": {
        "id": "s_70h3ZUFHcC"
      }
    },
    {
      "cell_type": "markdown",
      "source": [
        "Sampling errors occur when a sample does not accurately represent the entire population. They are the differences between the true population values and the values derived from population samples.\n",
        "\n",
        "When numerical parameters for an entire population are derived from a sample of the entire population, sampling errors occur. Because the sample does not include the entire population, the sample parameters differ from those of the actual population.\n",
        "\n",
        "They may cause results to be distorted, causing users to draw incorrect conclusions. The sampling errors are significant when analysts do not select samples that represent the entire population."
      ],
      "metadata": {
        "id": "2klYQeeIFQ_v"
      }
    },
    {
      "cell_type": "markdown",
      "source": [
        "**Example:** Assume the producers of Company *XYZ* want to know how many people watch a local program that airs twice a week. The producers must select samples that can represent various types of viewers. They may need to consider factors such as age, education level, and gender.\n",
        "\n",
        "People between the ages of $14$ and $18$, for example, have fewer commitments and can usually find time to watch the show twice a week. People between the ages of $18$ and $35$, on the other hand, have busier schedules and will not have time to watch television.\n",
        "\n",
        "As a result, it is critical to draw a proportionate sample. Otherwise, the results will not be representative of the true population.\n",
        "\n",
        "Because the precise population parameter is unknown, sampling is used."
      ],
      "metadata": {
        "id": "WtlAT3fJHLEC"
      }
    },
    {
      "cell_type": "markdown",
      "source": [
        "### **5.5.1 Categories of Sampling Errors**"
      ],
      "metadata": {
        "id": "jveXMQ70Hrlh"
      }
    },
    {
      "cell_type": "markdown",
      "source": [
        "There are **four** types of sampling errors, which will be discussed further below:"
      ],
      "metadata": {
        "id": "J3oPnAmHIL9G"
      }
    },
    {
      "cell_type": "markdown",
      "source": [
        "1. **Population Specification Error:**   This occurs when analysts do not know who to survey. For example, in a breakfast cereal survey, the population could include the mother, children, or the entire family.\n",
        "2. **Selection Error:**  Occurs when respondents' survey participation is self-selected, implying that only those who are interested respond. Encouragement of participation can help to reduce selection errors.\n",
        "\n",
        "3. **Sample Frame Error:**  Occurs when a sample is drawn from the incorrect population data.\n",
        "\n",
        "4. **Non-Response Error:**  Occurs when a useful response is not obtained from the surveys. It could be due to an inability to contact potential respondents or their refusal to respond."
      ],
      "metadata": {
        "id": "-UDstHdNHxKy"
      }
    },
    {
      "cell_type": "markdown",
      "source": [
        "## **5.6 Undersampling and Oversampling**"
      ],
      "metadata": {
        "id": "Z0ibx2iSo6b6"
      }
    },
    {
      "cell_type": "markdown",
      "source": [
        "Undersampling and oversampling are techniques used to combat the issue of unbalanced classes in a dataset. We sometimes do this in order to avoid overfitting the data with a majority class at the expense of other classes whether it's one or multiple."
      ],
      "metadata": {
        "id": "JscZfTgxpB39"
      }
    },
    {
      "cell_type": "markdown",
      "source": [
        "### **5.6.1 Undersampling**"
      ],
      "metadata": {
        "id": "THB1HoKbpe6d"
      }
    },
    {
      "cell_type": "markdown",
      "source": [
        "One approach is implicit in the name. Undersampling means reducing all classes to the same number of rows as the minority class or the one with the fewest rows.\n",
        "\n",
        "For example, We have a $100$-row dataset with three independent columns and one dependent feature, also known as the class column. The class column is labeled $1$, $2$, and $3$. Label $1$ has $39$ instances, Label $2$ has $32$ instances, and Label $3$ has $29$ instances. To apply undersampling to the aforementioned dataset, we must reduce labels $1$ and $2$ to the same number of instances as label $3$. As a result, in this case, each label would have $29$ instances. Let us make an attempt at it.\n",
        "\n",
        "First, let’s import the needed libraries to do so."
      ],
      "metadata": {
        "id": "5e0ChpqDpmz5"
      }
    },
    {
      "cell_type": "code",
      "source": [
        "import pandas as pd\n",
        "import numpy as np"
      ],
      "metadata": {
        "id": "YOS1AZd_Ay6W"
      },
      "execution_count": null,
      "outputs": []
    },
    {
      "cell_type": "markdown",
      "source": [
        "Then we'll make a dataset with three columns and $100$ rows that are randomly filled. The values will be between $0$ and $100$. The columns will be labeled $f1,$ $f2,$ and $f3.$"
      ],
      "metadata": {
        "id": "kZ1otwYwL7Jr"
      }
    },
    {
      "cell_type": "code",
      "source": [
        "df = pd.DataFrame(np.random.randint(0,100,size=(100, 3)), columns=['f1','f2','f3'])\n",
        "df.head()"
      ],
      "metadata": {
        "id": "TM-faeUeNSJf"
      },
      "execution_count": null,
      "outputs": []
    },
    {
      "cell_type": "markdown",
      "source": [
        "Now, these columns in the $'df'$ DataFrame constitute the features. Next, we will create the label class which we will name $'l1'$."
      ],
      "metadata": {
        "id": "rXKOQDNLNoSo"
      }
    },
    {
      "cell_type": "code",
      "source": [
        "df_label = pd.DataFrame(np.random.randint(1,4,size=(100,1)), columns=['l1'])"
      ],
      "metadata": {
        "id": "aHi5gHAZNZ8Z"
      },
      "execution_count": null,
      "outputs": []
    },
    {
      "cell_type": "markdown",
      "source": [
        "Let’s see the class composition of the new randomly created and then we will add the label DataFrame to the original DataFrame."
      ],
      "metadata": {
        "id": "4gc2x9rVOYEV"
      }
    },
    {
      "cell_type": "code",
      "source": [
        "df_label.l1.value_counts()"
      ],
      "metadata": {
        "colab": {
          "base_uri": "https://localhost:8080/"
        },
        "id": "Mu08W0pKOHK-",
        "outputId": "8e8739c5-a414-4d3a-ee48-33637ed22beb"
      },
      "execution_count": null,
      "outputs": [
        {
          "output_type": "execute_result",
          "data": {
            "text/plain": [
              "1    43\n",
              "2    33\n",
              "3    24\n",
              "Name: l1, dtype: int64"
            ]
          },
          "metadata": {},
          "execution_count": 11
        }
      ]
    },
    {
      "cell_type": "code",
      "source": [
        "df['label']=df_label"
      ],
      "metadata": {
        "id": "JZsoxdkNOKFd"
      },
      "execution_count": null,
      "outputs": []
    },
    {
      "cell_type": "markdown",
      "source": [
        "After combining them we ought to be able to see the new DataFrame.\n",
        "\n"
      ],
      "metadata": {
        "id": "usjquynBPSEg"
      }
    },
    {
      "cell_type": "code",
      "source": [
        "df"
      ],
      "metadata": {
        "id": "7HFQGDr0PBWN"
      },
      "execution_count": null,
      "outputs": []
    },
    {
      "cell_type": "markdown",
      "source": [
        "We will create new Dataframes, one for each of the different classes. We will then re-assign existing DataFrames to new ones and apply the sample function to them. This allows us to get an accurate count of how much of a sample we want."
      ],
      "metadata": {
        "id": "_4GC0L1URG3y"
      }
    },
    {
      "cell_type": "code",
      "source": [
        "class_3,class_2,class_1 = df.label.value_counts()\n",
        "c3 = df[df['label'] == 3]\n",
        "c2 = df[df['label'] == 2]\n",
        "c1 = df[df['label'] == 1]\n",
        "df_3 = c3.sample(class_1)\n",
        "df_2 = c2.sample(class_1)"
      ],
      "metadata": {
        "id": "OEuH5VMcPTsn"
      },
      "execution_count": null,
      "outputs": []
    },
    {
      "cell_type": "markdown",
      "source": [
        "Lastly, we will concatenate the last new two DataFrames as well as one of the original Dataframes, the one which contains the minority class label."
      ],
      "metadata": {
        "id": "_XboVjlqRqa9"
      }
    },
    {
      "cell_type": "code",
      "source": [
        "undersampled_df = pd.concat([df_3,df_2,c1],axis=0)"
      ],
      "metadata": {
        "id": "Tt6dgR17Rul0"
      },
      "execution_count": null,
      "outputs": []
    },
    {
      "cell_type": "markdown",
      "source": [
        "Let’ see what the class composition looks like now."
      ],
      "metadata": {
        "id": "DNd8_7lIRxyz"
      }
    },
    {
      "cell_type": "code",
      "source": [
        "undersampled_df.label.value_counts()"
      ],
      "metadata": {
        "colab": {
          "base_uri": "https://localhost:8080/"
        },
        "id": "APHMLoEcR_Iy",
        "outputId": "61811415-35b5-44cb-b624-60d6f754751e"
      },
      "execution_count": null,
      "outputs": [
        {
          "output_type": "execute_result",
          "data": {
            "text/plain": [
              "1    43\n",
              "3    24\n",
              "2    24\n",
              "Name: label, dtype: int64"
            ]
          },
          "metadata": {},
          "execution_count": 24
        }
      ]
    },
    {
      "cell_type": "markdown",
      "source": [
        "These checks out with the above."
      ],
      "metadata": {
        "id": "cAKn1pEBTLC9"
      }
    },
    {
      "cell_type": "markdown",
      "source": [
        "### **5.6.2 Oversampling**"
      ],
      "metadata": {
        "id": "xoC68gbwTQQr"
      }
    },
    {
      "cell_type": "markdown",
      "source": [
        "In contrast to the previous section, we will attempt to duplicate the rows of the other classes in order to equal the majority class. Now, the steps are nearly identical, with a few key exceptions, but the logic and steps are the same.\n",
        "\n",
        "Now, for the most part, we'll do the same thing until we sample the other classes to one specific class. This time, instead of sampling the minority, we will sample the majority. Of course, we'll include the argument replace=True in the sample function to duplicate data up to the count of the class that was also passed in. So now we have the other two classes on the list."
      ],
      "metadata": {
        "id": "mIwqG4iOTXhE"
      }
    },
    {
      "cell_type": "code",
      "source": [
        "df_1 = c1.sample(class_3, replace=True)\n",
        "df_2_over = c2.sample(class_3, replace=True)"
      ],
      "metadata": {
        "id": "KQP7CpFKSEH7"
      },
      "execution_count": null,
      "outputs": []
    },
    {
      "cell_type": "markdown",
      "source": [
        "Now we will concatenate these two DataFrames with the original majority DataFrame."
      ],
      "metadata": {
        "id": "blOM496lUFiD"
      }
    },
    {
      "cell_type": "code",
      "source": [
        "oversampled_df = pd.concat([c3,df_1,df_2_over], axis=0)"
      ],
      "metadata": {
        "id": "MS1jdhjuUNXY"
      },
      "execution_count": null,
      "outputs": []
    },
    {
      "cell_type": "markdown",
      "source": [
        "Now let’s see the composition of the classes."
      ],
      "metadata": {
        "id": "wZzV_TFdUQmb"
      }
    },
    {
      "cell_type": "code",
      "source": [
        "oversampled_df.label.value_counts()"
      ],
      "metadata": {
        "colab": {
          "base_uri": "https://localhost:8080/"
        },
        "id": "qtsM2WY4UT5W",
        "outputId": "306e3099-a5c5-4462-9338-a54109fbbb0e"
      },
      "execution_count": null,
      "outputs": [
        {
          "output_type": "execute_result",
          "data": {
            "text/plain": [
              "1    43\n",
              "2    43\n",
              "3    24\n",
              "Name: label, dtype: int64"
            ]
          },
          "metadata": {},
          "execution_count": 30
        }
      ]
    },
    {
      "cell_type": "markdown",
      "source": [
        "Not that much a difference."
      ],
      "metadata": {
        "id": "eo-xsZz5UwQJ"
      }
    },
    {
      "cell_type": "markdown",
      "source": [
        "### **To Do**"
      ],
      "metadata": {
        "id": "Jw1xpSJkPkZ-"
      }
    },
    {
      "cell_type": "markdown",
      "source": [
        "Download the data from [https://drive.google.com/file/d/17hohzGIsY1IQzz9KNEzAVmW57CCC64_y/view?usp=sharing] and answer the following questions.\n",
        "\n",
        "1.   Generate two random rows and compare.\n",
        "2.   Generate $25\\%$ sample of data frame.\n",
        "3.   Generate $45\\%$ sample of data frame.\n",
        "\n"
      ],
      "metadata": {
        "id": "GyHq96SXPniL"
      }
    }
  ]
}