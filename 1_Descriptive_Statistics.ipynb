{
  "nbformat": 4,
  "nbformat_minor": 0,
  "metadata": {
    "colab": {
      "provenance": [],
      "collapsed_sections": [
        "4_zy21c1rBFw",
        "hbGyv7m7rJSP",
        "9i-MlRIAC59s",
        "1ZoP8hEOR3En"
      ],
      "authorship_tag": "ABX9TyNrY4C9lNh3GpkY4ljVmogf",
      "include_colab_link": true
    },
    "kernelspec": {
      "name": "python3",
      "display_name": "Python 3"
    },
    "language_info": {
      "name": "python"
    }
  },
  "cells": [
    {
      "cell_type": "markdown",
      "metadata": {
        "id": "view-in-github",
        "colab_type": "text"
      },
      "source": [
        "<a href=\"https://colab.research.google.com/github/Chimi-Dendup/CSM301_Statistics-and-Probability-Theory/blob/main/1_Descriptive_Statistics.ipynb\" target=\"_parent\"><img src=\"https://colab.research.google.com/assets/colab-badge.svg\" alt=\"Open In Colab\"/></a>"
      ]
    },
    {
      "cell_type": "markdown",
      "source": [
        "<h1 align=\"center\"> <b>1. Descriptive Statistics</b> </h1>\n",
        "<h4 align=\"center\"><i>Prepared by Chimi Dendup</i></h4>"
      ],
      "metadata": {
        "id": "9XO5NuqndZxs"
      }
    },
    {
      "cell_type": "markdown",
      "source": [
        "## **1.1 Overview**\n",
        "\n"
      ],
      "metadata": {
        "id": "4_zy21c1rBFw"
      }
    },
    {
      "cell_type": "markdown",
      "source": [
        "Learning descriptive statistics involves acquiring the knowledge and skills necessary to understand and use various statistical techniques to analyze and describe data. It involves learning about measures of central tendency, such as mean, median, and mode, and measures of variability, such as range, variance, and standard deviation, and also involves understanding how to interpret and present data using graphical representations. It is essential for anyone who works with data, as it provides a foundation for more advanced statistical analysis and data science techniques.\n",
        "\n",
        "By the end of this section, you should be able to \n",
        "\n",
        "**Understand the graphical and numerical summaries;**\n",
        "\n",
        "*   Define the data.\n",
        "*   Explain the different types of data.\n",
        "*   Explain the different ways to present the data scientifically and systematically.\n",
        "*   Define and interpret the most common diagrams for data presentation.\n",
        "*   Demonstrate the most common diagrams for data presentation using Python.\n",
        "\n",
        "*   Explain the measures of central tendencies and the measures of dispersions.\n",
        "*   Calculate the measures of central tendencies and the measures of dispersions.\n",
        "*   Apply Central tendencies and the dispersion using Python to perform data analysis.\n",
        "*   Define, explain and interpret covariance and correlation using Python.\n",
        "\n"
      ],
      "metadata": {
        "id": "kG6V9n5aF_c6"
      }
    },
    {
      "cell_type": "markdown",
      "source": [
        "## **1.2 Data**\n",
        "\n"
      ],
      "metadata": {
        "id": "hbGyv7m7rJSP"
      }
    },
    {
      "cell_type": "markdown",
      "source": [
        "#### **1.2.1 Definition of Data**\n",
        "\n",
        "Any observation collected in respect of any characteristic or event is called data.\n",
        "\n",
        "\n",
        "#### **1.2.2 Information**\n",
        "\n",
        "Raw data carry/convey little meaning, when it is considered alone.\n",
        "\n",
        "The data is minimized, processed/analyzed and then presented systematically. So that it is converted into information.\n",
        "\n",
        "It is important to note that data, that is not converted into information is of little value for evaluation and planning and cannot be used by those who are involved in decision making.\n",
        "\n",
        "#### **1.2.3 Types of Data**\n",
        "\n",
        "Data can be divided into two categories.\n",
        "\n",
        "*   **Quantitative data** (numerical)\n",
        "*   **Qualitative data** (descriptive, categorical/frequency count)\n",
        "\n",
        "#### **1.2.3.1 Quantitative data**\n",
        "\n",
        "Quantitative data are data that can be calculated or measured in numerical values. Quantitative data is used when a researcher needs to quantify a problem, and answers questions like “what,” “how many,” and “how often.” This type of data is frequently used in math calculations, algorithms, or statistical analysis. Some examples of quantitative data include:\n",
        "\n",
        "\n",
        "*   Age in months or years\n",
        "*   Time in days or weeks\n",
        "*   Experiment results \n",
        "*   Distance in miles or kilometer.\n",
        "\n",
        "It has two types;\n",
        "\n",
        "1.   **Discrete:** Discrete variables can take only certain values and none in between. For example, number of patients in a hospital, the number of right or wrong questions on a test, and shoe size etc. It is expressed in whole number.\n",
        "2.   **Continuous:** Continuous variables may take any value (typically between certain limits). For example weight(75.5kg), blood pressure (120/80), height(1.5m). It can be expressed as decimals.\n",
        "\n",
        "#### **1.2.3.2 Qualitative data**\n",
        "\n",
        "Qualitative data is defined as the data that approximates and characterizes. Also called descriptive or categorical data or frequency count. This data type is non-numerical in nature. This type of data is collected through methods of observations, one-to-one interviews conducting on focus groups, and similar methods.\n",
        "\n",
        "For example, name, religion, matrital status etc.\n",
        "\n",
        "It has two types;\n",
        "\n",
        "1.  **Nominal data:** Nominal data, also called \"named or labeled data\" or \"nominal scale,\" is any type of data that you can use to label something without assigning a numeric value. For example, if you categorize a group of variables by nationality(Bhutanese, Indian, Chinese, American,..).\n",
        "\n",
        "2.  **Ordinal data:** When the categorical data can be placed in meaningful order on the basis of their quality, it is known as ordinal data. When researchers use ordinal data, the order of the qualitative information matters more than the difference between each category. For example, Very likely, Likely, Neutral, Unlikely,\n",
        "Very unlikely.\n",
        "\n"
      ],
      "metadata": {
        "id": "x_Adxdb6rUyF"
      }
    },
    {
      "cell_type": "markdown",
      "source": [
        "## **1.3 Data Presentation**"
      ],
      "metadata": {
        "id": "_cVYP_icGJBe"
      }
    },
    {
      "cell_type": "markdown",
      "source": [
        "**Data presentation** is the process of transforming raw data into understandable and actionable insights. It involves organizing, interpreting, and communicating data using various formats such as tables, charts, graphs, infographics, and reports. \n",
        "\n",
        "**How and why to present data?**\n",
        "\n",
        "The reason for the data presentation;\n",
        "\n",
        "*   To present the data in a way that should appeal to readers at first sight.\n",
        "*   To present the information in a compact and concise form without losing important details.\n",
        "*   To present the data in a simple form so as to draw the conclusion directly by viewing at the data.\n",
        "*   To present it in such a way that it can help in further statistical analysis.\n",
        "\n",
        "There are three main forms of presentation of data;\n",
        "\n",
        "\n",
        "1.   **Textual presentation:** In such form of presentation, data is simply mentioned as mere text, that is generally in a paragraph. This is commonly used when the data is not very large. For example, “the 2009 earthquake proved to be a mass murderer of humans in Bhutan. As many as 12, citizens have been reported dead”.\n",
        "2.   **Tabular:** The data is organized in rows and columns. Data tables are one of the most widely used data display formats because they are easy to create and read.\n",
        "3.   **Graphical:** They are useful methods in presenting statistical data. Diagrams are better retained in the memory than statistical tables.\n",
        "\n",
        "Here on we will focus more on tabular and graphical presentations of data. Before that you may find below the hirarchical representation of data presentation.\n",
        "\n",
        "\n"
      ],
      "metadata": {
        "id": "-Ly-WwcYu5Nd"
      }
    },
    {
      "cell_type": "markdown",
      "source": [
        "![present4.png](data:image/png;base64,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)"
      ],
      "metadata": {
        "id": "ORJbKVdobvit"
      }
    },
    {
      "cell_type": "markdown",
      "source": [
        "#### **1.3.1 Tabulation**\n",
        "\n",
        "Table format is a systematic and logical representation of numerical data in rows and columns for easy comparison and statistical analysis. There are two types of tables;\n",
        "\n",
        "1.   **Simple table:** Measurement of single set are presented.\n",
        "2.   **Complex table:** Measurement of multiple sets are presented.\n",
        "\n",
        "#### **1.3.1.1 Simple Table**\n",
        "\n",
        "A simple table has no more than one header row and one header column, where the header column specifies the type of information in the column. For example\n",
        "\n",
        "**Table 1:** Infant mortality rate of selected countries in 2021\n",
        "\n",
        "\\begin{array}{|c|c|} \\hline\n",
        "\\textbf{Name of Country} & \\textbf{Infant mortality rate} \\\\ \\hline\n",
        "\\text{Bhutan} & 21 \\\\ \\hline\n",
        "\\text{Singapore} & 2  \\\\ \\hline\n",
        "\\text{Bangladesh} & 24 \\\\ \\hline\n",
        "\\text{Sri Lanka} & 7\\\\ \\hline\n",
        "\\text{India} & 29\\\\ \\hline\n",
        "\\end{array}"
      ],
      "metadata": {
        "id": "ES8B51tTEDBi"
      }
    },
    {
      "cell_type": "markdown",
      "source": [
        "#### **1.3.1.2 Frequency Distribution Table**\n",
        "\n",
        "The frequency of an observation tells you the number of times the observation occurs in the data. \n",
        "\n",
        "In the frequency distribution table, the data is first split up into convenient groups (class interval) and the number of items (frequency) which occur in each group is shown in adjacent columns. For example\n",
        "\n",
        "**Table 2:** Age distribution of patients\n",
        "\n",
        "\\begin{array}{|c|c|} \\hline\n",
        "\\textbf{Age} & \\textbf{Number of Patients} \\\\ \\hline\n",
        "0 - 4 & 35 \\\\ \\hline\n",
        "5 - 9 & 8  \\\\ \\hline\n",
        "10 - 14 & 23 \\\\ \\hline\n",
        "15 - 19 & 7\\\\ \\hline\n",
        "20 - 24 & 6\\\\ \\hline\n",
        "\\end{array}"
      ],
      "metadata": {
        "id": "VYT1fuXljaq4"
      }
    },
    {
      "cell_type": "markdown",
      "source": [
        "#### **1.3.2 Working with Tabular Data in `pandas`**\n",
        "\n",
        "If `NumPy` is used on matrix data and linear algebraic operations, `pandas` is designed to work with data in the form of tables. Just  like `NumPy`, `pandas` can be installed in\n",
        "your Python environment using the `pip` package manager:"
      ],
      "metadata": {
        "id": "axp9sNawCDJ_"
      }
    },
    {
      "cell_type": "code",
      "source": [
        "!pip install pandas"
      ],
      "metadata": {
        "id": "SGvQNbYaUluT"
      },
      "execution_count": null,
      "outputs": []
    },
    {
      "cell_type": "markdown",
      "source": [
        "When the installation process is complete, turn off the Python Interpreter and try import a library:"
      ],
      "metadata": {
        "id": "h_W_cznbEODN"
      }
    },
    {
      "cell_type": "code",
      "source": [
        "import pandas as pd"
      ],
      "metadata": {
        "id": "IVOamPHiV0Eh"
      },
      "execution_count": null,
      "outputs": []
    },
    {
      "cell_type": "markdown",
      "source": [
        "If this command runs without any error message, then you have successfully installed `pandas`. With that, let's move on with our discussions, beginning with the most commonly used data structure in `pandas`, **DataFrame**, which can represent table data:  two-dimensional data with row and column labels."
      ],
      "metadata": {
        "id": "d5MscQq2VAFH"
      }
    },
    {
      "cell_type": "markdown",
      "source": [
        "#### **1.3.3 Initializing a DataFrame Object**\n",
        "\n",
        "There are several ways to initialize **DataFrame** objects. First, we will create it by passing a python dictionary where each key should be a name of a column and the value of the key must match the data in that column as a list or NumPy array.\n",
        "\n",
        "For example, in the following code, we are creating a table with five rows and two columns. "
      ],
      "metadata": {
        "id": "6j3-PNWuW6Un"
      }
    },
    {
      "cell_type": "code",
      "source": [
        "import pandas as pd\n",
        "my_dict={'Name of Country':[\"Bhutan\",\"Singapore\",\"Bangladesh\",\"Sri Lanka\",\n",
        "                            \"India\"], 'Infant mortality rate':[21,2,24,7,29]}\n",
        "df=pd.DataFrame(my_dict)\n",
        "df"
      ],
      "metadata": {
        "colab": {
          "base_uri": "https://localhost:8080/",
          "height": 206
        },
        "id": "Drrn_hEvYcb2",
        "outputId": "c9af0105-880c-4e33-84b3-4c2cfb1efe5d"
      },
      "execution_count": null,
      "outputs": [
        {
          "output_type": "execute_result",
          "data": {
            "text/plain": [
              "  Name of Country  Infant mortality rate\n",
              "0          Bhutan                     21\n",
              "1       Singapore                      2\n",
              "2      Bangladesh                     24\n",
              "3       Sri Lanka                      7\n",
              "4           India                     29"
            ],
            "text/html": [
              "\n",
              "  <div id=\"df-c191cb9b-b0f0-4559-bbc0-4d96b5baa71d\">\n",
              "    <div class=\"colab-df-container\">\n",
              "      <div>\n",
              "<style scoped>\n",
              "    .dataframe tbody tr th:only-of-type {\n",
              "        vertical-align: middle;\n",
              "    }\n",
              "\n",
              "    .dataframe tbody tr th {\n",
              "        vertical-align: top;\n",
              "    }\n",
              "\n",
              "    .dataframe thead th {\n",
              "        text-align: right;\n",
              "    }\n",
              "</style>\n",
              "<table border=\"1\" class=\"dataframe\">\n",
              "  <thead>\n",
              "    <tr style=\"text-align: right;\">\n",
              "      <th></th>\n",
              "      <th>Name of Country</th>\n",
              "      <th>Infant mortality rate</th>\n",
              "    </tr>\n",
              "  </thead>\n",
              "  <tbody>\n",
              "    <tr>\n",
              "      <th>0</th>\n",
              "      <td>Bhutan</td>\n",
              "      <td>21</td>\n",
              "    </tr>\n",
              "    <tr>\n",
              "      <th>1</th>\n",
              "      <td>Singapore</td>\n",
              "      <td>2</td>\n",
              "    </tr>\n",
              "    <tr>\n",
              "      <th>2</th>\n",
              "      <td>Bangladesh</td>\n",
              "      <td>24</td>\n",
              "    </tr>\n",
              "    <tr>\n",
              "      <th>3</th>\n",
              "      <td>Sri Lanka</td>\n",
              "      <td>7</td>\n",
              "    </tr>\n",
              "    <tr>\n",
              "      <th>4</th>\n",
              "      <td>India</td>\n",
              "      <td>29</td>\n",
              "    </tr>\n",
              "  </tbody>\n",
              "</table>\n",
              "</div>\n",
              "      <button class=\"colab-df-convert\" onclick=\"convertToInteractive('df-c191cb9b-b0f0-4559-bbc0-4d96b5baa71d')\"\n",
              "              title=\"Convert this dataframe to an interactive table.\"\n",
              "              style=\"display:none;\">\n",
              "        \n",
              "  <svg xmlns=\"http://www.w3.org/2000/svg\" height=\"24px\"viewBox=\"0 0 24 24\"\n",
              "       width=\"24px\">\n",
              "    <path d=\"M0 0h24v24H0V0z\" fill=\"none\"/>\n",
              "    <path d=\"M18.56 5.44l.94 2.06.94-2.06 2.06-.94-2.06-.94-.94-2.06-.94 2.06-2.06.94zm-11 1L8.5 8.5l.94-2.06 2.06-.94-2.06-.94L8.5 2.5l-.94 2.06-2.06.94zm10 10l.94 2.06.94-2.06 2.06-.94-2.06-.94-.94-2.06-.94 2.06-2.06.94z\"/><path d=\"M17.41 7.96l-1.37-1.37c-.4-.4-.92-.59-1.43-.59-.52 0-1.04.2-1.43.59L10.3 9.45l-7.72 7.72c-.78.78-.78 2.05 0 2.83L4 21.41c.39.39.9.59 1.41.59.51 0 1.02-.2 1.41-.59l7.78-7.78 2.81-2.81c.8-.78.8-2.07 0-2.86zM5.41 20L4 18.59l7.72-7.72 1.47 1.35L5.41 20z\"/>\n",
              "  </svg>\n",
              "      </button>\n",
              "      \n",
              "  <style>\n",
              "    .colab-df-container {\n",
              "      display:flex;\n",
              "      flex-wrap:wrap;\n",
              "      gap: 12px;\n",
              "    }\n",
              "\n",
              "    .colab-df-convert {\n",
              "      background-color: #E8F0FE;\n",
              "      border: none;\n",
              "      border-radius: 50%;\n",
              "      cursor: pointer;\n",
              "      display: none;\n",
              "      fill: #1967D2;\n",
              "      height: 32px;\n",
              "      padding: 0 0 0 0;\n",
              "      width: 32px;\n",
              "    }\n",
              "\n",
              "    .colab-df-convert:hover {\n",
              "      background-color: #E2EBFA;\n",
              "      box-shadow: 0px 1px 2px rgba(60, 64, 67, 0.3), 0px 1px 3px 1px rgba(60, 64, 67, 0.15);\n",
              "      fill: #174EA6;\n",
              "    }\n",
              "\n",
              "    [theme=dark] .colab-df-convert {\n",
              "      background-color: #3B4455;\n",
              "      fill: #D2E3FC;\n",
              "    }\n",
              "\n",
              "    [theme=dark] .colab-df-convert:hover {\n",
              "      background-color: #434B5C;\n",
              "      box-shadow: 0px 1px 3px 1px rgba(0, 0, 0, 0.15);\n",
              "      filter: drop-shadow(0px 1px 2px rgba(0, 0, 0, 0.3));\n",
              "      fill: #FFFFFF;\n",
              "    }\n",
              "  </style>\n",
              "\n",
              "      <script>\n",
              "        const buttonEl =\n",
              "          document.querySelector('#df-c191cb9b-b0f0-4559-bbc0-4d96b5baa71d button.colab-df-convert');\n",
              "        buttonEl.style.display =\n",
              "          google.colab.kernel.accessAllowed ? 'block' : 'none';\n",
              "\n",
              "        async function convertToInteractive(key) {\n",
              "          const element = document.querySelector('#df-c191cb9b-b0f0-4559-bbc0-4d96b5baa71d');\n",
              "          const dataTable =\n",
              "            await google.colab.kernel.invokeFunction('convertToInteractive',\n",
              "                                                     [key], {});\n",
              "          if (!dataTable) return;\n",
              "\n",
              "          const docLinkHtml = 'Like what you see? Visit the ' +\n",
              "            '<a target=\"_blank\" href=https://colab.research.google.com/notebooks/data_table.ipynb>data table notebook</a>'\n",
              "            + ' to learn more about interactive tables.';\n",
              "          element.innerHTML = '';\n",
              "          dataTable['output_type'] = 'display_data';\n",
              "          await google.colab.output.renderOutput(dataTable, element);\n",
              "          const docLink = document.createElement('div');\n",
              "          docLink.innerHTML = docLinkHtml;\n",
              "          element.appendChild(docLink);\n",
              "        }\n",
              "      </script>\n",
              "    </div>\n",
              "  </div>\n",
              "  "
            ]
          },
          "metadata": {},
          "execution_count": 1
        }
      ]
    },
    {
      "cell_type": "markdown",
      "source": [
        "**Figure 1:** Printed Dataframe objects in Jupyter Notebook"
      ],
      "metadata": {
        "id": "vWxQFX67ZrzQ"
      }
    },
    {
      "cell_type": "markdown",
      "source": [
        "Another common way to initialize a **DataFrame** object is that when we already have its data represented by a 2D NumPy array, we can directly pass that array to the DataFrame class. For example, we can initialize the same DataFrame we looked at previously with the following code:"
      ],
      "metadata": {
        "id": "5hJKb3ZaaEBS"
      }
    },
    {
      "cell_type": "code",
      "source": [
        "import numpy as np\n",
        "my_array=np.array([[\"Bhutan\",21],[\"Singapore\",2],[\"Bangladesh\",24],\n",
        "                   [\"Sri Lanka\",7],[\"India\",29]])\n",
        "alt_df=pd.DataFrame(my_array,columns=['Name of Country',\n",
        "                                      'Infant mortality rate'])\n",
        "alt_df"
      ],
      "metadata": {
        "colab": {
          "base_uri": "https://localhost:8080/",
          "height": 206
        },
        "id": "lTC8U73ZaDkU",
        "outputId": "2a258df2-5087-4459-919a-2c96aea9175a"
      },
      "execution_count": null,
      "outputs": [
        {
          "output_type": "execute_result",
          "data": {
            "text/plain": [
              "  Name of Country Infant mortality rate\n",
              "0          Bhutan                    21\n",
              "1       Singapore                     2\n",
              "2      Bangladesh                    24\n",
              "3       Sri Lanka                     7\n",
              "4           India                    29"
            ],
            "text/html": [
              "\n",
              "  <div id=\"df-669a91ce-1d44-4e4e-89d0-56339aba2991\">\n",
              "    <div class=\"colab-df-container\">\n",
              "      <div>\n",
              "<style scoped>\n",
              "    .dataframe tbody tr th:only-of-type {\n",
              "        vertical-align: middle;\n",
              "    }\n",
              "\n",
              "    .dataframe tbody tr th {\n",
              "        vertical-align: top;\n",
              "    }\n",
              "\n",
              "    .dataframe thead th {\n",
              "        text-align: right;\n",
              "    }\n",
              "</style>\n",
              "<table border=\"1\" class=\"dataframe\">\n",
              "  <thead>\n",
              "    <tr style=\"text-align: right;\">\n",
              "      <th></th>\n",
              "      <th>Name of Country</th>\n",
              "      <th>Infant mortality rate</th>\n",
              "    </tr>\n",
              "  </thead>\n",
              "  <tbody>\n",
              "    <tr>\n",
              "      <th>0</th>\n",
              "      <td>Bhutan</td>\n",
              "      <td>21</td>\n",
              "    </tr>\n",
              "    <tr>\n",
              "      <th>1</th>\n",
              "      <td>Singapore</td>\n",
              "      <td>2</td>\n",
              "    </tr>\n",
              "    <tr>\n",
              "      <th>2</th>\n",
              "      <td>Bangladesh</td>\n",
              "      <td>24</td>\n",
              "    </tr>\n",
              "    <tr>\n",
              "      <th>3</th>\n",
              "      <td>Sri Lanka</td>\n",
              "      <td>7</td>\n",
              "    </tr>\n",
              "    <tr>\n",
              "      <th>4</th>\n",
              "      <td>India</td>\n",
              "      <td>29</td>\n",
              "    </tr>\n",
              "  </tbody>\n",
              "</table>\n",
              "</div>\n",
              "      <button class=\"colab-df-convert\" onclick=\"convertToInteractive('df-669a91ce-1d44-4e4e-89d0-56339aba2991')\"\n",
              "              title=\"Convert this dataframe to an interactive table.\"\n",
              "              style=\"display:none;\">\n",
              "        \n",
              "  <svg xmlns=\"http://www.w3.org/2000/svg\" height=\"24px\"viewBox=\"0 0 24 24\"\n",
              "       width=\"24px\">\n",
              "    <path d=\"M0 0h24v24H0V0z\" fill=\"none\"/>\n",
              "    <path d=\"M18.56 5.44l.94 2.06.94-2.06 2.06-.94-2.06-.94-.94-2.06-.94 2.06-2.06.94zm-11 1L8.5 8.5l.94-2.06 2.06-.94-2.06-.94L8.5 2.5l-.94 2.06-2.06.94zm10 10l.94 2.06.94-2.06 2.06-.94-2.06-.94-.94-2.06-.94 2.06-2.06.94z\"/><path d=\"M17.41 7.96l-1.37-1.37c-.4-.4-.92-.59-1.43-.59-.52 0-1.04.2-1.43.59L10.3 9.45l-7.72 7.72c-.78.78-.78 2.05 0 2.83L4 21.41c.39.39.9.59 1.41.59.51 0 1.02-.2 1.41-.59l7.78-7.78 2.81-2.81c.8-.78.8-2.07 0-2.86zM5.41 20L4 18.59l7.72-7.72 1.47 1.35L5.41 20z\"/>\n",
              "  </svg>\n",
              "      </button>\n",
              "      \n",
              "  <style>\n",
              "    .colab-df-container {\n",
              "      display:flex;\n",
              "      flex-wrap:wrap;\n",
              "      gap: 12px;\n",
              "    }\n",
              "\n",
              "    .colab-df-convert {\n",
              "      background-color: #E8F0FE;\n",
              "      border: none;\n",
              "      border-radius: 50%;\n",
              "      cursor: pointer;\n",
              "      display: none;\n",
              "      fill: #1967D2;\n",
              "      height: 32px;\n",
              "      padding: 0 0 0 0;\n",
              "      width: 32px;\n",
              "    }\n",
              "\n",
              "    .colab-df-convert:hover {\n",
              "      background-color: #E2EBFA;\n",
              "      box-shadow: 0px 1px 2px rgba(60, 64, 67, 0.3), 0px 1px 3px 1px rgba(60, 64, 67, 0.15);\n",
              "      fill: #174EA6;\n",
              "    }\n",
              "\n",
              "    [theme=dark] .colab-df-convert {\n",
              "      background-color: #3B4455;\n",
              "      fill: #D2E3FC;\n",
              "    }\n",
              "\n",
              "    [theme=dark] .colab-df-convert:hover {\n",
              "      background-color: #434B5C;\n",
              "      box-shadow: 0px 1px 3px 1px rgba(0, 0, 0, 0.15);\n",
              "      filter: drop-shadow(0px 1px 2px rgba(0, 0, 0, 0.3));\n",
              "      fill: #FFFFFF;\n",
              "    }\n",
              "  </style>\n",
              "\n",
              "      <script>\n",
              "        const buttonEl =\n",
              "          document.querySelector('#df-669a91ce-1d44-4e4e-89d0-56339aba2991 button.colab-df-convert');\n",
              "        buttonEl.style.display =\n",
              "          google.colab.kernel.accessAllowed ? 'block' : 'none';\n",
              "\n",
              "        async function convertToInteractive(key) {\n",
              "          const element = document.querySelector('#df-669a91ce-1d44-4e4e-89d0-56339aba2991');\n",
              "          const dataTable =\n",
              "            await google.colab.kernel.invokeFunction('convertToInteractive',\n",
              "                                                     [key], {});\n",
              "          if (!dataTable) return;\n",
              "\n",
              "          const docLinkHtml = 'Like what you see? Visit the ' +\n",
              "            '<a target=\"_blank\" href=https://colab.research.google.com/notebooks/data_table.ipynb>data table notebook</a>'\n",
              "            + ' to learn more about interactive tables.';\n",
              "          element.innerHTML = '';\n",
              "          dataTable['output_type'] = 'display_data';\n",
              "          await google.colab.output.renderOutput(dataTable, element);\n",
              "          const docLink = document.createElement('div');\n",
              "          docLink.innerHTML = docLinkHtml;\n",
              "          element.appendChild(docLink);\n",
              "        }\n",
              "      </script>\n",
              "    </div>\n",
              "  </div>\n",
              "  "
            ]
          },
          "metadata": {},
          "execution_count": 30
        }
      ]
    },
    {
      "cell_type": "markdown",
      "source": [
        "The most common way in which a DataFrame object is initialized is\n",
        "through the `pd.read_csv()` function, which, as the name suggests, reads in a CSV file (or any text file formatted in the same way but with a different separating special character) and renders it as a DataFrame object."
      ],
      "metadata": {
        "id": "HzWPDMzmfHx-"
      }
    },
    {
      "cell_type": "markdown",
      "source": [
        "#### **1.3.4 Accessing Rows and Columns**\n",
        "\n",
        "To access a group of rows or columns, we can take advantage of the `loc` method, which takes in the labels of the rows/columns we are interested in. For example, using the same table from our previous section, we can pass in the name of a row (for example, $0$):"
      ],
      "metadata": {
        "id": "80XSrOH8ivdm"
      }
    },
    {
      "cell_type": "code",
      "source": [
        "df.loc[0]"
      ],
      "metadata": {
        "colab": {
          "base_uri": "https://localhost:8080/"
        },
        "id": "HqcYo_c7ZeA0",
        "outputId": "bb1f66c7-7785-445e-978f-923c12f02da6"
      },
      "execution_count": null,
      "outputs": [
        {
          "output_type": "execute_result",
          "data": {
            "text/plain": [
              "Name of Country          Bhutan\n",
              "Infant mortality rate        21\n",
              "Name: 0, dtype: object"
            ]
          },
          "metadata": {},
          "execution_count": 17
        }
      ]
    },
    {
      "cell_type": "markdown",
      "source": [
        "Still considering the `loc` method, we can pass in a list of row labels to access multiple rows. The following code returns both rows in our example table:"
      ],
      "metadata": {
        "id": "E8TWOuXBlFdt"
      }
    },
    {
      "cell_type": "code",
      "source": [
        "df.loc[[0,1,2]]"
      ],
      "metadata": {
        "colab": {
          "base_uri": "https://localhost:8080/",
          "height": 143
        },
        "id": "UuNOOtn6kpYh",
        "outputId": "85d1b8ec-1b79-4937-c8f4-ea8fc2bd0042"
      },
      "execution_count": null,
      "outputs": [
        {
          "output_type": "execute_result",
          "data": {
            "text/plain": [
              "  Name of Country  Infant mortality rate\n",
              "0          Bhutan                     21\n",
              "1       Singapore                      2\n",
              "2      Bangladesh                     24"
            ],
            "text/html": [
              "\n",
              "  <div id=\"df-00342db4-c03b-400c-8284-ba65264dfa3d\">\n",
              "    <div class=\"colab-df-container\">\n",
              "      <div>\n",
              "<style scoped>\n",
              "    .dataframe tbody tr th:only-of-type {\n",
              "        vertical-align: middle;\n",
              "    }\n",
              "\n",
              "    .dataframe tbody tr th {\n",
              "        vertical-align: top;\n",
              "    }\n",
              "\n",
              "    .dataframe thead th {\n",
              "        text-align: right;\n",
              "    }\n",
              "</style>\n",
              "<table border=\"1\" class=\"dataframe\">\n",
              "  <thead>\n",
              "    <tr style=\"text-align: right;\">\n",
              "      <th></th>\n",
              "      <th>Name of Country</th>\n",
              "      <th>Infant mortality rate</th>\n",
              "    </tr>\n",
              "  </thead>\n",
              "  <tbody>\n",
              "    <tr>\n",
              "      <th>0</th>\n",
              "      <td>Bhutan</td>\n",
              "      <td>21</td>\n",
              "    </tr>\n",
              "    <tr>\n",
              "      <th>1</th>\n",
              "      <td>Singapore</td>\n",
              "      <td>2</td>\n",
              "    </tr>\n",
              "    <tr>\n",
              "      <th>2</th>\n",
              "      <td>Bangladesh</td>\n",
              "      <td>24</td>\n",
              "    </tr>\n",
              "  </tbody>\n",
              "</table>\n",
              "</div>\n",
              "      <button class=\"colab-df-convert\" onclick=\"convertToInteractive('df-00342db4-c03b-400c-8284-ba65264dfa3d')\"\n",
              "              title=\"Convert this dataframe to an interactive table.\"\n",
              "              style=\"display:none;\">\n",
              "        \n",
              "  <svg xmlns=\"http://www.w3.org/2000/svg\" height=\"24px\"viewBox=\"0 0 24 24\"\n",
              "       width=\"24px\">\n",
              "    <path d=\"M0 0h24v24H0V0z\" fill=\"none\"/>\n",
              "    <path d=\"M18.56 5.44l.94 2.06.94-2.06 2.06-.94-2.06-.94-.94-2.06-.94 2.06-2.06.94zm-11 1L8.5 8.5l.94-2.06 2.06-.94-2.06-.94L8.5 2.5l-.94 2.06-2.06.94zm10 10l.94 2.06.94-2.06 2.06-.94-2.06-.94-.94-2.06-.94 2.06-2.06.94z\"/><path d=\"M17.41 7.96l-1.37-1.37c-.4-.4-.92-.59-1.43-.59-.52 0-1.04.2-1.43.59L10.3 9.45l-7.72 7.72c-.78.78-.78 2.05 0 2.83L4 21.41c.39.39.9.59 1.41.59.51 0 1.02-.2 1.41-.59l7.78-7.78 2.81-2.81c.8-.78.8-2.07 0-2.86zM5.41 20L4 18.59l7.72-7.72 1.47 1.35L5.41 20z\"/>\n",
              "  </svg>\n",
              "      </button>\n",
              "      \n",
              "  <style>\n",
              "    .colab-df-container {\n",
              "      display:flex;\n",
              "      flex-wrap:wrap;\n",
              "      gap: 12px;\n",
              "    }\n",
              "\n",
              "    .colab-df-convert {\n",
              "      background-color: #E8F0FE;\n",
              "      border: none;\n",
              "      border-radius: 50%;\n",
              "      cursor: pointer;\n",
              "      display: none;\n",
              "      fill: #1967D2;\n",
              "      height: 32px;\n",
              "      padding: 0 0 0 0;\n",
              "      width: 32px;\n",
              "    }\n",
              "\n",
              "    .colab-df-convert:hover {\n",
              "      background-color: #E2EBFA;\n",
              "      box-shadow: 0px 1px 2px rgba(60, 64, 67, 0.3), 0px 1px 3px 1px rgba(60, 64, 67, 0.15);\n",
              "      fill: #174EA6;\n",
              "    }\n",
              "\n",
              "    [theme=dark] .colab-df-convert {\n",
              "      background-color: #3B4455;\n",
              "      fill: #D2E3FC;\n",
              "    }\n",
              "\n",
              "    [theme=dark] .colab-df-convert:hover {\n",
              "      background-color: #434B5C;\n",
              "      box-shadow: 0px 1px 3px 1px rgba(0, 0, 0, 0.15);\n",
              "      filter: drop-shadow(0px 1px 2px rgba(0, 0, 0, 0.3));\n",
              "      fill: #FFFFFF;\n",
              "    }\n",
              "  </style>\n",
              "\n",
              "      <script>\n",
              "        const buttonEl =\n",
              "          document.querySelector('#df-00342db4-c03b-400c-8284-ba65264dfa3d button.colab-df-convert');\n",
              "        buttonEl.style.display =\n",
              "          google.colab.kernel.accessAllowed ? 'block' : 'none';\n",
              "\n",
              "        async function convertToInteractive(key) {\n",
              "          const element = document.querySelector('#df-00342db4-c03b-400c-8284-ba65264dfa3d');\n",
              "          const dataTable =\n",
              "            await google.colab.kernel.invokeFunction('convertToInteractive',\n",
              "                                                     [key], {});\n",
              "          if (!dataTable) return;\n",
              "\n",
              "          const docLinkHtml = 'Like what you see? Visit the ' +\n",
              "            '<a target=\"_blank\" href=https://colab.research.google.com/notebooks/data_table.ipynb>data table notebook</a>'\n",
              "            + ' to learn more about interactive tables.';\n",
              "          element.innerHTML = '';\n",
              "          dataTable['output_type'] = 'display_data';\n",
              "          await google.colab.output.renderOutput(dataTable, element);\n",
              "          const docLink = document.createElement('div');\n",
              "          docLink.innerHTML = docLinkHtml;\n",
              "          element.appendChild(docLink);\n",
              "        }\n",
              "      </script>\n",
              "    </div>\n",
              "  </div>\n",
              "  "
            ]
          },
          "metadata": {},
          "execution_count": 21
        }
      ]
    },
    {
      "cell_type": "markdown",
      "source": [
        "Note that if you want to restore an entire column to the **DataFrame** object, you can use it the colon special character, $:$ , the colon sign indicates all lines that must be right back. Without using the `loc` method, you can extract the desired column using the square brakets as follows;"
      ],
      "metadata": {
        "id": "6vnAyFUnlyXA"
      }
    },
    {
      "cell_type": "code",
      "source": [
        "df['Name of Country']"
      ],
      "metadata": {
        "colab": {
          "base_uri": "https://localhost:8080/"
        },
        "id": "S7-VHVQblx6a",
        "outputId": "56d3425e-86e2-49fe-bc56-a866862a71bc"
      },
      "execution_count": null,
      "outputs": [
        {
          "output_type": "execute_result",
          "data": {
            "text/plain": [
              "0        Bhutan\n",
              "1     Singapore\n",
              "2    Bangladesh\n",
              "3     Sri Lanka\n",
              "4         India\n",
              "Name: Name of Country, dtype: object"
            ]
          },
          "metadata": {},
          "execution_count": 7
        }
      ]
    },
    {
      "cell_type": "markdown",
      "source": [
        "If you want to change the values in a **DataFrame** object, you can use `loc` method to change the entries as follows;"
      ],
      "metadata": {
        "id": "eJBRbMsFm-eN"
      }
    },
    {
      "cell_type": "code",
      "source": [
        "df.loc[0] = [\"Japan\",2] # change first row\n",
        "df"
      ],
      "metadata": {
        "colab": {
          "base_uri": "https://localhost:8080/",
          "height": 206
        },
        "id": "2Xg2WksVlSY1",
        "outputId": "2f6aaf87-fbfe-4969-f18e-f0cf7ba728d6"
      },
      "execution_count": null,
      "outputs": [
        {
          "output_type": "execute_result",
          "data": {
            "text/plain": [
              "  Name of Country  Infant mortality rate\n",
              "0           Japan                      2\n",
              "1       Singapore                      2\n",
              "2      Bangladesh                     24\n",
              "3       Sri Lanka                      7\n",
              "4           India                     29"
            ],
            "text/html": [
              "\n",
              "  <div id=\"df-bdadbd2b-6799-4996-b9b4-9eabedf75fc1\">\n",
              "    <div class=\"colab-df-container\">\n",
              "      <div>\n",
              "<style scoped>\n",
              "    .dataframe tbody tr th:only-of-type {\n",
              "        vertical-align: middle;\n",
              "    }\n",
              "\n",
              "    .dataframe tbody tr th {\n",
              "        vertical-align: top;\n",
              "    }\n",
              "\n",
              "    .dataframe thead th {\n",
              "        text-align: right;\n",
              "    }\n",
              "</style>\n",
              "<table border=\"1\" class=\"dataframe\">\n",
              "  <thead>\n",
              "    <tr style=\"text-align: right;\">\n",
              "      <th></th>\n",
              "      <th>Name of Country</th>\n",
              "      <th>Infant mortality rate</th>\n",
              "    </tr>\n",
              "  </thead>\n",
              "  <tbody>\n",
              "    <tr>\n",
              "      <th>0</th>\n",
              "      <td>Japan</td>\n",
              "      <td>2</td>\n",
              "    </tr>\n",
              "    <tr>\n",
              "      <th>1</th>\n",
              "      <td>Singapore</td>\n",
              "      <td>2</td>\n",
              "    </tr>\n",
              "    <tr>\n",
              "      <th>2</th>\n",
              "      <td>Bangladesh</td>\n",
              "      <td>24</td>\n",
              "    </tr>\n",
              "    <tr>\n",
              "      <th>3</th>\n",
              "      <td>Sri Lanka</td>\n",
              "      <td>7</td>\n",
              "    </tr>\n",
              "    <tr>\n",
              "      <th>4</th>\n",
              "      <td>India</td>\n",
              "      <td>29</td>\n",
              "    </tr>\n",
              "  </tbody>\n",
              "</table>\n",
              "</div>\n",
              "      <button class=\"colab-df-convert\" onclick=\"convertToInteractive('df-bdadbd2b-6799-4996-b9b4-9eabedf75fc1')\"\n",
              "              title=\"Convert this dataframe to an interactive table.\"\n",
              "              style=\"display:none;\">\n",
              "        \n",
              "  <svg xmlns=\"http://www.w3.org/2000/svg\" height=\"24px\"viewBox=\"0 0 24 24\"\n",
              "       width=\"24px\">\n",
              "    <path d=\"M0 0h24v24H0V0z\" fill=\"none\"/>\n",
              "    <path d=\"M18.56 5.44l.94 2.06.94-2.06 2.06-.94-2.06-.94-.94-2.06-.94 2.06-2.06.94zm-11 1L8.5 8.5l.94-2.06 2.06-.94-2.06-.94L8.5 2.5l-.94 2.06-2.06.94zm10 10l.94 2.06.94-2.06 2.06-.94-2.06-.94-.94-2.06-.94 2.06-2.06.94z\"/><path d=\"M17.41 7.96l-1.37-1.37c-.4-.4-.92-.59-1.43-.59-.52 0-1.04.2-1.43.59L10.3 9.45l-7.72 7.72c-.78.78-.78 2.05 0 2.83L4 21.41c.39.39.9.59 1.41.59.51 0 1.02-.2 1.41-.59l7.78-7.78 2.81-2.81c.8-.78.8-2.07 0-2.86zM5.41 20L4 18.59l7.72-7.72 1.47 1.35L5.41 20z\"/>\n",
              "  </svg>\n",
              "      </button>\n",
              "      \n",
              "  <style>\n",
              "    .colab-df-container {\n",
              "      display:flex;\n",
              "      flex-wrap:wrap;\n",
              "      gap: 12px;\n",
              "    }\n",
              "\n",
              "    .colab-df-convert {\n",
              "      background-color: #E8F0FE;\n",
              "      border: none;\n",
              "      border-radius: 50%;\n",
              "      cursor: pointer;\n",
              "      display: none;\n",
              "      fill: #1967D2;\n",
              "      height: 32px;\n",
              "      padding: 0 0 0 0;\n",
              "      width: 32px;\n",
              "    }\n",
              "\n",
              "    .colab-df-convert:hover {\n",
              "      background-color: #E2EBFA;\n",
              "      box-shadow: 0px 1px 2px rgba(60, 64, 67, 0.3), 0px 1px 3px 1px rgba(60, 64, 67, 0.15);\n",
              "      fill: #174EA6;\n",
              "    }\n",
              "\n",
              "    [theme=dark] .colab-df-convert {\n",
              "      background-color: #3B4455;\n",
              "      fill: #D2E3FC;\n",
              "    }\n",
              "\n",
              "    [theme=dark] .colab-df-convert:hover {\n",
              "      background-color: #434B5C;\n",
              "      box-shadow: 0px 1px 3px 1px rgba(0, 0, 0, 0.15);\n",
              "      filter: drop-shadow(0px 1px 2px rgba(0, 0, 0, 0.3));\n",
              "      fill: #FFFFFF;\n",
              "    }\n",
              "  </style>\n",
              "\n",
              "      <script>\n",
              "        const buttonEl =\n",
              "          document.querySelector('#df-bdadbd2b-6799-4996-b9b4-9eabedf75fc1 button.colab-df-convert');\n",
              "        buttonEl.style.display =\n",
              "          google.colab.kernel.accessAllowed ? 'block' : 'none';\n",
              "\n",
              "        async function convertToInteractive(key) {\n",
              "          const element = document.querySelector('#df-bdadbd2b-6799-4996-b9b4-9eabedf75fc1');\n",
              "          const dataTable =\n",
              "            await google.colab.kernel.invokeFunction('convertToInteractive',\n",
              "                                                     [key], {});\n",
              "          if (!dataTable) return;\n",
              "\n",
              "          const docLinkHtml = 'Like what you see? Visit the ' +\n",
              "            '<a target=\"_blank\" href=https://colab.research.google.com/notebooks/data_table.ipynb>data table notebook</a>'\n",
              "            + ' to learn more about interactive tables.';\n",
              "          element.innerHTML = '';\n",
              "          dataTable['output_type'] = 'display_data';\n",
              "          await google.colab.output.renderOutput(dataTable, element);\n",
              "          const docLink = document.createElement('div');\n",
              "          docLink.innerHTML = docLinkHtml;\n",
              "          element.appendChild(docLink);\n",
              "        }\n",
              "      </script>\n",
              "    </div>\n",
              "  </div>\n",
              "  "
            ]
          },
          "metadata": {},
          "execution_count": 8
        }
      ]
    },
    {
      "cell_type": "markdown",
      "source": [
        "Furthermore, you can use the same syntax to declare the new rows and columns."
      ],
      "metadata": {
        "id": "-QYKwKY2n6wA"
      }
    },
    {
      "cell_type": "code",
      "source": [
        "df['Population in million']=[125.40,5.45,166.30,21.497,1391.99] # Add new column\n",
        "df.loc[1]=[\"Bhutan\",21,0.75]\n",
        "df"
      ],
      "metadata": {
        "colab": {
          "base_uri": "https://localhost:8080/",
          "height": 206
        },
        "id": "A9-Ba3Xpn6Th",
        "outputId": "09d5607b-95ff-459d-f1bc-9138abcd0be0"
      },
      "execution_count": null,
      "outputs": [
        {
          "output_type": "execute_result",
          "data": {
            "text/plain": [
              "  Name of Country  Infant mortality rate  Population in million\n",
              "0           Japan                      2                125.400\n",
              "1          Bhutan                     21                  0.750\n",
              "2      Bangladesh                     24                166.300\n",
              "3       Sri Lanka                      7                 21.497\n",
              "4           India                     29               1391.990"
            ],
            "text/html": [
              "\n",
              "  <div id=\"df-74d36a79-655b-48e6-bdb8-1032c1127191\">\n",
              "    <div class=\"colab-df-container\">\n",
              "      <div>\n",
              "<style scoped>\n",
              "    .dataframe tbody tr th:only-of-type {\n",
              "        vertical-align: middle;\n",
              "    }\n",
              "\n",
              "    .dataframe tbody tr th {\n",
              "        vertical-align: top;\n",
              "    }\n",
              "\n",
              "    .dataframe thead th {\n",
              "        text-align: right;\n",
              "    }\n",
              "</style>\n",
              "<table border=\"1\" class=\"dataframe\">\n",
              "  <thead>\n",
              "    <tr style=\"text-align: right;\">\n",
              "      <th></th>\n",
              "      <th>Name of Country</th>\n",
              "      <th>Infant mortality rate</th>\n",
              "      <th>Population in million</th>\n",
              "    </tr>\n",
              "  </thead>\n",
              "  <tbody>\n",
              "    <tr>\n",
              "      <th>0</th>\n",
              "      <td>Japan</td>\n",
              "      <td>2</td>\n",
              "      <td>125.400</td>\n",
              "    </tr>\n",
              "    <tr>\n",
              "      <th>1</th>\n",
              "      <td>Bhutan</td>\n",
              "      <td>21</td>\n",
              "      <td>0.750</td>\n",
              "    </tr>\n",
              "    <tr>\n",
              "      <th>2</th>\n",
              "      <td>Bangladesh</td>\n",
              "      <td>24</td>\n",
              "      <td>166.300</td>\n",
              "    </tr>\n",
              "    <tr>\n",
              "      <th>3</th>\n",
              "      <td>Sri Lanka</td>\n",
              "      <td>7</td>\n",
              "      <td>21.497</td>\n",
              "    </tr>\n",
              "    <tr>\n",
              "      <th>4</th>\n",
              "      <td>India</td>\n",
              "      <td>29</td>\n",
              "      <td>1391.990</td>\n",
              "    </tr>\n",
              "  </tbody>\n",
              "</table>\n",
              "</div>\n",
              "      <button class=\"colab-df-convert\" onclick=\"convertToInteractive('df-74d36a79-655b-48e6-bdb8-1032c1127191')\"\n",
              "              title=\"Convert this dataframe to an interactive table.\"\n",
              "              style=\"display:none;\">\n",
              "        \n",
              "  <svg xmlns=\"http://www.w3.org/2000/svg\" height=\"24px\"viewBox=\"0 0 24 24\"\n",
              "       width=\"24px\">\n",
              "    <path d=\"M0 0h24v24H0V0z\" fill=\"none\"/>\n",
              "    <path d=\"M18.56 5.44l.94 2.06.94-2.06 2.06-.94-2.06-.94-.94-2.06-.94 2.06-2.06.94zm-11 1L8.5 8.5l.94-2.06 2.06-.94-2.06-.94L8.5 2.5l-.94 2.06-2.06.94zm10 10l.94 2.06.94-2.06 2.06-.94-2.06-.94-.94-2.06-.94 2.06-2.06.94z\"/><path d=\"M17.41 7.96l-1.37-1.37c-.4-.4-.92-.59-1.43-.59-.52 0-1.04.2-1.43.59L10.3 9.45l-7.72 7.72c-.78.78-.78 2.05 0 2.83L4 21.41c.39.39.9.59 1.41.59.51 0 1.02-.2 1.41-.59l7.78-7.78 2.81-2.81c.8-.78.8-2.07 0-2.86zM5.41 20L4 18.59l7.72-7.72 1.47 1.35L5.41 20z\"/>\n",
              "  </svg>\n",
              "      </button>\n",
              "      \n",
              "  <style>\n",
              "    .colab-df-container {\n",
              "      display:flex;\n",
              "      flex-wrap:wrap;\n",
              "      gap: 12px;\n",
              "    }\n",
              "\n",
              "    .colab-df-convert {\n",
              "      background-color: #E8F0FE;\n",
              "      border: none;\n",
              "      border-radius: 50%;\n",
              "      cursor: pointer;\n",
              "      display: none;\n",
              "      fill: #1967D2;\n",
              "      height: 32px;\n",
              "      padding: 0 0 0 0;\n",
              "      width: 32px;\n",
              "    }\n",
              "\n",
              "    .colab-df-convert:hover {\n",
              "      background-color: #E2EBFA;\n",
              "      box-shadow: 0px 1px 2px rgba(60, 64, 67, 0.3), 0px 1px 3px 1px rgba(60, 64, 67, 0.15);\n",
              "      fill: #174EA6;\n",
              "    }\n",
              "\n",
              "    [theme=dark] .colab-df-convert {\n",
              "      background-color: #3B4455;\n",
              "      fill: #D2E3FC;\n",
              "    }\n",
              "\n",
              "    [theme=dark] .colab-df-convert:hover {\n",
              "      background-color: #434B5C;\n",
              "      box-shadow: 0px 1px 3px 1px rgba(0, 0, 0, 0.15);\n",
              "      filter: drop-shadow(0px 1px 2px rgba(0, 0, 0, 0.3));\n",
              "      fill: #FFFFFF;\n",
              "    }\n",
              "  </style>\n",
              "\n",
              "      <script>\n",
              "        const buttonEl =\n",
              "          document.querySelector('#df-74d36a79-655b-48e6-bdb8-1032c1127191 button.colab-df-convert');\n",
              "        buttonEl.style.display =\n",
              "          google.colab.kernel.accessAllowed ? 'block' : 'none';\n",
              "\n",
              "        async function convertToInteractive(key) {\n",
              "          const element = document.querySelector('#df-74d36a79-655b-48e6-bdb8-1032c1127191');\n",
              "          const dataTable =\n",
              "            await google.colab.kernel.invokeFunction('convertToInteractive',\n",
              "                                                     [key], {});\n",
              "          if (!dataTable) return;\n",
              "\n",
              "          const docLinkHtml = 'Like what you see? Visit the ' +\n",
              "            '<a target=\"_blank\" href=https://colab.research.google.com/notebooks/data_table.ipynb>data table notebook</a>'\n",
              "            + ' to learn more about interactive tables.';\n",
              "          element.innerHTML = '';\n",
              "          dataTable['output_type'] = 'display_data';\n",
              "          await google.colab.output.renderOutput(dataTable, element);\n",
              "          const docLink = document.createElement('div');\n",
              "          docLink.innerHTML = docLinkHtml;\n",
              "          element.appendChild(docLink);\n",
              "        }\n",
              "      </script>\n",
              "    </div>\n",
              "  </div>\n",
              "  "
            ]
          },
          "metadata": {},
          "execution_count": 9
        }
      ]
    },
    {
      "cell_type": "markdown",
      "source": [
        "**Note:** Remaining manipulation of DataFrame will be explored as you move on with remaining topics. Still then, you can have a look in this link (https://www.makeuseof.com/pandas-manipulate-dataframes/)."
      ],
      "metadata": {
        "id": "RDz7VrTsvPVa"
      }
    },
    {
      "cell_type": "markdown",
      "source": [
        "#### **1.3.5 Graphical representation of data**\n",
        "\n",
        "Graphical representation is a visual representation of data based on data using graphs, plots and charts. This type of representation is more useful for understanding and comparing data than seen in a tabular form. \n",
        "\n",
        "#### **1.3.5.1 Uses of Graphical Representation of Data**\n",
        "\n",
        "The main use of graphical representation of data is to understand and identify trends and patterns in data. It helps you analyze large volumes, compare two or more data, make predictions, and make informed decisions. "
      ],
      "metadata": {
        "id": "ytfP6-SRwtp1"
      }
    },
    {
      "cell_type": "markdown",
      "source": [
        "#### **1.3.6 Data Visualization with `Matplotlib` and `Seaborn`**\n",
        "\n",
        "Data visualization is undoubtedly an integral part of any data flow. In Python, the backend of most of the data visualization tools is connected to the `Matplotlib` library, which offers an incredibly wide range of options and functionalities.\n",
        "\n",
        "First, to install `Matplotlib`, simply run the following command."
      ],
      "metadata": {
        "id": "cuo5p2hYaJRI"
      }
    },
    {
      "cell_type": "code",
      "source": [
        "!pip install matplotlib"
      ],
      "metadata": {
        "id": "UIb4qQqUwloP"
      },
      "execution_count": null,
      "outputs": []
    },
    {
      "cell_type": "markdown",
      "source": [
        "The convention in Python is to import the `pyplot` package from the `Matplotlib` library, like so:"
      ],
      "metadata": {
        "id": "0p2e_fh5cRlL"
      }
    },
    {
      "cell_type": "code",
      "source": [
        "import matplotlib.pyplot as plt"
      ],
      "metadata": {
        "id": "a9JBk5QQniAz"
      },
      "execution_count": null,
      "outputs": []
    },
    {
      "cell_type": "markdown",
      "source": [
        "This **pyplot** package, whose alias is now **plt**, is the main workhorse for any visualization functionality in Python and will therefore be used extensively.\n",
        "\n",
        "Generally, instead of studying the theoretical assumptions of the library. In the following section, we'll take a more practical approach and look at a few different things. As a result, it becomes practical takeaway that will be useful for your own project in the future."
      ],
      "metadata": {
        "id": "aTmz8Isgclmf"
      }
    },
    {
      "cell_type": "markdown",
      "source": [
        "#### **1.3.6.1 Scatter Plots**\n",
        "\n",
        "One of the simplest visualization methods is the scatter plot.\n",
        "A point on a plane (or other higher-dimensional space). This is done simply by `plt.scatter()` function. For example, suppose you have a list of six items, whose $x$ and $y$ coordinates are respectively stored in the following two lists:"
      ],
      "metadata": {
        "id": "-l6xMzmUcvkK"
      }
    },
    {
      "cell_type": "code",
      "source": [
        "x = [1,3,4,1.5,6,2,8]\n",
        "y = [-2,4,3,6,1,1,10]"
      ],
      "metadata": {
        "id": "9q6eoGwgy-eS"
      },
      "execution_count": null,
      "outputs": []
    },
    {
      "cell_type": "markdown",
      "source": [
        "Now, we can use the `plt.scatter()` function to create a scatter plot."
      ],
      "metadata": {
        "id": "ijz__ZWi0A7A"
      }
    },
    {
      "cell_type": "code",
      "source": [
        "import matplotlib.pyplot as plt\n",
        "\n",
        "plt.scatter(x,y)         \n",
        "plt.title('Scatter Plot') #To format the chart title\n",
        "plt.xlabel('x')           #To format the x-axis title\n",
        "plt.ylabel('y')           #To format the y-axis title\n",
        "plt.show()"
      ],
      "metadata": {
        "colab": {
          "base_uri": "https://localhost:8080/",
          "height": 295
        },
        "id": "g7SCDjMwzwcz",
        "outputId": "1c4fc9a8-cde6-4af6-8c9f-7915f476020c"
      },
      "execution_count": null,
      "outputs": [
        {
          "output_type": "display_data",
          "data": {
            "text/plain": [
              "<Figure size 432x288 with 1 Axes>"
            ],
            "image/png": "[encoded data removed]"
          },
          "metadata": {
            "needs_background": "light"
          }
        }
      ]
    },
    {
      "cell_type": "markdown",
      "source": [
        "As for the `plt.scatter()` function, there are arguments that we can specify to customize our plots further. For example, we can customize the size of the individual points, as well as their respective colors:"
      ],
      "metadata": {
        "id": "mQF0DHeDnTtn"
      }
    },
    {
      "cell_type": "code",
      "source": [
        "sizes = [10, 40, 60, 80, 100,50,70]\n",
        "colors = ['r', 'b', 'y', 'g', 'k','b','b']\n",
        "plt.scatter(x, y, s=sizes, c=colors)\n",
        "plt.show()"
      ],
      "metadata": {
        "colab": {
          "base_uri": "https://localhost:8080/",
          "height": 265
        },
        "id": "hucZCSkyncSV",
        "outputId": "0b914780-1199-4c17-f8e7-b17985d0422b"
      },
      "execution_count": null,
      "outputs": [
        {
          "output_type": "display_data",
          "data": {
            "text/plain": [
              "<Figure size 432x288 with 1 Axes>"
            ],
            "image/png": "[encoded data removed]"
          },
          "metadata": {
            "needs_background": "light"
          }
        }
      ]
    },
    {
      "cell_type": "markdown",
      "source": [
        "This feature is useful when the points you want to see in the distribution belong to different data groups, but then you can assign a different color to each group."
      ],
      "metadata": {
        "id": "lasLAbbRpcDF"
      }
    },
    {
      "cell_type": "markdown",
      "source": [
        "A potential goal of a scatter plot is to identify any existing groups in our data that can give us more information about its\n",
        "relationships between the attributes of our dataset."
      ],
      "metadata": {
        "id": "mOsk3KuL2Wik"
      }
    },
    {
      "cell_type": "markdown",
      "source": [
        "#### **1.3.6.2 Line Graphs**\n",
        "\n",
        "Line charts are another of the most basic visualization methods, where the points are plotted along the curve, rather than scattered individually. This is done by simple `plt.plot()` function. As an example, we are plotting out the $cosine$ wave\n",
        "(from $0$ to $10$) in the following code:"
      ],
      "metadata": {
        "id": "0sWeO9dCpuL3"
      }
    },
    {
      "cell_type": "code",
      "source": [
        "import numpy as np\n",
        "x = np.linspace(0, 10, 10000)\n",
        "y = np.cos(x)\n",
        "\n",
        "plt.plot(x, y)\n",
        "plt.show()"
      ],
      "metadata": {
        "id": "kbX-CCvw0ZWn",
        "colab": {
          "base_uri": "https://localhost:8080/",
          "height": 265
        },
        "outputId": "d3579b95-cf48-404a-fe7f-35621f88ac90"
      },
      "execution_count": null,
      "outputs": [
        {
          "output_type": "display_data",
          "data": {
            "text/plain": [
              "<Figure size 432x288 with 1 Axes>"
            ],
            "image/png": "[encoded data removed]"
          },
          "metadata": {
            "needs_background": "light"
          }
        }
      ]
    },
    {
      "cell_type": "markdown",
      "source": [
        "Note that the `np.linspace()` function returns a set of equal spaces numbers between two endpoints. In our case, we get $10000$ evenly distributed numbers from $0$ to $10$."
      ],
      "metadata": {
        "id": "lWXY_2MSradp"
      }
    },
    {
      "cell_type": "markdown",
      "source": [
        "Generally, line graphs are used to visualize the trend of a specific function, which is represented by a list of points sequenced in order. As such, this method is highly applicable to data with some sequential elements, such as a time series dataset.\n",
        "\n",
        "Next, we will see Bar Graphs in `matplotlib`."
      ],
      "metadata": {
        "id": "Oy_WTvXxxQWE"
      }
    },
    {
      "cell_type": "markdown",
      "source": [
        "#### **1.3.6.3 Bar Graphs**\n",
        "\n",
        "Bar graphs are typically used to represent the counts of unique values in a dataset via the height of individual bars. In terms of implementation in `Matplotlib`, this is done using the `plt.bar()` function, as follows:"
      ],
      "metadata": {
        "id": "oVG8NXkg7s3m"
      }
    },
    {
      "cell_type": "code",
      "source": [
        "labels = ['Type 1', 'Type 2', 'Type 3']\n",
        "counts = [2, 3, 5]\n",
        "\n",
        "plt.bar(labels, counts)\n",
        "plt.show()"
      ],
      "metadata": {
        "colab": {
          "base_uri": "https://localhost:8080/",
          "height": 265
        },
        "id": "D8mepL1Jw8iO",
        "outputId": "eaf900a6-f2ae-44aa-ca34-22dab3be11e0"
      },
      "execution_count": null,
      "outputs": [
        {
          "output_type": "display_data",
          "data": {
            "text/plain": [
              "<Figure size 432x288 with 1 Axes>"
            ],
            "image/png": "[encoded data removed]"
          },
          "metadata": {
            "needs_background": "light"
          }
        }
      ]
    },
    {
      "cell_type": "markdown",
      "source": [
        "The first argument that the `plt.bar()` function takes in (the variable **labels**, in this case) determines what will be the marks for individual bars, and for others the argument (in this case, **counts**) specifies the height of the columns."
      ],
      "metadata": {
        "id": "NK2edGcr_urt"
      }
    },
    {
      "cell_type": "markdown",
      "source": [
        "#### **1.3.6.4 Histograms**\n",
        "\n",
        "A histogram is basically used to represent data provided in a form of some groups. It's accurate method for the graphical representation of numerical data distribution. It is a type of bar plot where X-axis represents the bin ranges while Y-axis gives information about frequency.\n",
        "\n",
        "The `plt.hist()` function is used to compute and create histogram of $x$. "
      ],
      "metadata": {
        "id": "_U4OI7OT7QoQ"
      }
    },
    {
      "cell_type": "markdown",
      "source": [
        "Let’s create a basic histogram of some random values. Below code creates a simple histogram of some random values:  "
      ],
      "metadata": {
        "id": "eCLo70Uf7szp"
      }
    },
    {
      "cell_type": "code",
      "source": [
        "from matplotlib import pyplot as plt\n",
        "import numpy as np\n",
        "\n",
        "# Creating dataset\n",
        "ds = np.array([22, 87, 5, 43, 56, 73, 55, 54, 11, 20, 51, 5, 79, 31, 27])\n",
        "\n",
        "# Creating histogram\n",
        "fig, ax = plt.subplots(figsize =(8, 5))\n",
        "ax.hist(ds, bins = [0, 25, 50, 75, 100])\n",
        "\n",
        "# Show plot\n",
        "plt.show()\n"
      ],
      "metadata": {
        "colab": {
          "base_uri": "https://localhost:8080/",
          "height": 320
        },
        "id": "o4Q9w2cF4at_",
        "outputId": "adce92a8-48ce-4944-ad19-b77818eba714"
      },
      "execution_count": null,
      "outputs": [
        {
          "output_type": "display_data",
          "data": {
            "text/plain": [
              "<Figure size 576x360 with 1 Axes>"
            ],
            "image/png": "[encoded data removed]"
          },
          "metadata": {
            "needs_background": "light"
          }
        }
      ]
    },
    {
      "cell_type": "markdown",
      "source": [
        "Matplotlib provides a range of different methods to customize histogram. "
      ],
      "metadata": {
        "id": "3-yYhJB18off"
      }
    },
    {
      "cell_type": "markdown",
      "source": [
        "#### **1.3.6.5 Pie Chart**\n",
        "\n",
        "A **Pie Chart** is a circular statistical plot that can display only one series of data. The area of the chart is the total percentage of the given data. The area of slices of the pie represents the percentage of the parts of the data. The slices of pie are called **wedges**. The area of the wedge is determined by the length of the arc of the wedge. Pie charts are commonly used in business presentations like sales, operations, survey results, resources, etc as they provide a quick summary."
      ],
      "metadata": {
        "id": "54OQ2mkQ-O2T"
      }
    },
    {
      "cell_type": "markdown",
      "source": [
        "Let’s create a simple pie chart using the `pie()` function:"
      ],
      "metadata": {
        "id": "_qI-Qxt7-v0O"
      }
    },
    {
      "cell_type": "code",
      "source": [
        "# Import libraries\n",
        "from matplotlib import pyplot as plt\n",
        "import numpy as np\n",
        "\n",
        "# Creating dataset\n",
        "cars = ['Kia', 'Van', 'EV', 'TESLA', 'Alto', 'Swift']\n",
        "\n",
        "data = [23, 17, 35, 2, 30, 23]\n",
        "\n",
        "# Creating plot\n",
        "fig = plt.figure(figsize =(9, 6))\n",
        "plt.pie(data, labels = cars,autopct='%1.1f%%', explode=(0,0,0,0.2,0,0))\n",
        "\n",
        "# show plot\n",
        "plt.show()\n"
      ],
      "metadata": {
        "colab": {
          "base_uri": "https://localhost:8080/",
          "height": 357
        },
        "id": "gkI7UHU78Zg9",
        "outputId": "55c3d5b9-3f52-4224-b979-cfd23fef22e0"
      },
      "execution_count": null,
      "outputs": [
        {
          "output_type": "display_data",
          "data": {
            "text/plain": [
              "<Figure size 648x432 with 1 Axes>"
            ],
            "image/png": "[encoded data removed]"
          },
          "metadata": {}
        }
      ]
    },
    {
      "cell_type": "markdown",
      "source": [
        "#### **1.3.6.6 HeatMaps**\n",
        "\n",
        "A heatmap is generated with a 2D array of numbers, where numbers with high values correspond to hot colors, and low-valued numbers correspond to cold colors. With `Matplotlib`, a heatmap is created with the `plt.imshow()` function. Let's see the following code:"
      ],
      "metadata": {
        "id": "vDf_cb0BAVrt"
      }
    },
    {
      "cell_type": "code",
      "source": [
        "import numpy as np\n",
        "import matplotlib.pyplot as plt\n",
        "\n",
        "my_map = np.random.randn(6, 6)\n",
        "\n",
        "plt.imshow(my_map)\n",
        "plt.colorbar()\n",
        "plt.show()"
      ],
      "metadata": {
        "colab": {
          "base_uri": "https://localhost:8080/",
          "height": 265
        },
        "id": "23WThj04_r_Y",
        "outputId": "9031d56d-09be-42aa-a04b-024c5da5c685"
      },
      "execution_count": null,
      "outputs": [
        {
          "output_type": "display_data",
          "data": {
            "text/plain": [
              "<Figure size 432x288 with 2 Axes>"
            ],
            "image/png": "[encoded data removed]"
          },
          "metadata": {
            "needs_background": "light"
          }
        }
      ]
    },
    {
      "cell_type": "markdown",
      "source": [
        "An important use of heatmaps is when we consider the correlation matrix of a dataset (which is a 2D array containing a correlation between any given pair of attributes within the dataset). A heatmap will be able to help us pinpoint any and all attributes that are highly correlated to one another."
      ],
      "metadata": {
        "id": "khbq7FIgBe_V"
      }
    },
    {
      "cell_type": "markdown",
      "source": [
        "#### **Try yourself:**"
      ],
      "metadata": {
        "id": "vz00sTN1iuTf"
      }
    },
    {
      "cell_type": "markdown",
      "source": [
        "In this activity, we will practice some basic data processing and analysis techniques on a dataset available online called Communities and Crime, with the hope of consolidating our knowledge and techniques. Specifically, we will process missing\n",
        "values in the dataset, iterate through the attributes, and visualize the distribution of their values.\n",
        "\n",
        "You may download the dataset from this link [https://drive.google.com/file/d/1EEo1Zu0sTvx2UK-1Til_a_TD9jhAv5jv/view?usp=sharing].\n",
        "\n",
        "Now, perform the following steps:\n",
        "\n",
        "1. As a first step, import the libraries that we will be using: `pandas`, `NumPy`, and `Matplotlib`.\n",
        "2. Read in the dataset from the text file using `pandas` and print out the first five rows by calling the `head()` method on the DataFrame object.\n",
        "3. Print out the total number of rows and columns.\n",
        "4. Notice that missing values are indicated as **'?'** in different cells of the dataset. Call the `replace()` method on the DataFrame object to replace that character with `np.nan` to faithfully represent missing values in Python.\n",
        "5. Print out the list of columns in the dataset and their respective numbers of missing values using `df.isnull().sum()`, where **df** is the variable name of the DataFrame object.\n",
        "6. Using the `df.isnull().sum()`[column_name] syntax (where column_\n",
        "name **bold text** is the name of the column we are interested in), print out the number of missing values in the **NumStreet** and **PolicPerPop** columns.\n",
        "7. Compute a DataFrame object that contains a list of values in the **state** attribute and their respective counts. Then, use the **DataFrame.plot.bar()** method to visualize that information in a bar graph.\n",
        "8. Observe that, with the default scale of the plot, the labels on the x-axis are overlapping. Address this problem by making the plot bigger with the **f, ax = plt.subplots(figsize=(15, 10))** command. This should be placed at the beginning of any plotting commands.\n",
        "9. Using the same value count **DataFrame** object that we used previously, call the **DataFrame.plot.pie()** method to create a corresponding pie chart. Adjust the figure size to ensure that the labels for your graph are displayed correctly."
      ],
      "metadata": {
        "id": "-6w1pz8-ix2k"
      }
    },
    {
      "cell_type": "markdown",
      "source": [
        "## **1.4 Measures of Central Tendency**"
      ],
      "metadata": {
        "id": "9i-MlRIAC59s"
      }
    },
    {
      "cell_type": "markdown",
      "source": [
        "A **measure of central tendency** is a single value that attempts to describe a set of data by identifying the central position within that set of data. They are also classed as summary statistics. \n",
        "\n",
        "The **mean**, **median** and **mode** are all valid measures of central tendency, but under different conditions, some measures of central tendency become more appropriate to use than others. In the following sections, we will look at the mean, mode and median, and learn how to calculate them and under what conditions they are most appropriate to be used."
      ],
      "metadata": {
        "id": "pAwzm7nBoC-N"
      }
    },
    {
      "cell_type": "markdown",
      "source": [
        "#### **1.4.1 The (Arithmetic) Mean**"
      ],
      "metadata": {
        "id": "1gesbBQAEhbO"
      }
    },
    {
      "cell_type": "markdown",
      "source": [
        "The **arithmetic mean** in statistics, ​​is nothing but the ratio of sum of all observations to the total number of observations in the data set."
      ],
      "metadata": {
        "id": "cT7t1OFRMFGy"
      }
    },
    {
      "cell_type": "markdown",
      "source": [
        "The general formula to find the arithmetic mean of a given data is:\n",
        "$$\\bar{x}=\\frac{x_1+x_2+...+x_n}{n}=\\frac{\\displaystyle\\sum_{i=1}^nx_i}{n}$$"
      ],
      "metadata": {
        "id": "qweQ8hHZwLCo"
      }
    },
    {
      "cell_type": "markdown",
      "source": [
        "The arithmetic mean for grouped and ungrouped data can be calculated using the following formula.\n",
        "$$\\bar{x}=\\frac{\\displaystyle\\sum_{i=1}^nx_i}{n}~~~(\\text{Ungrouped data)}$$\n",
        "$$\\bar{x}=\\frac{\\displaystyle\\sum_{i=1}^nf_ix_i}{N}~~~\\text{(Grouped data)}$$\n",
        "\n",
        "Where: \n",
        "\n",
        "$f$ is the frequency in each class\n",
        "\n",
        "$x$ is the midpoint of each class\n",
        "\n",
        "$N=\\sum f_i$ is the total number of scores\n",
        "\n"
      ],
      "metadata": {
        "id": "g9oz6-H_xMcD"
      }
    },
    {
      "cell_type": "markdown",
      "source": [
        "#### **1.4.1.1 Properties of Arithmetic Mean**\n",
        "\n",
        "Let us have a look at some of the important properties of the arithmetic mean. Suppose we have $n$ observations denoted by $x_1, x_2, x_3, ….,x_n$ and $\\bar{x}$ is their arithmetic mean, then:"
      ],
      "metadata": {
        "id": "usQBPw8C_65j"
      }
    },
    {
      "cell_type": "markdown",
      "source": [
        "\n",
        "\n",
        "1.   The algebraic sum of deviations of a set of observations from their arithmetic mean is zero. For discrete data, $\\sum (x_i-\\bar{x})=0$. For grouped frequency distribution, $\\sum f(x_i-\\bar{x})=0$.\n",
        "2.   If each value in the data increases or decreases by a fixed value, then the mean also increases/decreases by the same number. \n",
        "3.   If each value in the data gets multiplied or divided by a fixed value, then the mean also gets multiplied or divided by the same number.\n",
        "\n",
        "**Note:** While dividing each value by $k$, it must be a non-zero number as division by $0$ is not defined.\n",
        "\n"
      ],
      "metadata": {
        "id": "LI4E4OVeANSe"
      }
    },
    {
      "cell_type": "markdown",
      "source": [
        "**Example 1: For ungrouped data.**  \n",
        "\n",
        "Compute the arithmetic mean of the first $6$ odd, natural numbers.\n",
        "\n",
        "**Solution:** The first $6$ odd, natural numbers: $1, 3, 5, 7, 9, 11$\n",
        "$$\\therefore \\bar{x}=\\frac{(1+3+5+7+9+11)}{6}=\\frac{36}{6}=6$$\n",
        "Thus, the arithmetic mean is $6$."
      ],
      "metadata": {
        "id": "lDsVzyv1CNKl"
      }
    },
    {
      "cell_type": "markdown",
      "source": [
        "**Example 2: For ungrouped frequency distribution data.**\n",
        "\n",
        "Find the mean of the following distribution:\n",
        "\n",
        "\\begin{array}{|c|c|} \\hline\n",
        "x & 10 & 30 & 50 & 70 & 89 \\\\ \\hline\n",
        "f & 7 & 8 & 10 & 15 & 10 \\\\ \\hline\n",
        "\\end{array}"
      ],
      "metadata": {
        "id": "WL6X6V4qDPVo"
      }
    },
    {
      "cell_type": "markdown",
      "source": [
        "**Solution:** Using the mean formula, we have \n",
        "\\begin{array}{|c|c|} \\hline\n",
        "x_i & f_i & x_if_i \\\\ \\hline\n",
        "10 & 7 & 70 \\\\ \\hline\n",
        "30 & 8 & 240 \\\\ \\hline\n",
        "50 & 10 & 500 \\\\ \\hline\n",
        "70 & 15 & 1050 \\\\ \\hline\n",
        "89 & 10 & 890 \\\\ \\hline\n",
        " & \\sum f_i=50 & \\sum x_if_i=2750 \\\\ \\hline\n",
        "\\end{array}\n",
        "\n",
        "Plugging into the formula, we get\n",
        "$$\\therefore \\bar{x}=\\frac{\\sum f_ix_i}{\\sum f_i}=\\frac{2750}{50}=55$$\n",
        "Thus, mean is $55$."
      ],
      "metadata": {
        "id": "gBEyaCqHFBYK"
      }
    },
    {
      "cell_type": "markdown",
      "source": [
        "**Example 3: For continuous grouped data.** \n",
        "\n",
        "Find the mean of the following distribution:\n",
        "\n",
        "\\begin{array}{|c|c|} \\hline\n",
        "\\textbf{Class interval} & 15-25 & 25-35 & 35-45 & 45-55 & 55-65 & 65-75 & 75-85 \\\\ \\hline\n",
        "\\textbf{Frequency} & 6 & 11 & 7 & 4 & 4 & 2 & 1 \\\\ \\hline\n",
        "\\end{array}\n"
      ],
      "metadata": {
        "id": "zVJt3VbIGNrI"
      }
    },
    {
      "cell_type": "markdown",
      "source": [
        "**Solution:** When the data is presented in the form of class intervals, the mid-point of each class (also called class mark) is considered for calculating the mean. \n",
        "\\begin{array}{|c|c|} \\hline\n",
        "\\text{Class  Interval} & f_i & x_i & x_if_i \\\\ \\hline\n",
        "15 - 25 & 6 & 20 & 120\\\\ \\hline\n",
        "25 - 35 & 11 & 30 & 330\\\\ \\hline\n",
        "35 - 45 & 7 & 40 & 280\\\\ \\hline\n",
        "45 - 55 & 4 & 50 & 200\\\\ \\hline\n",
        "55 - 65 & 4 & 60 & 240\\\\ \\hline\n",
        "65 - 75 & 2 & 70 & 140\\\\ \\hline\n",
        "75 - 85 & 1 & 80 & 80\\\\ \\hline\n",
        " & \\sum f_i=35 &  &\\sum x_if_i=1390 \\\\ \\hline\n",
        "\\end{array}\n",
        "\n",
        "$$\\therefore \\bar{x}=\\frac{\\sum f_ix_i}{\\sum f_i}=\\frac{1390}{35}=39.71$$"
      ],
      "metadata": {
        "id": "wvmH9ww-HaL_"
      }
    },
    {
      "cell_type": "markdown",
      "source": [
        "#### **Try yourself:**"
      ],
      "metadata": {
        "id": "FytV14fCJBxn"
      }
    },
    {
      "cell_type": "markdown",
      "source": [
        "**1)**. Calculate the mean of the following using the concept of deviation from arbitrary point.\n",
        "\n",
        "\\begin{array}{|c|c|} \\hline\n",
        "\\textbf{Class interval} & 45-50 & 50-55 & 55-60 & 60-65 & 65-70 & 70-75 & 75-80 \\\\ \\hline\n",
        "\\textbf{Frequency} & 5 & 8 & 30 & 25 & 14 & 12 & 6 \\\\ \\hline\n",
        "\\end{array}"
      ],
      "metadata": {
        "id": "RMzQlBwIJYAu"
      }
    },
    {
      "cell_type": "markdown",
      "source": [
        "**2)**. Find the arithmetic mean of the following by changing the origin and scale method. The method is also called step-deviation method.\n",
        "\n",
        "\\begin{array}{|c|c|} \\hline\n",
        "\\textbf{Class interval} & 0-10 & 10-20 & 20-30 & 30-40 & 40-50 & 50-60 & 60-70 \\\\ \\hline\n",
        "\\textbf{Frequency} & 5 & 8 & 30 & 25 & 14 & 12 & 6 \\\\ \\hline\n",
        "\\end{array}"
      ],
      "metadata": {
        "id": "yPok2X0TKj_5"
      }
    },
    {
      "cell_type": "markdown",
      "source": [
        "#### **1.4.1.2 Mean Function in Python**\n",
        "\n",
        "`mean()` – Mean Function in python `pandas` is used to calculate the arithmetic mean of a given set of numbers, mean of a data frame ,column wise mean or mean of column in `pandas` and row wise mean or mean of rows in `pandas`. lets see an example of each."
      ],
      "metadata": {
        "id": "5u0sVpBINqIL"
      }
    },
    {
      "cell_type": "markdown",
      "source": [
        "**Simple mean function is shown below:**"
      ],
      "metadata": {
        "id": "rWcw3_9PPHBP"
      }
    },
    {
      "cell_type": "code",
      "source": [
        "# Calculate arithmetic mean \n",
        "import statistics as stat\n",
        "\n",
        "print('The mean of given data is: ', stat.mean([1,9,5,6,4,7,3,6]))"
      ],
      "metadata": {
        "id": "iKrLa1ST9rMu",
        "colab": {
          "base_uri": "https://localhost:8080/"
        },
        "outputId": "caefada4-6e1e-493d-8409-380da239ea1f"
      },
      "execution_count": null,
      "outputs": [
        {
          "output_type": "stream",
          "name": "stdout",
          "text": [
            "The mean of given data is:  5.125\n"
          ]
        }
      ]
    },
    {
      "cell_type": "markdown",
      "source": [
        "**Mean of a dataframe in `pandas` python:**"
      ],
      "metadata": {
        "id": "6Xdn-hfhQDRs"
      }
    },
    {
      "cell_type": "code",
      "source": [
        "# Create dataframe\n",
        "\n",
        "import pandas as pd\n",
        "import numpy as np\n",
        " \n",
        "#Create a DataFrame\n",
        "d = {\n",
        "    'Name':['Pema','Dechen','Wangmo','Tshewang','Karma','Yangden','Sonam'],\n",
        "   'Math_Score':[62,47,55,74,31,77,85],\n",
        "   'AI_Score':[89,87,67,55,47,72,76]}\n",
        " \n",
        "df = pd.DataFrame(d)\n",
        "df"
      ],
      "metadata": {
        "id": "XQO_X5Je9tei",
        "colab": {
          "base_uri": "https://localhost:8080/",
          "height": 269
        },
        "outputId": "3ac5d526-3a21-45ca-cc07-7f5d65dcdb21"
      },
      "execution_count": null,
      "outputs": [
        {
          "output_type": "execute_result",
          "data": {
            "text/plain": [
              "       Name  Math_Score  AI_Score\n",
              "0      Pema          62        89\n",
              "1    Dechen          47        87\n",
              "2    Wangmo          55        67\n",
              "3  Tshewang          74        55\n",
              "4     Karma          31        47\n",
              "5   Yangden          77        72\n",
              "6     Sonam          85        76"
            ],
            "text/html": [
              "\n",
              "  <div id=\"df-db66d651-41c9-4506-bca2-d1d1b73fa213\">\n",
              "    <div class=\"colab-df-container\">\n",
              "      <div>\n",
              "<style scoped>\n",
              "    .dataframe tbody tr th:only-of-type {\n",
              "        vertical-align: middle;\n",
              "    }\n",
              "\n",
              "    .dataframe tbody tr th {\n",
              "        vertical-align: top;\n",
              "    }\n",
              "\n",
              "    .dataframe thead th {\n",
              "        text-align: right;\n",
              "    }\n",
              "</style>\n",
              "<table border=\"1\" class=\"dataframe\">\n",
              "  <thead>\n",
              "    <tr style=\"text-align: right;\">\n",
              "      <th></th>\n",
              "      <th>Name</th>\n",
              "      <th>Math_Score</th>\n",
              "      <th>AI_Score</th>\n",
              "    </tr>\n",
              "  </thead>\n",
              "  <tbody>\n",
              "    <tr>\n",
              "      <th>0</th>\n",
              "      <td>Pema</td>\n",
              "      <td>62</td>\n",
              "      <td>89</td>\n",
              "    </tr>\n",
              "    <tr>\n",
              "      <th>1</th>\n",
              "      <td>Dechen</td>\n",
              "      <td>47</td>\n",
              "      <td>87</td>\n",
              "    </tr>\n",
              "    <tr>\n",
              "      <th>2</th>\n",
              "      <td>Wangmo</td>\n",
              "      <td>55</td>\n",
              "      <td>67</td>\n",
              "    </tr>\n",
              "    <tr>\n",
              "      <th>3</th>\n",
              "      <td>Tshewang</td>\n",
              "      <td>74</td>\n",
              "      <td>55</td>\n",
              "    </tr>\n",
              "    <tr>\n",
              "      <th>4</th>\n",
              "      <td>Karma</td>\n",
              "      <td>31</td>\n",
              "      <td>47</td>\n",
              "    </tr>\n",
              "    <tr>\n",
              "      <th>5</th>\n",
              "      <td>Yangden</td>\n",
              "      <td>77</td>\n",
              "      <td>72</td>\n",
              "    </tr>\n",
              "    <tr>\n",
              "      <th>6</th>\n",
              "      <td>Sonam</td>\n",
              "      <td>85</td>\n",
              "      <td>76</td>\n",
              "    </tr>\n",
              "  </tbody>\n",
              "</table>\n",
              "</div>\n",
              "      <button class=\"colab-df-convert\" onclick=\"convertToInteractive('df-db66d651-41c9-4506-bca2-d1d1b73fa213')\"\n",
              "              title=\"Convert this dataframe to an interactive table.\"\n",
              "              style=\"display:none;\">\n",
              "        \n",
              "  <svg xmlns=\"http://www.w3.org/2000/svg\" height=\"24px\"viewBox=\"0 0 24 24\"\n",
              "       width=\"24px\">\n",
              "    <path d=\"M0 0h24v24H0V0z\" fill=\"none\"/>\n",
              "    <path d=\"M18.56 5.44l.94 2.06.94-2.06 2.06-.94-2.06-.94-.94-2.06-.94 2.06-2.06.94zm-11 1L8.5 8.5l.94-2.06 2.06-.94-2.06-.94L8.5 2.5l-.94 2.06-2.06.94zm10 10l.94 2.06.94-2.06 2.06-.94-2.06-.94-.94-2.06-.94 2.06-2.06.94z\"/><path d=\"M17.41 7.96l-1.37-1.37c-.4-.4-.92-.59-1.43-.59-.52 0-1.04.2-1.43.59L10.3 9.45l-7.72 7.72c-.78.78-.78 2.05 0 2.83L4 21.41c.39.39.9.59 1.41.59.51 0 1.02-.2 1.41-.59l7.78-7.78 2.81-2.81c.8-.78.8-2.07 0-2.86zM5.41 20L4 18.59l7.72-7.72 1.47 1.35L5.41 20z\"/>\n",
              "  </svg>\n",
              "      </button>\n",
              "      \n",
              "  <style>\n",
              "    .colab-df-container {\n",
              "      display:flex;\n",
              "      flex-wrap:wrap;\n",
              "      gap: 12px;\n",
              "    }\n",
              "\n",
              "    .colab-df-convert {\n",
              "      background-color: #E8F0FE;\n",
              "      border: none;\n",
              "      border-radius: 50%;\n",
              "      cursor: pointer;\n",
              "      display: none;\n",
              "      fill: #1967D2;\n",
              "      height: 32px;\n",
              "      padding: 0 0 0 0;\n",
              "      width: 32px;\n",
              "    }\n",
              "\n",
              "    .colab-df-convert:hover {\n",
              "      background-color: #E2EBFA;\n",
              "      box-shadow: 0px 1px 2px rgba(60, 64, 67, 0.3), 0px 1px 3px 1px rgba(60, 64, 67, 0.15);\n",
              "      fill: #174EA6;\n",
              "    }\n",
              "\n",
              "    [theme=dark] .colab-df-convert {\n",
              "      background-color: #3B4455;\n",
              "      fill: #D2E3FC;\n",
              "    }\n",
              "\n",
              "    [theme=dark] .colab-df-convert:hover {\n",
              "      background-color: #434B5C;\n",
              "      box-shadow: 0px 1px 3px 1px rgba(0, 0, 0, 0.15);\n",
              "      filter: drop-shadow(0px 1px 2px rgba(0, 0, 0, 0.3));\n",
              "      fill: #FFFFFF;\n",
              "    }\n",
              "  </style>\n",
              "\n",
              "      <script>\n",
              "        const buttonEl =\n",
              "          document.querySelector('#df-db66d651-41c9-4506-bca2-d1d1b73fa213 button.colab-df-convert');\n",
              "        buttonEl.style.display =\n",
              "          google.colab.kernel.accessAllowed ? 'block' : 'none';\n",
              "\n",
              "        async function convertToInteractive(key) {\n",
              "          const element = document.querySelector('#df-db66d651-41c9-4506-bca2-d1d1b73fa213');\n",
              "          const dataTable =\n",
              "            await google.colab.kernel.invokeFunction('convertToInteractive',\n",
              "                                                     [key], {});\n",
              "          if (!dataTable) return;\n",
              "\n",
              "          const docLinkHtml = 'Like what you see? Visit the ' +\n",
              "            '<a target=\"_blank\" href=https://colab.research.google.com/notebooks/data_table.ipynb>data table notebook</a>'\n",
              "            + ' to learn more about interactive tables.';\n",
              "          element.innerHTML = '';\n",
              "          dataTable['output_type'] = 'display_data';\n",
              "          await google.colab.output.renderOutput(dataTable, element);\n",
              "          const docLink = document.createElement('div');\n",
              "          docLink.innerHTML = docLinkHtml;\n",
              "          element.appendChild(docLink);\n",
              "        }\n",
              "      </script>\n",
              "    </div>\n",
              "  </div>\n",
              "  "
            ]
          },
          "metadata": {},
          "execution_count": 2
        }
      ]
    },
    {
      "cell_type": "markdown",
      "source": [
        "Mean of the dataframe in `pandas` can be calculated by"
      ],
      "metadata": {
        "id": "VKvyujcQRzVe"
      }
    },
    {
      "cell_type": "code",
      "source": [
        "# mean of the dataframe\n",
        "df['AI_Score'].mean()"
      ],
      "metadata": {
        "colab": {
          "base_uri": "https://localhost:8080/"
        },
        "id": "R_UbFEqrRPu-",
        "outputId": "c54a6139-0d83-4ce5-dd26-d4976ed5160e"
      },
      "execution_count": null,
      "outputs": [
        {
          "output_type": "execute_result",
          "data": {
            "text/plain": [
              "70.42857142857143"
            ]
          },
          "metadata": {},
          "execution_count": 9
        }
      ]
    },
    {
      "cell_type": "code",
      "source": [
        "df1 = df[['AI_Score', 'Math_Score']] # Mean of two columns\n",
        "df1.mean()"
      ],
      "metadata": {
        "colab": {
          "base_uri": "https://localhost:8080/"
        },
        "id": "4tn6n4KXe5R0",
        "outputId": "bf471b27-57bb-48f3-c8ee-ed00d14275e0"
      },
      "execution_count": null,
      "outputs": [
        {
          "output_type": "execute_result",
          "data": {
            "text/plain": [
              "AI_Score      70.428571\n",
              "Math_Score    61.571429\n",
              "dtype: float64"
            ]
          },
          "metadata": {},
          "execution_count": 11
        }
      ]
    },
    {
      "cell_type": "markdown",
      "source": [
        "**Note:** 'axis=0' argument calculates the column wise mean and 'axis=1' arugment for row wise."
      ],
      "metadata": {
        "id": "cKBsZXLMSwCF"
      }
    },
    {
      "cell_type": "markdown",
      "source": [
        "If you want to compute the mean of the first column, it can be done by the following code"
      ],
      "metadata": {
        "id": "cswTO3QvTQW5"
      }
    },
    {
      "cell_type": "code",
      "source": [
        "# mean of the specific column\n",
        "df['Math_Score'].mean()"
      ],
      "metadata": {
        "colab": {
          "base_uri": "https://localhost:8080/"
        },
        "id": "JMqnkKMcSHeB",
        "outputId": "ec906e79-ebf2-49cf-89da-c7afd2af2e41"
      },
      "execution_count": null,
      "outputs": [
        {
          "output_type": "execute_result",
          "data": {
            "text/plain": [
              "61.57142857142857"
            ]
          },
          "metadata": {},
          "execution_count": 3
        }
      ]
    },
    {
      "cell_type": "markdown",
      "source": [
        "#### **1.4.2 Geometric Mean**\n",
        "\n",
        "The **Geometric Mean (GM)** is the average value or mean which signifies the central tendency of the set of numbers by taking the root of the product of their values. Basically, we multiply the $n$ values altogether and take out the $n^{th}$ root of the numbers, where $n$ is the total number of values."
      ],
      "metadata": {
        "id": "nMsCXkEYURvw"
      }
    },
    {
      "cell_type": "markdown",
      "source": [
        "Consider, if $x_1, x_2, ..., x_n$ are the $n$ observations, for which we aim to calculate the geometric mean. The formula to calculate the geometric mean for ungrouped data is given below:\n",
        "$$GM=\\sqrt[n]{x_1.x_2.x_3...x_n}$$\n",
        "or\n",
        "$$GM=(x_1.x_2.x_3...x_n)^{1/n}$$\n",
        "\n",
        "Taking the logarithm on both sides,\n",
        "$$log(GM)=log(x_1,x_2,...,x_n)^{1/n}$$\n",
        "$$~~~~~~~~~~~~~~~=\\frac{1}{n}log(x_1,x_2,...,x_n)$$\n",
        "$$~~~~~~~~~~~~~~~~~~~~~~~~~~~~~~~~~~~~~~~~=\\frac{1}{n}[log(x_1)+log(x_2)+...+log(x_n)]$$\n",
        "$$=\\frac{1}{n}\\sum_{i=1}^nlog(x_i)$$\n",
        "$$\\therefore GM=Antilog\\left[\\frac{\\displaystyle\\sum log(x_i)}{n}\\right]$$\n",
        "\n",
        "This is an alternative formula of geometric mean (It represents the same thing).\n",
        "\n",
        "**Note:** For any grouped data, $GM$ can be calculated using:\n",
        "$$GM=Antilog\\left[\\frac{\\sum f_ilog(x_i)}{N}\\right]$$\n",
        "Where \n",
        "$$N=\\sum_{i=1}^nf_i$$"
      ],
      "metadata": {
        "id": "sL83BsTHVGRu"
      }
    },
    {
      "cell_type": "markdown",
      "source": [
        "#### **Try yourself:**"
      ],
      "metadata": {
        "id": "rXDSkxeBE0fM"
      }
    },
    {
      "cell_type": "markdown",
      "source": [
        "**1).** Find the geometric mean of the following data.\n",
        "$$Weight(Kg): 45,60,48,100,65$$"
      ],
      "metadata": {
        "id": "B6NYnp9bDckK"
      }
    },
    {
      "cell_type": "markdown",
      "source": [
        "**2).** Find the geometric mean of the following grouped data for the frequency distribution of weights.\n",
        "\n",
        "\\begin{array}{|c|c|} \\hline\n",
        "\\textbf{Class interval} & 60-80 & 80-100 & 100-120 & 120-140 & 140-160 \\\\ \\hline\n",
        "\\textbf{Frequency} & 22 & 38 & 45 & 35 & 20  \\\\ \\hline\n",
        "\\end{array}"
      ],
      "metadata": {
        "id": "hgC4HamcEyQu"
      }
    },
    {
      "cell_type": "markdown",
      "source": [
        "#### **1.4.2.1 Geometric Mean Function in Python**\n",
        "\n",
        "Geometric Mean Function in python `pandas` is used to calculate the geometric mean of a given set of numbers, Geometric mean of a data frame, Geometric mean of column and Geometric mean of rows. let’s see an example of each we need to use the package name “stats” from `scipy` in calculation of geometric mean. "
      ],
      "metadata": {
        "id": "uWvsJz2vGNxA"
      }
    },
    {
      "cell_type": "markdown",
      "source": [
        "**Simple geometric mean function is shown below:**"
      ],
      "metadata": {
        "id": "5EXdcFfpGaA7"
      }
    },
    {
      "cell_type": "code",
      "source": [
        "# Calculate geometric mean\n",
        "from scipy import stats\n",
        " \n",
        "print(stats.gmean([4,11,15,16,5,7]))"
      ],
      "metadata": {
        "colab": {
          "base_uri": "https://localhost:8080/"
        },
        "id": "qBGr9Hv1TfKD",
        "outputId": "825d486d-9e92-403f-e5e8-c4ec9e4fa0ea"
      },
      "execution_count": null,
      "outputs": [
        {
          "output_type": "stream",
          "name": "stdout",
          "text": [
            "8.471402701221082\n"
          ]
        }
      ]
    },
    {
      "cell_type": "markdown",
      "source": [
        "**Geometric Mean of a dataframe:**\n",
        "\n",
        "Create dataframe"
      ],
      "metadata": {
        "id": "6KnNt7oFHaso"
      }
    },
    {
      "cell_type": "code",
      "source": [
        "import pandas as pd\n",
        "import numpy as np\n",
        "from scipy import stats\n",
        " \n",
        "#Create a DataFrame\n",
        "d = {'Name':['Dorji','Sonam','Chador','Shyam','Zangmo','Om','Sushmita'],\n",
        "   'Stats_Score':[62,47,55,74,31,77,85],\n",
        "   'Algebra_Score':[89,87,67,55,47,72,76]}\n",
        " \n",
        "df = pd.DataFrame(d)\n",
        "df"
      ],
      "metadata": {
        "colab": {
          "base_uri": "https://localhost:8080/",
          "height": 269
        },
        "id": "bHQIcYqZHkes",
        "outputId": "1ec5c888-96e2-4365-c135-d0aef11f3223"
      },
      "execution_count": null,
      "outputs": [
        {
          "output_type": "execute_result",
          "data": {
            "text/plain": [
              "       Name  Stats_Score  Algebra_Score\n",
              "0     Dorji           62             89\n",
              "1     Sonam           47             87\n",
              "2    Chador           55             67\n",
              "3     Shyam           74             55\n",
              "4    Zangmo           31             47\n",
              "5        Om           77             72\n",
              "6  Sushmita           85             76"
            ],
            "text/html": [
              "\n",
              "  <div id=\"df-5ad2f48d-896e-4298-9bb4-331ea57e893f\">\n",
              "    <div class=\"colab-df-container\">\n",
              "      <div>\n",
              "<style scoped>\n",
              "    .dataframe tbody tr th:only-of-type {\n",
              "        vertical-align: middle;\n",
              "    }\n",
              "\n",
              "    .dataframe tbody tr th {\n",
              "        vertical-align: top;\n",
              "    }\n",
              "\n",
              "    .dataframe thead th {\n",
              "        text-align: right;\n",
              "    }\n",
              "</style>\n",
              "<table border=\"1\" class=\"dataframe\">\n",
              "  <thead>\n",
              "    <tr style=\"text-align: right;\">\n",
              "      <th></th>\n",
              "      <th>Name</th>\n",
              "      <th>Stats_Score</th>\n",
              "      <th>Algebra_Score</th>\n",
              "    </tr>\n",
              "  </thead>\n",
              "  <tbody>\n",
              "    <tr>\n",
              "      <th>0</th>\n",
              "      <td>Dorji</td>\n",
              "      <td>62</td>\n",
              "      <td>89</td>\n",
              "    </tr>\n",
              "    <tr>\n",
              "      <th>1</th>\n",
              "      <td>Sonam</td>\n",
              "      <td>47</td>\n",
              "      <td>87</td>\n",
              "    </tr>\n",
              "    <tr>\n",
              "      <th>2</th>\n",
              "      <td>Chador</td>\n",
              "      <td>55</td>\n",
              "      <td>67</td>\n",
              "    </tr>\n",
              "    <tr>\n",
              "      <th>3</th>\n",
              "      <td>Shyam</td>\n",
              "      <td>74</td>\n",
              "      <td>55</td>\n",
              "    </tr>\n",
              "    <tr>\n",
              "      <th>4</th>\n",
              "      <td>Zangmo</td>\n",
              "      <td>31</td>\n",
              "      <td>47</td>\n",
              "    </tr>\n",
              "    <tr>\n",
              "      <th>5</th>\n",
              "      <td>Om</td>\n",
              "      <td>77</td>\n",
              "      <td>72</td>\n",
              "    </tr>\n",
              "    <tr>\n",
              "      <th>6</th>\n",
              "      <td>Sushmita</td>\n",
              "      <td>85</td>\n",
              "      <td>76</td>\n",
              "    </tr>\n",
              "  </tbody>\n",
              "</table>\n",
              "</div>\n",
              "      <button class=\"colab-df-convert\" onclick=\"convertToInteractive('df-5ad2f48d-896e-4298-9bb4-331ea57e893f')\"\n",
              "              title=\"Convert this dataframe to an interactive table.\"\n",
              "              style=\"display:none;\">\n",
              "        \n",
              "  <svg xmlns=\"http://www.w3.org/2000/svg\" height=\"24px\"viewBox=\"0 0 24 24\"\n",
              "       width=\"24px\">\n",
              "    <path d=\"M0 0h24v24H0V0z\" fill=\"none\"/>\n",
              "    <path d=\"M18.56 5.44l.94 2.06.94-2.06 2.06-.94-2.06-.94-.94-2.06-.94 2.06-2.06.94zm-11 1L8.5 8.5l.94-2.06 2.06-.94-2.06-.94L8.5 2.5l-.94 2.06-2.06.94zm10 10l.94 2.06.94-2.06 2.06-.94-2.06-.94-.94-2.06-.94 2.06-2.06.94z\"/><path d=\"M17.41 7.96l-1.37-1.37c-.4-.4-.92-.59-1.43-.59-.52 0-1.04.2-1.43.59L10.3 9.45l-7.72 7.72c-.78.78-.78 2.05 0 2.83L4 21.41c.39.39.9.59 1.41.59.51 0 1.02-.2 1.41-.59l7.78-7.78 2.81-2.81c.8-.78.8-2.07 0-2.86zM5.41 20L4 18.59l7.72-7.72 1.47 1.35L5.41 20z\"/>\n",
              "  </svg>\n",
              "      </button>\n",
              "      \n",
              "  <style>\n",
              "    .colab-df-container {\n",
              "      display:flex;\n",
              "      flex-wrap:wrap;\n",
              "      gap: 12px;\n",
              "    }\n",
              "\n",
              "    .colab-df-convert {\n",
              "      background-color: #E8F0FE;\n",
              "      border: none;\n",
              "      border-radius: 50%;\n",
              "      cursor: pointer;\n",
              "      display: none;\n",
              "      fill: #1967D2;\n",
              "      height: 32px;\n",
              "      padding: 0 0 0 0;\n",
              "      width: 32px;\n",
              "    }\n",
              "\n",
              "    .colab-df-convert:hover {\n",
              "      background-color: #E2EBFA;\n",
              "      box-shadow: 0px 1px 2px rgba(60, 64, 67, 0.3), 0px 1px 3px 1px rgba(60, 64, 67, 0.15);\n",
              "      fill: #174EA6;\n",
              "    }\n",
              "\n",
              "    [theme=dark] .colab-df-convert {\n",
              "      background-color: #3B4455;\n",
              "      fill: #D2E3FC;\n",
              "    }\n",
              "\n",
              "    [theme=dark] .colab-df-convert:hover {\n",
              "      background-color: #434B5C;\n",
              "      box-shadow: 0px 1px 3px 1px rgba(0, 0, 0, 0.15);\n",
              "      filter: drop-shadow(0px 1px 2px rgba(0, 0, 0, 0.3));\n",
              "      fill: #FFFFFF;\n",
              "    }\n",
              "  </style>\n",
              "\n",
              "      <script>\n",
              "        const buttonEl =\n",
              "          document.querySelector('#df-5ad2f48d-896e-4298-9bb4-331ea57e893f button.colab-df-convert');\n",
              "        buttonEl.style.display =\n",
              "          google.colab.kernel.accessAllowed ? 'block' : 'none';\n",
              "\n",
              "        async function convertToInteractive(key) {\n",
              "          const element = document.querySelector('#df-5ad2f48d-896e-4298-9bb4-331ea57e893f');\n",
              "          const dataTable =\n",
              "            await google.colab.kernel.invokeFunction('convertToInteractive',\n",
              "                                                     [key], {});\n",
              "          if (!dataTable) return;\n",
              "\n",
              "          const docLinkHtml = 'Like what you see? Visit the ' +\n",
              "            '<a target=\"_blank\" href=https://colab.research.google.com/notebooks/data_table.ipynb>data table notebook</a>'\n",
              "            + ' to learn more about interactive tables.';\n",
              "          element.innerHTML = '';\n",
              "          dataTable['output_type'] = 'display_data';\n",
              "          await google.colab.output.renderOutput(dataTable, element);\n",
              "          const docLink = document.createElement('div');\n",
              "          docLink.innerHTML = docLinkHtml;\n",
              "          element.appendChild(docLink);\n",
              "        }\n",
              "      </script>\n",
              "    </div>\n",
              "  </div>\n",
              "  "
            ]
          },
          "metadata": {},
          "execution_count": 5
        }
      ]
    },
    {
      "cell_type": "markdown",
      "source": [
        "**Geometric Mean of the column in dataframe:**"
      ],
      "metadata": {
        "id": "yY3Edkw8JrPq"
      }
    },
    {
      "cell_type": "code",
      "source": [
        "# Geometric Mean of the column in dataframe\n",
        "from scipy import stats\n",
        "\n",
        "stats.gmean(df.iloc[:,1:3],axis=0)"
      ],
      "metadata": {
        "colab": {
          "base_uri": "https://localhost:8080/"
        },
        "id": "hwg-GZBoJJAt",
        "outputId": "2be4bbad-f911-4de2-deb2-c70985092751"
      },
      "execution_count": null,
      "outputs": [
        {
          "output_type": "execute_result",
          "data": {
            "text/plain": [
              "array([58.71716018, 68.85595852])"
            ]
          },
          "metadata": {},
          "execution_count": 6
        }
      ]
    },
    {
      "cell_type": "markdown",
      "source": [
        "**Row wise geometric Mean of the dataframe:**"
      ],
      "metadata": {
        "id": "tXEyQ6L4KSz2"
      }
    },
    {
      "cell_type": "code",
      "source": [
        "# Row wise geometric mean of the dataframe\n",
        "from scipy import stats\n",
        " \n",
        "stats.gmean(df.iloc[:,1:3],axis=1)"
      ],
      "metadata": {
        "colab": {
          "base_uri": "https://localhost:8080/"
        },
        "id": "8PNQM0vjKAvA",
        "outputId": "a493563c-4e11-4432-9651-9527d3c7fbe4"
      },
      "execution_count": null,
      "outputs": [
        {
          "output_type": "execute_result",
          "data": {
            "text/plain": [
              "array([74.28324172, 63.94528911, 60.70420084, 63.79655163, 38.17066937,\n",
              "       74.45804188, 80.37412519])"
            ]
          },
          "metadata": {},
          "execution_count": 7
        }
      ]
    },
    {
      "cell_type": "markdown",
      "source": [
        "**Calculate the geometric mean of the specific Column**"
      ],
      "metadata": {
        "id": "UE1iN_UILjG5"
      }
    },
    {
      "cell_type": "code",
      "source": [
        "# Geometric mean of the specific column\n",
        "stats.gmean(df.loc[:,\"Stats_Score\"])"
      ],
      "metadata": {
        "colab": {
          "base_uri": "https://localhost:8080/"
        },
        "id": "W3hkR_uRLi3A",
        "outputId": "216c21ae-0694-47bd-bd93-0c31849fc9e5"
      },
      "execution_count": null,
      "outputs": [
        {
          "output_type": "execute_result",
          "data": {
            "text/plain": [
              "58.71716018389239"
            ]
          },
          "metadata": {},
          "execution_count": 10
        }
      ]
    },
    {
      "cell_type": "markdown",
      "source": [
        "#### **1.4.3 Harmonic Mean**\n",
        "\n",
        "We divide the number of terms in a data series by the sum of all the reciprocal terms to find **harmonic mean**. It will always be the lowest as compared to the geometric and arithmetic mean."
      ],
      "metadata": {
        "id": "W20F5tUdOZfH"
      }
    },
    {
      "cell_type": "markdown",
      "source": [
        "If we have a set of observations given by $x_1, x_2, x_3....x_n$. The reciprocal terms of this data set will be $1/x_1, 1/x_2, 1/x_3....1/x_n$. Thus, the harmonic mean formula is given by\n",
        "$$HM=\\frac{n}{\\displaystyle\\sum_{i=1}^n\\frac{1}{x_i}}$$"
      ],
      "metadata": {
        "id": "zL21J02iHo4z"
      }
    },
    {
      "cell_type": "markdown",
      "source": [
        "**Weighted harmonic mean** is used when we want to find the average of a set of observations such that equal weight is given to each data point. Let $x_1, x_2, x_3....x_n$ be the set of observations and $w_1, w_2, w_3....w_n$ be the corresponding weights. Then the formula for weighted harmonic mean is given as follows:\n",
        "\n",
        "$$HM_w=\\frac{\\displaystyle\\sum_{i=1}^nw_i}{\\displaystyle\\sum_{i=1}^n\\frac{w_i}{x_i}}$$\n",
        "\n",
        "Suppose we have a **frequency distribution** with $n$ items $x_1, x_2, x_3....x_n$ having corresponding frequencies $f_1, f_2, f_3....f_n$ then the weighted harmonic mean is give as:\n",
        "$$HM_f=\\frac{\\displaystyle\\sum_{i=1}^nf_i}{\\displaystyle\\sum_{i=1}^n\\frac{f_i}{x_i}}$$"
      ],
      "metadata": {
        "id": "crNEP9KyIhL5"
      }
    },
    {
      "cell_type": "markdown",
      "source": [
        "#### **Try yourself:**"
      ],
      "metadata": {
        "id": "TDRJyeAdK_6N"
      }
    },
    {
      "cell_type": "markdown",
      "source": [
        "**1).** Find the harmonic mean of $\\{2, 4, 5, 11, 14\\}$."
      ],
      "metadata": {
        "id": "Tc1GGz8tK_HE"
      }
    },
    {
      "cell_type": "markdown",
      "source": [
        "**2).** Derive the relationship between arithmetic mean(AM), geometric mean(GM), and harmonic mean(HM)."
      ],
      "metadata": {
        "id": "THly1f4bMFxG"
      }
    },
    {
      "cell_type": "markdown",
      "source": [
        "#### **1.4.3.1 Harmonic Mean Function in Python**\n",
        "\n",
        "Harmonic Mean Function in python `pandas` is used to calculate the harmonic mean of a given set of numbers, Harmonic mean of a data frame, Harmonic mean of column and Harmonic mean of rows. let’s see an example of each we need to use the package name “stats” from `scipy` in calculation of harmonic mean."
      ],
      "metadata": {
        "id": "0U7yTwmYMj13"
      }
    },
    {
      "cell_type": "markdown",
      "source": [
        "**Simple harmonic mean function is shown below:**"
      ],
      "metadata": {
        "id": "VEQnFDpMM7e_"
      }
    },
    {
      "cell_type": "code",
      "source": [
        "# calculate harmonic mean\n",
        "from scipy import stats\n",
        " \n",
        "print(stats.hmean([4,11,15,16,5,7]))"
      ],
      "metadata": {
        "colab": {
          "base_uri": "https://localhost:8080/"
        },
        "id": "OunsrSkdKaND",
        "outputId": "cfa21ea9-1262-4a01-cfa1-1d3121c1a902"
      },
      "execution_count": null,
      "outputs": [
        {
          "output_type": "stream",
          "name": "stdout",
          "text": [
            "7.380682952805698\n"
          ]
        }
      ]
    },
    {
      "cell_type": "markdown",
      "source": [
        "**Harmonic Mean of a dataframe:**"
      ],
      "metadata": {
        "id": "KvWGBm15NSs-"
      }
    },
    {
      "cell_type": "code",
      "source": [
        "import pandas as pd\n",
        "import numpy as np\n",
        "from scipy import stats\n",
        " \n",
        "#Create a DataFrame\n",
        "d = {'Name':['Dorji','Sonam','Chador','Shyam','Zangmo','Om','Sushmita'],\n",
        "   'Stats_Score':[62,47,55,74,31,77,85],\n",
        "   'Algebra_Score':[89,87,67,55,47,72,76]}\n",
        " \n",
        "df = pd.DataFrame(d)\n",
        "df"
      ],
      "metadata": {
        "colab": {
          "base_uri": "https://localhost:8080/",
          "height": 268
        },
        "id": "Fd8scNizNG8H",
        "outputId": "d38cb375-540b-4b3e-9b3f-39f62d9f1ee6"
      },
      "execution_count": null,
      "outputs": [
        {
          "output_type": "execute_result",
          "data": {
            "text/plain": [
              "       Name  Stats_Score  Algebra_Score\n",
              "0     Dorji           62             89\n",
              "1     Sonam           47             87\n",
              "2    Chador           55             67\n",
              "3     Shyam           74             55\n",
              "4    Zangmo           31             47\n",
              "5        Om           77             72\n",
              "6  Sushmita           85             76"
            ],
            "text/html": [
              "\n",
              "  <div id=\"df-c740a7dd-770e-4cb0-ae07-b274b132505a\">\n",
              "    <div class=\"colab-df-container\">\n",
              "      <div>\n",
              "<style scoped>\n",
              "    .dataframe tbody tr th:only-of-type {\n",
              "        vertical-align: middle;\n",
              "    }\n",
              "\n",
              "    .dataframe tbody tr th {\n",
              "        vertical-align: top;\n",
              "    }\n",
              "\n",
              "    .dataframe thead th {\n",
              "        text-align: right;\n",
              "    }\n",
              "</style>\n",
              "<table border=\"1\" class=\"dataframe\">\n",
              "  <thead>\n",
              "    <tr style=\"text-align: right;\">\n",
              "      <th></th>\n",
              "      <th>Name</th>\n",
              "      <th>Stats_Score</th>\n",
              "      <th>Algebra_Score</th>\n",
              "    </tr>\n",
              "  </thead>\n",
              "  <tbody>\n",
              "    <tr>\n",
              "      <th>0</th>\n",
              "      <td>Dorji</td>\n",
              "      <td>62</td>\n",
              "      <td>89</td>\n",
              "    </tr>\n",
              "    <tr>\n",
              "      <th>1</th>\n",
              "      <td>Sonam</td>\n",
              "      <td>47</td>\n",
              "      <td>87</td>\n",
              "    </tr>\n",
              "    <tr>\n",
              "      <th>2</th>\n",
              "      <td>Chador</td>\n",
              "      <td>55</td>\n",
              "      <td>67</td>\n",
              "    </tr>\n",
              "    <tr>\n",
              "      <th>3</th>\n",
              "      <td>Shyam</td>\n",
              "      <td>74</td>\n",
              "      <td>55</td>\n",
              "    </tr>\n",
              "    <tr>\n",
              "      <th>4</th>\n",
              "      <td>Zangmo</td>\n",
              "      <td>31</td>\n",
              "      <td>47</td>\n",
              "    </tr>\n",
              "    <tr>\n",
              "      <th>5</th>\n",
              "      <td>Om</td>\n",
              "      <td>77</td>\n",
              "      <td>72</td>\n",
              "    </tr>\n",
              "    <tr>\n",
              "      <th>6</th>\n",
              "      <td>Sushmita</td>\n",
              "      <td>85</td>\n",
              "      <td>76</td>\n",
              "    </tr>\n",
              "  </tbody>\n",
              "</table>\n",
              "</div>\n",
              "      <button class=\"colab-df-convert\" onclick=\"convertToInteractive('df-c740a7dd-770e-4cb0-ae07-b274b132505a')\"\n",
              "              title=\"Convert this dataframe to an interactive table.\"\n",
              "              style=\"display:none;\">\n",
              "        \n",
              "  <svg xmlns=\"http://www.w3.org/2000/svg\" height=\"24px\"viewBox=\"0 0 24 24\"\n",
              "       width=\"24px\">\n",
              "    <path d=\"M0 0h24v24H0V0z\" fill=\"none\"/>\n",
              "    <path d=\"M18.56 5.44l.94 2.06.94-2.06 2.06-.94-2.06-.94-.94-2.06-.94 2.06-2.06.94zm-11 1L8.5 8.5l.94-2.06 2.06-.94-2.06-.94L8.5 2.5l-.94 2.06-2.06.94zm10 10l.94 2.06.94-2.06 2.06-.94-2.06-.94-.94-2.06-.94 2.06-2.06.94z\"/><path d=\"M17.41 7.96l-1.37-1.37c-.4-.4-.92-.59-1.43-.59-.52 0-1.04.2-1.43.59L10.3 9.45l-7.72 7.72c-.78.78-.78 2.05 0 2.83L4 21.41c.39.39.9.59 1.41.59.51 0 1.02-.2 1.41-.59l7.78-7.78 2.81-2.81c.8-.78.8-2.07 0-2.86zM5.41 20L4 18.59l7.72-7.72 1.47 1.35L5.41 20z\"/>\n",
              "  </svg>\n",
              "      </button>\n",
              "      \n",
              "  <style>\n",
              "    .colab-df-container {\n",
              "      display:flex;\n",
              "      flex-wrap:wrap;\n",
              "      gap: 12px;\n",
              "    }\n",
              "\n",
              "    .colab-df-convert {\n",
              "      background-color: #E8F0FE;\n",
              "      border: none;\n",
              "      border-radius: 50%;\n",
              "      cursor: pointer;\n",
              "      display: none;\n",
              "      fill: #1967D2;\n",
              "      height: 32px;\n",
              "      padding: 0 0 0 0;\n",
              "      width: 32px;\n",
              "    }\n",
              "\n",
              "    .colab-df-convert:hover {\n",
              "      background-color: #E2EBFA;\n",
              "      box-shadow: 0px 1px 2px rgba(60, 64, 67, 0.3), 0px 1px 3px 1px rgba(60, 64, 67, 0.15);\n",
              "      fill: #174EA6;\n",
              "    }\n",
              "\n",
              "    [theme=dark] .colab-df-convert {\n",
              "      background-color: #3B4455;\n",
              "      fill: #D2E3FC;\n",
              "    }\n",
              "\n",
              "    [theme=dark] .colab-df-convert:hover {\n",
              "      background-color: #434B5C;\n",
              "      box-shadow: 0px 1px 3px 1px rgba(0, 0, 0, 0.15);\n",
              "      filter: drop-shadow(0px 1px 2px rgba(0, 0, 0, 0.3));\n",
              "      fill: #FFFFFF;\n",
              "    }\n",
              "  </style>\n",
              "\n",
              "      <script>\n",
              "        const buttonEl =\n",
              "          document.querySelector('#df-c740a7dd-770e-4cb0-ae07-b274b132505a button.colab-df-convert');\n",
              "        buttonEl.style.display =\n",
              "          google.colab.kernel.accessAllowed ? 'block' : 'none';\n",
              "\n",
              "        async function convertToInteractive(key) {\n",
              "          const element = document.querySelector('#df-c740a7dd-770e-4cb0-ae07-b274b132505a');\n",
              "          const dataTable =\n",
              "            await google.colab.kernel.invokeFunction('convertToInteractive',\n",
              "                                                     [key], {});\n",
              "          if (!dataTable) return;\n",
              "\n",
              "          const docLinkHtml = 'Like what you see? Visit the ' +\n",
              "            '<a target=\"_blank\" href=https://colab.research.google.com/notebooks/data_table.ipynb>data table notebook</a>'\n",
              "            + ' to learn more about interactive tables.';\n",
              "          element.innerHTML = '';\n",
              "          dataTable['output_type'] = 'display_data';\n",
              "          await google.colab.output.renderOutput(dataTable, element);\n",
              "          const docLink = document.createElement('div');\n",
              "          docLink.innerHTML = docLinkHtml;\n",
              "          element.appendChild(docLink);\n",
              "        }\n",
              "      </script>\n",
              "    </div>\n",
              "  </div>\n",
              "  "
            ]
          },
          "metadata": {},
          "execution_count": 2
        }
      ]
    },
    {
      "cell_type": "markdown",
      "source": [
        "**Harmonic Mean of the column in dataframe:**"
      ],
      "metadata": {
        "id": "6Holci9yNbXz"
      }
    },
    {
      "cell_type": "code",
      "source": [
        "# Harmonic Mean of the  column in dataframe\n",
        "from scipy import stats\n",
        " \n",
        "stats.hmean(df.iloc[:,1:3],axis=0)"
      ],
      "metadata": {
        "colab": {
          "base_uri": "https://localhost:8080/"
        },
        "id": "y7FWgAQmNhJ9",
        "outputId": "da89c8c8-6af2-4325-9ff8-bfc470eb7361"
      },
      "execution_count": null,
      "outputs": [
        {
          "output_type": "execute_result",
          "data": {
            "text/plain": [
              "array([55.50676991, 67.20379871])"
            ]
          },
          "metadata": {},
          "execution_count": 3
        }
      ]
    },
    {
      "cell_type": "markdown",
      "source": [
        "**Row wise harmonic Mean of the dataframe:**"
      ],
      "metadata": {
        "id": "R4zc2JaSNvs9"
      }
    },
    {
      "cell_type": "code",
      "source": [
        "# Row wise harmonic mean of the dataframe\n",
        "from scipy import stats\n",
        " \n",
        "stats.hmean(df.iloc[:,1:3],axis=1)"
      ],
      "metadata": {
        "colab": {
          "base_uri": "https://localhost:8080/"
        },
        "id": "y6-r8IVYNnMp",
        "outputId": "5a4b55c9-1b32-420d-caf6-82fa709ac7f4"
      },
      "execution_count": null,
      "outputs": [
        {
          "output_type": "execute_result",
          "data": {
            "text/plain": [
              "array([73.08609272, 61.02985075, 60.40983607, 63.10077519, 37.35897436,\n",
              "       74.41610738, 80.2484472 ])"
            ]
          },
          "metadata": {},
          "execution_count": 4
        }
      ]
    },
    {
      "cell_type": "markdown",
      "source": [
        "**Calculate the harmonic mean of the specific Column**"
      ],
      "metadata": {
        "id": "0sNudM4WN3hQ"
      }
    },
    {
      "cell_type": "code",
      "source": [
        "# harmonic mean of the specific column\n",
        "from scipy import stats\n",
        " \n",
        "stats.hmean(df.loc[:,\"Stats_Score\"])"
      ],
      "metadata": {
        "colab": {
          "base_uri": "https://localhost:8080/"
        },
        "id": "SoQG7fiON175",
        "outputId": "a6720070-b713-4b78-f3d8-c960662181d3"
      },
      "execution_count": null,
      "outputs": [
        {
          "output_type": "execute_result",
          "data": {
            "text/plain": [
              "55.50676991381446"
            ]
          },
          "metadata": {},
          "execution_count": 5
        }
      ]
    },
    {
      "cell_type": "markdown",
      "source": [
        "#### **Try yourself:**"
      ],
      "metadata": {
        "id": "d1uqfbvtgeVv"
      }
    },
    {
      "cell_type": "markdown",
      "source": [
        "**Q).** Find the arithmetic mean, geometric mean, and harmonic mean for all possible columns of the inbuilt seaborn datasets \"iris\" and the \"tips\"."
      ],
      "metadata": {
        "id": "Gs6geWyHLtSg"
      }
    },
    {
      "cell_type": "markdown",
      "source": [
        "### **1.4.4 Median**\n",
        "\n",
        "The value of the middle-most observation obtained after arranging the data in ascending order is called the **median** of the data. \n",
        "\n"
      ],
      "metadata": {
        "id": "7xuKf1rLiwRw"
      }
    },
    {
      "cell_type": "markdown",
      "source": [
        "The median formula varies based on the number of observations and whether they are odd or even. The following set of formulas would help in finding the median of the given data."
      ],
      "metadata": {
        "id": "5jxvQSlc8sSa"
      }
    },
    {
      "cell_type": "markdown",
      "source": [
        "#### **1.4.4.1 Median Formula for Ungrouped Data**\n",
        "\n",
        "Let's assume that there are $n$ observations. \n",
        "\n",
        "**Median Formula When n is Odd:**\n",
        "\n",
        "The median formula of a given set of numbers, say having $n$ odd number of observations, can be expressed as:\n",
        "$$\\text{Median}=\\left[\\frac{n+1}{2}\\right]^{th}~\\text{term}$$\n",
        "\n",
        "**Median Formula When n is Even:**\n",
        "\n",
        "The median formula of a given set of numbers say having $n$ even number of observations, can be expressed as:\n",
        "$$\\text{Median}=\\frac{(\\frac{n}{2})^{th}~\\text{term} + (\\frac{n}{2}+1)^{th}~\\text{term}}{2}$$"
      ],
      "metadata": {
        "id": "9MIl6Rsk89PK"
      }
    },
    {
      "cell_type": "markdown",
      "source": [
        "#### **1.4.4.2 Median Formula for Grouped Data**\n",
        "\n",
        "When the data is continuous and in the form of a frequency distribution, the median is calculated using the formula given below;\n",
        "$$\\text{Median}=l+\\frac{h}{f}\\left[\\frac{N}{2}-c\\right]$$\n",
        "Where\n",
        "\n",
        "$l$ is the lower limit of the median class\n",
        "\n",
        "$N$ is the summation of frequencies.\n",
        "\n",
        "$h$ is the class size\n",
        "\n",
        "$c$ is the cumulative frequency of the preceding median class.\n",
        "\n",
        "$f$ is the frequency of the median class\n",
        "\n",
        "Median class is the class where $\\frac{n}{2}$ lies."
      ],
      "metadata": {
        "id": "jY92YQk6_z3A"
      }
    },
    {
      "cell_type": "markdown",
      "source": [
        "#### **Try yourself:**"
      ],
      "metadata": {
        "id": "9VU7ux-1DDTe"
      }
    },
    {
      "cell_type": "markdown",
      "source": [
        "**1).** Find the median of the data set $\\{3, 15, 2, 34, 11, 25\\}$."
      ],
      "metadata": {
        "id": "LzQkRnQXDt5Y"
      }
    },
    {
      "cell_type": "markdown",
      "source": [
        "**2).** Calculate the median for the following data:\n",
        "\n",
        "\\begin{array}{|c|c|} \\hline\n",
        "\\textbf{Marks} & 0-20 & 20-40 & 40-60 & 60-80 & 80-100 \\\\ \\hline\n",
        "\\textbf{No. of Stds} & 5 & 20 & 35 & 7 & 3  \\\\ \\hline\n",
        "\\end{array}"
      ],
      "metadata": {
        "id": "_S83MAffDHMa"
      }
    },
    {
      "cell_type": "markdown",
      "source": [
        "#### **1.4.4.3 Median Function in Python**\n",
        "\n",
        "`median()` – Median Function in python `pandas` is used to calculate the median or middle value of a given set of numbers, Median of a data frame, median of column and median of rows, let’s see an example of each."
      ],
      "metadata": {
        "id": "nbVFBaBfEJgc"
      }
    },
    {
      "cell_type": "markdown",
      "source": [
        "**Simple median function is shown below:**"
      ],
      "metadata": {
        "id": "rsk5F7v2FHND"
      }
    },
    {
      "cell_type": "code",
      "source": [
        "# calculate median or middle value\n",
        "import statistics as stats\n",
        " \n",
        "stats.median([4,-11,-5,16,5,7,9])"
      ],
      "metadata": {
        "colab": {
          "base_uri": "https://localhost:8080/"
        },
        "id": "jwBrw2v0EIVE",
        "outputId": "7f8fd408-943e-48e2-ee3e-05c96812c922"
      },
      "execution_count": null,
      "outputs": [
        {
          "output_type": "execute_result",
          "data": {
            "text/plain": [
              "5"
            ]
          },
          "metadata": {},
          "execution_count": 1
        }
      ]
    },
    {
      "cell_type": "markdown",
      "source": [
        "**Median of a dataframe:**\n",
        "\n",
        "Create dataframe"
      ],
      "metadata": {
        "id": "xeM9hI7QFp2_"
      }
    },
    {
      "cell_type": "code",
      "source": [
        "import pandas as pd\n",
        "import numpy as np\n",
        "from scipy import stats\n",
        " \n",
        "#Create a DataFrame\n",
        "d = {'Name':['Dorji','Sonam','Chador','Shyam','Zangmo','Om','Sushmita','Karma'],\n",
        "   'Stats_Score':[62,47,55,74,31,77,85,67],\n",
        "   'Algebra_Score':[89,87,67,55,47,72,76,45],\n",
        "   'ML_Score':[45,65,62,80,57,75,79,51]}\n",
        " \n",
        "df = pd.DataFrame(d)\n",
        "df"
      ],
      "metadata": {
        "colab": {
          "base_uri": "https://localhost:8080/",
          "height": 300
        },
        "id": "vwSYq5odgIEw",
        "outputId": "022a7784-1b74-4b15-877a-9396f3867ff8"
      },
      "execution_count": null,
      "outputs": [
        {
          "output_type": "execute_result",
          "data": {
            "text/plain": [
              "       Name  Stats_Score  Algebra_Score  ML_Score\n",
              "0     Dorji           62             89        45\n",
              "1     Sonam           47             87        65\n",
              "2    Chador           55             67        62\n",
              "3     Shyam           74             55        80\n",
              "4    Zangmo           31             47        57\n",
              "5        Om           77             72        75\n",
              "6  Sushmita           85             76        79\n",
              "7     Karma           67             45        51"
            ],
            "text/html": [
              "\n",
              "  <div id=\"df-3c80a710-163f-478f-9ea7-51a7069b0467\">\n",
              "    <div class=\"colab-df-container\">\n",
              "      <div>\n",
              "<style scoped>\n",
              "    .dataframe tbody tr th:only-of-type {\n",
              "        vertical-align: middle;\n",
              "    }\n",
              "\n",
              "    .dataframe tbody tr th {\n",
              "        vertical-align: top;\n",
              "    }\n",
              "\n",
              "    .dataframe thead th {\n",
              "        text-align: right;\n",
              "    }\n",
              "</style>\n",
              "<table border=\"1\" class=\"dataframe\">\n",
              "  <thead>\n",
              "    <tr style=\"text-align: right;\">\n",
              "      <th></th>\n",
              "      <th>Name</th>\n",
              "      <th>Stats_Score</th>\n",
              "      <th>Algebra_Score</th>\n",
              "      <th>ML_Score</th>\n",
              "    </tr>\n",
              "  </thead>\n",
              "  <tbody>\n",
              "    <tr>\n",
              "      <th>0</th>\n",
              "      <td>Dorji</td>\n",
              "      <td>62</td>\n",
              "      <td>89</td>\n",
              "      <td>45</td>\n",
              "    </tr>\n",
              "    <tr>\n",
              "      <th>1</th>\n",
              "      <td>Sonam</td>\n",
              "      <td>47</td>\n",
              "      <td>87</td>\n",
              "      <td>65</td>\n",
              "    </tr>\n",
              "    <tr>\n",
              "      <th>2</th>\n",
              "      <td>Chador</td>\n",
              "      <td>55</td>\n",
              "      <td>67</td>\n",
              "      <td>62</td>\n",
              "    </tr>\n",
              "    <tr>\n",
              "      <th>3</th>\n",
              "      <td>Shyam</td>\n",
              "      <td>74</td>\n",
              "      <td>55</td>\n",
              "      <td>80</td>\n",
              "    </tr>\n",
              "    <tr>\n",
              "      <th>4</th>\n",
              "      <td>Zangmo</td>\n",
              "      <td>31</td>\n",
              "      <td>47</td>\n",
              "      <td>57</td>\n",
              "    </tr>\n",
              "    <tr>\n",
              "      <th>5</th>\n",
              "      <td>Om</td>\n",
              "      <td>77</td>\n",
              "      <td>72</td>\n",
              "      <td>75</td>\n",
              "    </tr>\n",
              "    <tr>\n",
              "      <th>6</th>\n",
              "      <td>Sushmita</td>\n",
              "      <td>85</td>\n",
              "      <td>76</td>\n",
              "      <td>79</td>\n",
              "    </tr>\n",
              "    <tr>\n",
              "      <th>7</th>\n",
              "      <td>Karma</td>\n",
              "      <td>67</td>\n",
              "      <td>45</td>\n",
              "      <td>51</td>\n",
              "    </tr>\n",
              "  </tbody>\n",
              "</table>\n",
              "</div>\n",
              "      <button class=\"colab-df-convert\" onclick=\"convertToInteractive('df-3c80a710-163f-478f-9ea7-51a7069b0467')\"\n",
              "              title=\"Convert this dataframe to an interactive table.\"\n",
              "              style=\"display:none;\">\n",
              "        \n",
              "  <svg xmlns=\"http://www.w3.org/2000/svg\" height=\"24px\"viewBox=\"0 0 24 24\"\n",
              "       width=\"24px\">\n",
              "    <path d=\"M0 0h24v24H0V0z\" fill=\"none\"/>\n",
              "    <path d=\"M18.56 5.44l.94 2.06.94-2.06 2.06-.94-2.06-.94-.94-2.06-.94 2.06-2.06.94zm-11 1L8.5 8.5l.94-2.06 2.06-.94-2.06-.94L8.5 2.5l-.94 2.06-2.06.94zm10 10l.94 2.06.94-2.06 2.06-.94-2.06-.94-.94-2.06-.94 2.06-2.06.94z\"/><path d=\"M17.41 7.96l-1.37-1.37c-.4-.4-.92-.59-1.43-.59-.52 0-1.04.2-1.43.59L10.3 9.45l-7.72 7.72c-.78.78-.78 2.05 0 2.83L4 21.41c.39.39.9.59 1.41.59.51 0 1.02-.2 1.41-.59l7.78-7.78 2.81-2.81c.8-.78.8-2.07 0-2.86zM5.41 20L4 18.59l7.72-7.72 1.47 1.35L5.41 20z\"/>\n",
              "  </svg>\n",
              "      </button>\n",
              "      \n",
              "  <style>\n",
              "    .colab-df-container {\n",
              "      display:flex;\n",
              "      flex-wrap:wrap;\n",
              "      gap: 12px;\n",
              "    }\n",
              "\n",
              "    .colab-df-convert {\n",
              "      background-color: #E8F0FE;\n",
              "      border: none;\n",
              "      border-radius: 50%;\n",
              "      cursor: pointer;\n",
              "      display: none;\n",
              "      fill: #1967D2;\n",
              "      height: 32px;\n",
              "      padding: 0 0 0 0;\n",
              "      width: 32px;\n",
              "    }\n",
              "\n",
              "    .colab-df-convert:hover {\n",
              "      background-color: #E2EBFA;\n",
              "      box-shadow: 0px 1px 2px rgba(60, 64, 67, 0.3), 0px 1px 3px 1px rgba(60, 64, 67, 0.15);\n",
              "      fill: #174EA6;\n",
              "    }\n",
              "\n",
              "    [theme=dark] .colab-df-convert {\n",
              "      background-color: #3B4455;\n",
              "      fill: #D2E3FC;\n",
              "    }\n",
              "\n",
              "    [theme=dark] .colab-df-convert:hover {\n",
              "      background-color: #434B5C;\n",
              "      box-shadow: 0px 1px 3px 1px rgba(0, 0, 0, 0.15);\n",
              "      filter: drop-shadow(0px 1px 2px rgba(0, 0, 0, 0.3));\n",
              "      fill: #FFFFFF;\n",
              "    }\n",
              "  </style>\n",
              "\n",
              "      <script>\n",
              "        const buttonEl =\n",
              "          document.querySelector('#df-3c80a710-163f-478f-9ea7-51a7069b0467 button.colab-df-convert');\n",
              "        buttonEl.style.display =\n",
              "          google.colab.kernel.accessAllowed ? 'block' : 'none';\n",
              "\n",
              "        async function convertToInteractive(key) {\n",
              "          const element = document.querySelector('#df-3c80a710-163f-478f-9ea7-51a7069b0467');\n",
              "          const dataTable =\n",
              "            await google.colab.kernel.invokeFunction('convertToInteractive',\n",
              "                                                     [key], {});\n",
              "          if (!dataTable) return;\n",
              "\n",
              "          const docLinkHtml = 'Like what you see? Visit the ' +\n",
              "            '<a target=\"_blank\" href=https://colab.research.google.com/notebooks/data_table.ipynb>data table notebook</a>'\n",
              "            + ' to learn more about interactive tables.';\n",
              "          element.innerHTML = '';\n",
              "          dataTable['output_type'] = 'display_data';\n",
              "          await google.colab.output.renderOutput(dataTable, element);\n",
              "          const docLink = document.createElement('div');\n",
              "          docLink.innerHTML = docLinkHtml;\n",
              "          element.appendChild(docLink);\n",
              "        }\n",
              "      </script>\n",
              "    </div>\n",
              "  </div>\n",
              "  "
            ]
          },
          "metadata": {},
          "execution_count": 4
        }
      ]
    },
    {
      "cell_type": "code",
      "source": [
        "# median of the dataframe\n",
        "df.iloc[:,1:4].median()"
      ],
      "metadata": {
        "colab": {
          "base_uri": "https://localhost:8080/"
        },
        "id": "iBLFjTBXFzDi",
        "outputId": "da03c886-a496-4613-cb9a-f72cd9bf51b0"
      },
      "execution_count": null,
      "outputs": [
        {
          "output_type": "execute_result",
          "data": {
            "text/plain": [
              "Stats_Score      64.5\n",
              "Algebra_Score    69.5\n",
              "ML_Score         63.5\n",
              "dtype: float64"
            ]
          },
          "metadata": {},
          "execution_count": 6
        }
      ]
    },
    {
      "cell_type": "code",
      "source": [
        "# median of the specific column\n",
        "df.loc[:,\"ML_Score\"].median()"
      ],
      "metadata": {
        "colab": {
          "base_uri": "https://localhost:8080/"
        },
        "id": "MacggUBnHLvg",
        "outputId": "3d0f8a27-4616-4489-b20c-d212011141c9"
      },
      "execution_count": null,
      "outputs": [
        {
          "output_type": "execute_result",
          "data": {
            "text/plain": [
              "63.5"
            ]
          },
          "metadata": {},
          "execution_count": 9
        }
      ]
    },
    {
      "cell_type": "markdown",
      "source": [
        "#### **1.4.5 Mode**\n",
        "\n",
        "**Mode** means a value or a number that appears most frequently in a dataset. Sometimes we may need to find the value, which is occurring more frequently in the dataset. In such cases, we find the mode for the set of given data. Depending on the dataset we can find one mode, two mode, and so on.\n",
        "\n",
        "A list of given data with only one mode is called a **unimodal** list.\n",
        "\n",
        "A list of given data with two modes is called a **bimodal** list."
      ],
      "metadata": {
        "id": "dOSfoILRHsKQ"
      }
    },
    {
      "cell_type": "markdown",
      "source": [
        "Formula to find the mode for the grouped and ungrouped data. For **ungrouped** data it's just a matter of picking up the value repeating the most. However, the formula to find the mode of **grouped** data is given below;\n",
        "$$Mode=l+\\frac{h(f_m-f_1)}{(f_m-f_1)+(f_m-f_2)}$$\n",
        "Where\n",
        "\n",
        "$l$ is the lower limit of the modal class\n",
        "\n",
        "$h$ is the size of the class interval\n",
        "\n",
        "$f_m$ is the frequency of the modal class\n",
        "\n",
        "$f_1$ is the frequency of the class preceding the modal class\n",
        "\n",
        "$f_2$ is the frequency of the class succeeding the modal class"
      ],
      "metadata": {
        "id": "efVSlmjsI8OV"
      }
    },
    {
      "cell_type": "markdown",
      "source": [
        "#### **Try yourself:**"
      ],
      "metadata": {
        "id": "WiTeigAYMGPW"
      }
    },
    {
      "cell_type": "markdown",
      "source": [
        "Find the mode of the table given below:\n",
        "\n",
        "\\begin{array}{|c|c|} \\hline\n",
        "\\textbf{Class interval} & 0-5 & 5-10 & 10-15 & 15-20 & 20-25 \\\\ \\hline\n",
        "\\textbf{Frequency} & 5 & 3 & 7 & 2 & 6  \\\\ \\hline\n",
        "\\end{array}"
      ],
      "metadata": {
        "id": "3-Y4vvERMRpi"
      }
    },
    {
      "cell_type": "markdown",
      "source": [
        "#### **1.4.5.1 Mode function in Python**"
      ],
      "metadata": {
        "id": "gug63vkaLNyl"
      }
    },
    {
      "cell_type": "markdown",
      "source": [
        "**Simple mode function in python is shown below:**"
      ],
      "metadata": {
        "id": "YD4ElPv4N6GD"
      }
    },
    {
      "cell_type": "code",
      "source": [
        "# calculate mode or most repeated value\n",
        "import statistics as stats\n",
        " \n",
        "stats.mode(['lion', 'cat', 'cat','dog','tiger'])\n"
      ],
      "metadata": {
        "colab": {
          "base_uri": "https://localhost:8080/",
          "height": 36
        },
        "id": "JrYUJt_XLQKs",
        "outputId": "0b30c252-3d20-4c5d-f189-89df6093e393"
      },
      "execution_count": null,
      "outputs": [
        {
          "output_type": "execute_result",
          "data": {
            "text/plain": [
              "'cat'"
            ],
            "application/vnd.google.colaboratory.intrinsic+json": {
              "type": "string"
            }
          },
          "metadata": {},
          "execution_count": 15
        }
      ]
    },
    {
      "cell_type": "markdown",
      "source": [
        "**Mode of a dataframe:**\n",
        "\n",
        "Create dataframe"
      ],
      "metadata": {
        "id": "A20Jn7VYN8mN"
      }
    },
    {
      "cell_type": "code",
      "source": [
        "import pandas as pd\n",
        "import numpy as np\n",
        "from scipy import stats\n",
        " \n",
        "#Create a DataFrame\n",
        "d = {'Name':['Dorji','Sonam','Chador','Shyam','Zangmo','Om','Sonam','Karma'],\n",
        "   'Stats_Score':[62,47,55,74,47,77,85,67],\n",
        "   'Algebra_Score':[89,87,67,55,47,72,55,45],\n",
        "   'ML_Score':[45,65,62,71,57,75,65,51]}\n",
        " \n",
        "df = pd.DataFrame(d)\n",
        "df"
      ],
      "metadata": {
        "colab": {
          "base_uri": "https://localhost:8080/",
          "height": 300
        },
        "id": "Cl7KbP7HHa_f",
        "outputId": "446a6784-66e5-46b4-e39c-1a3b22269675"
      },
      "execution_count": null,
      "outputs": [
        {
          "output_type": "execute_result",
          "data": {
            "text/plain": [
              "     Name  Stats_Score  Algebra_Score  ML_Score\n",
              "0   Dorji           62             89        45\n",
              "1   Sonam           47             87        65\n",
              "2  Chador           55             67        62\n",
              "3   Shyam           74             55        71\n",
              "4  Zangmo           47             47        57\n",
              "5      Om           77             72        75\n",
              "6   Sonam           85             55        65\n",
              "7   Karma           67             45        51"
            ],
            "text/html": [
              "\n",
              "  <div id=\"df-06967ddf-bd17-4782-8dcf-d1853e64fda3\">\n",
              "    <div class=\"colab-df-container\">\n",
              "      <div>\n",
              "<style scoped>\n",
              "    .dataframe tbody tr th:only-of-type {\n",
              "        vertical-align: middle;\n",
              "    }\n",
              "\n",
              "    .dataframe tbody tr th {\n",
              "        vertical-align: top;\n",
              "    }\n",
              "\n",
              "    .dataframe thead th {\n",
              "        text-align: right;\n",
              "    }\n",
              "</style>\n",
              "<table border=\"1\" class=\"dataframe\">\n",
              "  <thead>\n",
              "    <tr style=\"text-align: right;\">\n",
              "      <th></th>\n",
              "      <th>Name</th>\n",
              "      <th>Stats_Score</th>\n",
              "      <th>Algebra_Score</th>\n",
              "      <th>ML_Score</th>\n",
              "    </tr>\n",
              "  </thead>\n",
              "  <tbody>\n",
              "    <tr>\n",
              "      <th>0</th>\n",
              "      <td>Dorji</td>\n",
              "      <td>62</td>\n",
              "      <td>89</td>\n",
              "      <td>45</td>\n",
              "    </tr>\n",
              "    <tr>\n",
              "      <th>1</th>\n",
              "      <td>Sonam</td>\n",
              "      <td>47</td>\n",
              "      <td>87</td>\n",
              "      <td>65</td>\n",
              "    </tr>\n",
              "    <tr>\n",
              "      <th>2</th>\n",
              "      <td>Chador</td>\n",
              "      <td>55</td>\n",
              "      <td>67</td>\n",
              "      <td>62</td>\n",
              "    </tr>\n",
              "    <tr>\n",
              "      <th>3</th>\n",
              "      <td>Shyam</td>\n",
              "      <td>74</td>\n",
              "      <td>55</td>\n",
              "      <td>71</td>\n",
              "    </tr>\n",
              "    <tr>\n",
              "      <th>4</th>\n",
              "      <td>Zangmo</td>\n",
              "      <td>47</td>\n",
              "      <td>47</td>\n",
              "      <td>57</td>\n",
              "    </tr>\n",
              "    <tr>\n",
              "      <th>5</th>\n",
              "      <td>Om</td>\n",
              "      <td>77</td>\n",
              "      <td>72</td>\n",
              "      <td>75</td>\n",
              "    </tr>\n",
              "    <tr>\n",
              "      <th>6</th>\n",
              "      <td>Sonam</td>\n",
              "      <td>85</td>\n",
              "      <td>55</td>\n",
              "      <td>65</td>\n",
              "    </tr>\n",
              "    <tr>\n",
              "      <th>7</th>\n",
              "      <td>Karma</td>\n",
              "      <td>67</td>\n",
              "      <td>45</td>\n",
              "      <td>51</td>\n",
              "    </tr>\n",
              "  </tbody>\n",
              "</table>\n",
              "</div>\n",
              "      <button class=\"colab-df-convert\" onclick=\"convertToInteractive('df-06967ddf-bd17-4782-8dcf-d1853e64fda3')\"\n",
              "              title=\"Convert this dataframe to an interactive table.\"\n",
              "              style=\"display:none;\">\n",
              "        \n",
              "  <svg xmlns=\"http://www.w3.org/2000/svg\" height=\"24px\"viewBox=\"0 0 24 24\"\n",
              "       width=\"24px\">\n",
              "    <path d=\"M0 0h24v24H0V0z\" fill=\"none\"/>\n",
              "    <path d=\"M18.56 5.44l.94 2.06.94-2.06 2.06-.94-2.06-.94-.94-2.06-.94 2.06-2.06.94zm-11 1L8.5 8.5l.94-2.06 2.06-.94-2.06-.94L8.5 2.5l-.94 2.06-2.06.94zm10 10l.94 2.06.94-2.06 2.06-.94-2.06-.94-.94-2.06-.94 2.06-2.06.94z\"/><path d=\"M17.41 7.96l-1.37-1.37c-.4-.4-.92-.59-1.43-.59-.52 0-1.04.2-1.43.59L10.3 9.45l-7.72 7.72c-.78.78-.78 2.05 0 2.83L4 21.41c.39.39.9.59 1.41.59.51 0 1.02-.2 1.41-.59l7.78-7.78 2.81-2.81c.8-.78.8-2.07 0-2.86zM5.41 20L4 18.59l7.72-7.72 1.47 1.35L5.41 20z\"/>\n",
              "  </svg>\n",
              "      </button>\n",
              "      \n",
              "  <style>\n",
              "    .colab-df-container {\n",
              "      display:flex;\n",
              "      flex-wrap:wrap;\n",
              "      gap: 12px;\n",
              "    }\n",
              "\n",
              "    .colab-df-convert {\n",
              "      background-color: #E8F0FE;\n",
              "      border: none;\n",
              "      border-radius: 50%;\n",
              "      cursor: pointer;\n",
              "      display: none;\n",
              "      fill: #1967D2;\n",
              "      height: 32px;\n",
              "      padding: 0 0 0 0;\n",
              "      width: 32px;\n",
              "    }\n",
              "\n",
              "    .colab-df-convert:hover {\n",
              "      background-color: #E2EBFA;\n",
              "      box-shadow: 0px 1px 2px rgba(60, 64, 67, 0.3), 0px 1px 3px 1px rgba(60, 64, 67, 0.15);\n",
              "      fill: #174EA6;\n",
              "    }\n",
              "\n",
              "    [theme=dark] .colab-df-convert {\n",
              "      background-color: #3B4455;\n",
              "      fill: #D2E3FC;\n",
              "    }\n",
              "\n",
              "    [theme=dark] .colab-df-convert:hover {\n",
              "      background-color: #434B5C;\n",
              "      box-shadow: 0px 1px 3px 1px rgba(0, 0, 0, 0.15);\n",
              "      filter: drop-shadow(0px 1px 2px rgba(0, 0, 0, 0.3));\n",
              "      fill: #FFFFFF;\n",
              "    }\n",
              "  </style>\n",
              "\n",
              "      <script>\n",
              "        const buttonEl =\n",
              "          document.querySelector('#df-06967ddf-bd17-4782-8dcf-d1853e64fda3 button.colab-df-convert');\n",
              "        buttonEl.style.display =\n",
              "          google.colab.kernel.accessAllowed ? 'block' : 'none';\n",
              "\n",
              "        async function convertToInteractive(key) {\n",
              "          const element = document.querySelector('#df-06967ddf-bd17-4782-8dcf-d1853e64fda3');\n",
              "          const dataTable =\n",
              "            await google.colab.kernel.invokeFunction('convertToInteractive',\n",
              "                                                     [key], {});\n",
              "          if (!dataTable) return;\n",
              "\n",
              "          const docLinkHtml = 'Like what you see? Visit the ' +\n",
              "            '<a target=\"_blank\" href=https://colab.research.google.com/notebooks/data_table.ipynb>data table notebook</a>'\n",
              "            + ' to learn more about interactive tables.';\n",
              "          element.innerHTML = '';\n",
              "          dataTable['output_type'] = 'display_data';\n",
              "          await google.colab.output.renderOutput(dataTable, element);\n",
              "          const docLink = document.createElement('div');\n",
              "          docLink.innerHTML = docLinkHtml;\n",
              "          element.appendChild(docLink);\n",
              "        }\n",
              "      </script>\n",
              "    </div>\n",
              "  </div>\n",
              "  "
            ]
          },
          "metadata": {},
          "execution_count": 30
        }
      ]
    },
    {
      "cell_type": "code",
      "source": [
        "# Mode of the dataframe (or column mode of the dataframe)\n",
        "df.mode()"
      ],
      "metadata": {
        "colab": {
          "base_uri": "https://localhost:8080/",
          "height": 80
        },
        "id": "iWgGKGChRK6x",
        "outputId": "cab0ae07-a004-4437-f0da-20117708d718"
      },
      "execution_count": null,
      "outputs": [
        {
          "output_type": "execute_result",
          "data": {
            "text/plain": [
              "    Name  Stats_Score  Algebra_Score  ML_Score\n",
              "0  Sonam           47             55        65"
            ],
            "text/html": [
              "\n",
              "  <div id=\"df-cdd0560e-d75a-4614-93ca-c7ce2a24531b\">\n",
              "    <div class=\"colab-df-container\">\n",
              "      <div>\n",
              "<style scoped>\n",
              "    .dataframe tbody tr th:only-of-type {\n",
              "        vertical-align: middle;\n",
              "    }\n",
              "\n",
              "    .dataframe tbody tr th {\n",
              "        vertical-align: top;\n",
              "    }\n",
              "\n",
              "    .dataframe thead th {\n",
              "        text-align: right;\n",
              "    }\n",
              "</style>\n",
              "<table border=\"1\" class=\"dataframe\">\n",
              "  <thead>\n",
              "    <tr style=\"text-align: right;\">\n",
              "      <th></th>\n",
              "      <th>Name</th>\n",
              "      <th>Stats_Score</th>\n",
              "      <th>Algebra_Score</th>\n",
              "      <th>ML_Score</th>\n",
              "    </tr>\n",
              "  </thead>\n",
              "  <tbody>\n",
              "    <tr>\n",
              "      <th>0</th>\n",
              "      <td>Sonam</td>\n",
              "      <td>47</td>\n",
              "      <td>55</td>\n",
              "      <td>65</td>\n",
              "    </tr>\n",
              "  </tbody>\n",
              "</table>\n",
              "</div>\n",
              "      <button class=\"colab-df-convert\" onclick=\"convertToInteractive('df-cdd0560e-d75a-4614-93ca-c7ce2a24531b')\"\n",
              "              title=\"Convert this dataframe to an interactive table.\"\n",
              "              style=\"display:none;\">\n",
              "        \n",
              "  <svg xmlns=\"http://www.w3.org/2000/svg\" height=\"24px\"viewBox=\"0 0 24 24\"\n",
              "       width=\"24px\">\n",
              "    <path d=\"M0 0h24v24H0V0z\" fill=\"none\"/>\n",
              "    <path d=\"M18.56 5.44l.94 2.06.94-2.06 2.06-.94-2.06-.94-.94-2.06-.94 2.06-2.06.94zm-11 1L8.5 8.5l.94-2.06 2.06-.94-2.06-.94L8.5 2.5l-.94 2.06-2.06.94zm10 10l.94 2.06.94-2.06 2.06-.94-2.06-.94-.94-2.06-.94 2.06-2.06.94z\"/><path d=\"M17.41 7.96l-1.37-1.37c-.4-.4-.92-.59-1.43-.59-.52 0-1.04.2-1.43.59L10.3 9.45l-7.72 7.72c-.78.78-.78 2.05 0 2.83L4 21.41c.39.39.9.59 1.41.59.51 0 1.02-.2 1.41-.59l7.78-7.78 2.81-2.81c.8-.78.8-2.07 0-2.86zM5.41 20L4 18.59l7.72-7.72 1.47 1.35L5.41 20z\"/>\n",
              "  </svg>\n",
              "      </button>\n",
              "      \n",
              "  <style>\n",
              "    .colab-df-container {\n",
              "      display:flex;\n",
              "      flex-wrap:wrap;\n",
              "      gap: 12px;\n",
              "    }\n",
              "\n",
              "    .colab-df-convert {\n",
              "      background-color: #E8F0FE;\n",
              "      border: none;\n",
              "      border-radius: 50%;\n",
              "      cursor: pointer;\n",
              "      display: none;\n",
              "      fill: #1967D2;\n",
              "      height: 32px;\n",
              "      padding: 0 0 0 0;\n",
              "      width: 32px;\n",
              "    }\n",
              "\n",
              "    .colab-df-convert:hover {\n",
              "      background-color: #E2EBFA;\n",
              "      box-shadow: 0px 1px 2px rgba(60, 64, 67, 0.3), 0px 1px 3px 1px rgba(60, 64, 67, 0.15);\n",
              "      fill: #174EA6;\n",
              "    }\n",
              "\n",
              "    [theme=dark] .colab-df-convert {\n",
              "      background-color: #3B4455;\n",
              "      fill: #D2E3FC;\n",
              "    }\n",
              "\n",
              "    [theme=dark] .colab-df-convert:hover {\n",
              "      background-color: #434B5C;\n",
              "      box-shadow: 0px 1px 3px 1px rgba(0, 0, 0, 0.15);\n",
              "      filter: drop-shadow(0px 1px 2px rgba(0, 0, 0, 0.3));\n",
              "      fill: #FFFFFF;\n",
              "    }\n",
              "  </style>\n",
              "\n",
              "      <script>\n",
              "        const buttonEl =\n",
              "          document.querySelector('#df-cdd0560e-d75a-4614-93ca-c7ce2a24531b button.colab-df-convert');\n",
              "        buttonEl.style.display =\n",
              "          google.colab.kernel.accessAllowed ? 'block' : 'none';\n",
              "\n",
              "        async function convertToInteractive(key) {\n",
              "          const element = document.querySelector('#df-cdd0560e-d75a-4614-93ca-c7ce2a24531b');\n",
              "          const dataTable =\n",
              "            await google.colab.kernel.invokeFunction('convertToInteractive',\n",
              "                                                     [key], {});\n",
              "          if (!dataTable) return;\n",
              "\n",
              "          const docLinkHtml = 'Like what you see? Visit the ' +\n",
              "            '<a target=\"_blank\" href=https://colab.research.google.com/notebooks/data_table.ipynb>data table notebook</a>'\n",
              "            + ' to learn more about interactive tables.';\n",
              "          element.innerHTML = '';\n",
              "          dataTable['output_type'] = 'display_data';\n",
              "          await google.colab.output.renderOutput(dataTable, element);\n",
              "          const docLink = document.createElement('div');\n",
              "          docLink.innerHTML = docLinkHtml;\n",
              "          element.appendChild(docLink);\n",
              "        }\n",
              "      </script>\n",
              "    </div>\n",
              "  </div>\n",
              "  "
            ]
          },
          "metadata": {},
          "execution_count": 35
        }
      ]
    },
    {
      "cell_type": "markdown",
      "source": [
        "## **1.5 Measures of Dispersion**"
      ],
      "metadata": {
        "id": "1ZoP8hEOR3En"
      }
    },
    {
      "cell_type": "markdown",
      "source": [
        "In statistics, the measures of dispersion help to interpret the variability of data, that is, to know how homogeneous or heterogeneous the data are. Simply put, it shows how the variable is compressed or scattered.\n",
        "\n",
        "There are two main types of dispersion methods in statistics which are:\n",
        "\n",
        "\n",
        "*   Absolute Measure of Dispersion\n",
        "*   Relative Measure of Dispersion\n",
        "\n"
      ],
      "metadata": {
        "id": "ihJzKNDzt4UL"
      }
    },
    {
      "cell_type": "markdown",
      "source": [
        "#### **1.5.1 Absolute Measure of Dispersion**"
      ],
      "metadata": {
        "id": "lAvqbnHRvK8G"
      }
    },
    {
      "cell_type": "markdown",
      "source": [
        "The absolute measure of dispersion contains a unit similar to the original data set. The absolute dispersion method expresses variation according to the average deviation of the observations, such as the standard deviation or the mean deviation. It includes range, standard deviation, quartile deviation, etc.\n",
        "\n",
        "The types of absolute measures of dispersion are;\n",
        "\n",
        "1. **Range** \n",
        "\n",
        "It is simply the difference between the maximum value and the minimum value given in a data set. The formula to calculate the range;\n",
        "\n",
        "$$Range=x_{max}-x_{min}$$\n",
        "\n"
      ],
      "metadata": {
        "id": "EWN6CMxxvSng"
      }
    },
    {
      "cell_type": "markdown",
      "source": [
        "2. **Variance**\n",
        "\n",
        "Deduct the mean from each data in the set then squaring each of them and adding each square and finally dividing them by the total number of values in the data set is the variance. Also, there are two types of variance \n",
        "\n",
        "*   Variance of a population\n",
        "*   Variance of a sample\n",
        "\n",
        "The variance of a population is denoted by $\\sigma^2$ and the variance of a sample by $s^2$.\n",
        "\n",
        "Formulas to calculate variance of the **population**:\n",
        "\n",
        "**Remark 1:** For ungrouped data;\n",
        "$$\\sigma^2=\\frac{1}{n}\\sum_{i=1}^n(x_i-\\bar{x})^2$$\n",
        "\n",
        "**Remark 2:** For grouped frequency distribution;\n",
        "$$\\sigma^2=\\frac{1}{\\sum f_i}\\sum_{i=1}^{n}f_i(x_i-\\bar{x})^2$$\n",
        "Where, $x_i$ is the observations, $\\bar{x}$ is the mean, and $f$ is the frequency.\n",
        "\n",
        "Similarly, for the variance of the **sample**:\n",
        "\n",
        "**Remark 1:** For ungrouped data;\n",
        "$$s^2=\\frac{1}{n-1}\\sum_{i=1}^n(x_i-\\mu)^2$$\n",
        "\n",
        "**Remark 2:** For grouped frequency distribution;\n",
        "$$s^2=\\frac{1}{\\sum f_i-1}\\sum_{i=1}^nf_i(x_i-\\mu)^2$$\n",
        "\n",
        "Where, $x_i$ is the observations, $\\mu$ is the mean, and $f$ is the frequency."
      ],
      "metadata": {
        "id": "mShxp9Wjx3dg"
      }
    },
    {
      "cell_type": "markdown",
      "source": [
        "**Example:** Find the variance of the observations $25, 26, 38, 45, 31, 30, 29$."
      ],
      "metadata": {
        "id": "J_qkkzkgQe1n"
      }
    },
    {
      "cell_type": "markdown",
      "source": [
        "3. **Standard Deviation**\n",
        "\n",
        "The square root of the variance is known as the standard deviation. Now the formulas to compute standard deviation can be seen below;\n",
        "\n",
        "**Remark 1:** For the ungrouped data\n",
        "$$\\sigma=\\sqrt{\\frac{1}{n}\\sum_{i=1}^n(x_i-\\bar{x})^2}$$\n",
        "\n",
        "**Remark 2:** For the grouped frequency data\n",
        "$$\\sigma=\\sqrt{\\frac{1}{\\sum f_i}\\sum_{i=1}^{n}f_i(x_i-\\bar{x})^2}$$\n",
        "\n",
        "Where, $x_i$ is the observations, $\\bar{x}$ is the mean, and $f$ is the frequency."
      ],
      "metadata": {
        "id": "Qs9dQf8l5k0C"
      }
    },
    {
      "cell_type": "markdown",
      "source": [
        "4.  **Quartiles and Quartile Deviation**\n",
        "\n",
        "The **quartiles** are values that divide a list of numbers into quarters. The **quartile deviation** is half of the distance between the third and the first quartile. The formulas to calculate the quartile and quartile deviation;\n"
      ],
      "metadata": {
        "id": "GMtLoa5v7OQz"
      }
    },
    {
      "cell_type": "markdown",
      "source": [
        "When the set of observation is arranged in an ascending order, then the $25^{th}$ percentile is given as:\n",
        "$$Q_1=\\left(\\frac{n+1}{4}\\right)^{th}~term$$\n",
        "\n",
        "The second quartile or the $50^{th}$ percentile or the Median is given as:\n",
        "$$Q_2=\\left(\\frac{n+1}{2}\\right)^{th}~term$$\n",
        "\n",
        "The third Quartile of the $75^{th}$ Percentile is given as:\n",
        "$$Q_3=\\left(\\frac{3(n+1)}{4}\\right)^{th}~term$$\n",
        "\n",
        "The dispersion is also called “**inter quartile range**”, denoted as $IQR$, inter quartile range is the difference between lower and upper quartile.\n",
        "$$IQR=\\text{Upper Quartile}-\\text{Lower Quartile}$$\n",
        "\n",
        "**Quartile deviation** is also called **semi-interquartile range**. It can be calculated using the formula.\n",
        "$$QD=\\frac{Q_3-Q_1}{2}$$"
      ],
      "metadata": {
        "id": "9MpoyMzfwIZ9"
      }
    },
    {
      "cell_type": "markdown",
      "source": [
        "For the grouped frequency distribution, the formula to calculate quartiles are;\n",
        "\n",
        "$$Q_1 = l + \\frac{h}{f}\\left(\\frac{N}{4}-c\\right)\\\\ Q_2 = l + \\frac{h}{f}\\left(\\frac{N}{2}-c\\right)\\\\Q_3 = l + \\frac{h}{f}\\left(\\frac{3N}{4}-c\\right)$$"
      ],
      "metadata": {
        "id": "65EIPhN96q55"
      }
    },
    {
      "cell_type": "markdown",
      "source": [
        "5.  **Mean Deviation**\n",
        "\n",
        "The mean deviation (also called mean absolute deviation) of the set of distinct statistical data $\\{x_1,x_2,...,x_n\\}$ is by definition;\n",
        "$$\\bar{d}=\\frac{\\displaystyle\\sum_{i=1}^n|x_i-\\bar{x}|}{n}$$ \n",
        "**Remark:** For data presented as a frequency distribution,\n",
        "$$\\bar{d}=\\frac{\\displaystyle\\sum_{i=1}^nf_i.|x_i-\\bar{x}|}{\\displaystyle\\sum_{i=1}^n f_i}$$"
      ],
      "metadata": {
        "id": "er84CGiSzlYL"
      }
    },
    {
      "cell_type": "markdown",
      "source": [
        "#### **1.5.2 Relative Measure of Dispersion**"
      ],
      "metadata": {
        "id": "Bn53ZmPj2Rr5"
      }
    },
    {
      "cell_type": "markdown",
      "source": [
        "The relative measures of dispersion are used to compare the distribution of two or more data sets. This measure compares values without units. Common relative dispersion methods include:\n",
        "\n",
        "1. **Co-efficient of range**\n",
        " \n",
        "The formula to calculate the coefficient of range is\n",
        "$$C.D_{range}=\\frac{x_{max}-x_{min}}{x_{max}+x_{min}}$$"
      ],
      "metadata": {
        "id": "y-_mE9cr2rB5"
      }
    },
    {
      "cell_type": "markdown",
      "source": [
        "2. **Co-efficient of variation**\n",
        "\n",
        "The formula to calculate the coefficient of variation is\n",
        "$$C.D_{variation}=\\frac{\\sigma}{Mean}$$"
      ],
      "metadata": {
        "id": "EGh9HPWL4C6w"
      }
    },
    {
      "cell_type": "markdown",
      "source": [
        "3.  **Co-efficient of quartile deviation**\n",
        "\n",
        "The formula to calculate the coefficient of quartile deviation is\n",
        "$$C.D_{QD}=\\frac{Q_3-Q_1}{Q_3+Q_1}$$"
      ],
      "metadata": {
        "id": "BQ0Y0GkF44zY"
      }
    },
    {
      "cell_type": "markdown",
      "source": [
        "4. **Co-efficient of mean deviation**\n",
        "\n",
        "The formula to calculate the coefficient of mean deviation is\n",
        "$$C.D_{MD}=\\frac{Mean~Deviation}{Average}$$"
      ],
      "metadata": {
        "id": "1KZc_NvW5WZa"
      }
    },
    {
      "cell_type": "markdown",
      "source": [
        "#### **1.5.3 Measures of dispersion functions in Python**"
      ],
      "metadata": {
        "id": "1ktd44gjHY1x"
      }
    },
    {
      "cell_type": "markdown",
      "source": [
        "`var()` – Variance Function in python pandas is used to calculate variance of a given set of numbers.\n",
        "\n",
        "`std()`- function is used to calculate standard deviation of a given set of numbers.\n",
        "\n",
        "`max(), min()`- functions are used find the maximum and minimum number number respectively.\n",
        "\n",
        "`quantile()`- function is used to find the quartiles of the given set of numbers."
      ],
      "metadata": {
        "id": "ghNCOG5MNozI"
      }
    },
    {
      "cell_type": "markdown",
      "source": [
        "#### **Try yourself:**"
      ],
      "metadata": {
        "id": "eCtZQLOwPUqe"
      }
    },
    {
      "cell_type": "markdown",
      "source": [
        "**1).** Calculate and interpret the measures of dispersion for the dataframe created in the section $1.4$ above using the respective formulas and using the Python functions."
      ],
      "metadata": {
        "id": "UmqlkTf7PmZk"
      }
    },
    {
      "cell_type": "markdown",
      "source": [
        "**2).** Use the `seaborn` inbuilt dataset **'taxis'**. Then drop the columns having data type 'Object' from the datset, and try to find the possible measures of dispersion of the remaining columns using Python. "
      ],
      "metadata": {
        "id": "hWX3wWo54s8u"
      }
    },
    {
      "cell_type": "markdown",
      "source": [
        "## **1.6 Covariance and Correlation**"
      ],
      "metadata": {
        "id": "f79tZs23nNa7"
      }
    },
    {
      "cell_type": "markdown",
      "source": [
        "**Covariance** brings about the variation across variables. We use covariance to measure how much two variables change with each other. **Correlation** reveals the relation between the variables. We use correlation to determine how strongly linked two variables are to each other."
      ],
      "metadata": {
        "id": "Ms3vFz95oXFb"
      }
    },
    {
      "cell_type": "markdown",
      "source": [
        "Both covariance and correlation are about the relationship between the variables. **Covariance** defines the directional association between the variables. Covariance values range from $-\\infty$ to $+\\infty$ where a positive value denotes that both the variables move in the same direction and a negative value denotes that both the variables move in opposite directions.\n",
        "\n",
        "**Correlation** is a standardized statistical measure that expresses the extent to which two variables are linearly related (meaning how much they change together at a constant rate). The strength and directional association of the relationship between two variables are defined by correlation and it ranges from $-1$ to $+1$. Similar to covariance, a positive value denotes that both variables move in the same direction whereas a negative value tells us that they move in opposite directions."
      ],
      "metadata": {
        "id": "PiJk4pLweG1I"
      }
    },
    {
      "cell_type": "markdown",
      "source": [
        "#### **1.6.1 Calculating Covariance in Python**"
      ],
      "metadata": {
        "id": "mpef9u2ThLVo"
      }
    },
    {
      "cell_type": "markdown",
      "source": [
        "The following formula computes the population covariance:\n",
        "$$Cov(x,y)=\\frac{\\displaystyle\\sum_{i=1}^n(x_i-\\bar{x})(y_i-\\bar{y})}{n}$$\n",
        "\n",
        "**Note:** The formula to calculate the sample covariance is given by;\n",
        "$$Cov(x,y)=\\frac{\\displaystyle\\sum_{i=1}^n(x_i-\\bar{x})(y_i-\\bar{y})}{n-1}$$\n",
        "Where\n",
        "\n",
        "$x_i, y_i$ - are individual elements of the $x$ and $y$ series\n",
        "\n",
        "$\\bar{x}, \\bar{y}$ - are the mathematical means of the $x$ and $y$ series\n",
        "\n",
        "$n$ - is the number of elements in the series"
      ],
      "metadata": {
        "id": "cO6tCFr0hS4t"
      }
    },
    {
      "cell_type": "markdown",
      "source": [
        "Now we will try to see some examples to find the covariance matrix using the `pandas` library;"
      ],
      "metadata": {
        "id": "u66yY5jXj23O"
      }
    },
    {
      "cell_type": "code",
      "source": [
        "import pandas as pd\n",
        "df = pd.DataFrame([(1, 2), (0, 3), (2, 0), (1, 1)], columns=['dogs', 'cats'])\n",
        "df.cov()"
      ],
      "metadata": {
        "colab": {
          "base_uri": "https://localhost:8080/",
          "height": 112
        },
        "id": "ljrg1EKoKSnT",
        "outputId": "9f1407f4-1ed1-41c6-90d3-ecb9438a5d80"
      },
      "execution_count": null,
      "outputs": [
        {
          "output_type": "execute_result",
          "data": {
            "text/plain": [
              "          dogs      cats\n",
              "dogs  0.666667 -1.000000\n",
              "cats -1.000000  1.666667"
            ],
            "text/html": [
              "\n",
              "  <div id=\"df-0ff0913d-9b5b-4732-aaef-d6985979390a\">\n",
              "    <div class=\"colab-df-container\">\n",
              "      <div>\n",
              "<style scoped>\n",
              "    .dataframe tbody tr th:only-of-type {\n",
              "        vertical-align: middle;\n",
              "    }\n",
              "\n",
              "    .dataframe tbody tr th {\n",
              "        vertical-align: top;\n",
              "    }\n",
              "\n",
              "    .dataframe thead th {\n",
              "        text-align: right;\n",
              "    }\n",
              "</style>\n",
              "<table border=\"1\" class=\"dataframe\">\n",
              "  <thead>\n",
              "    <tr style=\"text-align: right;\">\n",
              "      <th></th>\n",
              "      <th>dogs</th>\n",
              "      <th>cats</th>\n",
              "    </tr>\n",
              "  </thead>\n",
              "  <tbody>\n",
              "    <tr>\n",
              "      <th>dogs</th>\n",
              "      <td>0.666667</td>\n",
              "      <td>-1.000000</td>\n",
              "    </tr>\n",
              "    <tr>\n",
              "      <th>cats</th>\n",
              "      <td>-1.000000</td>\n",
              "      <td>1.666667</td>\n",
              "    </tr>\n",
              "  </tbody>\n",
              "</table>\n",
              "</div>\n",
              "      <button class=\"colab-df-convert\" onclick=\"convertToInteractive('df-0ff0913d-9b5b-4732-aaef-d6985979390a')\"\n",
              "              title=\"Convert this dataframe to an interactive table.\"\n",
              "              style=\"display:none;\">\n",
              "        \n",
              "  <svg xmlns=\"http://www.w3.org/2000/svg\" height=\"24px\"viewBox=\"0 0 24 24\"\n",
              "       width=\"24px\">\n",
              "    <path d=\"M0 0h24v24H0V0z\" fill=\"none\"/>\n",
              "    <path d=\"M18.56 5.44l.94 2.06.94-2.06 2.06-.94-2.06-.94-.94-2.06-.94 2.06-2.06.94zm-11 1L8.5 8.5l.94-2.06 2.06-.94-2.06-.94L8.5 2.5l-.94 2.06-2.06.94zm10 10l.94 2.06.94-2.06 2.06-.94-2.06-.94-.94-2.06-.94 2.06-2.06.94z\"/><path d=\"M17.41 7.96l-1.37-1.37c-.4-.4-.92-.59-1.43-.59-.52 0-1.04.2-1.43.59L10.3 9.45l-7.72 7.72c-.78.78-.78 2.05 0 2.83L4 21.41c.39.39.9.59 1.41.59.51 0 1.02-.2 1.41-.59l7.78-7.78 2.81-2.81c.8-.78.8-2.07 0-2.86zM5.41 20L4 18.59l7.72-7.72 1.47 1.35L5.41 20z\"/>\n",
              "  </svg>\n",
              "      </button>\n",
              "      \n",
              "  <style>\n",
              "    .colab-df-container {\n",
              "      display:flex;\n",
              "      flex-wrap:wrap;\n",
              "      gap: 12px;\n",
              "    }\n",
              "\n",
              "    .colab-df-convert {\n",
              "      background-color: #E8F0FE;\n",
              "      border: none;\n",
              "      border-radius: 50%;\n",
              "      cursor: pointer;\n",
              "      display: none;\n",
              "      fill: #1967D2;\n",
              "      height: 32px;\n",
              "      padding: 0 0 0 0;\n",
              "      width: 32px;\n",
              "    }\n",
              "\n",
              "    .colab-df-convert:hover {\n",
              "      background-color: #E2EBFA;\n",
              "      box-shadow: 0px 1px 2px rgba(60, 64, 67, 0.3), 0px 1px 3px 1px rgba(60, 64, 67, 0.15);\n",
              "      fill: #174EA6;\n",
              "    }\n",
              "\n",
              "    [theme=dark] .colab-df-convert {\n",
              "      background-color: #3B4455;\n",
              "      fill: #D2E3FC;\n",
              "    }\n",
              "\n",
              "    [theme=dark] .colab-df-convert:hover {\n",
              "      background-color: #434B5C;\n",
              "      box-shadow: 0px 1px 3px 1px rgba(0, 0, 0, 0.15);\n",
              "      filter: drop-shadow(0px 1px 2px rgba(0, 0, 0, 0.3));\n",
              "      fill: #FFFFFF;\n",
              "    }\n",
              "  </style>\n",
              "\n",
              "      <script>\n",
              "        const buttonEl =\n",
              "          document.querySelector('#df-0ff0913d-9b5b-4732-aaef-d6985979390a button.colab-df-convert');\n",
              "        buttonEl.style.display =\n",
              "          google.colab.kernel.accessAllowed ? 'block' : 'none';\n",
              "\n",
              "        async function convertToInteractive(key) {\n",
              "          const element = document.querySelector('#df-0ff0913d-9b5b-4732-aaef-d6985979390a');\n",
              "          const dataTable =\n",
              "            await google.colab.kernel.invokeFunction('convertToInteractive',\n",
              "                                                     [key], {});\n",
              "          if (!dataTable) return;\n",
              "\n",
              "          const docLinkHtml = 'Like what you see? Visit the ' +\n",
              "            '<a target=\"_blank\" href=https://colab.research.google.com/notebooks/data_table.ipynb>data table notebook</a>'\n",
              "            + ' to learn more about interactive tables.';\n",
              "          element.innerHTML = '';\n",
              "          dataTable['output_type'] = 'display_data';\n",
              "          await google.colab.output.renderOutput(dataTable, element);\n",
              "          const docLink = document.createElement('div');\n",
              "          docLink.innerHTML = docLinkHtml;\n",
              "          element.appendChild(docLink);\n",
              "        }\n",
              "      </script>\n",
              "    </div>\n",
              "  </div>\n",
              "  "
            ]
          },
          "metadata": {},
          "execution_count": 4
        }
      ]
    },
    {
      "cell_type": "markdown",
      "source": [
        "In this example we are trying to generate random values of $1000$ rows and $5$ columns and calculating the covariance using pandas."
      ],
      "metadata": {
        "id": "bJiznzuOl7Bu"
      }
    },
    {
      "cell_type": "code",
      "source": [
        "import numpy as np\n",
        "import pandas as pd\n",
        "#np.random.seed(42)\n",
        "df = pd.DataFrame(np.random.randn(1000, 5), columns=['A', 'B', 'C', 'D', 'E'])\n",
        "df.cov()"
      ],
      "metadata": {
        "colab": {
          "base_uri": "https://localhost:8080/",
          "height": 206
        },
        "id": "U_cjrW6AkQEQ",
        "outputId": "66bf39b8-b6ad-4bcd-98c4-fe1b1c976833"
      },
      "execution_count": null,
      "outputs": [
        {
          "output_type": "execute_result",
          "data": {
            "text/plain": [
              "          A         B         C         D         E\n",
              "A  1.012552  0.048166 -0.009674  0.034240 -0.018401\n",
              "B  0.048166  0.981544 -0.013647  0.020987  0.019773\n",
              "C -0.009674 -0.013647  0.984849  0.006546  0.034038\n",
              "D  0.034240  0.020987  0.006546  0.998385 -0.021586\n",
              "E -0.018401  0.019773  0.034038 -0.021586  0.976272"
            ],
            "text/html": [
              "\n",
              "  <div id=\"df-a03e82d1-b462-4ffd-ba13-0516992a592d\">\n",
              "    <div class=\"colab-df-container\">\n",
              "      <div>\n",
              "<style scoped>\n",
              "    .dataframe tbody tr th:only-of-type {\n",
              "        vertical-align: middle;\n",
              "    }\n",
              "\n",
              "    .dataframe tbody tr th {\n",
              "        vertical-align: top;\n",
              "    }\n",
              "\n",
              "    .dataframe thead th {\n",
              "        text-align: right;\n",
              "    }\n",
              "</style>\n",
              "<table border=\"1\" class=\"dataframe\">\n",
              "  <thead>\n",
              "    <tr style=\"text-align: right;\">\n",
              "      <th></th>\n",
              "      <th>A</th>\n",
              "      <th>B</th>\n",
              "      <th>C</th>\n",
              "      <th>D</th>\n",
              "      <th>E</th>\n",
              "    </tr>\n",
              "  </thead>\n",
              "  <tbody>\n",
              "    <tr>\n",
              "      <th>A</th>\n",
              "      <td>1.012552</td>\n",
              "      <td>0.048166</td>\n",
              "      <td>-0.009674</td>\n",
              "      <td>0.034240</td>\n",
              "      <td>-0.018401</td>\n",
              "    </tr>\n",
              "    <tr>\n",
              "      <th>B</th>\n",
              "      <td>0.048166</td>\n",
              "      <td>0.981544</td>\n",
              "      <td>-0.013647</td>\n",
              "      <td>0.020987</td>\n",
              "      <td>0.019773</td>\n",
              "    </tr>\n",
              "    <tr>\n",
              "      <th>C</th>\n",
              "      <td>-0.009674</td>\n",
              "      <td>-0.013647</td>\n",
              "      <td>0.984849</td>\n",
              "      <td>0.006546</td>\n",
              "      <td>0.034038</td>\n",
              "    </tr>\n",
              "    <tr>\n",
              "      <th>D</th>\n",
              "      <td>0.034240</td>\n",
              "      <td>0.020987</td>\n",
              "      <td>0.006546</td>\n",
              "      <td>0.998385</td>\n",
              "      <td>-0.021586</td>\n",
              "    </tr>\n",
              "    <tr>\n",
              "      <th>E</th>\n",
              "      <td>-0.018401</td>\n",
              "      <td>0.019773</td>\n",
              "      <td>0.034038</td>\n",
              "      <td>-0.021586</td>\n",
              "      <td>0.976272</td>\n",
              "    </tr>\n",
              "  </tbody>\n",
              "</table>\n",
              "</div>\n",
              "      <button class=\"colab-df-convert\" onclick=\"convertToInteractive('df-a03e82d1-b462-4ffd-ba13-0516992a592d')\"\n",
              "              title=\"Convert this dataframe to an interactive table.\"\n",
              "              style=\"display:none;\">\n",
              "        \n",
              "  <svg xmlns=\"http://www.w3.org/2000/svg\" height=\"24px\"viewBox=\"0 0 24 24\"\n",
              "       width=\"24px\">\n",
              "    <path d=\"M0 0h24v24H0V0z\" fill=\"none\"/>\n",
              "    <path d=\"M18.56 5.44l.94 2.06.94-2.06 2.06-.94-2.06-.94-.94-2.06-.94 2.06-2.06.94zm-11 1L8.5 8.5l.94-2.06 2.06-.94-2.06-.94L8.5 2.5l-.94 2.06-2.06.94zm10 10l.94 2.06.94-2.06 2.06-.94-2.06-.94-.94-2.06-.94 2.06-2.06.94z\"/><path d=\"M17.41 7.96l-1.37-1.37c-.4-.4-.92-.59-1.43-.59-.52 0-1.04.2-1.43.59L10.3 9.45l-7.72 7.72c-.78.78-.78 2.05 0 2.83L4 21.41c.39.39.9.59 1.41.59.51 0 1.02-.2 1.41-.59l7.78-7.78 2.81-2.81c.8-.78.8-2.07 0-2.86zM5.41 20L4 18.59l7.72-7.72 1.47 1.35L5.41 20z\"/>\n",
              "  </svg>\n",
              "      </button>\n",
              "      \n",
              "  <style>\n",
              "    .colab-df-container {\n",
              "      display:flex;\n",
              "      flex-wrap:wrap;\n",
              "      gap: 12px;\n",
              "    }\n",
              "\n",
              "    .colab-df-convert {\n",
              "      background-color: #E8F0FE;\n",
              "      border: none;\n",
              "      border-radius: 50%;\n",
              "      cursor: pointer;\n",
              "      display: none;\n",
              "      fill: #1967D2;\n",
              "      height: 32px;\n",
              "      padding: 0 0 0 0;\n",
              "      width: 32px;\n",
              "    }\n",
              "\n",
              "    .colab-df-convert:hover {\n",
              "      background-color: #E2EBFA;\n",
              "      box-shadow: 0px 1px 2px rgba(60, 64, 67, 0.3), 0px 1px 3px 1px rgba(60, 64, 67, 0.15);\n",
              "      fill: #174EA6;\n",
              "    }\n",
              "\n",
              "    [theme=dark] .colab-df-convert {\n",
              "      background-color: #3B4455;\n",
              "      fill: #D2E3FC;\n",
              "    }\n",
              "\n",
              "    [theme=dark] .colab-df-convert:hover {\n",
              "      background-color: #434B5C;\n",
              "      box-shadow: 0px 1px 3px 1px rgba(0, 0, 0, 0.15);\n",
              "      filter: drop-shadow(0px 1px 2px rgba(0, 0, 0, 0.3));\n",
              "      fill: #FFFFFF;\n",
              "    }\n",
              "  </style>\n",
              "\n",
              "      <script>\n",
              "        const buttonEl =\n",
              "          document.querySelector('#df-a03e82d1-b462-4ffd-ba13-0516992a592d button.colab-df-convert');\n",
              "        buttonEl.style.display =\n",
              "          google.colab.kernel.accessAllowed ? 'block' : 'none';\n",
              "\n",
              "        async function convertToInteractive(key) {\n",
              "          const element = document.querySelector('#df-a03e82d1-b462-4ffd-ba13-0516992a592d');\n",
              "          const dataTable =\n",
              "            await google.colab.kernel.invokeFunction('convertToInteractive',\n",
              "                                                     [key], {});\n",
              "          if (!dataTable) return;\n",
              "\n",
              "          const docLinkHtml = 'Like what you see? Visit the ' +\n",
              "            '<a target=\"_blank\" href=https://colab.research.google.com/notebooks/data_table.ipynb>data table notebook</a>'\n",
              "            + ' to learn more about interactive tables.';\n",
              "          element.innerHTML = '';\n",
              "          dataTable['output_type'] = 'display_data';\n",
              "          await google.colab.output.renderOutput(dataTable, element);\n",
              "          const docLink = document.createElement('div');\n",
              "          docLink.innerHTML = docLinkHtml;\n",
              "          element.appendChild(docLink);\n",
              "        }\n",
              "      </script>\n",
              "    </div>\n",
              "  </div>\n",
              "  "
            ]
          },
          "metadata": {},
          "execution_count": 18
        }
      ]
    },
    {
      "cell_type": "markdown",
      "source": [
        "#### **1.6.2 Calculating Correlation in Python**"
      ],
      "metadata": {
        "id": "zmJ1S70_oGOu"
      }
    },
    {
      "cell_type": "markdown",
      "source": [
        "The most widely used formula to compute correlation coefficient is Pearson's $r$:\n",
        "$$r(x,y)=\\frac{Cov(x,y)}{\\sigma_x\\sigma_y} = \\displaystyle\\frac{\\frac{1}{n}\\sum\\limits_{i=1}^n(x_i-\\bar{x})(y_i-\\bar{y})}{\\sigma_x\\sigma_y}$$\n",
        "Where it is the ratio of covariance to the standard deviation of $x$ variable multiplied with standard deviation of $y$ variable. If $r$ is near to $+1$ or $-1$, then it is called strongly correlated, if $r$ is equal to zero, then no correlation, otherwise, it is called weakly correlated."
      ],
      "metadata": {
        "id": "LGV8yOsRoWtf"
      }
    },
    {
      "cell_type": "markdown",
      "source": [
        "Let's see some examples to calculate the correlation of randomly created dataframe using Python **pandas**."
      ],
      "metadata": {
        "id": "s5gk5awTqZnj"
      }
    },
    {
      "cell_type": "code",
      "source": [
        "import pandas as pd\n",
        "import numpy as np\n",
        "from scipy import stats\n",
        " \n",
        "#Create a DataFrame\n",
        "d = {'Name':['Dorji','Sonam','Chador','Shyam','Zangmo','Om','Sushmita','Karma'],\n",
        "   'Age':[28,23,35,54,31,27,85,41],\n",
        "   'Weight(kg)':[63,67,81,55,47,72,53,45],\n",
        "   'Height(cm)':[175,125,156,165,157,179,161,151]}\n",
        " \n",
        "df = pd.DataFrame(d)\n",
        "df"
      ],
      "metadata": {
        "colab": {
          "base_uri": "https://localhost:8080/",
          "height": 300
        },
        "id": "VHgJkwuXqHM_",
        "outputId": "c3d10631-3cd8-44e6-ba0f-725fbbd26947"
      },
      "execution_count": null,
      "outputs": [
        {
          "output_type": "execute_result",
          "data": {
            "text/plain": [
              "       Name  Age  Weight(kg)  Height(cm)\n",
              "0     Dorji   28          63         175\n",
              "1     Sonam   23          67         125\n",
              "2    Chador   35          81         156\n",
              "3     Shyam   54          55         165\n",
              "4    Zangmo   31          47         157\n",
              "5        Om   27          72         179\n",
              "6  Sushmita   85          53         161\n",
              "7     Karma   41          45         151"
            ],
            "text/html": [
              "\n",
              "  <div id=\"df-c83591b2-f6e9-4dd3-8d8c-bee3614d2b36\">\n",
              "    <div class=\"colab-df-container\">\n",
              "      <div>\n",
              "<style scoped>\n",
              "    .dataframe tbody tr th:only-of-type {\n",
              "        vertical-align: middle;\n",
              "    }\n",
              "\n",
              "    .dataframe tbody tr th {\n",
              "        vertical-align: top;\n",
              "    }\n",
              "\n",
              "    .dataframe thead th {\n",
              "        text-align: right;\n",
              "    }\n",
              "</style>\n",
              "<table border=\"1\" class=\"dataframe\">\n",
              "  <thead>\n",
              "    <tr style=\"text-align: right;\">\n",
              "      <th></th>\n",
              "      <th>Name</th>\n",
              "      <th>Age</th>\n",
              "      <th>Weight(kg)</th>\n",
              "      <th>Height(cm)</th>\n",
              "    </tr>\n",
              "  </thead>\n",
              "  <tbody>\n",
              "    <tr>\n",
              "      <th>0</th>\n",
              "      <td>Dorji</td>\n",
              "      <td>28</td>\n",
              "      <td>63</td>\n",
              "      <td>175</td>\n",
              "    </tr>\n",
              "    <tr>\n",
              "      <th>1</th>\n",
              "      <td>Sonam</td>\n",
              "      <td>23</td>\n",
              "      <td>67</td>\n",
              "      <td>125</td>\n",
              "    </tr>\n",
              "    <tr>\n",
              "      <th>2</th>\n",
              "      <td>Chador</td>\n",
              "      <td>35</td>\n",
              "      <td>81</td>\n",
              "      <td>156</td>\n",
              "    </tr>\n",
              "    <tr>\n",
              "      <th>3</th>\n",
              "      <td>Shyam</td>\n",
              "      <td>54</td>\n",
              "      <td>55</td>\n",
              "      <td>165</td>\n",
              "    </tr>\n",
              "    <tr>\n",
              "      <th>4</th>\n",
              "      <td>Zangmo</td>\n",
              "      <td>31</td>\n",
              "      <td>47</td>\n",
              "      <td>157</td>\n",
              "    </tr>\n",
              "    <tr>\n",
              "      <th>5</th>\n",
              "      <td>Om</td>\n",
              "      <td>27</td>\n",
              "      <td>72</td>\n",
              "      <td>179</td>\n",
              "    </tr>\n",
              "    <tr>\n",
              "      <th>6</th>\n",
              "      <td>Sushmita</td>\n",
              "      <td>85</td>\n",
              "      <td>53</td>\n",
              "      <td>161</td>\n",
              "    </tr>\n",
              "    <tr>\n",
              "      <th>7</th>\n",
              "      <td>Karma</td>\n",
              "      <td>41</td>\n",
              "      <td>45</td>\n",
              "      <td>151</td>\n",
              "    </tr>\n",
              "  </tbody>\n",
              "</table>\n",
              "</div>\n",
              "      <button class=\"colab-df-convert\" onclick=\"convertToInteractive('df-c83591b2-f6e9-4dd3-8d8c-bee3614d2b36')\"\n",
              "              title=\"Convert this dataframe to an interactive table.\"\n",
              "              style=\"display:none;\">\n",
              "        \n",
              "  <svg xmlns=\"http://www.w3.org/2000/svg\" height=\"24px\"viewBox=\"0 0 24 24\"\n",
              "       width=\"24px\">\n",
              "    <path d=\"M0 0h24v24H0V0z\" fill=\"none\"/>\n",
              "    <path d=\"M18.56 5.44l.94 2.06.94-2.06 2.06-.94-2.06-.94-.94-2.06-.94 2.06-2.06.94zm-11 1L8.5 8.5l.94-2.06 2.06-.94-2.06-.94L8.5 2.5l-.94 2.06-2.06.94zm10 10l.94 2.06.94-2.06 2.06-.94-2.06-.94-.94-2.06-.94 2.06-2.06.94z\"/><path d=\"M17.41 7.96l-1.37-1.37c-.4-.4-.92-.59-1.43-.59-.52 0-1.04.2-1.43.59L10.3 9.45l-7.72 7.72c-.78.78-.78 2.05 0 2.83L4 21.41c.39.39.9.59 1.41.59.51 0 1.02-.2 1.41-.59l7.78-7.78 2.81-2.81c.8-.78.8-2.07 0-2.86zM5.41 20L4 18.59l7.72-7.72 1.47 1.35L5.41 20z\"/>\n",
              "  </svg>\n",
              "      </button>\n",
              "      \n",
              "  <style>\n",
              "    .colab-df-container {\n",
              "      display:flex;\n",
              "      flex-wrap:wrap;\n",
              "      gap: 12px;\n",
              "    }\n",
              "\n",
              "    .colab-df-convert {\n",
              "      background-color: #E8F0FE;\n",
              "      border: none;\n",
              "      border-radius: 50%;\n",
              "      cursor: pointer;\n",
              "      display: none;\n",
              "      fill: #1967D2;\n",
              "      height: 32px;\n",
              "      padding: 0 0 0 0;\n",
              "      width: 32px;\n",
              "    }\n",
              "\n",
              "    .colab-df-convert:hover {\n",
              "      background-color: #E2EBFA;\n",
              "      box-shadow: 0px 1px 2px rgba(60, 64, 67, 0.3), 0px 1px 3px 1px rgba(60, 64, 67, 0.15);\n",
              "      fill: #174EA6;\n",
              "    }\n",
              "\n",
              "    [theme=dark] .colab-df-convert {\n",
              "      background-color: #3B4455;\n",
              "      fill: #D2E3FC;\n",
              "    }\n",
              "\n",
              "    [theme=dark] .colab-df-convert:hover {\n",
              "      background-color: #434B5C;\n",
              "      box-shadow: 0px 1px 3px 1px rgba(0, 0, 0, 0.15);\n",
              "      filter: drop-shadow(0px 1px 2px rgba(0, 0, 0, 0.3));\n",
              "      fill: #FFFFFF;\n",
              "    }\n",
              "  </style>\n",
              "\n",
              "      <script>\n",
              "        const buttonEl =\n",
              "          document.querySelector('#df-c83591b2-f6e9-4dd3-8d8c-bee3614d2b36 button.colab-df-convert');\n",
              "        buttonEl.style.display =\n",
              "          google.colab.kernel.accessAllowed ? 'block' : 'none';\n",
              "\n",
              "        async function convertToInteractive(key) {\n",
              "          const element = document.querySelector('#df-c83591b2-f6e9-4dd3-8d8c-bee3614d2b36');\n",
              "          const dataTable =\n",
              "            await google.colab.kernel.invokeFunction('convertToInteractive',\n",
              "                                                     [key], {});\n",
              "          if (!dataTable) return;\n",
              "\n",
              "          const docLinkHtml = 'Like what you see? Visit the ' +\n",
              "            '<a target=\"_blank\" href=https://colab.research.google.com/notebooks/data_table.ipynb>data table notebook</a>'\n",
              "            + ' to learn more about interactive tables.';\n",
              "          element.innerHTML = '';\n",
              "          dataTable['output_type'] = 'display_data';\n",
              "          await google.colab.output.renderOutput(dataTable, element);\n",
              "          const docLink = document.createElement('div');\n",
              "          docLink.innerHTML = docLinkHtml;\n",
              "          element.appendChild(docLink);\n",
              "        }\n",
              "      </script>\n",
              "    </div>\n",
              "  </div>\n",
              "  "
            ]
          },
          "metadata": {},
          "execution_count": 27
        }
      ]
    },
    {
      "cell_type": "code",
      "source": [
        "df.corr(method='pearson') #Pairwise correlation of all columns in the dataframe\n"
      ],
      "metadata": {
        "colab": {
          "base_uri": "https://localhost:8080/",
          "height": 143
        },
        "id": "sBBhDr9urCEj",
        "outputId": "902e254f-cf40-4bf2-c0c1-747ac168c384"
      },
      "execution_count": null,
      "outputs": [
        {
          "output_type": "execute_result",
          "data": {
            "text/plain": [
              "                 Age  Weight(kg)  Height(cm)\n",
              "Age         1.000000   -0.388585    0.137423\n",
              "Weight(kg) -0.388585    1.000000    0.061612\n",
              "Height(cm)  0.137423    0.061612    1.000000"
            ],
            "text/html": [
              "\n",
              "  <div id=\"df-4a9cc27c-d0e0-473b-9dd6-bd882d897f64\">\n",
              "    <div class=\"colab-df-container\">\n",
              "      <div>\n",
              "<style scoped>\n",
              "    .dataframe tbody tr th:only-of-type {\n",
              "        vertical-align: middle;\n",
              "    }\n",
              "\n",
              "    .dataframe tbody tr th {\n",
              "        vertical-align: top;\n",
              "    }\n",
              "\n",
              "    .dataframe thead th {\n",
              "        text-align: right;\n",
              "    }\n",
              "</style>\n",
              "<table border=\"1\" class=\"dataframe\">\n",
              "  <thead>\n",
              "    <tr style=\"text-align: right;\">\n",
              "      <th></th>\n",
              "      <th>Age</th>\n",
              "      <th>Weight(kg)</th>\n",
              "      <th>Height(cm)</th>\n",
              "    </tr>\n",
              "  </thead>\n",
              "  <tbody>\n",
              "    <tr>\n",
              "      <th>Age</th>\n",
              "      <td>1.000000</td>\n",
              "      <td>-0.388585</td>\n",
              "      <td>0.137423</td>\n",
              "    </tr>\n",
              "    <tr>\n",
              "      <th>Weight(kg)</th>\n",
              "      <td>-0.388585</td>\n",
              "      <td>1.000000</td>\n",
              "      <td>0.061612</td>\n",
              "    </tr>\n",
              "    <tr>\n",
              "      <th>Height(cm)</th>\n",
              "      <td>0.137423</td>\n",
              "      <td>0.061612</td>\n",
              "      <td>1.000000</td>\n",
              "    </tr>\n",
              "  </tbody>\n",
              "</table>\n",
              "</div>\n",
              "      <button class=\"colab-df-convert\" onclick=\"convertToInteractive('df-4a9cc27c-d0e0-473b-9dd6-bd882d897f64')\"\n",
              "              title=\"Convert this dataframe to an interactive table.\"\n",
              "              style=\"display:none;\">\n",
              "        \n",
              "  <svg xmlns=\"http://www.w3.org/2000/svg\" height=\"24px\"viewBox=\"0 0 24 24\"\n",
              "       width=\"24px\">\n",
              "    <path d=\"M0 0h24v24H0V0z\" fill=\"none\"/>\n",
              "    <path d=\"M18.56 5.44l.94 2.06.94-2.06 2.06-.94-2.06-.94-.94-2.06-.94 2.06-2.06.94zm-11 1L8.5 8.5l.94-2.06 2.06-.94-2.06-.94L8.5 2.5l-.94 2.06-2.06.94zm10 10l.94 2.06.94-2.06 2.06-.94-2.06-.94-.94-2.06-.94 2.06-2.06.94z\"/><path d=\"M17.41 7.96l-1.37-1.37c-.4-.4-.92-.59-1.43-.59-.52 0-1.04.2-1.43.59L10.3 9.45l-7.72 7.72c-.78.78-.78 2.05 0 2.83L4 21.41c.39.39.9.59 1.41.59.51 0 1.02-.2 1.41-.59l7.78-7.78 2.81-2.81c.8-.78.8-2.07 0-2.86zM5.41 20L4 18.59l7.72-7.72 1.47 1.35L5.41 20z\"/>\n",
              "  </svg>\n",
              "      </button>\n",
              "      \n",
              "  <style>\n",
              "    .colab-df-container {\n",
              "      display:flex;\n",
              "      flex-wrap:wrap;\n",
              "      gap: 12px;\n",
              "    }\n",
              "\n",
              "    .colab-df-convert {\n",
              "      background-color: #E8F0FE;\n",
              "      border: none;\n",
              "      border-radius: 50%;\n",
              "      cursor: pointer;\n",
              "      display: none;\n",
              "      fill: #1967D2;\n",
              "      height: 32px;\n",
              "      padding: 0 0 0 0;\n",
              "      width: 32px;\n",
              "    }\n",
              "\n",
              "    .colab-df-convert:hover {\n",
              "      background-color: #E2EBFA;\n",
              "      box-shadow: 0px 1px 2px rgba(60, 64, 67, 0.3), 0px 1px 3px 1px rgba(60, 64, 67, 0.15);\n",
              "      fill: #174EA6;\n",
              "    }\n",
              "\n",
              "    [theme=dark] .colab-df-convert {\n",
              "      background-color: #3B4455;\n",
              "      fill: #D2E3FC;\n",
              "    }\n",
              "\n",
              "    [theme=dark] .colab-df-convert:hover {\n",
              "      background-color: #434B5C;\n",
              "      box-shadow: 0px 1px 3px 1px rgba(0, 0, 0, 0.15);\n",
              "      filter: drop-shadow(0px 1px 2px rgba(0, 0, 0, 0.3));\n",
              "      fill: #FFFFFF;\n",
              "    }\n",
              "  </style>\n",
              "\n",
              "      <script>\n",
              "        const buttonEl =\n",
              "          document.querySelector('#df-4a9cc27c-d0e0-473b-9dd6-bd882d897f64 button.colab-df-convert');\n",
              "        buttonEl.style.display =\n",
              "          google.colab.kernel.accessAllowed ? 'block' : 'none';\n",
              "\n",
              "        async function convertToInteractive(key) {\n",
              "          const element = document.querySelector('#df-4a9cc27c-d0e0-473b-9dd6-bd882d897f64');\n",
              "          const dataTable =\n",
              "            await google.colab.kernel.invokeFunction('convertToInteractive',\n",
              "                                                     [key], {});\n",
              "          if (!dataTable) return;\n",
              "\n",
              "          const docLinkHtml = 'Like what you see? Visit the ' +\n",
              "            '<a target=\"_blank\" href=https://colab.research.google.com/notebooks/data_table.ipynb>data table notebook</a>'\n",
              "            + ' to learn more about interactive tables.';\n",
              "          element.innerHTML = '';\n",
              "          dataTable['output_type'] = 'display_data';\n",
              "          await google.colab.output.renderOutput(dataTable, element);\n",
              "          const docLink = document.createElement('div');\n",
              "          docLink.innerHTML = docLinkHtml;\n",
              "          element.appendChild(docLink);\n",
              "        }\n",
              "      </script>\n",
              "    </div>\n",
              "  </div>\n",
              "  "
            ]
          },
          "metadata": {},
          "execution_count": 28
        }
      ]
    },
    {
      "cell_type": "markdown",
      "source": [
        "#### **Try yourself:**"
      ],
      "metadata": {
        "id": "gWTcutJRs5W0"
      }
    },
    {
      "cell_type": "markdown",
      "source": [
        "**1).** Calculate the covariance and correlation between the distinct pair of the columns given in the dataframe above using the given formulas and interpret the answers."
      ],
      "metadata": {
        "id": "naa9LhwUtAEv"
      }
    },
    {
      "cell_type": "markdown",
      "source": [
        "**2).** Perform analysis of the \"tips dataset\" by computing the covariance and correlation between the arguments or attributes or columns of the dataset using the required libraries. Do necessary data preprocessing if required. \n"
      ],
      "metadata": {
        "id": "wVtWo7e5wjvM"
      }
    },
    {
      "cell_type": "code",
      "source": [
        "%%capture\n",
        "!wget -nc https://raw.githubusercontent.com/brpy/colab-pdf/master/colab_pdf.py\n",
        "from colab_pdf import colab_pdf\n",
        "colab_pdf('1_Descriptive_Statistics.ipynb')"
      ],
      "metadata": {
        "colab": {
          "base_uri": "https://localhost:8080/",
          "height": 321
        },
        "id": "5FIzxw-uLdDo",
        "outputId": "13fc2716-79ad-4e96-86b5-f7bc1d3ba41f"
      },
      "execution_count": 2,
      "outputs": [
        {
          "output_type": "error",
          "ename": "ValueError",
          "evalue": "ignored",
          "traceback": [
            "\u001b[0;31m---------------------------------------------------------------------------\u001b[0m",
            "\u001b[0;31mValueError\u001b[0m                                Traceback (most recent call last)",
            "\u001b[0;32m<ipython-input-2-ef494fba4815>\u001b[0m in \u001b[0;36m<module>\u001b[0;34m\u001b[0m\n\u001b[1;32m      1\u001b[0m \u001b[0mget_ipython\u001b[0m\u001b[0;34m(\u001b[0m\u001b[0;34m)\u001b[0m\u001b[0;34m.\u001b[0m\u001b[0msystem\u001b[0m\u001b[0;34m(\u001b[0m\u001b[0;34m'wget -nc https://raw.githubusercontent.com/brpy/colab-pdf/master/colab_pdf.py'\u001b[0m\u001b[0;34m)\u001b[0m\u001b[0;34m\u001b[0m\u001b[0;34m\u001b[0m\u001b[0m\n\u001b[1;32m      2\u001b[0m \u001b[0;32mfrom\u001b[0m \u001b[0mcolab_pdf\u001b[0m \u001b[0;32mimport\u001b[0m \u001b[0mcolab_pdf\u001b[0m\u001b[0;34m\u001b[0m\u001b[0;34m\u001b[0m\u001b[0m\n\u001b[0;32m----> 3\u001b[0;31m \u001b[0mcolab_pdf\u001b[0m\u001b[0;34m(\u001b[0m\u001b[0;34m'1_Descriptive_Statistics.ipynb'\u001b[0m\u001b[0;34m)\u001b[0m\u001b[0;34m\u001b[0m\u001b[0;34m\u001b[0m\u001b[0m\n\u001b[0m",
            "\u001b[0;32m/content/colab_pdf.py\u001b[0m in \u001b[0;36mcolab_pdf\u001b[0;34m(file_name, notebookpath)\u001b[0m\n\u001b[1;32m     20\u001b[0m     \u001b[0;31m# Check if the notebook exists in the Drive.\u001b[0m\u001b[0;34m\u001b[0m\u001b[0;34m\u001b[0m\u001b[0;34m\u001b[0m\u001b[0m\n\u001b[1;32m     21\u001b[0m     \u001b[0;32mif\u001b[0m \u001b[0;32mnot\u001b[0m \u001b[0mos\u001b[0m\u001b[0;34m.\u001b[0m\u001b[0mpath\u001b[0m\u001b[0;34m.\u001b[0m\u001b[0misfile\u001b[0m\u001b[0;34m(\u001b[0m\u001b[0mos\u001b[0m\u001b[0;34m.\u001b[0m\u001b[0mpath\u001b[0m\u001b[0;34m.\u001b[0m\u001b[0mjoin\u001b[0m\u001b[0;34m(\u001b[0m\u001b[0mnotebookpath\u001b[0m\u001b[0;34m,\u001b[0m \u001b[0mfile_name\u001b[0m\u001b[0;34m)\u001b[0m\u001b[0;34m)\u001b[0m\u001b[0;34m:\u001b[0m\u001b[0;34m\u001b[0m\u001b[0;34m\u001b[0m\u001b[0m\n\u001b[0;32m---> 22\u001b[0;31m         \u001b[0;32mraise\u001b[0m \u001b[0mValueError\u001b[0m\u001b[0;34m(\u001b[0m\u001b[0;34mf\"file '{file_name}' not found in path '{notebookpath}'.\"\u001b[0m\u001b[0;34m)\u001b[0m\u001b[0;34m\u001b[0m\u001b[0;34m\u001b[0m\u001b[0m\n\u001b[0m\u001b[1;32m     23\u001b[0m \u001b[0;34m\u001b[0m\u001b[0m\n\u001b[1;32m     24\u001b[0m     \u001b[0;31m# Installing all the recommended packages.\u001b[0m\u001b[0;34m\u001b[0m\u001b[0;34m\u001b[0m\u001b[0;34m\u001b[0m\u001b[0m\n",
            "\u001b[0;31mValueError\u001b[0m: file '1_Descriptive_Statistics.ipynb' not found in path '/content/drive/MyDrive/Colab Notebooks/'."
          ]
        }
      ]
    },
    {
      "cell_type": "code",
      "source": [],
      "metadata": {
        "id": "awygGOrtL5ZS"
      },
      "execution_count": null,
      "outputs": []
    }
  ]
}